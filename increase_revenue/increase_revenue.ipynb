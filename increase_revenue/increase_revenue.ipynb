{
 "cells": [
  {
   "cell_type": "markdown",
   "metadata": {},
   "source": [
    "##  Описание данных"
   ]
  },
  {
   "cell_type": "markdown",
   "metadata": {},
   "source": [
    "Выгрузим данные о гипотезах, информацию о заказах и количестве пользователей из csv-файлов в датафрейм и сохраним в переменные `hypothesis`, `orders` и `visitors` соответственно."
   ]
  },
  {
   "cell_type": "code",
   "execution_count": 1,
   "metadata": {},
   "outputs": [],
   "source": [
    "# загружаем библиотеки\n",
    "import pandas as pd\n",
    "import numpy as np\n",
    "import datetime as dt\n",
    "import matplotlib.pyplot as plt\n",
    "import scipy.stats as st"
   ]
  },
  {
   "cell_type": "code",
   "execution_count": 2,
   "metadata": {},
   "outputs": [],
   "source": [
    "# загружаем данные\n",
    "try:\n",
    "    hypothesis = pd.read_csv('/datasets/hypothesis.csv')\n",
    "    orders = pd.read_csv('/datasets/orders.csv')\n",
    "    visitors = pd.read_csv('/datasets/visitors.csv')\n",
    "except FileNotFoundError:\n",
    "    display('Такого файла не существует!')"
   ]
  },
  {
   "cell_type": "markdown",
   "metadata": {},
   "source": [
    "Изучим данные датафрейма `hypothesis`."
   ]
  },
  {
   "cell_type": "code",
   "execution_count": 3,
   "metadata": {},
   "outputs": [
    {
     "data": {
      "text/html": [
       "<div>\n",
       "<style scoped>\n",
       "    .dataframe tbody tr th:only-of-type {\n",
       "        vertical-align: middle;\n",
       "    }\n",
       "\n",
       "    .dataframe tbody tr th {\n",
       "        vertical-align: top;\n",
       "    }\n",
       "\n",
       "    .dataframe thead th {\n",
       "        text-align: right;\n",
       "    }\n",
       "</style>\n",
       "<table border=\"1\" class=\"dataframe\">\n",
       "  <thead>\n",
       "    <tr style=\"text-align: right;\">\n",
       "      <th></th>\n",
       "      <th>Hypothesis</th>\n",
       "      <th>Reach</th>\n",
       "      <th>Impact</th>\n",
       "      <th>Confidence</th>\n",
       "      <th>Efforts</th>\n",
       "    </tr>\n",
       "  </thead>\n",
       "  <tbody>\n",
       "    <tr>\n",
       "      <th>0</th>\n",
       "      <td>Добавить два новых канала привлечения трафика,...</td>\n",
       "      <td>3</td>\n",
       "      <td>10</td>\n",
       "      <td>8</td>\n",
       "      <td>6</td>\n",
       "    </tr>\n",
       "    <tr>\n",
       "      <th>1</th>\n",
       "      <td>Запустить собственную службу доставки, что сок...</td>\n",
       "      <td>2</td>\n",
       "      <td>5</td>\n",
       "      <td>4</td>\n",
       "      <td>10</td>\n",
       "    </tr>\n",
       "    <tr>\n",
       "      <th>2</th>\n",
       "      <td>Добавить блоки рекомендаций товаров на сайт ин...</td>\n",
       "      <td>8</td>\n",
       "      <td>3</td>\n",
       "      <td>7</td>\n",
       "      <td>3</td>\n",
       "    </tr>\n",
       "    <tr>\n",
       "      <th>3</th>\n",
       "      <td>Изменить структура категорий, что увеличит кон...</td>\n",
       "      <td>8</td>\n",
       "      <td>3</td>\n",
       "      <td>3</td>\n",
       "      <td>8</td>\n",
       "    </tr>\n",
       "    <tr>\n",
       "      <th>4</th>\n",
       "      <td>Изменить цвет фона главной страницы, чтобы уве...</td>\n",
       "      <td>3</td>\n",
       "      <td>1</td>\n",
       "      <td>1</td>\n",
       "      <td>1</td>\n",
       "    </tr>\n",
       "    <tr>\n",
       "      <th>5</th>\n",
       "      <td>Добавить страницу отзывов клиентов о магазине,...</td>\n",
       "      <td>3</td>\n",
       "      <td>2</td>\n",
       "      <td>2</td>\n",
       "      <td>3</td>\n",
       "    </tr>\n",
       "    <tr>\n",
       "      <th>6</th>\n",
       "      <td>Показать на главной странице баннеры с актуаль...</td>\n",
       "      <td>5</td>\n",
       "      <td>3</td>\n",
       "      <td>8</td>\n",
       "      <td>3</td>\n",
       "    </tr>\n",
       "    <tr>\n",
       "      <th>7</th>\n",
       "      <td>Добавить форму подписки на все основные страни...</td>\n",
       "      <td>10</td>\n",
       "      <td>7</td>\n",
       "      <td>8</td>\n",
       "      <td>5</td>\n",
       "    </tr>\n",
       "    <tr>\n",
       "      <th>8</th>\n",
       "      <td>Запустить акцию, дающую скидку на товар в день...</td>\n",
       "      <td>1</td>\n",
       "      <td>9</td>\n",
       "      <td>9</td>\n",
       "      <td>5</td>\n",
       "    </tr>\n",
       "  </tbody>\n",
       "</table>\n",
       "</div>"
      ],
      "text/plain": [
       "                                          Hypothesis  Reach  Impact  \\\n",
       "0  Добавить два новых канала привлечения трафика,...      3      10   \n",
       "1  Запустить собственную службу доставки, что сок...      2       5   \n",
       "2  Добавить блоки рекомендаций товаров на сайт ин...      8       3   \n",
       "3  Изменить структура категорий, что увеличит кон...      8       3   \n",
       "4  Изменить цвет фона главной страницы, чтобы уве...      3       1   \n",
       "5  Добавить страницу отзывов клиентов о магазине,...      3       2   \n",
       "6  Показать на главной странице баннеры с актуаль...      5       3   \n",
       "7  Добавить форму подписки на все основные страни...     10       7   \n",
       "8  Запустить акцию, дающую скидку на товар в день...      1       9   \n",
       "\n",
       "   Confidence  Efforts  \n",
       "0           8        6  \n",
       "1           4       10  \n",
       "2           7        3  \n",
       "3           3        8  \n",
       "4           1        1  \n",
       "5           2        3  \n",
       "6           8        3  \n",
       "7           8        5  \n",
       "8           9        5  "
      ]
     },
     "execution_count": 3,
     "metadata": {},
     "output_type": "execute_result"
    }
   ],
   "source": [
    "hypothesis"
   ]
  },
  {
   "cell_type": "markdown",
   "metadata": {},
   "source": [
    "Таблица `hypothesis` содержит следующую информацию:\n",
    "- `Hypothesis` - краткое описание гипотезы;\n",
    "- `Reach` - охват пользователей по 10-балльной шкале;\n",
    "- `Impact` - влияние на пользователей по 10-балльной шкале;\n",
    "- `Confidence` - уверенность в гипотезе по 10-балльной шкале;\n",
    "- `Efforts` - затраты ресурсов на проверку гипотезы по 10-балльной шкале. Чем больше значение Efforts, тем дороже проверка гипотезы."
   ]
  },
  {
   "cell_type": "markdown",
   "metadata": {},
   "source": [
    "Приведем названия столбцов к нижнему регистру."
   ]
  },
  {
   "cell_type": "code",
   "execution_count": 4,
   "metadata": {},
   "outputs": [],
   "source": [
    "hypothesis.columns = hypothesis.columns.str.lower()"
   ]
  },
  {
   "cell_type": "markdown",
   "metadata": {},
   "source": [
    "Выведем основную информацию о датафрейме с помощью метода info()."
   ]
  },
  {
   "cell_type": "code",
   "execution_count": 5,
   "metadata": {},
   "outputs": [
    {
     "name": "stdout",
     "output_type": "stream",
     "text": [
      "<class 'pandas.core.frame.DataFrame'>\n",
      "RangeIndex: 9 entries, 0 to 8\n",
      "Data columns (total 5 columns):\n",
      " #   Column      Non-Null Count  Dtype \n",
      "---  ------      --------------  ----- \n",
      " 0   hypothesis  9 non-null      object\n",
      " 1   reach       9 non-null      int64 \n",
      " 2   impact      9 non-null      int64 \n",
      " 3   confidence  9 non-null      int64 \n",
      " 4   efforts     9 non-null      int64 \n",
      "dtypes: int64(4), object(1)\n",
      "memory usage: 488.0+ bytes\n"
     ]
    }
   ],
   "source": [
    "hypothesis.info()"
   ]
  },
  {
   "cell_type": "markdown",
   "metadata": {},
   "source": [
    "Таблица с исходными данными содержит 5 столбцов и 9 строк. Пропусков в данных нет."
   ]
  },
  {
   "cell_type": "markdown",
   "metadata": {},
   "source": [
    "Изучим данные датафрейма `orders`."
   ]
  },
  {
   "cell_type": "code",
   "execution_count": 6,
   "metadata": {
    "scrolled": false
   },
   "outputs": [
    {
     "data": {
      "text/html": [
       "<div>\n",
       "<style scoped>\n",
       "    .dataframe tbody tr th:only-of-type {\n",
       "        vertical-align: middle;\n",
       "    }\n",
       "\n",
       "    .dataframe tbody tr th {\n",
       "        vertical-align: top;\n",
       "    }\n",
       "\n",
       "    .dataframe thead th {\n",
       "        text-align: right;\n",
       "    }\n",
       "</style>\n",
       "<table border=\"1\" class=\"dataframe\">\n",
       "  <thead>\n",
       "    <tr style=\"text-align: right;\">\n",
       "      <th></th>\n",
       "      <th>transactionId</th>\n",
       "      <th>visitorId</th>\n",
       "      <th>date</th>\n",
       "      <th>revenue</th>\n",
       "      <th>group</th>\n",
       "    </tr>\n",
       "  </thead>\n",
       "  <tbody>\n",
       "    <tr>\n",
       "      <th>1107</th>\n",
       "      <td>1024573057</td>\n",
       "      <td>1028756448</td>\n",
       "      <td>2019-08-12</td>\n",
       "      <td>290</td>\n",
       "      <td>A</td>\n",
       "    </tr>\n",
       "    <tr>\n",
       "      <th>832</th>\n",
       "      <td>2470658885</td>\n",
       "      <td>3766097110</td>\n",
       "      <td>2019-08-30</td>\n",
       "      <td>360</td>\n",
       "      <td>B</td>\n",
       "    </tr>\n",
       "    <tr>\n",
       "      <th>367</th>\n",
       "      <td>1033377712</td>\n",
       "      <td>3860669668</td>\n",
       "      <td>2019-08-19</td>\n",
       "      <td>3990</td>\n",
       "      <td>B</td>\n",
       "    </tr>\n",
       "    <tr>\n",
       "      <th>100</th>\n",
       "      <td>804934578</td>\n",
       "      <td>1738775963</td>\n",
       "      <td>2019-08-01</td>\n",
       "      <td>3240</td>\n",
       "      <td>B</td>\n",
       "    </tr>\n",
       "    <tr>\n",
       "      <th>38</th>\n",
       "      <td>3276214732</td>\n",
       "      <td>1110007955</td>\n",
       "      <td>2019-08-15</td>\n",
       "      <td>19260</td>\n",
       "      <td>B</td>\n",
       "    </tr>\n",
       "    <tr>\n",
       "      <th>97</th>\n",
       "      <td>2012801741</td>\n",
       "      <td>414545763</td>\n",
       "      <td>2019-08-01</td>\n",
       "      <td>5555</td>\n",
       "      <td>B</td>\n",
       "    </tr>\n",
       "    <tr>\n",
       "      <th>2</th>\n",
       "      <td>2961555356</td>\n",
       "      <td>4069496402</td>\n",
       "      <td>2019-08-15</td>\n",
       "      <td>400</td>\n",
       "      <td>A</td>\n",
       "    </tr>\n",
       "    <tr>\n",
       "      <th>962</th>\n",
       "      <td>3024416906</td>\n",
       "      <td>530257481</td>\n",
       "      <td>2019-08-10</td>\n",
       "      <td>19260</td>\n",
       "      <td>B</td>\n",
       "    </tr>\n",
       "    <tr>\n",
       "      <th>1047</th>\n",
       "      <td>1266191879</td>\n",
       "      <td>4259830713</td>\n",
       "      <td>2019-08-11</td>\n",
       "      <td>3190</td>\n",
       "      <td>A</td>\n",
       "    </tr>\n",
       "    <tr>\n",
       "      <th>154</th>\n",
       "      <td>4206138190</td>\n",
       "      <td>1219079053</td>\n",
       "      <td>2019-08-01</td>\n",
       "      <td>4970</td>\n",
       "      <td>A</td>\n",
       "    </tr>\n",
       "  </tbody>\n",
       "</table>\n",
       "</div>"
      ],
      "text/plain": [
       "      transactionId   visitorId        date  revenue group\n",
       "1107     1024573057  1028756448  2019-08-12      290     A\n",
       "832      2470658885  3766097110  2019-08-30      360     B\n",
       "367      1033377712  3860669668  2019-08-19     3990     B\n",
       "100       804934578  1738775963  2019-08-01     3240     B\n",
       "38       3276214732  1110007955  2019-08-15    19260     B\n",
       "97       2012801741   414545763  2019-08-01     5555     B\n",
       "2        2961555356  4069496402  2019-08-15      400     A\n",
       "962      3024416906   530257481  2019-08-10    19260     B\n",
       "1047     1266191879  4259830713  2019-08-11     3190     A\n",
       "154      4206138190  1219079053  2019-08-01     4970     A"
      ]
     },
     "execution_count": 6,
     "metadata": {},
     "output_type": "execute_result"
    }
   ],
   "source": [
    "orders.sample(10)"
   ]
  },
  {
   "cell_type": "markdown",
   "metadata": {},
   "source": [
    "Таблица `orders` содержит следующую информацию:\n",
    "- `transactionId` - идентификатор заказа;\n",
    "- `visitorId` - идентификатор пользователя, совершившего заказ;\n",
    "- `date` - дата, когда был совершён заказ;\n",
    "- `revenue` - выручка заказа;\n",
    "- `group` - группа A/B-теста, в которую попал заказ."
   ]
  },
  {
   "cell_type": "markdown",
   "metadata": {},
   "source": [
    "Изменим названия столбцов `transactionId` и `visitorId` на более понятные для нас названия - `orderId` и `userId` соответственно."
   ]
  },
  {
   "cell_type": "code",
   "execution_count": 7,
   "metadata": {},
   "outputs": [],
   "source": [
    "orders = orders.rename(columns={'transactionId':'orderId', 'visitorId':'userId'})"
   ]
  },
  {
   "cell_type": "markdown",
   "metadata": {},
   "source": [
    "Выведем основную информацию о датафрейме с помощью метода info()."
   ]
  },
  {
   "cell_type": "code",
   "execution_count": 8,
   "metadata": {},
   "outputs": [
    {
     "name": "stdout",
     "output_type": "stream",
     "text": [
      "<class 'pandas.core.frame.DataFrame'>\n",
      "RangeIndex: 1197 entries, 0 to 1196\n",
      "Data columns (total 5 columns):\n",
      " #   Column   Non-Null Count  Dtype \n",
      "---  ------   --------------  ----- \n",
      " 0   orderId  1197 non-null   int64 \n",
      " 1   userId   1197 non-null   int64 \n",
      " 2   date     1197 non-null   object\n",
      " 3   revenue  1197 non-null   int64 \n",
      " 4   group    1197 non-null   object\n",
      "dtypes: int64(3), object(2)\n",
      "memory usage: 46.9+ KB\n"
     ]
    }
   ],
   "source": [
    "orders.info()"
   ]
  },
  {
   "cell_type": "markdown",
   "metadata": {},
   "source": [
    "Таблица с исходными данными содержит 5 столбцов и 1197 строк. Пропусков в данных нет. Обратим внимание, что столбец `date` имеет тип `object`, изменим его на `datetime`."
   ]
  },
  {
   "cell_type": "code",
   "execution_count": 9,
   "metadata": {},
   "outputs": [],
   "source": [
    "orders['date'] = orders['date'].map(lambda x: dt.datetime.strptime(x, '%Y-%m-%d'))"
   ]
  },
  {
   "cell_type": "code",
   "execution_count": 10,
   "metadata": {
    "scrolled": true
   },
   "outputs": [
    {
     "name": "stdout",
     "output_type": "stream",
     "text": [
      "<class 'pandas.core.frame.DataFrame'>\n",
      "RangeIndex: 1197 entries, 0 to 1196\n",
      "Data columns (total 5 columns):\n",
      " #   Column   Non-Null Count  Dtype         \n",
      "---  ------   --------------  -----         \n",
      " 0   orderId  1197 non-null   int64         \n",
      " 1   userId   1197 non-null   int64         \n",
      " 2   date     1197 non-null   datetime64[ns]\n",
      " 3   revenue  1197 non-null   int64         \n",
      " 4   group    1197 non-null   object        \n",
      "dtypes: datetime64[ns](1), int64(3), object(1)\n",
      "memory usage: 46.9+ KB\n"
     ]
    }
   ],
   "source": [
    "# check\n",
    "orders.info()"
   ]
  },
  {
   "cell_type": "markdown",
   "metadata": {},
   "source": [
    "Узнаем сколько групп участвуют в нашем тесте."
   ]
  },
  {
   "cell_type": "code",
   "execution_count": 11,
   "metadata": {},
   "outputs": [
    {
     "data": {
      "text/plain": [
       "array(['B', 'A'], dtype=object)"
      ]
     },
     "execution_count": 11,
     "metadata": {},
     "output_type": "execute_result"
    }
   ],
   "source": [
    "orders['group'].unique()"
   ]
  },
  {
   "cell_type": "markdown",
   "metadata": {},
   "source": [
    "В нашем тесте участвуют две группы 'A' и 'B'.       "
   ]
  },
  {
   "cell_type": "markdown",
   "metadata": {},
   "source": [
    "Выясним даты начала и окончания теста."
   ]
  },
  {
   "cell_type": "code",
   "execution_count": 12,
   "metadata": {},
   "outputs": [
    {
     "data": {
      "text/plain": [
       "(Timestamp('2019-08-01 00:00:00'), Timestamp('2019-08-31 00:00:00'))"
      ]
     },
     "execution_count": 12,
     "metadata": {},
     "output_type": "execute_result"
    }
   ],
   "source": [
    "orders['date'].min(), orders['date'].max()"
   ]
  },
  {
   "cell_type": "markdown",
   "metadata": {},
   "source": [
    "Наш тест проводили ровно месяц - с 1 по 31 августа 2019 года."
   ]
  },
  {
   "cell_type": "markdown",
   "metadata": {},
   "source": [
    "Узнаем сколько пользователей участвовало в каждой группе."
   ]
  },
  {
   "cell_type": "code",
   "execution_count": 13,
   "metadata": {},
   "outputs": [
    {
     "data": {
      "text/plain": [
       "557"
      ]
     },
     "execution_count": 13,
     "metadata": {},
     "output_type": "execute_result"
    }
   ],
   "source": [
    "group_A = orders[orders['group']=='A']\n",
    "len(group_A)"
   ]
  },
  {
   "cell_type": "code",
   "execution_count": 14,
   "metadata": {},
   "outputs": [
    {
     "data": {
      "text/plain": [
       "640"
      ]
     },
     "execution_count": 14,
     "metadata": {},
     "output_type": "execute_result"
    }
   ],
   "source": [
    "group_B = orders[orders['group']=='B']\n",
    "len(group_B)"
   ]
  },
  {
   "cell_type": "markdown",
   "metadata": {},
   "source": [
    "В группе 'B' участвовало - 640 пользователей, а в группе 'A' на 83 пользователя меньше - 557 пользователей."
   ]
  },
  {
   "cell_type": "markdown",
   "metadata": {},
   "source": [
    "Проверим данные на наличие дубликатов.         "
   ]
  },
  {
   "cell_type": "code",
   "execution_count": 15,
   "metadata": {},
   "outputs": [
    {
     "data": {
      "text/plain": [
       "0"
      ]
     },
     "execution_count": 15,
     "metadata": {},
     "output_type": "execute_result"
    }
   ],
   "source": [
    "orders.duplicated().sum()"
   ]
  },
  {
   "cell_type": "markdown",
   "metadata": {},
   "source": [
    "В таблице с заказами нет строк-дубликатов."
   ]
  },
  {
   "cell_type": "markdown",
   "metadata": {},
   "source": [
    "Проверим, есть ли в данных пропуски методом isna()."
   ]
  },
  {
   "cell_type": "code",
   "execution_count": 16,
   "metadata": {
    "scrolled": true
   },
   "outputs": [
    {
     "data": {
      "text/plain": [
       "orderId    0\n",
       "userId     0\n",
       "date       0\n",
       "revenue    0\n",
       "group      0\n",
       "dtype: int64"
      ]
     },
     "execution_count": 16,
     "metadata": {},
     "output_type": "execute_result"
    }
   ],
   "source": [
    "orders.isna().sum()"
   ]
  },
  {
   "cell_type": "markdown",
   "metadata": {},
   "source": [
    "В таблице с заказами нет строк с пропусками."
   ]
  },
  {
   "cell_type": "markdown",
   "metadata": {},
   "source": [
    "Изучим данные датафрейма `visitors`."
   ]
  },
  {
   "cell_type": "code",
   "execution_count": 17,
   "metadata": {},
   "outputs": [
    {
     "data": {
      "text/html": [
       "<div>\n",
       "<style scoped>\n",
       "    .dataframe tbody tr th:only-of-type {\n",
       "        vertical-align: middle;\n",
       "    }\n",
       "\n",
       "    .dataframe tbody tr th {\n",
       "        vertical-align: top;\n",
       "    }\n",
       "\n",
       "    .dataframe thead th {\n",
       "        text-align: right;\n",
       "    }\n",
       "</style>\n",
       "<table border=\"1\" class=\"dataframe\">\n",
       "  <thead>\n",
       "    <tr style=\"text-align: right;\">\n",
       "      <th></th>\n",
       "      <th>date</th>\n",
       "      <th>group</th>\n",
       "      <th>visitors</th>\n",
       "    </tr>\n",
       "  </thead>\n",
       "  <tbody>\n",
       "    <tr>\n",
       "      <th>42</th>\n",
       "      <td>2019-08-12</td>\n",
       "      <td>B</td>\n",
       "      <td>543</td>\n",
       "    </tr>\n",
       "    <tr>\n",
       "      <th>44</th>\n",
       "      <td>2019-08-14</td>\n",
       "      <td>B</td>\n",
       "      <td>746</td>\n",
       "    </tr>\n",
       "    <tr>\n",
       "      <th>22</th>\n",
       "      <td>2019-08-23</td>\n",
       "      <td>A</td>\n",
       "      <td>468</td>\n",
       "    </tr>\n",
       "    <tr>\n",
       "      <th>24</th>\n",
       "      <td>2019-08-25</td>\n",
       "      <td>A</td>\n",
       "      <td>621</td>\n",
       "    </tr>\n",
       "    <tr>\n",
       "      <th>41</th>\n",
       "      <td>2019-08-11</td>\n",
       "      <td>B</td>\n",
       "      <td>721</td>\n",
       "    </tr>\n",
       "    <tr>\n",
       "      <th>11</th>\n",
       "      <td>2019-08-12</td>\n",
       "      <td>A</td>\n",
       "      <td>595</td>\n",
       "    </tr>\n",
       "    <tr>\n",
       "      <th>34</th>\n",
       "      <td>2019-08-04</td>\n",
       "      <td>B</td>\n",
       "      <td>770</td>\n",
       "    </tr>\n",
       "    <tr>\n",
       "      <th>52</th>\n",
       "      <td>2019-08-22</td>\n",
       "      <td>B</td>\n",
       "      <td>650</td>\n",
       "    </tr>\n",
       "    <tr>\n",
       "      <th>27</th>\n",
       "      <td>2019-08-28</td>\n",
       "      <td>A</td>\n",
       "      <td>594</td>\n",
       "    </tr>\n",
       "    <tr>\n",
       "      <th>25</th>\n",
       "      <td>2019-08-26</td>\n",
       "      <td>A</td>\n",
       "      <td>722</td>\n",
       "    </tr>\n",
       "  </tbody>\n",
       "</table>\n",
       "</div>"
      ],
      "text/plain": [
       "          date group  visitors\n",
       "42  2019-08-12     B       543\n",
       "44  2019-08-14     B       746\n",
       "22  2019-08-23     A       468\n",
       "24  2019-08-25     A       621\n",
       "41  2019-08-11     B       721\n",
       "11  2019-08-12     A       595\n",
       "34  2019-08-04     B       770\n",
       "52  2019-08-22     B       650\n",
       "27  2019-08-28     A       594\n",
       "25  2019-08-26     A       722"
      ]
     },
     "execution_count": 17,
     "metadata": {},
     "output_type": "execute_result"
    }
   ],
   "source": [
    "visitors.sample(10)"
   ]
  },
  {
   "cell_type": "markdown",
   "metadata": {},
   "source": [
    "Таблица `visitors` содержит следующую информацию:\n",
    "- `date` - дата;\n",
    "- `group` - группа A/B-теста;\n",
    "- `visitors` - количество пользователей в указанную дату в указанной группе A/B-теста."
   ]
  },
  {
   "cell_type": "markdown",
   "metadata": {},
   "source": [
    "Выведем основную информацию о датафрейме с помощью метода info()."
   ]
  },
  {
   "cell_type": "code",
   "execution_count": 18,
   "metadata": {},
   "outputs": [
    {
     "name": "stdout",
     "output_type": "stream",
     "text": [
      "<class 'pandas.core.frame.DataFrame'>\n",
      "RangeIndex: 62 entries, 0 to 61\n",
      "Data columns (total 3 columns):\n",
      " #   Column    Non-Null Count  Dtype \n",
      "---  ------    --------------  ----- \n",
      " 0   date      62 non-null     object\n",
      " 1   group     62 non-null     object\n",
      " 2   visitors  62 non-null     int64 \n",
      "dtypes: int64(1), object(2)\n",
      "memory usage: 1.6+ KB\n"
     ]
    }
   ],
   "source": [
    "visitors.info()"
   ]
  },
  {
   "cell_type": "markdown",
   "metadata": {},
   "source": [
    "Таблица с исходными данными содержит 3 столбца и 62 строки. Пропусков в данных нет. Обратим внимание, что столбец `date` имеет тип `object`, изменим его на `datetime`."
   ]
  },
  {
   "cell_type": "code",
   "execution_count": 19,
   "metadata": {},
   "outputs": [],
   "source": [
    "visitors['date'] = visitors['date'].map(lambda x: dt.datetime.strptime(x, '%Y-%m-%d'))"
   ]
  },
  {
   "cell_type": "code",
   "execution_count": 20,
   "metadata": {
    "scrolled": true
   },
   "outputs": [
    {
     "name": "stdout",
     "output_type": "stream",
     "text": [
      "<class 'pandas.core.frame.DataFrame'>\n",
      "RangeIndex: 62 entries, 0 to 61\n",
      "Data columns (total 3 columns):\n",
      " #   Column    Non-Null Count  Dtype         \n",
      "---  ------    --------------  -----         \n",
      " 0   date      62 non-null     datetime64[ns]\n",
      " 1   group     62 non-null     object        \n",
      " 2   visitors  62 non-null     int64         \n",
      "dtypes: datetime64[ns](1), int64(1), object(1)\n",
      "memory usage: 1.6+ KB\n"
     ]
    }
   ],
   "source": [
    "# check\n",
    "visitors.info()"
   ]
  },
  {
   "cell_type": "markdown",
   "metadata": {},
   "source": [
    "Узнаем сколько групп в таблице с пользователями."
   ]
  },
  {
   "cell_type": "code",
   "execution_count": 21,
   "metadata": {},
   "outputs": [
    {
     "data": {
      "text/plain": [
       "array(['A', 'B'], dtype=object)"
      ]
     },
     "execution_count": 21,
     "metadata": {},
     "output_type": "execute_result"
    }
   ],
   "source": [
    "visitors.group.unique()"
   ]
  },
  {
   "cell_type": "markdown",
   "metadata": {},
   "source": [
    "Две группы - 'A' и 'B'."
   ]
  },
  {
   "cell_type": "markdown",
   "metadata": {},
   "source": [
    "Узнаем дату начала и окончания."
   ]
  },
  {
   "cell_type": "code",
   "execution_count": 22,
   "metadata": {},
   "outputs": [
    {
     "data": {
      "text/plain": [
       "(Timestamp('2019-08-01 00:00:00'), Timestamp('2019-08-31 00:00:00'))"
      ]
     },
     "execution_count": 22,
     "metadata": {},
     "output_type": "execute_result"
    }
   ],
   "source": [
    "visitors.date.min(), visitors.date.max()"
   ]
  },
  {
   "cell_type": "markdown",
   "metadata": {},
   "source": [
    "Даты проведения теста совпадают с таблицей заказов - тест проводили с 1 по 31 августа 2019 года."
   ]
  },
  {
   "cell_type": "markdown",
   "metadata": {},
   "source": [
    "Проверим данные на количество дубликатов."
   ]
  },
  {
   "cell_type": "code",
   "execution_count": 23,
   "metadata": {},
   "outputs": [
    {
     "data": {
      "text/plain": [
       "0"
      ]
     },
     "execution_count": 23,
     "metadata": {},
     "output_type": "execute_result"
    }
   ],
   "source": [
    "visitors.duplicated().sum()"
   ]
  },
  {
   "cell_type": "markdown",
   "metadata": {},
   "source": [
    "В таблице с пользователями нет строк-дубликатов."
   ]
  },
  {
   "cell_type": "markdown",
   "metadata": {},
   "source": [
    "Проверим есть ли пропуски методом isna()."
   ]
  },
  {
   "cell_type": "code",
   "execution_count": 24,
   "metadata": {},
   "outputs": [
    {
     "data": {
      "text/plain": [
       "date        0\n",
       "group       0\n",
       "visitors    0\n",
       "dtype: int64"
      ]
     },
     "execution_count": 24,
     "metadata": {},
     "output_type": "execute_result"
    }
   ],
   "source": [
    "visitors.isna().sum()"
   ]
  },
  {
   "cell_type": "markdown",
   "metadata": {},
   "source": [
    "Пропусков в данных нет."
   ]
  },
  {
   "cell_type": "code",
   "execution_count": 25,
   "metadata": {
    "scrolled": true
   },
   "outputs": [
    {
     "data": {
      "text/html": [
       "<div>\n",
       "<style scoped>\n",
       "    .dataframe tbody tr th:only-of-type {\n",
       "        vertical-align: middle;\n",
       "    }\n",
       "\n",
       "    .dataframe tbody tr th {\n",
       "        vertical-align: top;\n",
       "    }\n",
       "\n",
       "    .dataframe thead th {\n",
       "        text-align: right;\n",
       "    }\n",
       "</style>\n",
       "<table border=\"1\" class=\"dataframe\">\n",
       "  <thead>\n",
       "    <tr style=\"text-align: right;\">\n",
       "      <th></th>\n",
       "      <th>orderId</th>\n",
       "      <th>userId</th>\n",
       "      <th>date</th>\n",
       "      <th>revenue</th>\n",
       "      <th>group</th>\n",
       "    </tr>\n",
       "  </thead>\n",
       "  <tbody>\n",
       "    <tr>\n",
       "      <th>2</th>\n",
       "      <td>2961555356</td>\n",
       "      <td>4069496402</td>\n",
       "      <td>2019-08-15</td>\n",
       "      <td>400</td>\n",
       "      <td>A</td>\n",
       "    </tr>\n",
       "    <tr>\n",
       "      <th>7</th>\n",
       "      <td>2626614568</td>\n",
       "      <td>78758296</td>\n",
       "      <td>2019-08-15</td>\n",
       "      <td>1044</td>\n",
       "      <td>A</td>\n",
       "    </tr>\n",
       "    <tr>\n",
       "      <th>8</th>\n",
       "      <td>1576988021</td>\n",
       "      <td>295230930</td>\n",
       "      <td>2019-08-15</td>\n",
       "      <td>13710</td>\n",
       "      <td>A</td>\n",
       "    </tr>\n",
       "    <tr>\n",
       "      <th>10</th>\n",
       "      <td>3649131742</td>\n",
       "      <td>879864040</td>\n",
       "      <td>2019-08-15</td>\n",
       "      <td>4008</td>\n",
       "      <td>A</td>\n",
       "    </tr>\n",
       "    <tr>\n",
       "      <th>12</th>\n",
       "      <td>2809384911</td>\n",
       "      <td>3213223594</td>\n",
       "      <td>2019-08-15</td>\n",
       "      <td>7370</td>\n",
       "      <td>A</td>\n",
       "    </tr>\n",
       "    <tr>\n",
       "      <th>...</th>\n",
       "      <td>...</td>\n",
       "      <td>...</td>\n",
       "      <td>...</td>\n",
       "      <td>...</td>\n",
       "      <td>...</td>\n",
       "    </tr>\n",
       "    <tr>\n",
       "      <th>1187</th>\n",
       "      <td>2274188238</td>\n",
       "      <td>132143192</td>\n",
       "      <td>2019-08-14</td>\n",
       "      <td>750</td>\n",
       "      <td>A</td>\n",
       "    </tr>\n",
       "    <tr>\n",
       "      <th>1188</th>\n",
       "      <td>1692103379</td>\n",
       "      <td>1022829655</td>\n",
       "      <td>2019-08-14</td>\n",
       "      <td>112</td>\n",
       "      <td>A</td>\n",
       "    </tr>\n",
       "    <tr>\n",
       "      <th>1193</th>\n",
       "      <td>2203539145</td>\n",
       "      <td>370388673</td>\n",
       "      <td>2019-08-14</td>\n",
       "      <td>3190</td>\n",
       "      <td>A</td>\n",
       "    </tr>\n",
       "    <tr>\n",
       "      <th>1194</th>\n",
       "      <td>1807773912</td>\n",
       "      <td>573423106</td>\n",
       "      <td>2019-08-14</td>\n",
       "      <td>10550</td>\n",
       "      <td>A</td>\n",
       "    </tr>\n",
       "    <tr>\n",
       "      <th>1195</th>\n",
       "      <td>1947021204</td>\n",
       "      <td>1614305549</td>\n",
       "      <td>2019-08-14</td>\n",
       "      <td>100</td>\n",
       "      <td>A</td>\n",
       "    </tr>\n",
       "  </tbody>\n",
       "</table>\n",
       "<p>557 rows × 5 columns</p>\n",
       "</div>"
      ],
      "text/plain": [
       "         orderId      userId       date  revenue group\n",
       "2     2961555356  4069496402 2019-08-15      400     A\n",
       "7     2626614568    78758296 2019-08-15     1044     A\n",
       "8     1576988021   295230930 2019-08-15    13710     A\n",
       "10    3649131742   879864040 2019-08-15     4008     A\n",
       "12    2809384911  3213223594 2019-08-15     7370     A\n",
       "...          ...         ...        ...      ...   ...\n",
       "1187  2274188238   132143192 2019-08-14      750     A\n",
       "1188  1692103379  1022829655 2019-08-14      112     A\n",
       "1193  2203539145   370388673 2019-08-14     3190     A\n",
       "1194  1807773912   573423106 2019-08-14    10550     A\n",
       "1195  1947021204  1614305549 2019-08-14      100     A\n",
       "\n",
       "[557 rows x 5 columns]"
      ]
     },
     "execution_count": 25,
     "metadata": {},
     "output_type": "execute_result"
    }
   ],
   "source": [
    "group_A"
   ]
  },
  {
   "cell_type": "markdown",
   "metadata": {},
   "source": [
    "Проверим есть ли пользователи, которые попали в группу 'A' и группу 'B'."
   ]
  },
  {
   "cell_type": "code",
   "execution_count": 26,
   "metadata": {},
   "outputs": [
    {
     "name": "stdout",
     "output_type": "stream",
     "text": [
      "183\n"
     ]
    }
   ],
   "source": [
    "# создадим пустой список, в который добавим id пользователей, которые есть и в группе 'A' и в группе 'B'\n",
    "duplicates = []\n",
    "\n",
    "for user_a_id in group_A['userId']:      \n",
    "    for user_b_id in group_B['userId']:\n",
    "        is_duplicate = user_a_id == user_b_id\n",
    "        if is_duplicate:\n",
    "            duplicates.append(user_b_id)\n",
    "    \n",
    "print(len(duplicates))"
   ]
  },
  {
   "cell_type": "markdown",
   "metadata": {},
   "source": [
    "В тесте есть большое количество пользователей, которые попали в группу 'A' и группу 'B', их количество равно 183."
   ]
  },
  {
   "cell_type": "markdown",
   "metadata": {},
   "source": [
    "##  Приоритизация гипотез"
   ]
  },
  {
   "cell_type": "markdown",
   "metadata": {},
   "source": [
    "Применим фреймворк `ICE` для приоритизации гипотез датафрейма `hypothesis`. Для этого нам понадобятся следующие параметры:\n",
    "\n",
    "- `impact` - насколько сильно изменение повлияет на пользователей, их опыт и удовлетворение от продукта;\n",
    "- `confidence` - насколько вы уверены, что это изменение повлияет на пользователей именно так; \n",
    "- `efforts` - сколько стоит протестировать эту гипотезу.  "
   ]
  },
  {
   "cell_type": "code",
   "execution_count": 27,
   "metadata": {
    "scrolled": true
   },
   "outputs": [
    {
     "data": {
      "text/html": [
       "<div>\n",
       "<style scoped>\n",
       "    .dataframe tbody tr th:only-of-type {\n",
       "        vertical-align: middle;\n",
       "    }\n",
       "\n",
       "    .dataframe tbody tr th {\n",
       "        vertical-align: top;\n",
       "    }\n",
       "\n",
       "    .dataframe thead th {\n",
       "        text-align: right;\n",
       "    }\n",
       "</style>\n",
       "<table border=\"1\" class=\"dataframe\">\n",
       "  <thead>\n",
       "    <tr style=\"text-align: right;\">\n",
       "      <th></th>\n",
       "      <th>hypothesis</th>\n",
       "      <th>ICE</th>\n",
       "    </tr>\n",
       "  </thead>\n",
       "  <tbody>\n",
       "    <tr>\n",
       "      <th>8</th>\n",
       "      <td>Запустить акцию, дающую скидку на товар в день...</td>\n",
       "      <td>16.200000</td>\n",
       "    </tr>\n",
       "    <tr>\n",
       "      <th>0</th>\n",
       "      <td>Добавить два новых канала привлечения трафика,...</td>\n",
       "      <td>13.333333</td>\n",
       "    </tr>\n",
       "    <tr>\n",
       "      <th>7</th>\n",
       "      <td>Добавить форму подписки на все основные страни...</td>\n",
       "      <td>11.200000</td>\n",
       "    </tr>\n",
       "    <tr>\n",
       "      <th>6</th>\n",
       "      <td>Показать на главной странице баннеры с актуаль...</td>\n",
       "      <td>8.000000</td>\n",
       "    </tr>\n",
       "    <tr>\n",
       "      <th>2</th>\n",
       "      <td>Добавить блоки рекомендаций товаров на сайт ин...</td>\n",
       "      <td>7.000000</td>\n",
       "    </tr>\n",
       "    <tr>\n",
       "      <th>1</th>\n",
       "      <td>Запустить собственную службу доставки, что сок...</td>\n",
       "      <td>2.000000</td>\n",
       "    </tr>\n",
       "    <tr>\n",
       "      <th>5</th>\n",
       "      <td>Добавить страницу отзывов клиентов о магазине,...</td>\n",
       "      <td>1.333333</td>\n",
       "    </tr>\n",
       "    <tr>\n",
       "      <th>3</th>\n",
       "      <td>Изменить структура категорий, что увеличит кон...</td>\n",
       "      <td>1.125000</td>\n",
       "    </tr>\n",
       "    <tr>\n",
       "      <th>4</th>\n",
       "      <td>Изменить цвет фона главной страницы, чтобы уве...</td>\n",
       "      <td>1.000000</td>\n",
       "    </tr>\n",
       "  </tbody>\n",
       "</table>\n",
       "</div>"
      ],
      "text/plain": [
       "                                          hypothesis        ICE\n",
       "8  Запустить акцию, дающую скидку на товар в день...  16.200000\n",
       "0  Добавить два новых канала привлечения трафика,...  13.333333\n",
       "7  Добавить форму подписки на все основные страни...  11.200000\n",
       "6  Показать на главной странице баннеры с актуаль...   8.000000\n",
       "2  Добавить блоки рекомендаций товаров на сайт ин...   7.000000\n",
       "1  Запустить собственную службу доставки, что сок...   2.000000\n",
       "5  Добавить страницу отзывов клиентов о магазине,...   1.333333\n",
       "3  Изменить структура категорий, что увеличит кон...   1.125000\n",
       "4  Изменить цвет фона главной страницы, чтобы уве...   1.000000"
      ]
     },
     "execution_count": 27,
     "metadata": {},
     "output_type": "execute_result"
    }
   ],
   "source": [
    "# посчитаем ICE для гипотез\n",
    "hypothesis_ICE = hypothesis.copy()\n",
    "\n",
    "hypothesis_ICE['ICE'] = hypothesis_ICE['impact']*hypothesis_ICE['confidence']/hypothesis_ICE['efforts']\n",
    "\n",
    "# выведем столбцы \"hypothesis\" и \"ICE\"\n",
    "# отсортирeуем таблицу по убыванию приоритета\n",
    "hypothesis_ICE = (hypothesis_ICE[['hypothesis', 'ICE']]\n",
    "                  .sort_values(by='ICE', ascending=False))\n",
    "hypothesis_ICE"
   ]
  },
  {
   "cell_type": "markdown",
   "metadata": {},
   "source": [
    "Наиболее перспективные гипотезы по `ICE` - гипотезы с индексом 8, 0, 7, 6 и 2. Рассмотрим подробнее, что хранят в себе эти гипотезы."
   ]
  },
  {
   "cell_type": "code",
   "execution_count": 28,
   "metadata": {
    "scrolled": true
   },
   "outputs": [
    {
     "data": {
      "text/plain": [
       "array(['Запустить акцию, дающую скидку на товар в день рождения',\n",
       "       'Добавить два новых канала привлечения трафика, что позволит привлекать на 30% больше пользователей',\n",
       "       'Добавить форму подписки на все основные страницы, чтобы собрать базу клиентов для email-рассылок',\n",
       "       'Показать на главной странице баннеры с актуальными акциями и распродажами, чтобы увеличить конверсию',\n",
       "       'Добавить блоки рекомендаций товаров на сайт интернет магазина, чтобы повысить конверсию и средний чек заказа',\n",
       "       'Запустить собственную службу доставки, что сократит срок доставки заказов',\n",
       "       'Добавить страницу отзывов клиентов о магазине, что позволит увеличить количество заказов',\n",
       "       'Изменить структура категорий, что увеличит конверсию, т.к. пользователи быстрее найдут нужный товар',\n",
       "       'Изменить цвет фона главной страницы, чтобы увеличить вовлеченность пользователей'],\n",
       "      dtype=object)"
      ]
     },
     "execution_count": 28,
     "metadata": {},
     "output_type": "execute_result"
    }
   ],
   "source": [
    "hypothesis_ICE.hypothesis.unique()"
   ]
  },
  {
   "cell_type": "markdown",
   "metadata": {},
   "source": [
    "- `Гипотеза_8` - запустить акцию, дающую скидку на товар в день рождения;\n",
    "- `Гипотеза_0` - добавить два новых канала привлечения трафика, что позволит привлекать на 30% больше пользователей;\n",
    "- `Гипотеза_7` - добавить форму подписки на все основные страницы, чтобы собрать базу клиентов для email-рассылок;\n",
    "- `Гипотеза_6` - показать на главной странице баннеры с актуальными акциями и распродажами, чтобы увеличить конверсию;\n",
    "- `Гипотеза_2` - добавить блоки рекомендаций товаров на сайт интернет магазина, чтобы повысить конверсию и средний чек заказа."
   ]
  },
  {
   "cell_type": "markdown",
   "metadata": {},
   "source": [
    "**Применение фреймворка RICE для приоритизации гипотез.**"
   ]
  },
  {
   "cell_type": "markdown",
   "metadata": {},
   "source": [
    "Применим фреймворк `RICE` для приоритизации гипотез датафрейма `hypothesis`. Для этого нам понадобятся следующие параметры:\n",
    "\n",
    "- `reach` - скольких пользователей затронет изменение, которое вы хотите внести;\n",
    "- `impact` - насколько сильно изменение повлияет на пользователей, их опыт и удовлетворение от продукта;\n",
    "- `confidence` - насколько вы уверены, что это изменение повлияет на пользователей именно так; \n",
    "- `efforts` - сколько стоит протестировать эту гипотезу.  "
   ]
  },
  {
   "cell_type": "code",
   "execution_count": 29,
   "metadata": {},
   "outputs": [
    {
     "data": {
      "text/html": [
       "<div>\n",
       "<style scoped>\n",
       "    .dataframe tbody tr th:only-of-type {\n",
       "        vertical-align: middle;\n",
       "    }\n",
       "\n",
       "    .dataframe tbody tr th {\n",
       "        vertical-align: top;\n",
       "    }\n",
       "\n",
       "    .dataframe thead th {\n",
       "        text-align: right;\n",
       "    }\n",
       "</style>\n",
       "<table border=\"1\" class=\"dataframe\">\n",
       "  <thead>\n",
       "    <tr style=\"text-align: right;\">\n",
       "      <th></th>\n",
       "      <th>hypothesis</th>\n",
       "      <th>RICE</th>\n",
       "    </tr>\n",
       "  </thead>\n",
       "  <tbody>\n",
       "    <tr>\n",
       "      <th>7</th>\n",
       "      <td>Добавить форму подписки на все основные страни...</td>\n",
       "      <td>112.0</td>\n",
       "    </tr>\n",
       "    <tr>\n",
       "      <th>2</th>\n",
       "      <td>Добавить блоки рекомендаций товаров на сайт ин...</td>\n",
       "      <td>56.0</td>\n",
       "    </tr>\n",
       "    <tr>\n",
       "      <th>0</th>\n",
       "      <td>Добавить два новых канала привлечения трафика,...</td>\n",
       "      <td>40.0</td>\n",
       "    </tr>\n",
       "    <tr>\n",
       "      <th>6</th>\n",
       "      <td>Показать на главной странице баннеры с актуаль...</td>\n",
       "      <td>40.0</td>\n",
       "    </tr>\n",
       "    <tr>\n",
       "      <th>8</th>\n",
       "      <td>Запустить акцию, дающую скидку на товар в день...</td>\n",
       "      <td>16.2</td>\n",
       "    </tr>\n",
       "    <tr>\n",
       "      <th>3</th>\n",
       "      <td>Изменить структура категорий, что увеличит кон...</td>\n",
       "      <td>9.0</td>\n",
       "    </tr>\n",
       "    <tr>\n",
       "      <th>1</th>\n",
       "      <td>Запустить собственную службу доставки, что сок...</td>\n",
       "      <td>4.0</td>\n",
       "    </tr>\n",
       "    <tr>\n",
       "      <th>5</th>\n",
       "      <td>Добавить страницу отзывов клиентов о магазине,...</td>\n",
       "      <td>4.0</td>\n",
       "    </tr>\n",
       "    <tr>\n",
       "      <th>4</th>\n",
       "      <td>Изменить цвет фона главной страницы, чтобы уве...</td>\n",
       "      <td>3.0</td>\n",
       "    </tr>\n",
       "  </tbody>\n",
       "</table>\n",
       "</div>"
      ],
      "text/plain": [
       "                                          hypothesis   RICE\n",
       "7  Добавить форму подписки на все основные страни...  112.0\n",
       "2  Добавить блоки рекомендаций товаров на сайт ин...   56.0\n",
       "0  Добавить два новых канала привлечения трафика,...   40.0\n",
       "6  Показать на главной странице баннеры с актуаль...   40.0\n",
       "8  Запустить акцию, дающую скидку на товар в день...   16.2\n",
       "3  Изменить структура категорий, что увеличит кон...    9.0\n",
       "1  Запустить собственную службу доставки, что сок...    4.0\n",
       "5  Добавить страницу отзывов клиентов о магазине,...    4.0\n",
       "4  Изменить цвет фона главной страницы, чтобы уве...    3.0"
      ]
     },
     "execution_count": 29,
     "metadata": {},
     "output_type": "execute_result"
    }
   ],
   "source": [
    "# посчитаем RICE для гипотез\n",
    "hypothesis_RICE = hypothesis.copy()\n",
    "\n",
    "hypothesis_RICE['RICE'] = hypothesis_RICE['reach']*hypothesis_RICE['impact']*hypothesis_RICE['confidence']\\\n",
    "/hypothesis_RICE['efforts']\n",
    "\n",
    "# выведем столбцы \"hypothesis\" и \"RICE\"\n",
    "# отсортирeуем таблицу по убыванию приоритета\n",
    "hypothesis_RICE = (hypothesis_RICE[['hypothesis', 'RICE']]\n",
    "                  .sort_values(by='RICE', ascending=False))\n",
    "hypothesis_RICE"
   ]
  },
  {
   "cell_type": "markdown",
   "metadata": {},
   "source": [
    "Наиболее перспективные гипотезы по `RICE` - уже знакомые нам гипотезы с индексом 7, 2, 0, 6 и 8."
   ]
  },
  {
   "cell_type": "markdown",
   "metadata": {},
   "source": [
    "При применении метода `RICE` вместо `ICE`, наиболее перспективными гипотезами по прежнему остались гипотезы с индексом 8, 0, 7, 6 и 2. Но порядок их изменился: `Гипотеза_7` по методу `RICE` оказалась самой перспективной, по методу `ICE` эта гипотеза занимала третью строчку. `Гипотеза_2` занимет вторую строчку, в то время как по методу `ICE` она занимала пятую строчку. `Гипотеза_0` и `Гипотеза_6` по методу `RICE` занимают третью строчку, по методу `ICE` эти гипотезы занимали вторую и четвертую строки соответственно. `Гипотеза_8` по методу `RICE` занимет последнее место среди наиболее перспективных гипотез, в то время как по методу `ICE` это была самая перспективная гипотеза.\n",
    "\n",
    "Фреймворк `RICE` и `ICE` очень похожи, разница лишь в том, что при расчете `RICE` добавляется ещё один компонент -`reach`, который и повлиял на порядок приоритизации гипотез. Можно также сказать, что `RICE` - это `reach` умноженный на `ICE`. Посмотрим на параметр `reach` в исходной таблице `hypothesis`, и его влияние на `RICE`."
   ]
  },
  {
   "cell_type": "code",
   "execution_count": 30,
   "metadata": {},
   "outputs": [
    {
     "data": {
      "text/html": [
       "<div>\n",
       "<style scoped>\n",
       "    .dataframe tbody tr th:only-of-type {\n",
       "        vertical-align: middle;\n",
       "    }\n",
       "\n",
       "    .dataframe tbody tr th {\n",
       "        vertical-align: top;\n",
       "    }\n",
       "\n",
       "    .dataframe thead th {\n",
       "        text-align: right;\n",
       "    }\n",
       "</style>\n",
       "<table border=\"1\" class=\"dataframe\">\n",
       "  <thead>\n",
       "    <tr style=\"text-align: right;\">\n",
       "      <th></th>\n",
       "      <th>hypothesis</th>\n",
       "      <th>reach</th>\n",
       "      <th>impact</th>\n",
       "      <th>confidence</th>\n",
       "      <th>efforts</th>\n",
       "    </tr>\n",
       "  </thead>\n",
       "  <tbody>\n",
       "    <tr>\n",
       "      <th>0</th>\n",
       "      <td>Добавить два новых канала привлечения трафика,...</td>\n",
       "      <td>3</td>\n",
       "      <td>10</td>\n",
       "      <td>8</td>\n",
       "      <td>6</td>\n",
       "    </tr>\n",
       "    <tr>\n",
       "      <th>1</th>\n",
       "      <td>Запустить собственную службу доставки, что сок...</td>\n",
       "      <td>2</td>\n",
       "      <td>5</td>\n",
       "      <td>4</td>\n",
       "      <td>10</td>\n",
       "    </tr>\n",
       "    <tr>\n",
       "      <th>2</th>\n",
       "      <td>Добавить блоки рекомендаций товаров на сайт ин...</td>\n",
       "      <td>8</td>\n",
       "      <td>3</td>\n",
       "      <td>7</td>\n",
       "      <td>3</td>\n",
       "    </tr>\n",
       "    <tr>\n",
       "      <th>3</th>\n",
       "      <td>Изменить структура категорий, что увеличит кон...</td>\n",
       "      <td>8</td>\n",
       "      <td>3</td>\n",
       "      <td>3</td>\n",
       "      <td>8</td>\n",
       "    </tr>\n",
       "    <tr>\n",
       "      <th>4</th>\n",
       "      <td>Изменить цвет фона главной страницы, чтобы уве...</td>\n",
       "      <td>3</td>\n",
       "      <td>1</td>\n",
       "      <td>1</td>\n",
       "      <td>1</td>\n",
       "    </tr>\n",
       "    <tr>\n",
       "      <th>5</th>\n",
       "      <td>Добавить страницу отзывов клиентов о магазине,...</td>\n",
       "      <td>3</td>\n",
       "      <td>2</td>\n",
       "      <td>2</td>\n",
       "      <td>3</td>\n",
       "    </tr>\n",
       "    <tr>\n",
       "      <th>6</th>\n",
       "      <td>Показать на главной странице баннеры с актуаль...</td>\n",
       "      <td>5</td>\n",
       "      <td>3</td>\n",
       "      <td>8</td>\n",
       "      <td>3</td>\n",
       "    </tr>\n",
       "    <tr>\n",
       "      <th>7</th>\n",
       "      <td>Добавить форму подписки на все основные страни...</td>\n",
       "      <td>10</td>\n",
       "      <td>7</td>\n",
       "      <td>8</td>\n",
       "      <td>5</td>\n",
       "    </tr>\n",
       "    <tr>\n",
       "      <th>8</th>\n",
       "      <td>Запустить акцию, дающую скидку на товар в день...</td>\n",
       "      <td>1</td>\n",
       "      <td>9</td>\n",
       "      <td>9</td>\n",
       "      <td>5</td>\n",
       "    </tr>\n",
       "  </tbody>\n",
       "</table>\n",
       "</div>"
      ],
      "text/plain": [
       "                                          hypothesis  reach  impact  \\\n",
       "0  Добавить два новых канала привлечения трафика,...      3      10   \n",
       "1  Запустить собственную службу доставки, что сок...      2       5   \n",
       "2  Добавить блоки рекомендаций товаров на сайт ин...      8       3   \n",
       "3  Изменить структура категорий, что увеличит кон...      8       3   \n",
       "4  Изменить цвет фона главной страницы, чтобы уве...      3       1   \n",
       "5  Добавить страницу отзывов клиентов о магазине,...      3       2   \n",
       "6  Показать на главной странице баннеры с актуаль...      5       3   \n",
       "7  Добавить форму подписки на все основные страни...     10       7   \n",
       "8  Запустить акцию, дающую скидку на товар в день...      1       9   \n",
       "\n",
       "   confidence  efforts  \n",
       "0           8        6  \n",
       "1           4       10  \n",
       "2           7        3  \n",
       "3           3        8  \n",
       "4           1        1  \n",
       "5           2        3  \n",
       "6           8        3  \n",
       "7           8        5  \n",
       "8           9        5  "
      ]
     },
     "metadata": {},
     "output_type": "display_data"
    },
    {
     "data": {
      "text/html": [
       "<div>\n",
       "<style scoped>\n",
       "    .dataframe tbody tr th:only-of-type {\n",
       "        vertical-align: middle;\n",
       "    }\n",
       "\n",
       "    .dataframe tbody tr th {\n",
       "        vertical-align: top;\n",
       "    }\n",
       "\n",
       "    .dataframe thead th {\n",
       "        text-align: right;\n",
       "    }\n",
       "</style>\n",
       "<table border=\"1\" class=\"dataframe\">\n",
       "  <thead>\n",
       "    <tr style=\"text-align: right;\">\n",
       "      <th></th>\n",
       "      <th>hypothesis</th>\n",
       "      <th>RICE</th>\n",
       "    </tr>\n",
       "  </thead>\n",
       "  <tbody>\n",
       "    <tr>\n",
       "      <th>7</th>\n",
       "      <td>Добавить форму подписки на все основные страни...</td>\n",
       "      <td>112.0</td>\n",
       "    </tr>\n",
       "    <tr>\n",
       "      <th>2</th>\n",
       "      <td>Добавить блоки рекомендаций товаров на сайт ин...</td>\n",
       "      <td>56.0</td>\n",
       "    </tr>\n",
       "    <tr>\n",
       "      <th>0</th>\n",
       "      <td>Добавить два новых канала привлечения трафика,...</td>\n",
       "      <td>40.0</td>\n",
       "    </tr>\n",
       "    <tr>\n",
       "      <th>6</th>\n",
       "      <td>Показать на главной странице баннеры с актуаль...</td>\n",
       "      <td>40.0</td>\n",
       "    </tr>\n",
       "    <tr>\n",
       "      <th>8</th>\n",
       "      <td>Запустить акцию, дающую скидку на товар в день...</td>\n",
       "      <td>16.2</td>\n",
       "    </tr>\n",
       "    <tr>\n",
       "      <th>3</th>\n",
       "      <td>Изменить структура категорий, что увеличит кон...</td>\n",
       "      <td>9.0</td>\n",
       "    </tr>\n",
       "    <tr>\n",
       "      <th>1</th>\n",
       "      <td>Запустить собственную службу доставки, что сок...</td>\n",
       "      <td>4.0</td>\n",
       "    </tr>\n",
       "    <tr>\n",
       "      <th>5</th>\n",
       "      <td>Добавить страницу отзывов клиентов о магазине,...</td>\n",
       "      <td>4.0</td>\n",
       "    </tr>\n",
       "    <tr>\n",
       "      <th>4</th>\n",
       "      <td>Изменить цвет фона главной страницы, чтобы уве...</td>\n",
       "      <td>3.0</td>\n",
       "    </tr>\n",
       "  </tbody>\n",
       "</table>\n",
       "</div>"
      ],
      "text/plain": [
       "                                          hypothesis   RICE\n",
       "7  Добавить форму подписки на все основные страни...  112.0\n",
       "2  Добавить блоки рекомендаций товаров на сайт ин...   56.0\n",
       "0  Добавить два новых канала привлечения трафика,...   40.0\n",
       "6  Показать на главной странице баннеры с актуаль...   40.0\n",
       "8  Запустить акцию, дающую скидку на товар в день...   16.2\n",
       "3  Изменить структура категорий, что увеличит кон...    9.0\n",
       "1  Запустить собственную службу доставки, что сок...    4.0\n",
       "5  Добавить страницу отзывов клиентов о магазине,...    4.0\n",
       "4  Изменить цвет фона главной страницы, чтобы уве...    3.0"
      ]
     },
     "metadata": {},
     "output_type": "display_data"
    }
   ],
   "source": [
    "display(hypothesis, hypothesis_RICE)"
   ]
  },
  {
   "cell_type": "markdown",
   "metadata": {},
   "source": [
    "Самый высокий параметр `reach` у `Гипотеза_7` - он равен 10, в то время как у остальных гипотез он меньше. Это означает, что изменение, которое мы хотим внести охватывает самое большое количество пользователей интернет-магазина. "
   ]
  },
  {
   "cell_type": "markdown",
   "metadata": {},
   "source": [
    "## Анализ A/B-теста"
   ]
  },
  {
   "cell_type": "markdown",
   "metadata": {},
   "source": [
    "### График кумулятивной выручки по группам"
   ]
  },
  {
   "cell_type": "markdown",
   "metadata": {},
   "source": [
    "Для того, чтобы построить график кумулятивной выручки по группам, необходимо сначала собрать все необходимые куммулятивные данные."
   ]
  },
  {
   "cell_type": "markdown",
   "metadata": {},
   "source": [
    "Создадим датафрейм `datesGroups` с уникальными парами значений `date` и `group`, таблицы orders."
   ]
  },
  {
   "cell_type": "code",
   "execution_count": 31,
   "metadata": {
    "scrolled": true
   },
   "outputs": [
    {
     "data": {
      "text/html": [
       "<div>\n",
       "<style scoped>\n",
       "    .dataframe tbody tr th:only-of-type {\n",
       "        vertical-align: middle;\n",
       "    }\n",
       "\n",
       "    .dataframe tbody tr th {\n",
       "        vertical-align: top;\n",
       "    }\n",
       "\n",
       "    .dataframe thead th {\n",
       "        text-align: right;\n",
       "    }\n",
       "</style>\n",
       "<table border=\"1\" class=\"dataframe\">\n",
       "  <thead>\n",
       "    <tr style=\"text-align: right;\">\n",
       "      <th></th>\n",
       "      <th>date</th>\n",
       "      <th>group</th>\n",
       "    </tr>\n",
       "  </thead>\n",
       "  <tbody>\n",
       "    <tr>\n",
       "      <th>0</th>\n",
       "      <td>2019-08-15</td>\n",
       "      <td>B</td>\n",
       "    </tr>\n",
       "    <tr>\n",
       "      <th>2</th>\n",
       "      <td>2019-08-15</td>\n",
       "      <td>A</td>\n",
       "    </tr>\n",
       "    <tr>\n",
       "      <th>45</th>\n",
       "      <td>2019-08-16</td>\n",
       "      <td>A</td>\n",
       "    </tr>\n",
       "    <tr>\n",
       "      <th>47</th>\n",
       "      <td>2019-08-16</td>\n",
       "      <td>B</td>\n",
       "    </tr>\n",
       "    <tr>\n",
       "      <th>55</th>\n",
       "      <td>2019-08-01</td>\n",
       "      <td>A</td>\n",
       "    </tr>\n",
       "    <tr>\n",
       "      <th>66</th>\n",
       "      <td>2019-08-01</td>\n",
       "      <td>B</td>\n",
       "    </tr>\n",
       "    <tr>\n",
       "      <th>85</th>\n",
       "      <td>2019-08-22</td>\n",
       "      <td>B</td>\n",
       "    </tr>\n",
       "    <tr>\n",
       "      <th>86</th>\n",
       "      <td>2019-08-22</td>\n",
       "      <td>A</td>\n",
       "    </tr>\n",
       "    <tr>\n",
       "      <th>124</th>\n",
       "      <td>2019-08-17</td>\n",
       "      <td>A</td>\n",
       "    </tr>\n",
       "    <tr>\n",
       "      <th>125</th>\n",
       "      <td>2019-08-17</td>\n",
       "      <td>B</td>\n",
       "    </tr>\n",
       "  </tbody>\n",
       "</table>\n",
       "</div>"
      ],
      "text/plain": [
       "          date group\n",
       "0   2019-08-15     B\n",
       "2   2019-08-15     A\n",
       "45  2019-08-16     A\n",
       "47  2019-08-16     B\n",
       "55  2019-08-01     A\n",
       "66  2019-08-01     B\n",
       "85  2019-08-22     B\n",
       "86  2019-08-22     A\n",
       "124 2019-08-17     A\n",
       "125 2019-08-17     B"
      ]
     },
     "execution_count": 31,
     "metadata": {},
     "output_type": "execute_result"
    }
   ],
   "source": [
    "datesGroups = orders[['date','group']].drop_duplicates()\n",
    "datesGroups.head(10)"
   ]
  },
  {
   "cell_type": "markdown",
   "metadata": {},
   "source": [
    "Объявим переменную `ordersAggregated`, содержащую:\n",
    "- дату;\n",
    "- группу A/B-теста;\n",
    "- число уникальных заказов в группе теста по указанную дату включительно;\n",
    "- число уникальных пользователей, совершивших хотя бы 1 заказ в группе теста по указанную дату включительно;\n",
    "- суммарную выручку заказов в группе теста по указанную дату включительно.\n",
    "\n",
    "Для этого соберём агрегированные кумулятивные данные о заказах по дням в несколько действий. Получим строки таблицы `orders`, дата которых меньше или равна дате элемента из `datesGroups`, а группа теста равна группе из `datesGroups`. Далее агрегируем значения: вычислим максимальную дату, найдём число уникальных ID заказов и пользователей, подсчитаем сумму средних чеков. Применим методы к каждой строке датафрейма и отсортируем результаты по столбцам `date` и `group`."
   ]
  },
  {
   "cell_type": "code",
   "execution_count": 32,
   "metadata": {},
   "outputs": [
    {
     "data": {
      "text/html": [
       "<div>\n",
       "<style scoped>\n",
       "    .dataframe tbody tr th:only-of-type {\n",
       "        vertical-align: middle;\n",
       "    }\n",
       "\n",
       "    .dataframe tbody tr th {\n",
       "        vertical-align: top;\n",
       "    }\n",
       "\n",
       "    .dataframe thead th {\n",
       "        text-align: right;\n",
       "    }\n",
       "</style>\n",
       "<table border=\"1\" class=\"dataframe\">\n",
       "  <thead>\n",
       "    <tr style=\"text-align: right;\">\n",
       "      <th></th>\n",
       "      <th>date</th>\n",
       "      <th>group</th>\n",
       "      <th>orderId</th>\n",
       "      <th>userId</th>\n",
       "      <th>revenue</th>\n",
       "    </tr>\n",
       "  </thead>\n",
       "  <tbody>\n",
       "    <tr>\n",
       "      <th>55</th>\n",
       "      <td>2019-08-01</td>\n",
       "      <td>A</td>\n",
       "      <td>24</td>\n",
       "      <td>20</td>\n",
       "      <td>148579</td>\n",
       "    </tr>\n",
       "    <tr>\n",
       "      <th>66</th>\n",
       "      <td>2019-08-01</td>\n",
       "      <td>B</td>\n",
       "      <td>21</td>\n",
       "      <td>20</td>\n",
       "      <td>101217</td>\n",
       "    </tr>\n",
       "    <tr>\n",
       "      <th>175</th>\n",
       "      <td>2019-08-02</td>\n",
       "      <td>A</td>\n",
       "      <td>44</td>\n",
       "      <td>38</td>\n",
       "      <td>242401</td>\n",
       "    </tr>\n",
       "    <tr>\n",
       "      <th>173</th>\n",
       "      <td>2019-08-02</td>\n",
       "      <td>B</td>\n",
       "      <td>45</td>\n",
       "      <td>43</td>\n",
       "      <td>266748</td>\n",
       "    </tr>\n",
       "    <tr>\n",
       "      <th>291</th>\n",
       "      <td>2019-08-03</td>\n",
       "      <td>A</td>\n",
       "      <td>68</td>\n",
       "      <td>62</td>\n",
       "      <td>354874</td>\n",
       "    </tr>\n",
       "    <tr>\n",
       "      <th>310</th>\n",
       "      <td>2019-08-03</td>\n",
       "      <td>B</td>\n",
       "      <td>61</td>\n",
       "      <td>59</td>\n",
       "      <td>380996</td>\n",
       "    </tr>\n",
       "    <tr>\n",
       "      <th>499</th>\n",
       "      <td>2019-08-04</td>\n",
       "      <td>A</td>\n",
       "      <td>84</td>\n",
       "      <td>77</td>\n",
       "      <td>425699</td>\n",
       "    </tr>\n",
       "    <tr>\n",
       "      <th>498</th>\n",
       "      <td>2019-08-04</td>\n",
       "      <td>B</td>\n",
       "      <td>78</td>\n",
       "      <td>75</td>\n",
       "      <td>489567</td>\n",
       "    </tr>\n",
       "    <tr>\n",
       "      <th>698</th>\n",
       "      <td>2019-08-05</td>\n",
       "      <td>A</td>\n",
       "      <td>109</td>\n",
       "      <td>100</td>\n",
       "      <td>549917</td>\n",
       "    </tr>\n",
       "    <tr>\n",
       "      <th>699</th>\n",
       "      <td>2019-08-05</td>\n",
       "      <td>B</td>\n",
       "      <td>101</td>\n",
       "      <td>98</td>\n",
       "      <td>581995</td>\n",
       "    </tr>\n",
       "  </tbody>\n",
       "</table>\n",
       "</div>"
      ],
      "text/plain": [
       "          date group  orderId  userId  revenue\n",
       "55  2019-08-01     A       24      20   148579\n",
       "66  2019-08-01     B       21      20   101217\n",
       "175 2019-08-02     A       44      38   242401\n",
       "173 2019-08-02     B       45      43   266748\n",
       "291 2019-08-03     A       68      62   354874\n",
       "310 2019-08-03     B       61      59   380996\n",
       "499 2019-08-04     A       84      77   425699\n",
       "498 2019-08-04     B       78      75   489567\n",
       "698 2019-08-05     A      109     100   549917\n",
       "699 2019-08-05     B      101      98   581995"
      ]
     },
     "execution_count": 32,
     "metadata": {},
     "output_type": "execute_result"
    }
   ],
   "source": [
    "ordersAggregated = (datesGroups\n",
    "                    .apply\n",
    "                    (\n",
    "                        lambda x: orders[np.logical_and(orders['date'] <= x['date'], \\\n",
    "                                                        orders['group'] == x['group'])]\n",
    "                        .agg({\n",
    "                            'date' : 'max', \n",
    "                            'group' : 'max', \n",
    "                            'orderId' : 'nunique', \n",
    "                            'userId' : 'nunique', \n",
    "                            'revenue' : 'sum'\n",
    "                            }), \n",
    "                        axis=1\n",
    "                    )\n",
    "                    .sort_values(by=['date','group'])\n",
    "                   )\n",
    "\n",
    "ordersAggregated.head(10)"
   ]
  },
  {
   "cell_type": "markdown",
   "metadata": {},
   "source": [
    "Аналогично получим агрегированные кумулятивные данные по дням о посетителях интернет-магазина и сохраним их в переменной `visitorsAggregated`: "
   ]
  },
  {
   "cell_type": "code",
   "execution_count": 33,
   "metadata": {},
   "outputs": [
    {
     "data": {
      "text/html": [
       "<div>\n",
       "<style scoped>\n",
       "    .dataframe tbody tr th:only-of-type {\n",
       "        vertical-align: middle;\n",
       "    }\n",
       "\n",
       "    .dataframe tbody tr th {\n",
       "        vertical-align: top;\n",
       "    }\n",
       "\n",
       "    .dataframe thead th {\n",
       "        text-align: right;\n",
       "    }\n",
       "</style>\n",
       "<table border=\"1\" class=\"dataframe\">\n",
       "  <thead>\n",
       "    <tr style=\"text-align: right;\">\n",
       "      <th></th>\n",
       "      <th>date</th>\n",
       "      <th>group</th>\n",
       "      <th>visitors</th>\n",
       "    </tr>\n",
       "  </thead>\n",
       "  <tbody>\n",
       "    <tr>\n",
       "      <th>55</th>\n",
       "      <td>2019-08-01</td>\n",
       "      <td>A</td>\n",
       "      <td>719</td>\n",
       "    </tr>\n",
       "    <tr>\n",
       "      <th>66</th>\n",
       "      <td>2019-08-01</td>\n",
       "      <td>B</td>\n",
       "      <td>713</td>\n",
       "    </tr>\n",
       "    <tr>\n",
       "      <th>175</th>\n",
       "      <td>2019-08-02</td>\n",
       "      <td>A</td>\n",
       "      <td>1338</td>\n",
       "    </tr>\n",
       "    <tr>\n",
       "      <th>173</th>\n",
       "      <td>2019-08-02</td>\n",
       "      <td>B</td>\n",
       "      <td>1294</td>\n",
       "    </tr>\n",
       "    <tr>\n",
       "      <th>291</th>\n",
       "      <td>2019-08-03</td>\n",
       "      <td>A</td>\n",
       "      <td>1845</td>\n",
       "    </tr>\n",
       "    <tr>\n",
       "      <th>310</th>\n",
       "      <td>2019-08-03</td>\n",
       "      <td>B</td>\n",
       "      <td>1803</td>\n",
       "    </tr>\n",
       "    <tr>\n",
       "      <th>499</th>\n",
       "      <td>2019-08-04</td>\n",
       "      <td>A</td>\n",
       "      <td>2562</td>\n",
       "    </tr>\n",
       "    <tr>\n",
       "      <th>498</th>\n",
       "      <td>2019-08-04</td>\n",
       "      <td>B</td>\n",
       "      <td>2573</td>\n",
       "    </tr>\n",
       "    <tr>\n",
       "      <th>698</th>\n",
       "      <td>2019-08-05</td>\n",
       "      <td>A</td>\n",
       "      <td>3318</td>\n",
       "    </tr>\n",
       "    <tr>\n",
       "      <th>699</th>\n",
       "      <td>2019-08-05</td>\n",
       "      <td>B</td>\n",
       "      <td>3280</td>\n",
       "    </tr>\n",
       "  </tbody>\n",
       "</table>\n",
       "</div>"
      ],
      "text/plain": [
       "          date group  visitors\n",
       "55  2019-08-01     A       719\n",
       "66  2019-08-01     B       713\n",
       "175 2019-08-02     A      1338\n",
       "173 2019-08-02     B      1294\n",
       "291 2019-08-03     A      1845\n",
       "310 2019-08-03     B      1803\n",
       "499 2019-08-04     A      2562\n",
       "498 2019-08-04     B      2573\n",
       "698 2019-08-05     A      3318\n",
       "699 2019-08-05     B      3280"
      ]
     },
     "execution_count": 33,
     "metadata": {},
     "output_type": "execute_result"
    }
   ],
   "source": [
    "visitorsAggregated = (datesGroups\n",
    "                    .apply\n",
    "                    (\n",
    "                        lambda x: visitors[np.logical_and(visitors['date'] <= x['date'], \\\n",
    "                                                          visitors['group'] == x['group'])]\n",
    "                        .agg({\n",
    "                            'date' : 'max', \n",
    "                            'group' : 'max', \n",
    "                            'visitors' : 'sum'\n",
    "                            }), \n",
    "                        axis=1\n",
    "                    )\n",
    "                    .sort_values(by=['date','group'])\n",
    "                   )\n",
    "\n",
    "visitorsAggregated.head(10)"
   ]
  },
  {
   "cell_type": "markdown",
   "metadata": {},
   "source": [
    "Объединим обе таблицы с агрегированными кумулятивными данными в одну, и сохраним ее в переменной `cumulativeData`. "
   ]
  },
  {
   "cell_type": "code",
   "execution_count": 34,
   "metadata": {},
   "outputs": [
    {
     "data": {
      "text/html": [
       "<div>\n",
       "<style scoped>\n",
       "    .dataframe tbody tr th:only-of-type {\n",
       "        vertical-align: middle;\n",
       "    }\n",
       "\n",
       "    .dataframe tbody tr th {\n",
       "        vertical-align: top;\n",
       "    }\n",
       "\n",
       "    .dataframe thead th {\n",
       "        text-align: right;\n",
       "    }\n",
       "</style>\n",
       "<table border=\"1\" class=\"dataframe\">\n",
       "  <thead>\n",
       "    <tr style=\"text-align: right;\">\n",
       "      <th></th>\n",
       "      <th>date</th>\n",
       "      <th>group</th>\n",
       "      <th>orderId</th>\n",
       "      <th>userId</th>\n",
       "      <th>revenue</th>\n",
       "      <th>visitors</th>\n",
       "    </tr>\n",
       "  </thead>\n",
       "  <tbody>\n",
       "    <tr>\n",
       "      <th>0</th>\n",
       "      <td>2019-08-01</td>\n",
       "      <td>A</td>\n",
       "      <td>24</td>\n",
       "      <td>20</td>\n",
       "      <td>148579</td>\n",
       "      <td>719</td>\n",
       "    </tr>\n",
       "    <tr>\n",
       "      <th>1</th>\n",
       "      <td>2019-08-01</td>\n",
       "      <td>B</td>\n",
       "      <td>21</td>\n",
       "      <td>20</td>\n",
       "      <td>101217</td>\n",
       "      <td>713</td>\n",
       "    </tr>\n",
       "    <tr>\n",
       "      <th>2</th>\n",
       "      <td>2019-08-02</td>\n",
       "      <td>A</td>\n",
       "      <td>44</td>\n",
       "      <td>38</td>\n",
       "      <td>242401</td>\n",
       "      <td>1338</td>\n",
       "    </tr>\n",
       "    <tr>\n",
       "      <th>3</th>\n",
       "      <td>2019-08-02</td>\n",
       "      <td>B</td>\n",
       "      <td>45</td>\n",
       "      <td>43</td>\n",
       "      <td>266748</td>\n",
       "      <td>1294</td>\n",
       "    </tr>\n",
       "    <tr>\n",
       "      <th>4</th>\n",
       "      <td>2019-08-03</td>\n",
       "      <td>A</td>\n",
       "      <td>68</td>\n",
       "      <td>62</td>\n",
       "      <td>354874</td>\n",
       "      <td>1845</td>\n",
       "    </tr>\n",
       "    <tr>\n",
       "      <th>5</th>\n",
       "      <td>2019-08-03</td>\n",
       "      <td>B</td>\n",
       "      <td>61</td>\n",
       "      <td>59</td>\n",
       "      <td>380996</td>\n",
       "      <td>1803</td>\n",
       "    </tr>\n",
       "    <tr>\n",
       "      <th>6</th>\n",
       "      <td>2019-08-04</td>\n",
       "      <td>A</td>\n",
       "      <td>84</td>\n",
       "      <td>77</td>\n",
       "      <td>425699</td>\n",
       "      <td>2562</td>\n",
       "    </tr>\n",
       "    <tr>\n",
       "      <th>7</th>\n",
       "      <td>2019-08-04</td>\n",
       "      <td>B</td>\n",
       "      <td>78</td>\n",
       "      <td>75</td>\n",
       "      <td>489567</td>\n",
       "      <td>2573</td>\n",
       "    </tr>\n",
       "    <tr>\n",
       "      <th>8</th>\n",
       "      <td>2019-08-05</td>\n",
       "      <td>A</td>\n",
       "      <td>109</td>\n",
       "      <td>100</td>\n",
       "      <td>549917</td>\n",
       "      <td>3318</td>\n",
       "    </tr>\n",
       "    <tr>\n",
       "      <th>9</th>\n",
       "      <td>2019-08-05</td>\n",
       "      <td>B</td>\n",
       "      <td>101</td>\n",
       "      <td>98</td>\n",
       "      <td>581995</td>\n",
       "      <td>3280</td>\n",
       "    </tr>\n",
       "  </tbody>\n",
       "</table>\n",
       "</div>"
      ],
      "text/plain": [
       "        date group  orderId  userId  revenue  visitors\n",
       "0 2019-08-01     A       24      20   148579       719\n",
       "1 2019-08-01     B       21      20   101217       713\n",
       "2 2019-08-02     A       44      38   242401      1338\n",
       "3 2019-08-02     B       45      43   266748      1294\n",
       "4 2019-08-03     A       68      62   354874      1845\n",
       "5 2019-08-03     B       61      59   380996      1803\n",
       "6 2019-08-04     A       84      77   425699      2562\n",
       "7 2019-08-04     B       78      75   489567      2573\n",
       "8 2019-08-05     A      109     100   549917      3318\n",
       "9 2019-08-05     B      101      98   581995      3280"
      ]
     },
     "execution_count": 34,
     "metadata": {},
     "output_type": "execute_result"
    }
   ],
   "source": [
    "cumulativeData = (ordersAggregated\n",
    "                  .merge(visitorsAggregated, left_on=['date', 'group'], right_on=['date', 'group']))\n",
    "cumulativeData.head(10)"
   ]
  },
  {
   "cell_type": "markdown",
   "metadata": {},
   "source": [
    "Переименуем названия столбцов таблицы `cumulativeData`, где:\n",
    "- `date` - дата;\n",
    "- `group` - группа A/B-теста (A или B);\n",
    "- `orders` - кумулятивное количество заказов на указанную дату в указанной группе;\n",
    "- `buyers` - кумулятивное количество пользователей, совершивших хотя бы один заказ, на указанную дату в указанной группе;\n",
    "- `revenue` - кумулятивная выручка на указанную дату в указанной группе (средний чек);\n",
    "- `visitors` - кумулятивное количество посетителей интернет-магазина на указанную дату в определённой группе."
   ]
  },
  {
   "cell_type": "code",
   "execution_count": 35,
   "metadata": {},
   "outputs": [
    {
     "data": {
      "text/html": [
       "<div>\n",
       "<style scoped>\n",
       "    .dataframe tbody tr th:only-of-type {\n",
       "        vertical-align: middle;\n",
       "    }\n",
       "\n",
       "    .dataframe tbody tr th {\n",
       "        vertical-align: top;\n",
       "    }\n",
       "\n",
       "    .dataframe thead th {\n",
       "        text-align: right;\n",
       "    }\n",
       "</style>\n",
       "<table border=\"1\" class=\"dataframe\">\n",
       "  <thead>\n",
       "    <tr style=\"text-align: right;\">\n",
       "      <th></th>\n",
       "      <th>date</th>\n",
       "      <th>group</th>\n",
       "      <th>orders</th>\n",
       "      <th>buyers</th>\n",
       "      <th>revenue</th>\n",
       "      <th>visitors</th>\n",
       "    </tr>\n",
       "  </thead>\n",
       "  <tbody>\n",
       "    <tr>\n",
       "      <th>0</th>\n",
       "      <td>2019-08-01</td>\n",
       "      <td>A</td>\n",
       "      <td>24</td>\n",
       "      <td>20</td>\n",
       "      <td>148579</td>\n",
       "      <td>719</td>\n",
       "    </tr>\n",
       "    <tr>\n",
       "      <th>1</th>\n",
       "      <td>2019-08-01</td>\n",
       "      <td>B</td>\n",
       "      <td>21</td>\n",
       "      <td>20</td>\n",
       "      <td>101217</td>\n",
       "      <td>713</td>\n",
       "    </tr>\n",
       "    <tr>\n",
       "      <th>2</th>\n",
       "      <td>2019-08-02</td>\n",
       "      <td>A</td>\n",
       "      <td>44</td>\n",
       "      <td>38</td>\n",
       "      <td>242401</td>\n",
       "      <td>1338</td>\n",
       "    </tr>\n",
       "    <tr>\n",
       "      <th>3</th>\n",
       "      <td>2019-08-02</td>\n",
       "      <td>B</td>\n",
       "      <td>45</td>\n",
       "      <td>43</td>\n",
       "      <td>266748</td>\n",
       "      <td>1294</td>\n",
       "    </tr>\n",
       "    <tr>\n",
       "      <th>4</th>\n",
       "      <td>2019-08-03</td>\n",
       "      <td>A</td>\n",
       "      <td>68</td>\n",
       "      <td>62</td>\n",
       "      <td>354874</td>\n",
       "      <td>1845</td>\n",
       "    </tr>\n",
       "  </tbody>\n",
       "</table>\n",
       "</div>"
      ],
      "text/plain": [
       "        date group  orders  buyers  revenue  visitors\n",
       "0 2019-08-01     A      24      20   148579       719\n",
       "1 2019-08-01     B      21      20   101217       713\n",
       "2 2019-08-02     A      44      38   242401      1338\n",
       "3 2019-08-02     B      45      43   266748      1294\n",
       "4 2019-08-03     A      68      62   354874      1845"
      ]
     },
     "execution_count": 35,
     "metadata": {},
     "output_type": "execute_result"
    }
   ],
   "source": [
    "cumulativeData.columns = ['date', 'group', 'orders', 'buyers', 'revenue', 'visitors']\n",
    "cumulativeData.head()"
   ]
  },
  {
   "cell_type": "markdown",
   "metadata": {},
   "source": [
    "Построим графики кумулятивной выручки по дням и группам A/B-тестирования: "
   ]
  },
  {
   "cell_type": "code",
   "execution_count": 36,
   "metadata": {},
   "outputs": [
    {
     "data": {
      "image/png": "[encoded data removed]",
      "text/plain": [
       "<Figure size 864x360 with 1 Axes>"
      ]
     },
     "metadata": {
      "needs_background": "light"
     },
     "output_type": "display_data"
    }
   ],
   "source": [
    "# датафрейм с кумулятивным количеством заказов и кумулятивной выручкой по дням в группе А\n",
    "cumulativeRevenueA = cumulativeData[cumulativeData['group']=='A'][['date','revenue', 'orders']]\n",
    "\n",
    "# датафрейм с кумулятивным количеством заказов и кумулятивной выручкой по дням в группе B\n",
    "cumulativeRevenueB = cumulativeData[cumulativeData['group']=='B'][['date','revenue', 'orders']]\n",
    "\n",
    "# устанавливаем размер фируры\n",
    "plt.figure(figsize=(12, 5))\n",
    "\n",
    "# строим график выручки группы А\n",
    "plt.plot(cumulativeRevenueA['date'], cumulativeRevenueA['revenue'], label='A')\n",
    "\n",
    "# строим график выручки группы B\n",
    "plt.plot(cumulativeRevenueB['date'], cumulativeRevenueB['revenue'], label='B')\n",
    "\n",
    "plt.minorticks_on()\n",
    "plt.grid(which='minor', color='#aaa', ls=':')\n",
    "\n",
    "plt.xlabel('')\n",
    "plt.ylabel('Размер кумулятивной выручки', fontsize = 10)\n",
    "plt.title('График кумулятивной выручки по дням и группам A/B-тестирования', fontsize = 13)\n",
    "\n",
    "plt.legend(); "
   ]
  },
  {
   "cell_type": "markdown",
   "metadata": {},
   "source": [
    "В первые несколько дней теста размер кумулятивной выручки группы `А` и `В` практически не отличался. Затем, мы наблюдаем постепенный, более активный рост кумулятивный выручки группы `В`. В середине теста группа `В` вырывается вперёд и продолжает лидировать до конца теста. Такой резкий рост кумулятивной выручки группы `В` может быть связан с появлением очень дорогих заказов в выборке, или увеличении количества заказов."
   ]
  },
  {
   "cell_type": "markdown",
   "metadata": {},
   "source": [
    "### График кумулятивного среднего чека по группам"
   ]
  },
  {
   "cell_type": "markdown",
   "metadata": {},
   "source": [
    "Построим графики среднего чека по группам - разделим кумулятивную выручку `revenue` на кумулятивное число заказов `orders`."
   ]
  },
  {
   "cell_type": "code",
   "execution_count": 37,
   "metadata": {},
   "outputs": [
    {
     "data": {
      "image/png": "[encoded data removed]",
      "text/plain": [
       "<Figure size 864x360 with 1 Axes>"
      ]
     },
     "metadata": {
      "needs_background": "light"
     },
     "output_type": "display_data"
    }
   ],
   "source": [
    "# устанавливаем размер фигуры\n",
    "plt.figure(figsize=(12, 5))\n",
    "\n",
    "# строим график кумулятивного среднего чека группы А\n",
    "plt.plot(cumulativeRevenueA['date'], cumulativeRevenueA['revenue']/cumulativeRevenueA['orders'], label='A')\n",
    "\n",
    "# строим график кумулятивного среднего чека группы B\n",
    "plt.plot(cumulativeRevenueB['date'], cumulativeRevenueB['revenue']/cumulativeRevenueB['orders'], label='B')\n",
    "\n",
    "plt.minorticks_on()\n",
    "plt.grid(which='minor', color='#aaa', ls=':')\n",
    "\n",
    "plt.xlabel('')\n",
    "plt.ylabel('Размер кумулятивного среднего чека', fontsize = 10)\n",
    "plt.title('График кумулятивного среднего чека по дням и группам A/B-тестирования', fontsize = 13)\n",
    "\n",
    "plt.legend(); "
   ]
  },
  {
   "cell_type": "markdown",
   "metadata": {},
   "source": [
    "В начале теста средний чек группы `А` падает, затем начинает постепенно рости и к середине теста он устанавливается примерно на одном уровне и остается таким до конца теста. Средний чек группы `В` в начале теста постепенно растёт, затем в середине теста мы наблюдаем резкий скачок среднего чека, и его постепенное падение до конца теста. Вероятнее всего, в группе `В` появилось большое число крупных заказов или их количество сильно возросло.  "
   ]
  },
  {
   "cell_type": "markdown",
   "metadata": {},
   "source": [
    "### График относительного изменения кумулятивного среднего чека группы B к группе A"
   ]
  },
  {
   "cell_type": "markdown",
   "metadata": {},
   "source": [
    "Построим график относительного различия для среднего чека. Для этого объединим таблицы `cumulativeRevenueA` и `cumulativeRevenueB` так, чтобы она содержала столбцы: `date`, `revenueA`, `revenueB`, `ordersA`, `ordersB`. Сохраним датафрейм в переменной `mergedCumulativeRevenue`."
   ]
  },
  {
   "cell_type": "code",
   "execution_count": 38,
   "metadata": {},
   "outputs": [
    {
     "data": {
      "text/html": [
       "<div>\n",
       "<style scoped>\n",
       "    .dataframe tbody tr th:only-of-type {\n",
       "        vertical-align: middle;\n",
       "    }\n",
       "\n",
       "    .dataframe tbody tr th {\n",
       "        vertical-align: top;\n",
       "    }\n",
       "\n",
       "    .dataframe thead th {\n",
       "        text-align: right;\n",
       "    }\n",
       "</style>\n",
       "<table border=\"1\" class=\"dataframe\">\n",
       "  <thead>\n",
       "    <tr style=\"text-align: right;\">\n",
       "      <th></th>\n",
       "      <th>date</th>\n",
       "      <th>revenueA</th>\n",
       "      <th>ordersA</th>\n",
       "      <th>revenueB</th>\n",
       "      <th>ordersB</th>\n",
       "    </tr>\n",
       "  </thead>\n",
       "  <tbody>\n",
       "    <tr>\n",
       "      <th>0</th>\n",
       "      <td>2019-08-01</td>\n",
       "      <td>148579</td>\n",
       "      <td>24</td>\n",
       "      <td>101217</td>\n",
       "      <td>21</td>\n",
       "    </tr>\n",
       "    <tr>\n",
       "      <th>1</th>\n",
       "      <td>2019-08-02</td>\n",
       "      <td>242401</td>\n",
       "      <td>44</td>\n",
       "      <td>266748</td>\n",
       "      <td>45</td>\n",
       "    </tr>\n",
       "    <tr>\n",
       "      <th>2</th>\n",
       "      <td>2019-08-03</td>\n",
       "      <td>354874</td>\n",
       "      <td>68</td>\n",
       "      <td>380996</td>\n",
       "      <td>61</td>\n",
       "    </tr>\n",
       "    <tr>\n",
       "      <th>3</th>\n",
       "      <td>2019-08-04</td>\n",
       "      <td>425699</td>\n",
       "      <td>84</td>\n",
       "      <td>489567</td>\n",
       "      <td>78</td>\n",
       "    </tr>\n",
       "    <tr>\n",
       "      <th>4</th>\n",
       "      <td>2019-08-05</td>\n",
       "      <td>549917</td>\n",
       "      <td>109</td>\n",
       "      <td>581995</td>\n",
       "      <td>101</td>\n",
       "    </tr>\n",
       "  </tbody>\n",
       "</table>\n",
       "</div>"
      ],
      "text/plain": [
       "        date  revenueA  ordersA  revenueB  ordersB\n",
       "0 2019-08-01    148579       24    101217       21\n",
       "1 2019-08-02    242401       44    266748       45\n",
       "2 2019-08-03    354874       68    380996       61\n",
       "3 2019-08-04    425699       84    489567       78\n",
       "4 2019-08-05    549917      109    581995      101"
      ]
     },
     "execution_count": 38,
     "metadata": {},
     "output_type": "execute_result"
    }
   ],
   "source": [
    "# собираем данные в одном датафрейме\n",
    "mergedCumulativeRevenue = (cumulativeRevenueA\n",
    "                           .merge(cumulativeRevenueB, left_on='date', right_on='date', how='left', suffixes=['A', 'B']))\n",
    "mergedCumulativeRevenue.head()"
   ]
  },
  {
   "cell_type": "code",
   "execution_count": 39,
   "metadata": {
    "scrolled": true
   },
   "outputs": [
    {
     "data": {
      "image/png": "[encoded data removed]",
      "text/plain": [
       "<Figure size 864x360 with 1 Axes>"
      ]
     },
     "metadata": {
      "needs_background": "light"
     },
     "output_type": "display_data"
    }
   ],
   "source": [
    "# устанавливаем размер фигуры\n",
    "plt.figure(figsize=(12, 5))\n",
    "\n",
    "# cтроим отношение средних чеков\n",
    "plt.plot(mergedCumulativeRevenue['date'], \\\n",
    "         (mergedCumulativeRevenue['revenueB']/mergedCumulativeRevenue['ordersB'])\\\n",
    "         /(mergedCumulativeRevenue['revenueA']/mergedCumulativeRevenue['ordersA'])-1)\n",
    "\n",
    "# добавляем ось X\n",
    "plt.axhline(y=0, color='black', linestyle='--')\n",
    "\n",
    "plt.minorticks_on()\n",
    "plt.grid(which='minor', color='#aaa', ls=':')\n",
    "\n",
    "plt.xlabel('')\n",
    "plt.ylabel('Размер кумулятивного среднего чека', fontsize = 10)\n",
    "plt.title('График относительного изменения кумулятивного среднего чека группы B к группе A по дням', fontsize = 13);\n",
    "\n",
    "plt.show()"
   ]
  },
  {
   "cell_type": "markdown",
   "metadata": {},
   "source": [
    "В начале на графике мы наблюдаем рост среднего чека группы `В` относительно группы `А`, затем мы видим его постепенное падение до определенного уровня, и снова плавный рост. Но в определенный момент времени, мы наблюдаем резкий скачок среднего чека группы `В` относительно группы `А`, который затем плавно падает и устанавливается на одном уровне на пару дней в самом конце теста. Как мы и предполагали ранее, вероятнее всего в группе `В` появилось большое число крупных заказов или количество заказов возросло."
   ]
  },
  {
   "cell_type": "markdown",
   "metadata": {},
   "source": [
    "### График кумулятивного среднего количества заказов на посетителя по группам"
   ]
  },
  {
   "cell_type": "markdown",
   "metadata": {},
   "source": [
    "Построим и проанализируем график кумулятивного среднего количества заказов на посетителя или кумулятивной конверсии по группам. Для этого посчитаем кумулятивную конверсию, как отношение числа заказов к количеству пользователей в указанной группе в указанный день."
   ]
  },
  {
   "cell_type": "code",
   "execution_count": 40,
   "metadata": {},
   "outputs": [
    {
     "data": {
      "text/html": [
       "<div>\n",
       "<style scoped>\n",
       "    .dataframe tbody tr th:only-of-type {\n",
       "        vertical-align: middle;\n",
       "    }\n",
       "\n",
       "    .dataframe tbody tr th {\n",
       "        vertical-align: top;\n",
       "    }\n",
       "\n",
       "    .dataframe thead th {\n",
       "        text-align: right;\n",
       "    }\n",
       "</style>\n",
       "<table border=\"1\" class=\"dataframe\">\n",
       "  <thead>\n",
       "    <tr style=\"text-align: right;\">\n",
       "      <th></th>\n",
       "      <th>date</th>\n",
       "      <th>group</th>\n",
       "      <th>orders</th>\n",
       "      <th>buyers</th>\n",
       "      <th>revenue</th>\n",
       "      <th>visitors</th>\n",
       "      <th>conversion</th>\n",
       "    </tr>\n",
       "  </thead>\n",
       "  <tbody>\n",
       "    <tr>\n",
       "      <th>0</th>\n",
       "      <td>2019-08-01</td>\n",
       "      <td>A</td>\n",
       "      <td>24</td>\n",
       "      <td>20</td>\n",
       "      <td>148579</td>\n",
       "      <td>719</td>\n",
       "      <td>0.033380</td>\n",
       "    </tr>\n",
       "    <tr>\n",
       "      <th>2</th>\n",
       "      <td>2019-08-02</td>\n",
       "      <td>A</td>\n",
       "      <td>44</td>\n",
       "      <td>38</td>\n",
       "      <td>242401</td>\n",
       "      <td>1338</td>\n",
       "      <td>0.032885</td>\n",
       "    </tr>\n",
       "    <tr>\n",
       "      <th>4</th>\n",
       "      <td>2019-08-03</td>\n",
       "      <td>A</td>\n",
       "      <td>68</td>\n",
       "      <td>62</td>\n",
       "      <td>354874</td>\n",
       "      <td>1845</td>\n",
       "      <td>0.036856</td>\n",
       "    </tr>\n",
       "    <tr>\n",
       "      <th>6</th>\n",
       "      <td>2019-08-04</td>\n",
       "      <td>A</td>\n",
       "      <td>84</td>\n",
       "      <td>77</td>\n",
       "      <td>425699</td>\n",
       "      <td>2562</td>\n",
       "      <td>0.032787</td>\n",
       "    </tr>\n",
       "    <tr>\n",
       "      <th>8</th>\n",
       "      <td>2019-08-05</td>\n",
       "      <td>A</td>\n",
       "      <td>109</td>\n",
       "      <td>100</td>\n",
       "      <td>549917</td>\n",
       "      <td>3318</td>\n",
       "      <td>0.032851</td>\n",
       "    </tr>\n",
       "  </tbody>\n",
       "</table>\n",
       "</div>"
      ],
      "text/plain": [
       "        date group  orders  buyers  revenue  visitors  conversion\n",
       "0 2019-08-01     A      24      20   148579       719    0.033380\n",
       "2 2019-08-02     A      44      38   242401      1338    0.032885\n",
       "4 2019-08-03     A      68      62   354874      1845    0.036856\n",
       "6 2019-08-04     A      84      77   425699      2562    0.032787\n",
       "8 2019-08-05     A     109     100   549917      3318    0.032851"
      ]
     },
     "metadata": {},
     "output_type": "display_data"
    },
    {
     "data": {
      "text/html": [
       "<div>\n",
       "<style scoped>\n",
       "    .dataframe tbody tr th:only-of-type {\n",
       "        vertical-align: middle;\n",
       "    }\n",
       "\n",
       "    .dataframe tbody tr th {\n",
       "        vertical-align: top;\n",
       "    }\n",
       "\n",
       "    .dataframe thead th {\n",
       "        text-align: right;\n",
       "    }\n",
       "</style>\n",
       "<table border=\"1\" class=\"dataframe\">\n",
       "  <thead>\n",
       "    <tr style=\"text-align: right;\">\n",
       "      <th></th>\n",
       "      <th>date</th>\n",
       "      <th>group</th>\n",
       "      <th>orders</th>\n",
       "      <th>buyers</th>\n",
       "      <th>revenue</th>\n",
       "      <th>visitors</th>\n",
       "      <th>conversion</th>\n",
       "    </tr>\n",
       "  </thead>\n",
       "  <tbody>\n",
       "    <tr>\n",
       "      <th>1</th>\n",
       "      <td>2019-08-01</td>\n",
       "      <td>B</td>\n",
       "      <td>21</td>\n",
       "      <td>20</td>\n",
       "      <td>101217</td>\n",
       "      <td>713</td>\n",
       "      <td>0.029453</td>\n",
       "    </tr>\n",
       "    <tr>\n",
       "      <th>3</th>\n",
       "      <td>2019-08-02</td>\n",
       "      <td>B</td>\n",
       "      <td>45</td>\n",
       "      <td>43</td>\n",
       "      <td>266748</td>\n",
       "      <td>1294</td>\n",
       "      <td>0.034776</td>\n",
       "    </tr>\n",
       "    <tr>\n",
       "      <th>5</th>\n",
       "      <td>2019-08-03</td>\n",
       "      <td>B</td>\n",
       "      <td>61</td>\n",
       "      <td>59</td>\n",
       "      <td>380996</td>\n",
       "      <td>1803</td>\n",
       "      <td>0.033833</td>\n",
       "    </tr>\n",
       "    <tr>\n",
       "      <th>7</th>\n",
       "      <td>2019-08-04</td>\n",
       "      <td>B</td>\n",
       "      <td>78</td>\n",
       "      <td>75</td>\n",
       "      <td>489567</td>\n",
       "      <td>2573</td>\n",
       "      <td>0.030315</td>\n",
       "    </tr>\n",
       "    <tr>\n",
       "      <th>9</th>\n",
       "      <td>2019-08-05</td>\n",
       "      <td>B</td>\n",
       "      <td>101</td>\n",
       "      <td>98</td>\n",
       "      <td>581995</td>\n",
       "      <td>3280</td>\n",
       "      <td>0.030793</td>\n",
       "    </tr>\n",
       "  </tbody>\n",
       "</table>\n",
       "</div>"
      ],
      "text/plain": [
       "        date group  orders  buyers  revenue  visitors  conversion\n",
       "1 2019-08-01     B      21      20   101217       713    0.029453\n",
       "3 2019-08-02     B      45      43   266748      1294    0.034776\n",
       "5 2019-08-03     B      61      59   380996      1803    0.033833\n",
       "7 2019-08-04     B      78      75   489567      2573    0.030315\n",
       "9 2019-08-05     B     101      98   581995      3280    0.030793"
      ]
     },
     "metadata": {},
     "output_type": "display_data"
    }
   ],
   "source": [
    "# считаем кумулятивную конверсию\n",
    "cumulativeData['conversion'] = cumulativeData['orders']/cumulativeData['visitors']\n",
    "\n",
    "# отделяем данные по группе A\n",
    "cumulativeDataA = cumulativeData[cumulativeData['group']=='A']\n",
    "\n",
    "# отделяем данные по группе B\n",
    "cumulativeDataB = cumulativeData[cumulativeData['group']=='B']\n",
    "\n",
    "display(cumulativeDataA.head(), cumulativeDataB.head())"
   ]
  },
  {
   "cell_type": "code",
   "execution_count": 41,
   "metadata": {
    "scrolled": true
   },
   "outputs": [
    {
     "data": {
      "image/png": "[encoded data removed]",
      "text/plain": [
       "<Figure size 864x360 with 1 Axes>"
      ]
     },
     "metadata": {
      "needs_background": "light"
     },
     "output_type": "display_data"
    }
   ],
   "source": [
    "# устанавливаем размер фигуры\n",
    "plt.figure(figsize=(12, 5))\n",
    "\n",
    "# строим графики\n",
    "plt.plot(cumulativeDataA['date'], cumulativeDataA['conversion'], label='A')\n",
    "plt.plot(cumulativeDataB['date'], cumulativeDataB['conversion'], label='B')\n",
    "plt.legend()\n",
    "\n",
    "# задаем масштаб осей\n",
    "plt.axis([dt.datetime(2019, 8, 1), dt.datetime(2019, 9, 1), 0, 0.05])\n",
    "\n",
    "plt.minorticks_on()\n",
    "plt.grid(which='minor', color='#aaa', ls=':')\n",
    "\n",
    "plt.xlabel('')\n",
    "plt.ylabel('Конверсия', fontsize = 10)\n",
    "plt.title('График кумулятивного среднего количества заказов на посетителя по группам', fontsize = 13);"
   ]
  },
  {
   "cell_type": "markdown",
   "metadata": {},
   "source": [
    "В начале теста группа `А` имела большую конверсию, но постепенно конверсия группы `В` стала рости и зафиксировалась примерно около одного значения, больше значения конверсии группы `А`. На графике видно, что как конверсия группы `В`, так и конверсия группы `А` установилась около своего среднего значения."
   ]
  },
  {
   "cell_type": "markdown",
   "metadata": {},
   "source": [
    "### График относительного изменения кумулятивного среднего количества заказов на посетителя группы B к группе A"
   ]
  },
  {
   "cell_type": "markdown",
   "metadata": {},
   "source": [
    "Построим график относительного изменения кумулятивного среднего количества заказов на посетителя группы B к группе A или различия кумулятивных конверсий. Для этого объединим таблицы `cumulativeDataA` и `cumulativeDataB` так, чтобы она содержала столбцы: `data`, `conversionA` и `conversionВ`. Соханим датафрейм в переменной `mergedCumulativeConversions`."
   ]
  },
  {
   "cell_type": "code",
   "execution_count": 42,
   "metadata": {},
   "outputs": [
    {
     "data": {
      "text/html": [
       "<div>\n",
       "<style scoped>\n",
       "    .dataframe tbody tr th:only-of-type {\n",
       "        vertical-align: middle;\n",
       "    }\n",
       "\n",
       "    .dataframe tbody tr th {\n",
       "        vertical-align: top;\n",
       "    }\n",
       "\n",
       "    .dataframe thead th {\n",
       "        text-align: right;\n",
       "    }\n",
       "</style>\n",
       "<table border=\"1\" class=\"dataframe\">\n",
       "  <thead>\n",
       "    <tr style=\"text-align: right;\">\n",
       "      <th></th>\n",
       "      <th>date</th>\n",
       "      <th>conversionA</th>\n",
       "      <th>conversionB</th>\n",
       "    </tr>\n",
       "  </thead>\n",
       "  <tbody>\n",
       "    <tr>\n",
       "      <th>0</th>\n",
       "      <td>2019-08-01</td>\n",
       "      <td>0.033380</td>\n",
       "      <td>0.029453</td>\n",
       "    </tr>\n",
       "    <tr>\n",
       "      <th>1</th>\n",
       "      <td>2019-08-02</td>\n",
       "      <td>0.032885</td>\n",
       "      <td>0.034776</td>\n",
       "    </tr>\n",
       "    <tr>\n",
       "      <th>2</th>\n",
       "      <td>2019-08-03</td>\n",
       "      <td>0.036856</td>\n",
       "      <td>0.033833</td>\n",
       "    </tr>\n",
       "    <tr>\n",
       "      <th>3</th>\n",
       "      <td>2019-08-04</td>\n",
       "      <td>0.032787</td>\n",
       "      <td>0.030315</td>\n",
       "    </tr>\n",
       "    <tr>\n",
       "      <th>4</th>\n",
       "      <td>2019-08-05</td>\n",
       "      <td>0.032851</td>\n",
       "      <td>0.030793</td>\n",
       "    </tr>\n",
       "  </tbody>\n",
       "</table>\n",
       "</div>"
      ],
      "text/plain": [
       "        date  conversionA  conversionB\n",
       "0 2019-08-01     0.033380     0.029453\n",
       "1 2019-08-02     0.032885     0.034776\n",
       "2 2019-08-03     0.036856     0.033833\n",
       "3 2019-08-04     0.032787     0.030315\n",
       "4 2019-08-05     0.032851     0.030793"
      ]
     },
     "execution_count": 42,
     "metadata": {},
     "output_type": "execute_result"
    }
   ],
   "source": [
    "mergedCumulativeConversions = (cumulativeDataA[['date','conversion']]\n",
    "                               .merge(cumulativeDataB[['date','conversion']], left_on='date', right_on='date', \\\n",
    "                               how='left', suffixes=['A', 'B']))\n",
    "mergedCumulativeConversions.head()"
   ]
  },
  {
   "cell_type": "code",
   "execution_count": 43,
   "metadata": {},
   "outputs": [
    {
     "data": {
      "image/png": "[encoded data removed]",
      "text/plain": [
       "<Figure size 864x360 with 1 Axes>"
      ]
     },
     "metadata": {
      "needs_background": "light"
     },
     "output_type": "display_data"
    }
   ],
   "source": [
    "# устанавливаем размер фигуры\n",
    "plt.figure(figsize=(12, 5))\n",
    "\n",
    "# строим график\n",
    "plt.plot(mergedCumulativeConversions['date'], mergedCumulativeConversions['conversionB']/mergedCumulativeConversions['conversionA']-1)\n",
    "\n",
    "# задаем масштаб осей\n",
    "plt.axis([dt.datetime(2019, 8, 1), dt.datetime(2019, 9, 1), -0.5, 0.5])\n",
    "plt.axhline(y=0, color='black', linestyle='--')\n",
    "plt.axhline(y=0.15, color='grey', linestyle='--')\n",
    "\n",
    "plt.minorticks_on()\n",
    "plt.grid(which='minor', color='#aaa', ls=':')\n",
    "\n",
    "plt.xlabel('')\n",
    "plt.ylabel('Конверсия', fontsize = 10)\n",
    "plt.title('Относительный прирост конверсии группы B относительно группы A', fontsize = 13);"
   ]
  },
  {
   "cell_type": "markdown",
   "metadata": {},
   "source": [
    "На графике мы можем увидеть, что почти с самого начала теста группа `В` лидирует по конверсии и зафиксировалась около прироста в 15% относительно группы `А`."
   ]
  },
  {
   "cell_type": "markdown",
   "metadata": {},
   "source": [
    "### График количества заказов по пользователям"
   ]
  },
  {
   "cell_type": "markdown",
   "metadata": {},
   "source": [
    "Построим точечный график количества заказов по пользователям. Но для начала найдем число заказов по пользователям, и сохраним в переменной `ordersByUsers`."
   ]
  },
  {
   "cell_type": "code",
   "execution_count": 44,
   "metadata": {},
   "outputs": [
    {
     "data": {
      "text/html": [
       "<div>\n",
       "<style scoped>\n",
       "    .dataframe tbody tr th:only-of-type {\n",
       "        vertical-align: middle;\n",
       "    }\n",
       "\n",
       "    .dataframe tbody tr th {\n",
       "        vertical-align: top;\n",
       "    }\n",
       "\n",
       "    .dataframe thead th {\n",
       "        text-align: right;\n",
       "    }\n",
       "</style>\n",
       "<table border=\"1\" class=\"dataframe\">\n",
       "  <thead>\n",
       "    <tr style=\"text-align: right;\">\n",
       "      <th></th>\n",
       "      <th>userId</th>\n",
       "      <th>orders</th>\n",
       "    </tr>\n",
       "  </thead>\n",
       "  <tbody>\n",
       "    <tr>\n",
       "      <th>1023</th>\n",
       "      <td>4256040402</td>\n",
       "      <td>11</td>\n",
       "    </tr>\n",
       "    <tr>\n",
       "      <th>591</th>\n",
       "      <td>2458001652</td>\n",
       "      <td>11</td>\n",
       "    </tr>\n",
       "    <tr>\n",
       "      <th>569</th>\n",
       "      <td>2378935119</td>\n",
       "      <td>9</td>\n",
       "    </tr>\n",
       "    <tr>\n",
       "      <th>487</th>\n",
       "      <td>2038680547</td>\n",
       "      <td>8</td>\n",
       "    </tr>\n",
       "    <tr>\n",
       "      <th>44</th>\n",
       "      <td>199603092</td>\n",
       "      <td>5</td>\n",
       "    </tr>\n",
       "    <tr>\n",
       "      <th>744</th>\n",
       "      <td>3062433592</td>\n",
       "      <td>5</td>\n",
       "    </tr>\n",
       "    <tr>\n",
       "      <th>55</th>\n",
       "      <td>237748145</td>\n",
       "      <td>5</td>\n",
       "    </tr>\n",
       "    <tr>\n",
       "      <th>917</th>\n",
       "      <td>3803269165</td>\n",
       "      <td>5</td>\n",
       "    </tr>\n",
       "    <tr>\n",
       "      <th>299</th>\n",
       "      <td>1230306981</td>\n",
       "      <td>5</td>\n",
       "    </tr>\n",
       "    <tr>\n",
       "      <th>897</th>\n",
       "      <td>3717692402</td>\n",
       "      <td>5</td>\n",
       "    </tr>\n",
       "  </tbody>\n",
       "</table>\n",
       "</div>"
      ],
      "text/plain": [
       "          userId  orders\n",
       "1023  4256040402      11\n",
       "591   2458001652      11\n",
       "569   2378935119       9\n",
       "487   2038680547       8\n",
       "44     199603092       5\n",
       "744   3062433592       5\n",
       "55     237748145       5\n",
       "917   3803269165       5\n",
       "299   1230306981       5\n",
       "897   3717692402       5"
      ]
     },
     "execution_count": 44,
     "metadata": {},
     "output_type": "execute_result"
    }
   ],
   "source": [
    "ordersByUsers = (orders\n",
    "                 .groupby('userId', as_index=False)\n",
    "                 .agg({'orderId': 'nunique'}))\n",
    "\n",
    "# изменим названия столбцов\n",
    "ordersByUsers.columns = ['userId', 'orders']\n",
    "\n",
    "ordersByUsers.sort_values(by='orders', ascending=False).head(10)"
   ]
  },
  {
   "cell_type": "code",
   "execution_count": 45,
   "metadata": {
    "scrolled": true
   },
   "outputs": [
    {
     "data": {
      "image/png": "[encoded data removed]",
      "text/plain": [
       "<Figure size 864x360 with 1 Axes>"
      ]
     },
     "metadata": {
      "needs_background": "light"
     },
     "output_type": "display_data"
    }
   ],
   "source": [
    "# серия из чисел от 0 до количества наблюдений в ordersByUsers\n",
    "x_values = pd.Series(range(0, len(ordersByUsers)))\n",
    "\n",
    "# устанавливаем размер фигуры\n",
    "plt.figure(figsize=(12, 5))\n",
    "\n",
    "# построим точечный график\n",
    "plt.scatter(x_values, ordersByUsers['orders'])\n",
    "\n",
    "plt.title('Распределение количества заказов по пользователям', fontsize = 13);"
   ]
  },
  {
   "cell_type": "markdown",
   "metadata": {},
   "source": [
    "Большинство покупателей заказывают только один раз. Пользователей, заказавших более двух раз - мало. Их точная доля не ясна, для этого необходимо посчитать перцентили количества заказов на одного пользователя."
   ]
  },
  {
   "cell_type": "markdown",
   "metadata": {},
   "source": [
    "### 95-й и 99-й перцентили количества заказов на пользователя"
   ]
  },
  {
   "cell_type": "markdown",
   "metadata": {},
   "source": [
    "Посчитаем 95-й и 99-й перцентили количества заказов на пользователя с помощью метода percentile()."
   ]
  },
  {
   "cell_type": "code",
   "execution_count": 46,
   "metadata": {},
   "outputs": [
    {
     "data": {
      "text/plain": [
       "array([2., 4.])"
      ]
     },
     "execution_count": 46,
     "metadata": {},
     "output_type": "execute_result"
    }
   ],
   "source": [
    "np.percentile(ordersByUsers['orders'], [95, 99])"
   ]
  },
  {
   "cell_type": "markdown",
   "metadata": {},
   "source": [
    "Не более 5% пользователей оформляли два и более заказов. И 1% пользователей заказывали четыре и более раз. Выберем количество заказов на одного пользователя равным четырем за верхнюю границу числа заказов."
   ]
  },
  {
   "cell_type": "markdown",
   "metadata": {},
   "source": [
    "### Точечный график стоимостей заказов"
   ]
  },
  {
   "cell_type": "markdown",
   "metadata": {},
   "source": [
    "Построим точечный график стоимостей заказов."
   ]
  },
  {
   "cell_type": "code",
   "execution_count": 47,
   "metadata": {},
   "outputs": [
    {
     "data": {
      "text/html": [
       "<div>\n",
       "<style scoped>\n",
       "    .dataframe tbody tr th:only-of-type {\n",
       "        vertical-align: middle;\n",
       "    }\n",
       "\n",
       "    .dataframe tbody tr th {\n",
       "        vertical-align: top;\n",
       "    }\n",
       "\n",
       "    .dataframe thead th {\n",
       "        text-align: right;\n",
       "    }\n",
       "</style>\n",
       "<table border=\"1\" class=\"dataframe\">\n",
       "  <thead>\n",
       "    <tr style=\"text-align: right;\">\n",
       "      <th></th>\n",
       "      <th>orderId</th>\n",
       "      <th>userId</th>\n",
       "      <th>date</th>\n",
       "      <th>revenue</th>\n",
       "      <th>group</th>\n",
       "    </tr>\n",
       "  </thead>\n",
       "  <tbody>\n",
       "    <tr>\n",
       "      <th>425</th>\n",
       "      <td>590470918</td>\n",
       "      <td>1920142716</td>\n",
       "      <td>2019-08-19</td>\n",
       "      <td>1294500</td>\n",
       "      <td>B</td>\n",
       "    </tr>\n",
       "    <tr>\n",
       "      <th>1196</th>\n",
       "      <td>3936777065</td>\n",
       "      <td>2108080724</td>\n",
       "      <td>2019-08-15</td>\n",
       "      <td>202740</td>\n",
       "      <td>B</td>\n",
       "    </tr>\n",
       "    <tr>\n",
       "      <th>858</th>\n",
       "      <td>192721366</td>\n",
       "      <td>1316129916</td>\n",
       "      <td>2019-08-27</td>\n",
       "      <td>93940</td>\n",
       "      <td>A</td>\n",
       "    </tr>\n",
       "    <tr>\n",
       "      <th>1136</th>\n",
       "      <td>666610489</td>\n",
       "      <td>1307669133</td>\n",
       "      <td>2019-08-13</td>\n",
       "      <td>92550</td>\n",
       "      <td>A</td>\n",
       "    </tr>\n",
       "    <tr>\n",
       "      <th>744</th>\n",
       "      <td>3668308183</td>\n",
       "      <td>888512513</td>\n",
       "      <td>2019-08-27</td>\n",
       "      <td>86620</td>\n",
       "      <td>B</td>\n",
       "    </tr>\n",
       "    <tr>\n",
       "      <th>682</th>\n",
       "      <td>1216533772</td>\n",
       "      <td>4266935830</td>\n",
       "      <td>2019-08-29</td>\n",
       "      <td>78990</td>\n",
       "      <td>B</td>\n",
       "    </tr>\n",
       "    <tr>\n",
       "      <th>662</th>\n",
       "      <td>1811671147</td>\n",
       "      <td>4266935830</td>\n",
       "      <td>2019-08-29</td>\n",
       "      <td>78990</td>\n",
       "      <td>A</td>\n",
       "    </tr>\n",
       "    <tr>\n",
       "      <th>743</th>\n",
       "      <td>3603576309</td>\n",
       "      <td>4133034833</td>\n",
       "      <td>2019-08-09</td>\n",
       "      <td>67990</td>\n",
       "      <td>A</td>\n",
       "    </tr>\n",
       "    <tr>\n",
       "      <th>1103</th>\n",
       "      <td>1348774318</td>\n",
       "      <td>1164614297</td>\n",
       "      <td>2019-08-12</td>\n",
       "      <td>66350</td>\n",
       "      <td>A</td>\n",
       "    </tr>\n",
       "    <tr>\n",
       "      <th>1099</th>\n",
       "      <td>316924019</td>\n",
       "      <td>148427295</td>\n",
       "      <td>2019-08-12</td>\n",
       "      <td>65710</td>\n",
       "      <td>A</td>\n",
       "    </tr>\n",
       "  </tbody>\n",
       "</table>\n",
       "</div>"
      ],
      "text/plain": [
       "         orderId      userId       date  revenue group\n",
       "425    590470918  1920142716 2019-08-19  1294500     B\n",
       "1196  3936777065  2108080724 2019-08-15   202740     B\n",
       "858    192721366  1316129916 2019-08-27    93940     A\n",
       "1136   666610489  1307669133 2019-08-13    92550     A\n",
       "744   3668308183   888512513 2019-08-27    86620     B\n",
       "682   1216533772  4266935830 2019-08-29    78990     B\n",
       "662   1811671147  4266935830 2019-08-29    78990     A\n",
       "743   3603576309  4133034833 2019-08-09    67990     A\n",
       "1103  1348774318  1164614297 2019-08-12    66350     A\n",
       "1099   316924019   148427295 2019-08-12    65710     A"
      ]
     },
     "execution_count": 47,
     "metadata": {},
     "output_type": "execute_result"
    }
   ],
   "source": [
    "orders.sort_values(by='revenue', ascending=False).head(10)"
   ]
  },
  {
   "cell_type": "code",
   "execution_count": 48,
   "metadata": {},
   "outputs": [
    {
     "data": {
      "image/png": "[encoded data removed]",
      "text/plain": [
       "<Figure size 864x360 with 1 Axes>"
      ]
     },
     "metadata": {
      "needs_background": "light"
     },
     "output_type": "display_data"
    }
   ],
   "source": [
    "# серия из чисел от 0 до количества наблюдений в ordersByUsers\n",
    "x_values = pd.Series(range(0, len(orders)))\n",
    "\n",
    "# устанавливаем размер фигуры\n",
    "plt.figure(figsize=(12, 5))\n",
    "\n",
    "# построим точечный график\n",
    "plt.scatter(x_values, orders['revenue'])\n",
    "\n",
    "plt.minorticks_on()\n",
    "plt.grid(which='minor', color='#aaa', ls=':')\n",
    "\n",
    "plt.title('Распределение стоимости заказов', fontsize = 13);"
   ]
  },
  {
   "cell_type": "markdown",
   "metadata": {},
   "source": [
    "Стоимость большинства заказов колеблется до 25 000 - 50 000 рублей. Количество заказов со стоимостью около 100 000 рублей не очень много. Есть выбросы в районе 200 000 рублей и около 1 400 000 рублей. Для более точной доли стоимости заказов, необходимо посчитать перцентили."
   ]
  },
  {
   "cell_type": "markdown",
   "metadata": {},
   "source": [
    "### 95-й и 99-й перцентили стоимости заказов"
   ]
  },
  {
   "cell_type": "markdown",
   "metadata": {},
   "source": [
    "Посчитайте 95-й и 99-й перцентили стоимости заказов."
   ]
  },
  {
   "cell_type": "code",
   "execution_count": 49,
   "metadata": {},
   "outputs": [
    {
     "data": {
      "text/plain": [
       "array([28000. , 58233.2])"
      ]
     },
     "execution_count": 49,
     "metadata": {},
     "output_type": "execute_result"
    }
   ],
   "source": [
    "np.percentile(orders['revenue'], [95, 99])"
   ]
  },
  {
   "cell_type": "markdown",
   "metadata": {},
   "source": [
    "Не более 5% заказов дороже 28 000 рублей и не более 1% дороже 58 233 рублей. Выберем стоимость заказа равную 58233 рублей за верхнюю границу стоимости заказа. "
   ]
  },
  {
   "cell_type": "markdown",
   "metadata": {},
   "source": [
    "### Статистическая значимость различий в среднем количестве заказов на посетителя между группами по «сырым» данным"
   ]
  },
  {
   "cell_type": "markdown",
   "metadata": {},
   "source": [
    "Посчитаем статистическую значимость различий в среднем числе заказов на пользователя между группами по «сырым» данным - без удаления аномальных пользователей."
   ]
  },
  {
   "cell_type": "markdown",
   "metadata": {},
   "source": [
    "Начнём с подготовки данных. Создадим датафрейм `data` со следующими столбцами:\n",
    "- `date` - дата;\n",
    "- `ordersPerDateA` - количество заказов в выбранную дату в группе A;\n",
    "- `revenuePerDateA` - суммарная выручка в выбранную дату в группе A;\n",
    "- `ordersPerDateB` - количество заказов в выбранную дату в группе B;\n",
    "- `revenuePerDateB` - суммарная выручка в выбранную дату в группе B;\n",
    "- `ordersCummulativeA` - суммарное число заказов до выбранной даты включительно в группе A;\n",
    "- `revenueCummulativeA` - суммарная выручка до выбранной даты включительно в группе A;\n",
    "- `ordersCummulativeB` - суммарное количество заказов до выбранной даты включительно в группе B;\n",
    "- `revenueCummulativeB` - суммарная выручка до выбранной даты включительно в группе B;\n",
    "- `visitorsPerDateA` - количество пользователей в выбранную дату в группе A;\n",
    "- `visitorsPerDateB` - количество пользователей в выбранную дату в группе B;\n",
    "- `visitorsCummulativeA` - количество пользователей до выбранной даты включительно в группе A;\n",
    "- `visitorsCummulativeB` - количество пользователей до выбранной даты включительно в группе B."
   ]
  },
  {
   "cell_type": "code",
   "execution_count": 50,
   "metadata": {},
   "outputs": [
    {
     "data": {
      "text/html": [
       "<div>\n",
       "<style scoped>\n",
       "    .dataframe tbody tr th:only-of-type {\n",
       "        vertical-align: middle;\n",
       "    }\n",
       "\n",
       "    .dataframe tbody tr th {\n",
       "        vertical-align: top;\n",
       "    }\n",
       "\n",
       "    .dataframe thead th {\n",
       "        text-align: right;\n",
       "    }\n",
       "</style>\n",
       "<table border=\"1\" class=\"dataframe\">\n",
       "  <thead>\n",
       "    <tr style=\"text-align: right;\">\n",
       "      <th></th>\n",
       "      <th>date</th>\n",
       "      <th>ordersPerDateA</th>\n",
       "      <th>revenuePerDateA</th>\n",
       "      <th>ordersPerDateB</th>\n",
       "      <th>revenuePerDateB</th>\n",
       "      <th>ordersCummulativeA</th>\n",
       "      <th>revenueCummulativeA</th>\n",
       "      <th>ordersCummulativeB</th>\n",
       "      <th>revenueCummulativeB</th>\n",
       "      <th>visitorsPerDateA</th>\n",
       "      <th>visitorsPerDateB</th>\n",
       "      <th>visitorsCummulativeA</th>\n",
       "      <th>visitorsCummulativeB</th>\n",
       "    </tr>\n",
       "  </thead>\n",
       "  <tbody>\n",
       "    <tr>\n",
       "      <th>0</th>\n",
       "      <td>2019-08-01</td>\n",
       "      <td>24</td>\n",
       "      <td>148579</td>\n",
       "      <td>21</td>\n",
       "      <td>101217</td>\n",
       "      <td>24</td>\n",
       "      <td>148579</td>\n",
       "      <td>21</td>\n",
       "      <td>101217</td>\n",
       "      <td>719</td>\n",
       "      <td>713</td>\n",
       "      <td>719</td>\n",
       "      <td>713</td>\n",
       "    </tr>\n",
       "    <tr>\n",
       "      <th>1</th>\n",
       "      <td>2019-08-02</td>\n",
       "      <td>20</td>\n",
       "      <td>93822</td>\n",
       "      <td>24</td>\n",
       "      <td>165531</td>\n",
       "      <td>44</td>\n",
       "      <td>242401</td>\n",
       "      <td>45</td>\n",
       "      <td>266748</td>\n",
       "      <td>619</td>\n",
       "      <td>581</td>\n",
       "      <td>1338</td>\n",
       "      <td>1294</td>\n",
       "    </tr>\n",
       "    <tr>\n",
       "      <th>2</th>\n",
       "      <td>2019-08-03</td>\n",
       "      <td>24</td>\n",
       "      <td>112473</td>\n",
       "      <td>16</td>\n",
       "      <td>114248</td>\n",
       "      <td>68</td>\n",
       "      <td>354874</td>\n",
       "      <td>61</td>\n",
       "      <td>380996</td>\n",
       "      <td>507</td>\n",
       "      <td>509</td>\n",
       "      <td>1845</td>\n",
       "      <td>1803</td>\n",
       "    </tr>\n",
       "    <tr>\n",
       "      <th>3</th>\n",
       "      <td>2019-08-04</td>\n",
       "      <td>16</td>\n",
       "      <td>70825</td>\n",
       "      <td>17</td>\n",
       "      <td>108571</td>\n",
       "      <td>84</td>\n",
       "      <td>425699</td>\n",
       "      <td>78</td>\n",
       "      <td>489567</td>\n",
       "      <td>717</td>\n",
       "      <td>770</td>\n",
       "      <td>2562</td>\n",
       "      <td>2573</td>\n",
       "    </tr>\n",
       "    <tr>\n",
       "      <th>4</th>\n",
       "      <td>2019-08-05</td>\n",
       "      <td>25</td>\n",
       "      <td>124218</td>\n",
       "      <td>23</td>\n",
       "      <td>92428</td>\n",
       "      <td>109</td>\n",
       "      <td>549917</td>\n",
       "      <td>101</td>\n",
       "      <td>581995</td>\n",
       "      <td>756</td>\n",
       "      <td>707</td>\n",
       "      <td>3318</td>\n",
       "      <td>3280</td>\n",
       "    </tr>\n",
       "  </tbody>\n",
       "</table>\n",
       "</div>"
      ],
      "text/plain": [
       "        date  ordersPerDateA  revenuePerDateA  ordersPerDateB  \\\n",
       "0 2019-08-01              24           148579              21   \n",
       "1 2019-08-02              20            93822              24   \n",
       "2 2019-08-03              24           112473              16   \n",
       "3 2019-08-04              16            70825              17   \n",
       "4 2019-08-05              25           124218              23   \n",
       "\n",
       "   revenuePerDateB  ordersCummulativeA  revenueCummulativeA  \\\n",
       "0           101217                  24               148579   \n",
       "1           165531                  44               242401   \n",
       "2           114248                  68               354874   \n",
       "3           108571                  84               425699   \n",
       "4            92428                 109               549917   \n",
       "\n",
       "   ordersCummulativeB  revenueCummulativeB  visitorsPerDateA  \\\n",
       "0                  21               101217               719   \n",
       "1                  45               266748               619   \n",
       "2                  61               380996               507   \n",
       "3                  78               489567               717   \n",
       "4                 101               581995               756   \n",
       "\n",
       "   visitorsPerDateB  visitorsCummulativeA  visitorsCummulativeB  \n",
       "0               713                   719                   713  \n",
       "1               581                  1338                  1294  \n",
       "2               509                  1845                  1803  \n",
       "3               770                  2562                  2573  \n",
       "4               707                  3318                  3280  "
      ]
     },
     "execution_count": 50,
     "metadata": {},
     "output_type": "execute_result"
    }
   ],
   "source": [
    "# узнаем количество пользователей в выбранную дату в группе A\n",
    "visitorsADaily = visitors[visitors['group'] == 'A'][['date', 'visitors']]\n",
    "visitorsADaily.columns = ['date', 'visitorsPerDateA']\n",
    "\n",
    "# узнаем кумулятивное количество пользователей в выбранную дату в группе A\n",
    "visitorsACummulative = visitorsADaily.apply(\n",
    "    lambda x: visitorsADaily[visitorsADaily['date'] <= x['date']].agg(\n",
    "        {'date': 'max', 'visitorsPerDateA': 'sum'}\n",
    "    ),\n",
    "    axis=1,\n",
    ")\n",
    "visitorsACummulative.columns = ['date', 'visitorsCummulativeA']\n",
    "\n",
    "# узнаем количество пользователей в выбранную дату в группе B\n",
    "visitorsBDaily = visitors[visitors['group'] == 'B'][['date', 'visitors']]\n",
    "visitorsBDaily.columns = ['date', 'visitorsPerDateB']\n",
    "\n",
    "# узнаем кумулятивное количество пользователей в выбранную дату в группе B\n",
    "visitorsBCummulative = visitorsBDaily.apply(\n",
    "    lambda x: visitorsBDaily[visitorsBDaily['date'] <= x['date']].agg(\n",
    "        {'date': 'max', 'visitorsPerDateB': 'sum'}\n",
    "    ),\n",
    "    axis=1,\n",
    ")\n",
    "visitorsBCummulative.columns = ['date', 'visitorsCummulativeB']\n",
    "\n",
    "# узнаем количество заказов и суммарную выручку в выбранную дату в группе A \n",
    "ordersADaily = (\n",
    "    orders[orders['group'] == 'A'][['date', 'orderId', 'userId', 'revenue']]\n",
    "    .groupby('date', as_index=False)\n",
    "    .agg({'orderId': pd.Series.nunique, 'revenue': 'sum'})\n",
    ")\n",
    "ordersADaily.columns = ['date', 'ordersPerDateA', 'revenuePerDateA']\n",
    "\n",
    "# узнаем количество заказов и суммарную выручку в выбранную дату в группе B\n",
    "ordersBDaily = (\n",
    "    orders[orders['group'] == 'B'][['date', 'orderId', 'userId', 'revenue']]\n",
    "    .groupby('date', as_index=False)\n",
    "    .agg({'orderId': pd.Series.nunique, 'revenue': 'sum'})\n",
    ")\n",
    "ordersBDaily.columns = ['date', 'ordersPerDateB', 'revenuePerDateB']\n",
    "\n",
    "# узнаем кумулятивное количество заказов и кумулятивную выручку в выбранную дату в группе A \n",
    "ordersACummulative = ordersADaily.apply(\n",
    "    lambda x: ordersADaily[ordersADaily['date'] <= x['date']].agg(\n",
    "        {'date': 'max', 'ordersPerDateA': 'sum', 'revenuePerDateA': 'sum'}\n",
    "    ),\n",
    "    axis=1,\n",
    ").sort_values(by=['date'])\n",
    "ordersACummulative.columns = ['date', 'ordersCummulativeA', 'revenueCummulativeA']\n",
    "\n",
    "# узнаем кумулятивное количество заказов и кумулятивную выручку в выбранную дату в группе B \n",
    "ordersBCummulative = ordersBDaily.apply(\n",
    "    lambda x: ordersBDaily[ordersBDaily['date'] <= x['date']].agg(\n",
    "        {'date': 'max', 'ordersPerDateB': 'sum', 'revenuePerDateB': 'sum'}\n",
    "    ),\n",
    "    axis=1,\n",
    ").sort_values(by=['date'])\n",
    "ordersBCummulative.columns = ['date', 'ordersCummulativeB', 'revenueCummulativeB']\n",
    "\n",
    "# объединим полученные данные в общую таблицу\n",
    "data = (ordersADaily\n",
    "        .merge(ordersBDaily, left_on='date', right_on='date', how='left')\n",
    "        .merge(ordersACummulative, left_on='date', right_on='date', how='left')\n",
    "        .merge(ordersBCummulative, left_on='date', right_on='date', how='left')\n",
    "        .merge(visitorsADaily, left_on='date', right_on='date', how='left')\n",
    "        .merge(visitorsBDaily, left_on='date', right_on='date', how='left')\n",
    "        .merge(visitorsACummulative, left_on='date', right_on='date', how='left')\n",
    "        .merge(visitorsBCummulative, left_on='date', right_on='date', how='left'))\n",
    "data.head()"
   ]
  },
  {
   "cell_type": "markdown",
   "metadata": {},
   "source": [
    "Посчитаем статистическую значимость различия в среднем количестве заказов между группами. Создадим переменные `ordersByUsersA` и `ordersByUsersB` со столбцами `userId` и `orders`. В них для пользователей, которые заказывали хотя бы 1 раз, укажем число совершённых заказов. "
   ]
  },
  {
   "cell_type": "code",
   "execution_count": 51,
   "metadata": {},
   "outputs": [
    {
     "data": {
      "text/html": [
       "<div>\n",
       "<style scoped>\n",
       "    .dataframe tbody tr th:only-of-type {\n",
       "        vertical-align: middle;\n",
       "    }\n",
       "\n",
       "    .dataframe tbody tr th {\n",
       "        vertical-align: top;\n",
       "    }\n",
       "\n",
       "    .dataframe thead th {\n",
       "        text-align: right;\n",
       "    }\n",
       "</style>\n",
       "<table border=\"1\" class=\"dataframe\">\n",
       "  <thead>\n",
       "    <tr style=\"text-align: right;\">\n",
       "      <th></th>\n",
       "      <th>userId</th>\n",
       "      <th>orders</th>\n",
       "    </tr>\n",
       "  </thead>\n",
       "  <tbody>\n",
       "    <tr>\n",
       "      <th>0</th>\n",
       "      <td>8300375</td>\n",
       "      <td>1</td>\n",
       "    </tr>\n",
       "    <tr>\n",
       "      <th>1</th>\n",
       "      <td>11685486</td>\n",
       "      <td>1</td>\n",
       "    </tr>\n",
       "    <tr>\n",
       "      <th>2</th>\n",
       "      <td>54447517</td>\n",
       "      <td>1</td>\n",
       "    </tr>\n",
       "    <tr>\n",
       "      <th>3</th>\n",
       "      <td>66685450</td>\n",
       "      <td>1</td>\n",
       "    </tr>\n",
       "    <tr>\n",
       "      <th>4</th>\n",
       "      <td>78758296</td>\n",
       "      <td>1</td>\n",
       "    </tr>\n",
       "  </tbody>\n",
       "</table>\n",
       "</div>"
      ],
      "text/plain": [
       "     userId  orders\n",
       "0   8300375       1\n",
       "1  11685486       1\n",
       "2  54447517       1\n",
       "3  66685450       1\n",
       "4  78758296       1"
      ]
     },
     "metadata": {},
     "output_type": "display_data"
    },
    {
     "data": {
      "text/html": [
       "<div>\n",
       "<style scoped>\n",
       "    .dataframe tbody tr th:only-of-type {\n",
       "        vertical-align: middle;\n",
       "    }\n",
       "\n",
       "    .dataframe tbody tr th {\n",
       "        vertical-align: top;\n",
       "    }\n",
       "\n",
       "    .dataframe thead th {\n",
       "        text-align: right;\n",
       "    }\n",
       "</style>\n",
       "<table border=\"1\" class=\"dataframe\">\n",
       "  <thead>\n",
       "    <tr style=\"text-align: right;\">\n",
       "      <th></th>\n",
       "      <th>userId</th>\n",
       "      <th>orders</th>\n",
       "    </tr>\n",
       "  </thead>\n",
       "  <tbody>\n",
       "    <tr>\n",
       "      <th>0</th>\n",
       "      <td>5114589</td>\n",
       "      <td>1</td>\n",
       "    </tr>\n",
       "    <tr>\n",
       "      <th>1</th>\n",
       "      <td>6958315</td>\n",
       "      <td>1</td>\n",
       "    </tr>\n",
       "    <tr>\n",
       "      <th>2</th>\n",
       "      <td>8300375</td>\n",
       "      <td>1</td>\n",
       "    </tr>\n",
       "    <tr>\n",
       "      <th>3</th>\n",
       "      <td>39475350</td>\n",
       "      <td>1</td>\n",
       "    </tr>\n",
       "    <tr>\n",
       "      <th>4</th>\n",
       "      <td>47206413</td>\n",
       "      <td>1</td>\n",
       "    </tr>\n",
       "  </tbody>\n",
       "</table>\n",
       "</div>"
      ],
      "text/plain": [
       "     userId  orders\n",
       "0   5114589       1\n",
       "1   6958315       1\n",
       "2   8300375       1\n",
       "3  39475350       1\n",
       "4  47206413       1"
      ]
     },
     "metadata": {},
     "output_type": "display_data"
    }
   ],
   "source": [
    "ordersByUsersA = (\n",
    "    orders[orders['group'] == 'A']\n",
    "    .groupby('userId', as_index=False)\n",
    "    .agg({'orderId': pd.Series.nunique})\n",
    ")\n",
    "ordersByUsersA.columns = ['userId', 'orders']\n",
    "\n",
    "ordersByUsersB = (\n",
    "    orders[orders['group'] == 'B']\n",
    "    .groupby('userId', as_index=False)\n",
    "    .agg({'orderId': pd.Series.nunique})\n",
    ")\n",
    "ordersByUsersB.columns = ['userId', 'orders'] \n",
    "\n",
    "display(ordersByUsersA.head(), ordersByUsersB.head())"
   ]
  },
  {
   "cell_type": "markdown",
   "metadata": {},
   "source": [
    "Объявим переменные `sampleA` и `sampleB`, в которых пользователям из разных групп будет соответствовать количество заказов. Тем, кто ничего не заказал, будут соответствовать нули."
   ]
  },
  {
   "cell_type": "code",
   "execution_count": 52,
   "metadata": {},
   "outputs": [],
   "source": [
    "sampleA = pd.concat(\n",
    "    [ordersByUsersA['orders'], \n",
    "     pd.Series(0, \n",
    "               index=np.arange(data['visitorsPerDateA'].sum() - len(ordersByUsersA['orders'])),\n",
    "               name='orders'\n",
    "              )\n",
    "    ],\n",
    "    axis=0)\n",
    "\n",
    "\n",
    "sampleB = pd.concat(\n",
    "    [ordersByUsersB['orders'],\n",
    "     pd.Series(0,\n",
    "               index=np.arange(data['visitorsPerDateB'].sum() - len(ordersByUsersB['orders'])), \n",
    "               name='orders'\n",
    "              )\n",
    "    ],\n",
    "    axis=0) "
   ]
  },
  {
   "cell_type": "markdown",
   "metadata": {},
   "source": [
    "Проверим выборки на нормальность с помощью критерия Шапиро-Уилка. "
   ]
  },
  {
   "cell_type": "code",
   "execution_count": 53,
   "metadata": {},
   "outputs": [
    {
     "name": "stdout",
     "output_type": "stream",
     "text": [
      "p-значение:  0.0\n",
      "Отвергаем нулевую гипотезу: распределение не нормально\n"
     ]
    },
    {
     "name": "stderr",
     "output_type": "stream",
     "text": [
      "/opt/conda/lib/python3.9/site-packages/scipy/stats/_morestats.py:1800: UserWarning: p-value may not be accurate for N > 5000.\n",
      "  warnings.warn(\"p-value may not be accurate for N > 5000.\")\n"
     ]
    }
   ],
   "source": [
    "# критический уровень статистической значимости\n",
    "alpha = 0.05  \n",
    "results = st.shapiro(sampleA)\n",
    "\n",
    "# второе значение в массиве результатов (с индексом 1) - p-value\n",
    "p_value = results[1] \n",
    "\n",
    "print('p-значение: ', p_value)\n",
    "\n",
    "if p_value < alpha:\n",
    "    print('Отвергаем нулевую гипотезу: распределение не нормально')\n",
    "else:\n",
    "    print('Не получилось отвергнуть нулевую гипотезу, всё нормально')"
   ]
  },
  {
   "cell_type": "code",
   "execution_count": 54,
   "metadata": {},
   "outputs": [
    {
     "name": "stdout",
     "output_type": "stream",
     "text": [
      "p-значение:  0.0\n",
      "Отвергаем нулевую гипотезу: распределение не нормально\n"
     ]
    }
   ],
   "source": [
    "# критический уровень статистической значимости\n",
    "alpha = 0.05  \n",
    "results = st.shapiro(sampleB)\n",
    "\n",
    "# второе значение в массиве результатов (с индексом 1) - p-value\n",
    "p_value = results[1] \n",
    "\n",
    "print('p-значение: ', p_value)\n",
    "\n",
    "if p_value < alpha:\n",
    "    print('Отвергаем нулевую гипотезу: распределение не нормально')\n",
    "else:\n",
    "    print('Не получилось отвергнуть нулевую гипотезу, всё нормально')"
   ]
  },
  {
   "cell_type": "markdown",
   "metadata": {},
   "source": [
    "Выборки sampleA и sampleB распределены не нормально."
   ]
  },
  {
   "cell_type": "markdown",
   "metadata": {},
   "source": [
    "Сформулируем нулевую и альтернативную гипотезу, а также зададим пороговое значение alpha.\n",
    "\n",
    "```\n",
    "H_0: Среднее количество заказов на посетителя группы `А` = среднее количество заказов на посетителя группы `В`\n",
    "H_a: Среднее количество заказов на посетителя группы `А` ≠ среднее количество заказов на посетителя группы `В`\n",
    "alpha = 0.05\n",
    "```"
   ]
  },
  {
   "cell_type": "code",
   "execution_count": 55,
   "metadata": {
    "scrolled": true
   },
   "outputs": [
    {
     "name": "stdout",
     "output_type": "stream",
     "text": [
      "p-значение: 0.016792355056752608\n",
      "Отвергаем нулевую гипотезу: разница статистически значима\n",
      "Относительное изменение среднего группы B к группе A: 0.13807884655320146\n"
     ]
    }
   ],
   "source": [
    "# критический уровень статистической значимости\n",
    "alpha = 0.05  \n",
    "\n",
    "results = st.mannwhitneyu(sampleA, sampleB)\n",
    "\n",
    "print('p-значение:', results.pvalue)\n",
    "\n",
    "if results.pvalue < alpha:\n",
    "    print('Отвергаем нулевую гипотезу: разница статистически значима')\n",
    "else:\n",
    "    print('Не получилось отвергнуть нулевую гипотезу, вывод о различии сделать нельзя')\n",
    "    \n",
    "print('Относительное изменение среднего группы B к группе A:', sampleB.mean() / sampleA.mean() - 1)"
   ]
  },
  {
   "cell_type": "markdown",
   "metadata": {},
   "source": [
    "Нулевую гипотезу подтвердить не удалось, а это значит, что разница среднего количества заказов на посетителя между группами по «сырым» данным статистически значима. Относительный прирост среднего группы `B` к конверсии группы `A` равен 13,8%."
   ]
  },
  {
   "cell_type": "markdown",
   "metadata": {},
   "source": [
    "### Статистическая значимость различий в среднем чеке заказа между группами по «сырым» данным"
   ]
  },
  {
   "cell_type": "markdown",
   "metadata": {},
   "source": [
    "Посчитаем статистическую значимость различий в среднем чеке заказа между группами по «сырым» данным - без удаления аномальных пользователей."
   ]
  },
  {
   "cell_type": "markdown",
   "metadata": {},
   "source": [
    "Сформулируем нулевую и альтернативную гипотезу, а также зададим пороговое значение alpha.\n",
    "\n",
    "```\n",
    "H_0: Средний чек группы `А` = средний чек группы `В`\n",
    "H_a: Средний чек группы `А` ≠ средний чек группы `В`\n",
    "alpha = 0.05\n",
    "```"
   ]
  },
  {
   "cell_type": "code",
   "execution_count": 56,
   "metadata": {},
   "outputs": [],
   "source": [
    "# создадим массивы, содержащие выборки\n",
    "array_A = orders[orders['group']=='A']['revenue']\n",
    "array_B = orders[orders['group']=='B']['revenue']"
   ]
  },
  {
   "cell_type": "markdown",
   "metadata": {},
   "source": [
    "Проверим выборки на нормальность с помощью критерия Шапиро-Уилка."
   ]
  },
  {
   "cell_type": "code",
   "execution_count": 57,
   "metadata": {},
   "outputs": [
    {
     "name": "stdout",
     "output_type": "stream",
     "text": [
      "p-значение:  1.739723833199812e-34\n",
      "Отвергаем нулевую гипотезу: распределение не нормально\n"
     ]
    }
   ],
   "source": [
    "# критический уровень статистической значимости\n",
    "alpha = 0.05  \n",
    "results = st.shapiro(array_A)\n",
    "\n",
    "# второе значение в массиве результатов (с индексом 1) - p-value\n",
    "p_value = results[1] \n",
    "\n",
    "print('p-значение: ', p_value)\n",
    "\n",
    "if p_value < alpha:\n",
    "    print('Отвергаем нулевую гипотезу: распределение не нормально')\n",
    "else:\n",
    "    print('Не получилось отвергнуть нулевую гипотезу, всё нормально')"
   ]
  },
  {
   "cell_type": "code",
   "execution_count": 58,
   "metadata": {},
   "outputs": [
    {
     "name": "stdout",
     "output_type": "stream",
     "text": [
      "p-значение:  0.0\n",
      "Отвергаем нулевую гипотезу: распределение не нормально\n"
     ]
    }
   ],
   "source": [
    "# критический уровень статистической значимости\n",
    "alpha = 0.05  \n",
    "results = st.shapiro(array_B)\n",
    "\n",
    "# второе значение в массиве результатов (с индексом 1) - p-value\n",
    "p_value = results[1] \n",
    "\n",
    "print('p-значение: ', p_value)\n",
    "\n",
    "if p_value < alpha:\n",
    "    print('Отвергаем нулевую гипотезу: распределение не нормально')\n",
    "else:\n",
    "    print('Не получилось отвергнуть нулевую гипотезу, всё нормально')"
   ]
  },
  {
   "cell_type": "markdown",
   "metadata": {},
   "source": [
    "Выборки распределены не нормально."
   ]
  },
  {
   "cell_type": "code",
   "execution_count": 59,
   "metadata": {},
   "outputs": [
    {
     "name": "stdout",
     "output_type": "stream",
     "text": [
      "p-значение: 0.7292909855432458\n",
      "Не получилось отвергнуть нулевую гипотезу, вывод о различии сделать нельзя\n",
      "Относительное изменение среднего группы B к группе A: 0.2587136699126005\n"
     ]
    }
   ],
   "source": [
    "# критический уровень статистической значимости\n",
    "alpha = 0.05  \n",
    "\n",
    "results = st.mannwhitneyu(array_A, array_B)\n",
    "\n",
    "print('p-значение:', results.pvalue)\n",
    "\n",
    "if results.pvalue < alpha:\n",
    "    print('Отвергаем нулевую гипотезу: разница статистически значима')\n",
    "else:\n",
    "    print('Не получилось отвергнуть нулевую гипотезу, вывод о различии сделать нельзя')\n",
    "    \n",
    "print('Относительное изменение среднего группы B к группе A:', array_B.mean() / array_A.mean() - 1)"
   ]
  },
  {
   "cell_type": "markdown",
   "metadata": {},
   "source": [
    "Отвергнуть нулевую гипотезу не получилось, это значит, что средние чеки заказа группы `А` и `B` статистически значимо не различаются. Однако, средний чек группы `B` значительно выше группы `А` на 25,87%."
   ]
  },
  {
   "cell_type": "markdown",
   "metadata": {},
   "source": [
    "### Статистическая значимость различий в среднем количестве заказов на посетителя между группами по «очищенным» данным"
   ]
  },
  {
   "cell_type": "markdown",
   "metadata": {},
   "source": [
    "Для того, чтобы посчитать статистическую значимость различий в среднем количестве заказов на посетителя между группами по «очищенным» данным, необходимо сделать срез аномальных пользователей - пользователи с аномальным числом заказов, в нашем случае это пользователи, которые совершили более 4 заказов и пользователи, которые совершили заказ на сумму более 58233 рублей."
   ]
  },
  {
   "cell_type": "code",
   "execution_count": 60,
   "metadata": {},
   "outputs": [
    {
     "data": {
      "text/plain": [
       "15"
      ]
     },
     "execution_count": 60,
     "metadata": {},
     "output_type": "execute_result"
    }
   ],
   "source": [
    "# срез пользователей, которые совершили более 4 заказов\n",
    "usersWithManyOrders = pd.concat(\n",
    "    [\n",
    "        ordersByUsersA[ordersByUsersA['orders'] > 4]['userId'],\n",
    "        ordersByUsersB[ordersByUsersB['orders'] > 4]['userId'],\n",
    "    ],\n",
    "    axis=0,\n",
    ")\n",
    "\n",
    "# срез пользователей, которые совершили заказ на сумму более 58233 рублей\n",
    "usersWithExpensiveOrders = orders[orders['revenue'] > 58233]['userId']\n",
    "\n",
    "# срез \"аномальных\" пользователей\n",
    "abnormalUsers = (\n",
    "    pd.concat([usersWithManyOrders, usersWithExpensiveOrders], axis=0)\n",
    "    .drop_duplicates()\n",
    "    .sort_values()\n",
    ")\n",
    "\n",
    "# узнаем количество аномальных пользователей \n",
    "abnormalUsers.shape[0]"
   ]
  },
  {
   "cell_type": "markdown",
   "metadata": {},
   "source": [
    "Узнаем, как их действия повлияли на результаты теста. Посчитаем статистическую значимость различий в среднем количестве заказов между группами теста по \"очищенным\" данным."
   ]
  },
  {
   "cell_type": "code",
   "execution_count": 61,
   "metadata": {},
   "outputs": [],
   "source": [
    "sampleAFiltered = pd.concat([\n",
    "    ordersByUsersA[\n",
    "            np.logical_not(ordersByUsersA['userId'].isin(abnormalUsers))]['orders'],\n",
    "    pd.Series(0,\n",
    "              index=np.arange(\n",
    "                  data['visitorsPerDateA'].sum() - len(ordersByUsersA['orders'])),\n",
    "              name='orders',\n",
    "             ),\n",
    "],\n",
    "    axis=0,\n",
    ")\n",
    "\n",
    "sampleBFiltered = pd.concat([\n",
    "    ordersByUsersB[\n",
    "        np.logical_not(ordersByUsersB['userId'].isin(abnormalUsers))]['orders'],\n",
    "    pd.Series(0,\n",
    "              index=np.arange(\n",
    "                  data['visitorsPerDateB'].sum() - len(ordersByUsersB['orders'])),\n",
    "              name='orders',\n",
    "             ),\n",
    "],\n",
    "    axis=0,\n",
    ") "
   ]
  },
  {
   "cell_type": "markdown",
   "metadata": {},
   "source": [
    "Сформулируем нулевую и альтернативную гипотезу, а также зададим пороговое значение alpha.\n",
    "```\n",
    "H_0: Среднее количество заказов на посетителя группы `А` = среднее количество заказов на посетителя группы `В`\n",
    "H_a: Среднее количество заказов на посетителя группы `А` ≠ среднее количество заказов на посетителя группы `В`\n",
    "alpha = 0.05\n",
    "```"
   ]
  },
  {
   "cell_type": "code",
   "execution_count": 62,
   "metadata": {},
   "outputs": [
    {
     "name": "stdout",
     "output_type": "stream",
     "text": [
      "p-значение: 0.014380135585307981\n",
      "Отвергаем нулевую гипотезу: разница статистически значима\n",
      "Относительное изменение среднего группы B к группе A: 0.15331306791514754\n"
     ]
    }
   ],
   "source": [
    "# критический уровень статистической значимости\n",
    "alpha = 0.05  \n",
    "\n",
    "results = st.mannwhitneyu(sampleAFiltered, sampleBFiltered)\n",
    "\n",
    "print('p-значение:', results.pvalue)\n",
    "\n",
    "if results.pvalue < alpha:\n",
    "    print('Отвергаем нулевую гипотезу: разница статистически значима')\n",
    "else:\n",
    "    print('Не получилось отвергнуть нулевую гипотезу, вывод о различии сделать нельзя')\n",
    "    \n",
    "print('Относительное изменение среднего группы B к группе A:', sampleBFiltered.mean() / sampleAFiltered.mean() - 1)"
   ]
  },
  {
   "cell_type": "markdown",
   "metadata": {},
   "source": [
    "Результаты по среднему количеству заказов на пользователя практически не изменились - разница среднего количества заказов на посетителя между группами по «очищенным» данным статистически значима. Относительный прирост среднего группы `B` к конверсии группы `A` равен 15,33%."
   ]
  },
  {
   "cell_type": "markdown",
   "metadata": {},
   "source": [
    "### Статистическая значимость различий в среднем чеке заказа между группами по «очищенным» данным"
   ]
  },
  {
   "cell_type": "markdown",
   "metadata": {},
   "source": [
    "Узнаем статистическую значимость различий в среднем чеке заказа между группами теста по \"очищенным\" данным."
   ]
  },
  {
   "cell_type": "markdown",
   "metadata": {},
   "source": [
    "Сформулируем нулевую и альтернативную гипотезу, а также зададим пороговое значение alpha.\n",
    "\n",
    "```\n",
    "H_0: Средний чек группы `А` = средний чек группы `В`\n",
    "H_a: Средний чек группы `А` ≠ средний чек группы `В`\n",
    "alpha = 0.05\n",
    "```"
   ]
  },
  {
   "cell_type": "code",
   "execution_count": 63,
   "metadata": {
    "scrolled": true
   },
   "outputs": [
    {
     "name": "stdout",
     "output_type": "stream",
     "text": [
      "p-значение: 0.8509126191381939\n",
      "Не получилось отвергнуть нулевую гипотезу, вывод о различии сделать нельзя\n",
      "Относительное изменение среднего группы B к группе A: -0.005748871952734214\n"
     ]
    }
   ],
   "source": [
    "# создадим массивы, содержащие выборки\n",
    "array_AFiltered = orders[np.logical_and(orders['group'] == 'A',\n",
    "                                        np.logical_not(orders['userId'].isin(abnormalUsers)),\n",
    "                                       )\n",
    "                        ]['revenue']\n",
    "\n",
    "array_BFiltered = orders[np.logical_and(orders['group'] == 'B',\n",
    "                                        np.logical_not(orders['userId'].isin(abnormalUsers)),\n",
    "                                       )\n",
    "                        ]['revenue']\n",
    "\n",
    "# критический уровень статистической значимости\n",
    "alpha = 0.05  \n",
    "\n",
    "results = st.mannwhitneyu(array_AFiltered, array_BFiltered, alternative=\"two-sided\")\n",
    "\n",
    "print('p-значение:', results.pvalue)\n",
    "\n",
    "if results.pvalue < alpha:\n",
    "    print('Отвергаем нулевую гипотезу: разница статистически значима')\n",
    "else:\n",
    "    print('Не получилось отвергнуть нулевую гипотезу, вывод о различии сделать нельзя')\n",
    "    \n",
    "print('Относительное изменение среднего группы B к группе A:', array_BFiltered.mean() / array_AFiltered.mean() - 1)"
   ]
  },
  {
   "cell_type": "markdown",
   "metadata": {},
   "source": [
    "Результаты по среднему чеку не изменились - средние чеки заказа группы А и B после фильтрации статистически значимо не различаются. Но, стоит отметить, что разница между группами сократилась с 25,87% до -0,57%."
   ]
  },
  {
   "cell_type": "markdown",
   "metadata": {},
   "source": [
    "### Решение по результатам теста"
   ]
  },
  {
   "attachments": {
    "image-2.png": {
     "image/png": "[encoded data removed]"
    },
    "image.png": {
     "image/png": "[encoded data removed]"
    }
   },
   "cell_type": "markdown",
   "metadata": {},
   "source": [
    "Решение по результатам теста: остановить тест, зафиксировать победу группы `B`, так как:\n",
    "\n",
    "1) Разница среднего количества заказов на посетителя между группами по «сырым» и «очищенным» данным статистически значима. Относительный прирост среднего группы B к конверсии группы A по «сырым» и «очищенным» данным - 13,8% и 16,04% соответственно.\n",
    "\n",
    "2) Нет статистически значимого различия по среднему чеку между группами ни по «сырым», ни по «очищенным» данным - после фильтрации аномалий;\n",
    "\n",
    "3) График различия среднего количества заказов между группами сообщает, что результаты группы B лучше группы A и нет значительной тенденции к его ухудшению:\n",
    "\n",
    "![image.png](attachment:image.png)\n",
    "\n",
    "4) График различия среднего чека говорит о том, что результаты группы B лучше группы A, несмотря на то, что показатели группы B имеют тенденцию к падению, или зафиксировались около среднего значения:\n",
    "\n",
    "![image-2.png](attachment:image-2.png)\n",
    "\n"
   ]
  },
  {
   "cell_type": "markdown",
   "metadata": {},
   "source": [
    "## Общий вывод"
   ]
  },
  {
   "cell_type": "markdown",
   "metadata": {},
   "source": [
    "**Провели приоретизацию гипотез:**\n",
    "\n",
    "*1. Самая перспективная гипотеза по методу ICE:*\n",
    "- `Гипотеза_8` - запустить акцию, дающую скидку на товар в день рождения.\n",
    "\n",
    "*2. Самая перспективная гипотеза по методу RICE:*\n",
    "- `Гипотеза_7` - добавить форму подписки на все основные страницы, чтобы собрать базу клиентов для email-рассылок.\n",
    "\n",
    "**Провели анализ A/B-теста и установили, что:**\n",
    "1. Среднее количество заказов на посетителя группы `А` и `B` по «сырым» данным и после фильтрации статистически значимо различаются.\n",
    "2. Средний чек группы `А` и `B` по «сырым» данным и после фильтрации статистически значимо не различаются.\n",
    "3. Среднее количество заказов группы `B` выше группы `А`.\n",
    "4. Средний чек группы `B` выше группы `А`.\n",
    "\n",
    "**Рекомендуем остановить тест и зафиксировать победу группы `B`.**"
   ]
  }
 ],
 "metadata": {
  "ExecuteTimeLog": [
   {
    "duration": 459,
    "start_time": "2023-03-04T11:25:59.711Z"
   },
   {
    "duration": 94,
    "start_time": "2023-03-04T11:26:00.172Z"
   },
   {
    "duration": 230,
    "start_time": "2023-03-04T11:26:27.852Z"
   },
   {
    "duration": 195,
    "start_time": "2023-03-04T11:27:27.842Z"
   },
   {
    "duration": 392,
    "start_time": "2023-03-04T11:27:57.247Z"
   },
   {
    "duration": 94,
    "start_time": "2023-03-04T11:27:57.643Z"
   },
   {
    "duration": 257,
    "start_time": "2023-03-04T11:27:57.739Z"
   },
   {
    "duration": 22,
    "start_time": "2023-03-04T11:28:56.689Z"
   },
   {
    "duration": 13,
    "start_time": "2023-03-04T11:40:03.691Z"
   },
   {
    "duration": 11,
    "start_time": "2023-03-04T11:41:08.899Z"
   },
   {
    "duration": 5,
    "start_time": "2023-03-04T11:48:19.414Z"
   },
   {
    "duration": 17,
    "start_time": "2023-03-04T11:48:23.530Z"
   },
   {
    "duration": 4,
    "start_time": "2023-03-04T11:48:45.274Z"
   },
   {
    "duration": 9,
    "start_time": "2023-03-04T11:48:48.267Z"
   },
   {
    "duration": 422,
    "start_time": "2023-03-04T11:49:00.914Z"
   },
   {
    "duration": 112,
    "start_time": "2023-03-04T11:49:01.338Z"
   },
   {
    "duration": 16,
    "start_time": "2023-03-04T11:49:01.452Z"
   },
   {
    "duration": 26,
    "start_time": "2023-03-04T11:49:01.470Z"
   },
   {
    "duration": 44,
    "start_time": "2023-03-04T11:49:01.498Z"
   },
   {
    "duration": 16,
    "start_time": "2023-03-04T11:49:01.543Z"
   },
   {
    "duration": 3,
    "start_time": "2023-03-04T11:50:38.200Z"
   },
   {
    "duration": 15,
    "start_time": "2023-03-04T11:50:40.511Z"
   },
   {
    "duration": 12,
    "start_time": "2023-03-04T11:54:27.282Z"
   },
   {
    "duration": 14,
    "start_time": "2023-03-04T11:56:14.048Z"
   },
   {
    "duration": 7,
    "start_time": "2023-03-04T11:56:42.160Z"
   },
   {
    "duration": 11,
    "start_time": "2023-03-04T11:58:58.623Z"
   },
   {
    "duration": 427,
    "start_time": "2023-03-04T12:00:04.093Z"
   },
   {
    "duration": 80,
    "start_time": "2023-03-04T12:00:04.522Z"
   },
   {
    "duration": 15,
    "start_time": "2023-03-04T12:00:04.604Z"
   },
   {
    "duration": 7,
    "start_time": "2023-03-04T12:00:04.620Z"
   },
   {
    "duration": 14,
    "start_time": "2023-03-04T12:00:04.628Z"
   },
   {
    "duration": 14,
    "start_time": "2023-03-04T12:00:04.643Z"
   },
   {
    "duration": 14,
    "start_time": "2023-03-04T12:00:04.660Z"
   },
   {
    "duration": 19,
    "start_time": "2023-03-04T12:00:04.675Z"
   },
   {
    "duration": 33,
    "start_time": "2023-03-04T12:00:04.695Z"
   },
   {
    "duration": 6,
    "start_time": "2023-03-04T12:15:24.134Z"
   },
   {
    "duration": 24,
    "start_time": "2023-03-04T12:16:09.919Z"
   },
   {
    "duration": 45,
    "start_time": "2023-03-04T12:21:07.761Z"
   },
   {
    "duration": 50,
    "start_time": "2023-03-04T12:21:20.268Z"
   },
   {
    "duration": 10,
    "start_time": "2023-03-04T12:21:27.365Z"
   },
   {
    "duration": 10,
    "start_time": "2023-03-04T12:21:41.059Z"
   },
   {
    "duration": 93,
    "start_time": "2023-03-04T12:30:31.594Z"
   },
   {
    "duration": 8,
    "start_time": "2023-03-04T12:32:24.991Z"
   },
   {
    "duration": 10,
    "start_time": "2023-03-04T12:33:32.183Z"
   },
   {
    "duration": 13,
    "start_time": "2023-03-04T12:36:39.863Z"
   },
   {
    "duration": 23,
    "start_time": "2023-03-04T12:39:33.615Z"
   },
   {
    "duration": 10,
    "start_time": "2023-03-04T12:43:22.259Z"
   },
   {
    "duration": 13,
    "start_time": "2023-03-04T12:43:38.875Z"
   },
   {
    "duration": 12,
    "start_time": "2023-03-04T12:43:55.156Z"
   },
   {
    "duration": 6,
    "start_time": "2023-03-04T12:44:26.713Z"
   },
   {
    "duration": 15,
    "start_time": "2023-03-04T12:44:40.305Z"
   },
   {
    "duration": 13,
    "start_time": "2023-03-04T12:46:04.264Z"
   },
   {
    "duration": 371,
    "start_time": "2023-03-04T12:46:11.571Z"
   },
   {
    "duration": 83,
    "start_time": "2023-03-04T12:46:11.944Z"
   },
   {
    "duration": 16,
    "start_time": "2023-03-04T12:46:12.029Z"
   },
   {
    "duration": 4,
    "start_time": "2023-03-04T12:46:12.047Z"
   },
   {
    "duration": 13,
    "start_time": "2023-03-04T12:46:12.054Z"
   },
   {
    "duration": 29,
    "start_time": "2023-03-04T12:46:12.069Z"
   },
   {
    "duration": 31,
    "start_time": "2023-03-04T12:46:12.100Z"
   },
   {
    "duration": 9,
    "start_time": "2023-03-04T12:46:12.138Z"
   },
   {
    "duration": 14,
    "start_time": "2023-03-04T12:46:12.149Z"
   },
   {
    "duration": 27,
    "start_time": "2023-03-04T12:46:12.165Z"
   },
   {
    "duration": 5,
    "start_time": "2023-03-04T12:49:34.724Z"
   },
   {
    "duration": 5,
    "start_time": "2023-03-04T12:50:25.274Z"
   },
   {
    "duration": 4,
    "start_time": "2023-03-04T12:50:43.106Z"
   },
   {
    "duration": 5,
    "start_time": "2023-03-04T12:56:38.716Z"
   },
   {
    "duration": 68,
    "start_time": "2023-03-04T12:57:12.660Z"
   },
   {
    "duration": 5,
    "start_time": "2023-03-04T12:57:22.955Z"
   },
   {
    "duration": 13,
    "start_time": "2023-03-04T13:04:06.307Z"
   },
   {
    "duration": 11,
    "start_time": "2023-03-04T15:09:46.273Z"
   },
   {
    "duration": 419,
    "start_time": "2023-03-04T15:11:56.013Z"
   },
   {
    "duration": 80,
    "start_time": "2023-03-04T15:11:56.434Z"
   },
   {
    "duration": 19,
    "start_time": "2023-03-04T15:11:56.515Z"
   },
   {
    "duration": 6,
    "start_time": "2023-03-04T15:11:56.538Z"
   },
   {
    "duration": 17,
    "start_time": "2023-03-04T15:11:56.547Z"
   },
   {
    "duration": 13,
    "start_time": "2023-03-04T15:11:56.566Z"
   },
   {
    "duration": 41,
    "start_time": "2023-03-04T15:11:56.581Z"
   },
   {
    "duration": 11,
    "start_time": "2023-03-04T15:11:56.625Z"
   },
   {
    "duration": 17,
    "start_time": "2023-03-04T15:11:56.638Z"
   },
   {
    "duration": 15,
    "start_time": "2023-03-04T15:11:56.657Z"
   },
   {
    "duration": 4,
    "start_time": "2023-03-04T15:11:56.674Z"
   },
   {
    "duration": 118,
    "start_time": "2023-03-04T15:11:56.680Z"
   },
   {
    "duration": 12,
    "start_time": "2023-03-04T15:13:01.464Z"
   },
   {
    "duration": 8,
    "start_time": "2023-03-04T16:06:00.589Z"
   },
   {
    "duration": 17,
    "start_time": "2023-03-04T16:06:23.912Z"
   },
   {
    "duration": 10,
    "start_time": "2023-03-04T16:06:53.483Z"
   },
   {
    "duration": 10,
    "start_time": "2023-03-04T16:07:39.455Z"
   },
   {
    "duration": 405,
    "start_time": "2023-03-04T16:09:23.488Z"
   },
   {
    "duration": 78,
    "start_time": "2023-03-04T16:09:23.896Z"
   },
   {
    "duration": 15,
    "start_time": "2023-03-04T16:09:23.975Z"
   },
   {
    "duration": 7,
    "start_time": "2023-03-04T16:09:23.991Z"
   },
   {
    "duration": 12,
    "start_time": "2023-03-04T16:09:24.001Z"
   },
   {
    "duration": 11,
    "start_time": "2023-03-04T16:09:24.015Z"
   },
   {
    "duration": 12,
    "start_time": "2023-03-04T16:09:24.028Z"
   },
   {
    "duration": 7,
    "start_time": "2023-03-04T16:09:24.042Z"
   },
   {
    "duration": 11,
    "start_time": "2023-03-04T16:09:24.051Z"
   },
   {
    "duration": 12,
    "start_time": "2023-03-04T16:09:24.064Z"
   },
   {
    "duration": 12,
    "start_time": "2023-03-04T16:09:24.077Z"
   },
   {
    "duration": 38,
    "start_time": "2023-03-04T16:09:24.091Z"
   },
   {
    "duration": 18,
    "start_time": "2023-03-04T16:09:24.131Z"
   },
   {
    "duration": 374,
    "start_time": "2023-03-04T16:11:42.756Z"
   },
   {
    "duration": 78,
    "start_time": "2023-03-04T16:11:43.132Z"
   },
   {
    "duration": 15,
    "start_time": "2023-03-04T16:11:43.212Z"
   },
   {
    "duration": 3,
    "start_time": "2023-03-04T16:11:43.229Z"
   },
   {
    "duration": 11,
    "start_time": "2023-03-04T16:11:43.234Z"
   },
   {
    "duration": 9,
    "start_time": "2023-03-04T16:11:43.246Z"
   },
   {
    "duration": 11,
    "start_time": "2023-03-04T16:11:43.257Z"
   },
   {
    "duration": 53,
    "start_time": "2023-03-04T16:11:43.270Z"
   },
   {
    "duration": 10,
    "start_time": "2023-03-04T16:11:43.325Z"
   },
   {
    "duration": 13,
    "start_time": "2023-03-04T16:11:43.336Z"
   },
   {
    "duration": 4,
    "start_time": "2023-03-04T16:11:43.351Z"
   },
   {
    "duration": 11,
    "start_time": "2023-03-04T16:11:43.357Z"
   },
   {
    "duration": 10,
    "start_time": "2023-03-04T16:11:43.422Z"
   },
   {
    "duration": 384,
    "start_time": "2023-03-04T16:15:01.056Z"
   },
   {
    "duration": 78,
    "start_time": "2023-03-04T16:15:01.442Z"
   },
   {
    "duration": 15,
    "start_time": "2023-03-04T16:15:01.522Z"
   },
   {
    "duration": 27,
    "start_time": "2023-03-04T16:15:01.538Z"
   },
   {
    "duration": 45,
    "start_time": "2023-03-04T16:15:01.568Z"
   },
   {
    "duration": 34,
    "start_time": "2023-03-04T16:15:01.615Z"
   },
   {
    "duration": 46,
    "start_time": "2023-03-04T16:15:01.652Z"
   },
   {
    "duration": 18,
    "start_time": "2023-03-04T16:15:01.700Z"
   },
   {
    "duration": 36,
    "start_time": "2023-03-04T16:15:01.720Z"
   },
   {
    "duration": 48,
    "start_time": "2023-03-04T16:15:01.758Z"
   },
   {
    "duration": 31,
    "start_time": "2023-03-04T16:15:01.807Z"
   },
   {
    "duration": 54,
    "start_time": "2023-03-04T16:15:01.840Z"
   },
   {
    "duration": 38,
    "start_time": "2023-03-04T16:15:01.896Z"
   },
   {
    "duration": 400,
    "start_time": "2023-03-04T16:17:30.628Z"
   },
   {
    "duration": 80,
    "start_time": "2023-03-04T16:17:31.030Z"
   },
   {
    "duration": 15,
    "start_time": "2023-03-04T16:17:31.112Z"
   },
   {
    "duration": 27,
    "start_time": "2023-03-04T16:17:31.129Z"
   },
   {
    "duration": 32,
    "start_time": "2023-03-04T16:17:31.159Z"
   },
   {
    "duration": 36,
    "start_time": "2023-03-04T16:17:31.193Z"
   },
   {
    "duration": 23,
    "start_time": "2023-03-04T16:17:31.231Z"
   },
   {
    "duration": 29,
    "start_time": "2023-03-04T16:17:31.255Z"
   },
   {
    "duration": 28,
    "start_time": "2023-03-04T16:17:31.286Z"
   },
   {
    "duration": 47,
    "start_time": "2023-03-04T16:17:31.317Z"
   },
   {
    "duration": 8,
    "start_time": "2023-03-04T16:17:31.366Z"
   },
   {
    "duration": 53,
    "start_time": "2023-03-04T16:17:31.377Z"
   },
   {
    "duration": 27,
    "start_time": "2023-03-04T16:17:31.432Z"
   },
   {
    "duration": 8,
    "start_time": "2023-03-04T16:23:44.481Z"
   },
   {
    "duration": 16,
    "start_time": "2023-03-04T16:24:10.213Z"
   },
   {
    "duration": 13,
    "start_time": "2023-03-04T17:21:27.786Z"
   },
   {
    "duration": 4,
    "start_time": "2023-03-04T18:02:20.706Z"
   },
   {
    "duration": 11,
    "start_time": "2023-03-04T18:02:26.363Z"
   },
   {
    "duration": 237,
    "start_time": "2023-03-04T18:06:08.648Z"
   },
   {
    "duration": 367,
    "start_time": "2023-03-04T18:06:19.672Z"
   },
   {
    "duration": 81,
    "start_time": "2023-03-04T18:06:20.041Z"
   },
   {
    "duration": 16,
    "start_time": "2023-03-04T18:06:20.123Z"
   },
   {
    "duration": 7,
    "start_time": "2023-03-04T18:06:20.140Z"
   },
   {
    "duration": 17,
    "start_time": "2023-03-04T18:06:20.149Z"
   },
   {
    "duration": 24,
    "start_time": "2023-03-04T18:06:20.167Z"
   },
   {
    "duration": 14,
    "start_time": "2023-03-04T18:06:20.193Z"
   },
   {
    "duration": 24,
    "start_time": "2023-03-04T18:06:20.209Z"
   },
   {
    "duration": 265,
    "start_time": "2023-03-04T18:06:20.235Z"
   },
   {
    "duration": 0,
    "start_time": "2023-03-04T18:06:20.503Z"
   },
   {
    "duration": 0,
    "start_time": "2023-03-04T18:06:20.505Z"
   },
   {
    "duration": 0,
    "start_time": "2023-03-04T18:06:20.507Z"
   },
   {
    "duration": 0,
    "start_time": "2023-03-04T18:06:20.510Z"
   },
   {
    "duration": 0,
    "start_time": "2023-03-04T18:06:20.511Z"
   },
   {
    "duration": 0,
    "start_time": "2023-03-04T18:06:20.513Z"
   },
   {
    "duration": 13,
    "start_time": "2023-03-04T18:07:36.864Z"
   },
   {
    "duration": 10,
    "start_time": "2023-03-04T18:08:15.970Z"
   },
   {
    "duration": 406,
    "start_time": "2023-03-04T18:08:41.225Z"
   },
   {
    "duration": 80,
    "start_time": "2023-03-04T18:08:41.633Z"
   },
   {
    "duration": 17,
    "start_time": "2023-03-04T18:08:41.714Z"
   },
   {
    "duration": 3,
    "start_time": "2023-03-04T18:08:41.733Z"
   },
   {
    "duration": 14,
    "start_time": "2023-03-04T18:08:41.739Z"
   },
   {
    "duration": 15,
    "start_time": "2023-03-04T18:08:41.754Z"
   },
   {
    "duration": 6,
    "start_time": "2023-03-04T18:08:41.771Z"
   },
   {
    "duration": 11,
    "start_time": "2023-03-04T18:08:41.778Z"
   },
   {
    "duration": 44,
    "start_time": "2023-03-04T18:08:41.790Z"
   },
   {
    "duration": 13,
    "start_time": "2023-03-04T18:08:41.835Z"
   },
   {
    "duration": 13,
    "start_time": "2023-03-04T18:08:41.850Z"
   },
   {
    "duration": 27,
    "start_time": "2023-03-04T18:08:41.865Z"
   },
   {
    "duration": 35,
    "start_time": "2023-03-04T18:08:41.894Z"
   },
   {
    "duration": 4,
    "start_time": "2023-03-04T18:08:41.932Z"
   },
   {
    "duration": 12,
    "start_time": "2023-03-04T18:08:41.937Z"
   },
   {
    "duration": 13,
    "start_time": "2023-03-04T18:08:41.950Z"
   },
   {
    "duration": 5,
    "start_time": "2023-03-04T18:10:47.600Z"
   },
   {
    "duration": 67,
    "start_time": "2023-03-04T18:11:31.640Z"
   },
   {
    "duration": 11,
    "start_time": "2023-03-04T18:11:47.682Z"
   },
   {
    "duration": 10,
    "start_time": "2023-03-04T18:17:16.555Z"
   },
   {
    "duration": 167,
    "start_time": "2023-03-04T18:42:52.341Z"
   },
   {
    "duration": 171,
    "start_time": "2023-03-04T18:43:04.684Z"
   },
   {
    "duration": 75,
    "start_time": "2023-03-06T08:34:09.939Z"
   },
   {
    "duration": 463,
    "start_time": "2023-03-06T08:34:24.324Z"
   },
   {
    "duration": 222,
    "start_time": "2023-03-06T08:34:24.789Z"
   },
   {
    "duration": 27,
    "start_time": "2023-03-06T08:34:25.014Z"
   },
   {
    "duration": 9,
    "start_time": "2023-03-06T08:34:25.043Z"
   },
   {
    "duration": 48,
    "start_time": "2023-03-06T08:34:25.056Z"
   },
   {
    "duration": 24,
    "start_time": "2023-03-06T08:34:25.107Z"
   },
   {
    "duration": 37,
    "start_time": "2023-03-06T08:34:25.133Z"
   },
   {
    "duration": 21,
    "start_time": "2023-03-06T08:34:25.173Z"
   },
   {
    "duration": 31,
    "start_time": "2023-03-06T08:34:25.196Z"
   },
   {
    "duration": 28,
    "start_time": "2023-03-06T08:34:25.229Z"
   },
   {
    "duration": 44,
    "start_time": "2023-03-06T08:34:25.261Z"
   },
   {
    "duration": 22,
    "start_time": "2023-03-06T08:34:25.307Z"
   },
   {
    "duration": 12,
    "start_time": "2023-03-06T08:34:25.332Z"
   },
   {
    "duration": 50,
    "start_time": "2023-03-06T08:34:25.348Z"
   },
   {
    "duration": 23,
    "start_time": "2023-03-06T08:34:25.400Z"
   },
   {
    "duration": 7,
    "start_time": "2023-03-06T08:34:25.426Z"
   },
   {
    "duration": 29,
    "start_time": "2023-03-06T08:34:25.435Z"
   },
   {
    "duration": 52,
    "start_time": "2023-03-06T08:34:25.466Z"
   },
   {
    "duration": 19,
    "start_time": "2023-03-06T08:34:25.520Z"
   },
   {
    "duration": 220,
    "start_time": "2023-03-06T08:34:25.541Z"
   },
   {
    "duration": 183,
    "start_time": "2023-03-06T08:34:25.768Z"
   },
   {
    "duration": 15,
    "start_time": "2023-03-06T08:39:06.231Z"
   },
   {
    "duration": 13,
    "start_time": "2023-03-06T08:39:18.210Z"
   },
   {
    "duration": 64,
    "start_time": "2023-03-06T08:44:05.527Z"
   },
   {
    "duration": 10,
    "start_time": "2023-03-06T08:44:12.110Z"
   },
   {
    "duration": 919,
    "start_time": "2023-03-06T08:45:34.380Z"
   },
   {
    "duration": 97,
    "start_time": "2023-03-06T08:45:35.302Z"
   },
   {
    "duration": 14,
    "start_time": "2023-03-06T08:45:35.401Z"
   },
   {
    "duration": 22,
    "start_time": "2023-03-06T08:45:35.417Z"
   },
   {
    "duration": 54,
    "start_time": "2023-03-06T08:45:35.441Z"
   },
   {
    "duration": 27,
    "start_time": "2023-03-06T08:45:35.497Z"
   },
   {
    "duration": 29,
    "start_time": "2023-03-06T08:45:35.526Z"
   },
   {
    "duration": 42,
    "start_time": "2023-03-06T08:45:35.563Z"
   },
   {
    "duration": 55,
    "start_time": "2023-03-06T08:45:35.607Z"
   },
   {
    "duration": 37,
    "start_time": "2023-03-06T08:45:35.664Z"
   },
   {
    "duration": 21,
    "start_time": "2023-03-06T08:45:35.703Z"
   },
   {
    "duration": 35,
    "start_time": "2023-03-06T08:45:35.725Z"
   },
   {
    "duration": 51,
    "start_time": "2023-03-06T08:45:35.761Z"
   },
   {
    "duration": 64,
    "start_time": "2023-03-06T08:45:35.815Z"
   },
   {
    "duration": 43,
    "start_time": "2023-03-06T08:45:35.882Z"
   },
   {
    "duration": 19,
    "start_time": "2023-03-06T08:45:35.927Z"
   },
   {
    "duration": 55,
    "start_time": "2023-03-06T08:45:35.950Z"
   },
   {
    "duration": 45,
    "start_time": "2023-03-06T08:45:36.007Z"
   },
   {
    "duration": 55,
    "start_time": "2023-03-06T08:45:36.057Z"
   },
   {
    "duration": 200,
    "start_time": "2023-03-06T08:45:36.114Z"
   },
   {
    "duration": 128,
    "start_time": "2023-03-06T08:45:36.316Z"
   },
   {
    "duration": 35,
    "start_time": "2023-03-06T08:45:36.446Z"
   },
   {
    "duration": 23,
    "start_time": "2023-03-06T08:45:36.483Z"
   },
   {
    "duration": 252,
    "start_time": "2023-03-06T08:50:55.086Z"
   },
   {
    "duration": 174,
    "start_time": "2023-03-06T08:51:50.733Z"
   },
   {
    "duration": 216,
    "start_time": "2023-03-06T08:51:59.627Z"
   },
   {
    "duration": 239,
    "start_time": "2023-03-06T08:52:06.821Z"
   },
   {
    "duration": 196,
    "start_time": "2023-03-06T08:55:12.484Z"
   },
   {
    "duration": 380,
    "start_time": "2023-03-06T08:57:36.703Z"
   },
   {
    "duration": 293,
    "start_time": "2023-03-06T08:58:54.075Z"
   },
   {
    "duration": 278,
    "start_time": "2023-03-06T08:59:16.081Z"
   },
   {
    "duration": 206,
    "start_time": "2023-03-06T08:59:41.575Z"
   },
   {
    "duration": 209,
    "start_time": "2023-03-06T09:00:00.109Z"
   },
   {
    "duration": 187,
    "start_time": "2023-03-06T09:00:14.329Z"
   },
   {
    "duration": 195,
    "start_time": "2023-03-06T09:02:24.676Z"
   },
   {
    "duration": 201,
    "start_time": "2023-03-06T09:02:39.587Z"
   },
   {
    "duration": 215,
    "start_time": "2023-03-06T09:03:22.329Z"
   },
   {
    "duration": 315,
    "start_time": "2023-03-06T09:03:33.184Z"
   },
   {
    "duration": 213,
    "start_time": "2023-03-06T09:03:48.391Z"
   },
   {
    "duration": 215,
    "start_time": "2023-03-06T09:03:59.298Z"
   },
   {
    "duration": 327,
    "start_time": "2023-03-06T09:08:20.461Z"
   },
   {
    "duration": 358,
    "start_time": "2023-03-06T09:14:08.833Z"
   },
   {
    "duration": 337,
    "start_time": "2023-03-06T10:07:13.508Z"
   },
   {
    "duration": 338,
    "start_time": "2023-03-06T10:07:36.712Z"
   },
   {
    "duration": 15,
    "start_time": "2023-03-06T11:15:26.373Z"
   },
   {
    "duration": 12,
    "start_time": "2023-03-06T11:15:56.198Z"
   },
   {
    "duration": 14,
    "start_time": "2023-03-06T11:17:30.411Z"
   },
   {
    "duration": 11,
    "start_time": "2023-03-06T11:18:31.495Z"
   },
   {
    "duration": 444,
    "start_time": "2023-03-06T11:22:18.298Z"
   },
   {
    "duration": 297,
    "start_time": "2023-03-06T11:22:39.420Z"
   },
   {
    "duration": 491,
    "start_time": "2023-03-06T11:24:07.686Z"
   },
   {
    "duration": 16,
    "start_time": "2023-03-06T12:58:54.679Z"
   },
   {
    "duration": 77,
    "start_time": "2023-03-06T12:59:32.580Z"
   },
   {
    "duration": 12,
    "start_time": "2023-03-06T12:59:46.809Z"
   },
   {
    "duration": 33,
    "start_time": "2023-03-06T13:00:01.012Z"
   },
   {
    "duration": 215,
    "start_time": "2023-03-06T13:03:10.497Z"
   },
   {
    "duration": 217,
    "start_time": "2023-03-06T13:05:24.393Z"
   },
   {
    "duration": 255,
    "start_time": "2023-03-06T13:05:35.066Z"
   },
   {
    "duration": 277,
    "start_time": "2023-03-06T13:07:20.154Z"
   },
   {
    "duration": 218,
    "start_time": "2023-03-06T13:07:36.679Z"
   },
   {
    "duration": 465,
    "start_time": "2023-03-06T13:08:14.686Z"
   },
   {
    "duration": 330,
    "start_time": "2023-03-06T13:09:55.999Z"
   },
   {
    "duration": 340,
    "start_time": "2023-03-06T13:12:21.893Z"
   },
   {
    "duration": 15,
    "start_time": "2023-03-06T13:30:59.731Z"
   },
   {
    "duration": 304,
    "start_time": "2023-03-06T13:34:02.229Z"
   },
   {
    "duration": 382,
    "start_time": "2023-03-06T13:35:15.963Z"
   },
   {
    "duration": 441,
    "start_time": "2023-03-06T13:35:44.774Z"
   },
   {
    "duration": 503,
    "start_time": "2023-03-06T13:36:38.765Z"
   },
   {
    "duration": 410,
    "start_time": "2023-03-06T13:36:51.333Z"
   },
   {
    "duration": 360,
    "start_time": "2023-03-06T13:37:06.283Z"
   },
   {
    "duration": 387,
    "start_time": "2023-03-06T13:37:22.666Z"
   },
   {
    "duration": 419,
    "start_time": "2023-03-06T13:37:54.919Z"
   },
   {
    "duration": 415,
    "start_time": "2023-03-06T13:38:28.106Z"
   },
   {
    "duration": 13,
    "start_time": "2023-03-06T15:05:36.091Z"
   },
   {
    "duration": 11,
    "start_time": "2023-03-06T15:06:02.699Z"
   },
   {
    "duration": 20,
    "start_time": "2023-03-06T15:06:48.036Z"
   },
   {
    "duration": 18,
    "start_time": "2023-03-06T15:08:28.755Z"
   },
   {
    "duration": 130,
    "start_time": "2023-03-06T15:14:08.980Z"
   },
   {
    "duration": 121,
    "start_time": "2023-03-06T15:15:17.671Z"
   },
   {
    "duration": 6,
    "start_time": "2023-03-06T15:41:31.602Z"
   },
   {
    "duration": 5,
    "start_time": "2023-03-06T15:42:02.319Z"
   },
   {
    "duration": 5,
    "start_time": "2023-03-06T15:43:47.293Z"
   },
   {
    "duration": 125,
    "start_time": "2023-03-06T16:01:56.873Z"
   },
   {
    "duration": 126,
    "start_time": "2023-03-06T17:42:16.970Z"
   },
   {
    "duration": 8,
    "start_time": "2023-03-06T17:47:48.149Z"
   },
   {
    "duration": 19,
    "start_time": "2023-03-06T17:47:58.429Z"
   },
   {
    "duration": 142,
    "start_time": "2023-03-06T17:49:49.661Z"
   },
   {
    "duration": 412,
    "start_time": "2023-03-06T17:51:26.138Z"
   },
   {
    "duration": 5,
    "start_time": "2023-03-06T18:03:38.710Z"
   },
   {
    "duration": 5,
    "start_time": "2023-03-06T18:10:38.069Z"
   },
   {
    "duration": 5,
    "start_time": "2023-03-06T18:10:45.074Z"
   },
   {
    "duration": 5,
    "start_time": "2023-03-06T18:10:50.124Z"
   },
   {
    "duration": 676,
    "start_time": "2023-03-06T18:14:04.992Z"
   },
   {
    "duration": 81,
    "start_time": "2023-03-06T18:14:05.670Z"
   },
   {
    "duration": 18,
    "start_time": "2023-03-06T18:14:05.753Z"
   },
   {
    "duration": 7,
    "start_time": "2023-03-06T18:14:05.773Z"
   },
   {
    "duration": 25,
    "start_time": "2023-03-06T18:14:05.784Z"
   },
   {
    "duration": 42,
    "start_time": "2023-03-06T18:14:05.811Z"
   },
   {
    "duration": 37,
    "start_time": "2023-03-06T18:14:05.860Z"
   },
   {
    "duration": 20,
    "start_time": "2023-03-06T18:14:05.899Z"
   },
   {
    "duration": 53,
    "start_time": "2023-03-06T18:14:05.922Z"
   },
   {
    "duration": 18,
    "start_time": "2023-03-06T18:14:05.977Z"
   },
   {
    "duration": 32,
    "start_time": "2023-03-06T18:14:05.997Z"
   },
   {
    "duration": 62,
    "start_time": "2023-03-06T18:14:06.031Z"
   },
   {
    "duration": 29,
    "start_time": "2023-03-06T18:14:06.096Z"
   },
   {
    "duration": 71,
    "start_time": "2023-03-06T18:14:06.130Z"
   },
   {
    "duration": 74,
    "start_time": "2023-03-06T18:14:06.206Z"
   },
   {
    "duration": 10,
    "start_time": "2023-03-06T18:14:06.281Z"
   },
   {
    "duration": 16,
    "start_time": "2023-03-06T18:14:06.293Z"
   },
   {
    "duration": 38,
    "start_time": "2023-03-06T18:14:06.311Z"
   },
   {
    "duration": 16,
    "start_time": "2023-03-06T18:14:06.351Z"
   },
   {
    "duration": 206,
    "start_time": "2023-03-06T18:14:06.369Z"
   },
   {
    "duration": 139,
    "start_time": "2023-03-06T18:14:06.576Z"
   },
   {
    "duration": 32,
    "start_time": "2023-03-06T18:14:06.716Z"
   },
   {
    "duration": 17,
    "start_time": "2023-03-06T18:14:06.750Z"
   },
   {
    "duration": 441,
    "start_time": "2023-03-06T18:14:06.769Z"
   },
   {
    "duration": 431,
    "start_time": "2023-03-06T18:14:07.212Z"
   },
   {
    "duration": 16,
    "start_time": "2023-03-06T18:14:07.649Z"
   },
   {
    "duration": 467,
    "start_time": "2023-03-06T18:14:07.667Z"
   },
   {
    "duration": 22,
    "start_time": "2023-03-06T18:14:08.137Z"
   },
   {
    "duration": 370,
    "start_time": "2023-03-06T18:14:08.161Z"
   },
   {
    "duration": 33,
    "start_time": "2023-03-06T18:14:08.533Z"
   },
   {
    "duration": 410,
    "start_time": "2023-03-06T18:14:08.568Z"
   },
   {
    "duration": 15,
    "start_time": "2023-03-06T18:14:08.980Z"
   },
   {
    "duration": 152,
    "start_time": "2023-03-06T18:14:08.997Z"
   },
   {
    "duration": 6,
    "start_time": "2023-03-06T18:14:09.150Z"
   },
   {
    "duration": 20,
    "start_time": "2023-03-06T18:14:09.158Z"
   },
   {
    "duration": 305,
    "start_time": "2023-03-06T18:14:09.180Z"
   },
   {
    "duration": 6,
    "start_time": "2023-03-06T18:14:09.487Z"
   },
   {
    "duration": 130,
    "start_time": "2023-03-06T20:11:26.727Z"
   },
   {
    "duration": 796,
    "start_time": "2023-03-06T20:13:23.128Z"
   },
   {
    "duration": 94,
    "start_time": "2023-03-06T20:13:23.926Z"
   },
   {
    "duration": 19,
    "start_time": "2023-03-06T20:13:24.022Z"
   },
   {
    "duration": 33,
    "start_time": "2023-03-06T20:13:24.043Z"
   },
   {
    "duration": 21,
    "start_time": "2023-03-06T20:13:24.078Z"
   },
   {
    "duration": 19,
    "start_time": "2023-03-06T20:13:24.102Z"
   },
   {
    "duration": 50,
    "start_time": "2023-03-06T20:13:24.124Z"
   },
   {
    "duration": 19,
    "start_time": "2023-03-06T20:13:24.176Z"
   },
   {
    "duration": 26,
    "start_time": "2023-03-06T20:13:24.198Z"
   },
   {
    "duration": 48,
    "start_time": "2023-03-06T20:13:24.229Z"
   },
   {
    "duration": 17,
    "start_time": "2023-03-06T20:13:24.280Z"
   },
   {
    "duration": 46,
    "start_time": "2023-03-06T20:13:24.299Z"
   },
   {
    "duration": 57,
    "start_time": "2023-03-06T20:13:24.350Z"
   },
   {
    "duration": 21,
    "start_time": "2023-03-06T20:13:24.410Z"
   },
   {
    "duration": 74,
    "start_time": "2023-03-06T20:13:24.436Z"
   },
   {
    "duration": 23,
    "start_time": "2023-03-06T20:13:24.512Z"
   },
   {
    "duration": 60,
    "start_time": "2023-03-06T20:13:24.537Z"
   },
   {
    "duration": 23,
    "start_time": "2023-03-06T20:13:24.599Z"
   },
   {
    "duration": 15,
    "start_time": "2023-03-06T20:13:24.623Z"
   },
   {
    "duration": 224,
    "start_time": "2023-03-06T20:13:24.639Z"
   },
   {
    "duration": 164,
    "start_time": "2023-03-06T20:13:24.865Z"
   },
   {
    "duration": 19,
    "start_time": "2023-03-06T20:13:25.032Z"
   },
   {
    "duration": 32,
    "start_time": "2023-03-06T20:13:25.053Z"
   },
   {
    "duration": 647,
    "start_time": "2023-03-06T20:13:25.087Z"
   },
   {
    "duration": 715,
    "start_time": "2023-03-06T20:13:25.737Z"
   },
   {
    "duration": 17,
    "start_time": "2023-03-06T20:13:26.454Z"
   },
   {
    "duration": 584,
    "start_time": "2023-03-06T20:13:26.473Z"
   },
   {
    "duration": 26,
    "start_time": "2023-03-06T20:13:27.062Z"
   },
   {
    "duration": 458,
    "start_time": "2023-03-06T20:13:27.090Z"
   },
   {
    "duration": 29,
    "start_time": "2023-03-06T20:13:27.550Z"
   },
   {
    "duration": 410,
    "start_time": "2023-03-06T20:13:27.581Z"
   },
   {
    "duration": 11,
    "start_time": "2023-03-06T20:13:27.993Z"
   },
   {
    "duration": 187,
    "start_time": "2023-03-06T20:13:28.006Z"
   },
   {
    "duration": 6,
    "start_time": "2023-03-06T20:13:28.195Z"
   },
   {
    "duration": 34,
    "start_time": "2023-03-06T20:13:28.203Z"
   },
   {
    "duration": 324,
    "start_time": "2023-03-06T20:13:28.239Z"
   },
   {
    "duration": 7,
    "start_time": "2023-03-06T20:13:28.565Z"
   },
   {
    "duration": 141,
    "start_time": "2023-03-06T20:13:28.575Z"
   },
   {
    "duration": 29,
    "start_time": "2023-03-06T20:17:49.060Z"
   },
   {
    "duration": 46,
    "start_time": "2023-03-06T20:20:00.824Z"
   },
   {
    "duration": 47,
    "start_time": "2023-03-06T20:21:10.265Z"
   },
   {
    "duration": 41,
    "start_time": "2023-03-06T20:21:47.765Z"
   },
   {
    "duration": 70,
    "start_time": "2023-03-06T20:22:42.830Z"
   },
   {
    "duration": 10,
    "start_time": "2023-03-06T20:23:23.504Z"
   },
   {
    "duration": 134,
    "start_time": "2023-03-06T20:25:28.459Z"
   },
   {
    "duration": 138,
    "start_time": "2023-03-06T20:25:39.682Z"
   },
   {
    "duration": 116,
    "start_time": "2023-03-06T20:26:00.461Z"
   },
   {
    "duration": 46,
    "start_time": "2023-03-06T20:26:52.651Z"
   },
   {
    "duration": 50,
    "start_time": "2023-03-06T20:27:48.320Z"
   },
   {
    "duration": 28,
    "start_time": "2023-03-06T20:28:55.778Z"
   },
   {
    "duration": 49,
    "start_time": "2023-03-06T20:31:00.214Z"
   },
   {
    "duration": 68,
    "start_time": "2023-03-06T20:32:28.668Z"
   },
   {
    "duration": 236,
    "start_time": "2023-03-06T20:33:35.673Z"
   },
   {
    "duration": 280,
    "start_time": "2023-03-06T20:33:45.759Z"
   },
   {
    "duration": 265,
    "start_time": "2023-03-06T20:33:54.927Z"
   },
   {
    "duration": 193,
    "start_time": "2023-03-06T20:37:42.511Z"
   },
   {
    "duration": 147,
    "start_time": "2023-03-06T20:38:36.703Z"
   },
   {
    "duration": 16,
    "start_time": "2023-03-06T20:49:47.346Z"
   },
   {
    "duration": 15,
    "start_time": "2023-03-06T20:50:05.956Z"
   },
   {
    "duration": 10,
    "start_time": "2023-03-06T20:50:10.361Z"
   },
   {
    "duration": 7,
    "start_time": "2023-03-06T20:59:45.060Z"
   },
   {
    "duration": 1224,
    "start_time": "2023-03-06T21:00:25.708Z"
   },
   {
    "duration": 87,
    "start_time": "2023-03-06T21:00:26.935Z"
   },
   {
    "duration": 15,
    "start_time": "2023-03-06T21:00:27.024Z"
   },
   {
    "duration": 29,
    "start_time": "2023-03-06T21:00:27.041Z"
   },
   {
    "duration": 13,
    "start_time": "2023-03-06T21:00:27.072Z"
   },
   {
    "duration": 13,
    "start_time": "2023-03-06T21:00:27.087Z"
   },
   {
    "duration": 11,
    "start_time": "2023-03-06T21:00:27.102Z"
   },
   {
    "duration": 21,
    "start_time": "2023-03-06T21:00:27.115Z"
   },
   {
    "duration": 33,
    "start_time": "2023-03-06T21:00:27.143Z"
   },
   {
    "duration": 17,
    "start_time": "2023-03-06T21:00:27.178Z"
   },
   {
    "duration": 12,
    "start_time": "2023-03-06T21:00:27.197Z"
   },
   {
    "duration": 27,
    "start_time": "2023-03-06T21:00:27.211Z"
   },
   {
    "duration": 28,
    "start_time": "2023-03-06T21:00:27.242Z"
   },
   {
    "duration": 10,
    "start_time": "2023-03-06T21:00:27.273Z"
   },
   {
    "duration": 20,
    "start_time": "2023-03-06T21:00:27.285Z"
   },
   {
    "duration": 4,
    "start_time": "2023-03-06T21:00:27.307Z"
   },
   {
    "duration": 16,
    "start_time": "2023-03-06T21:00:27.313Z"
   },
   {
    "duration": 54,
    "start_time": "2023-03-06T21:00:27.332Z"
   },
   {
    "duration": 12,
    "start_time": "2023-03-06T21:00:27.388Z"
   },
   {
    "duration": 176,
    "start_time": "2023-03-06T21:00:27.402Z"
   },
   {
    "duration": 141,
    "start_time": "2023-03-06T21:00:27.579Z"
   },
   {
    "duration": 24,
    "start_time": "2023-03-06T21:00:27.722Z"
   },
   {
    "duration": 36,
    "start_time": "2023-03-06T21:00:27.748Z"
   },
   {
    "duration": 480,
    "start_time": "2023-03-06T21:00:27.786Z"
   },
   {
    "duration": 416,
    "start_time": "2023-03-06T21:00:28.268Z"
   },
   {
    "duration": 14,
    "start_time": "2023-03-06T21:00:28.686Z"
   },
   {
    "duration": 525,
    "start_time": "2023-03-06T21:00:28.702Z"
   },
   {
    "duration": 28,
    "start_time": "2023-03-06T21:00:29.231Z"
   },
   {
    "duration": 370,
    "start_time": "2023-03-06T21:00:29.265Z"
   },
   {
    "duration": 25,
    "start_time": "2023-03-06T21:00:29.637Z"
   },
   {
    "duration": 410,
    "start_time": "2023-03-06T21:00:29.663Z"
   },
   {
    "duration": 19,
    "start_time": "2023-03-06T21:00:30.076Z"
   },
   {
    "duration": 292,
    "start_time": "2023-03-06T21:00:30.098Z"
   },
   {
    "duration": 6,
    "start_time": "2023-03-06T21:00:30.392Z"
   },
   {
    "duration": 96,
    "start_time": "2023-03-06T21:00:30.399Z"
   },
   {
    "duration": 382,
    "start_time": "2023-03-06T21:00:30.496Z"
   },
   {
    "duration": 6,
    "start_time": "2023-03-06T21:00:30.880Z"
   },
   {
    "duration": 293,
    "start_time": "2023-03-06T21:00:30.888Z"
   },
   {
    "duration": 146,
    "start_time": "2023-03-06T21:00:31.183Z"
   },
   {
    "duration": 8,
    "start_time": "2023-03-06T21:00:31.331Z"
   },
   {
    "duration": 23,
    "start_time": "2023-03-06T21:01:42.659Z"
   },
   {
    "duration": 101,
    "start_time": "2023-03-06T21:07:10.521Z"
   },
   {
    "duration": 1181,
    "start_time": "2023-03-06T21:07:57.576Z"
   },
   {
    "duration": 100,
    "start_time": "2023-03-06T21:07:58.759Z"
   },
   {
    "duration": 12,
    "start_time": "2023-03-06T21:07:58.861Z"
   },
   {
    "duration": 12,
    "start_time": "2023-03-06T21:07:58.875Z"
   },
   {
    "duration": 40,
    "start_time": "2023-03-06T21:07:58.889Z"
   },
   {
    "duration": 73,
    "start_time": "2023-03-06T21:07:58.931Z"
   },
   {
    "duration": 15,
    "start_time": "2023-03-06T21:07:59.006Z"
   },
   {
    "duration": 50,
    "start_time": "2023-03-06T21:07:59.022Z"
   },
   {
    "duration": 20,
    "start_time": "2023-03-06T21:07:59.074Z"
   },
   {
    "duration": 14,
    "start_time": "2023-03-06T21:07:59.096Z"
   },
   {
    "duration": 62,
    "start_time": "2023-03-06T21:07:59.111Z"
   },
   {
    "duration": 17,
    "start_time": "2023-03-06T21:07:59.174Z"
   },
   {
    "duration": 15,
    "start_time": "2023-03-06T21:07:59.193Z"
   },
   {
    "duration": 14,
    "start_time": "2023-03-06T21:07:59.211Z"
   },
   {
    "duration": 46,
    "start_time": "2023-03-06T21:07:59.227Z"
   },
   {
    "duration": 8,
    "start_time": "2023-03-06T21:07:59.275Z"
   },
   {
    "duration": 13,
    "start_time": "2023-03-06T21:07:59.285Z"
   },
   {
    "duration": 13,
    "start_time": "2023-03-06T21:07:59.300Z"
   },
   {
    "duration": 11,
    "start_time": "2023-03-06T21:07:59.315Z"
   },
   {
    "duration": 183,
    "start_time": "2023-03-06T21:07:59.328Z"
   },
   {
    "duration": 124,
    "start_time": "2023-03-06T21:07:59.513Z"
   },
   {
    "duration": 14,
    "start_time": "2023-03-06T21:07:59.638Z"
   },
   {
    "duration": 23,
    "start_time": "2023-03-06T21:07:59.654Z"
   },
   {
    "duration": 477,
    "start_time": "2023-03-06T21:07:59.679Z"
   },
   {
    "duration": 388,
    "start_time": "2023-03-06T21:08:00.158Z"
   },
   {
    "duration": 15,
    "start_time": "2023-03-06T21:08:00.548Z"
   },
   {
    "duration": 529,
    "start_time": "2023-03-06T21:08:00.567Z"
   },
   {
    "duration": 19,
    "start_time": "2023-03-06T21:08:01.097Z"
   },
   {
    "duration": 430,
    "start_time": "2023-03-06T21:08:01.131Z"
   },
   {
    "duration": 15,
    "start_time": "2023-03-06T21:08:01.563Z"
   },
   {
    "duration": 436,
    "start_time": "2023-03-06T21:08:01.579Z"
   },
   {
    "duration": 19,
    "start_time": "2023-03-06T21:08:02.017Z"
   },
   {
    "duration": 280,
    "start_time": "2023-03-06T21:08:02.037Z"
   },
   {
    "duration": 13,
    "start_time": "2023-03-06T21:08:02.319Z"
   },
   {
    "duration": 43,
    "start_time": "2023-03-06T21:08:02.333Z"
   },
   {
    "duration": 291,
    "start_time": "2023-03-06T21:08:02.377Z"
   },
   {
    "duration": 6,
    "start_time": "2023-03-06T21:08:02.670Z"
   },
   {
    "duration": 257,
    "start_time": "2023-03-06T21:08:02.678Z"
   },
   {
    "duration": 172,
    "start_time": "2023-03-06T21:08:02.938Z"
   },
   {
    "duration": 7,
    "start_time": "2023-03-06T21:08:03.111Z"
   },
   {
    "duration": 109,
    "start_time": "2023-03-06T21:08:03.131Z"
   },
   {
    "duration": 0,
    "start_time": "2023-03-06T21:08:03.244Z"
   },
   {
    "duration": 41,
    "start_time": "2023-03-06T21:08:32.021Z"
   },
   {
    "duration": 22,
    "start_time": "2023-03-06T21:08:49.257Z"
   },
   {
    "duration": 34,
    "start_time": "2023-03-06T21:10:43.219Z"
   },
   {
    "duration": 34,
    "start_time": "2023-03-06T21:14:27.027Z"
   },
   {
    "duration": 23,
    "start_time": "2023-03-06T21:14:34.451Z"
   },
   {
    "duration": 31,
    "start_time": "2023-03-06T21:15:53.855Z"
   },
   {
    "duration": 28,
    "start_time": "2023-03-06T21:24:49.957Z"
   },
   {
    "duration": 24,
    "start_time": "2023-03-06T21:25:02.561Z"
   },
   {
    "duration": 24,
    "start_time": "2023-03-07T09:15:03.651Z"
   },
   {
    "duration": 83,
    "start_time": "2023-03-07T09:15:09.628Z"
   },
   {
    "duration": 14,
    "start_time": "2023-03-07T09:15:16.051Z"
   },
   {
    "duration": 1871,
    "start_time": "2023-03-07T09:15:23.421Z"
   },
   {
    "duration": 402,
    "start_time": "2023-03-07T09:15:25.307Z"
   },
   {
    "duration": 17,
    "start_time": "2023-03-07T09:15:25.716Z"
   },
   {
    "duration": 4,
    "start_time": "2023-03-07T09:15:25.735Z"
   },
   {
    "duration": 22,
    "start_time": "2023-03-07T09:15:25.742Z"
   },
   {
    "duration": 21,
    "start_time": "2023-03-07T09:15:25.769Z"
   },
   {
    "duration": 6,
    "start_time": "2023-03-07T09:15:25.795Z"
   },
   {
    "duration": 22,
    "start_time": "2023-03-07T09:15:25.807Z"
   },
   {
    "duration": 21,
    "start_time": "2023-03-07T09:15:25.831Z"
   },
   {
    "duration": 34,
    "start_time": "2023-03-07T09:15:25.855Z"
   },
   {
    "duration": 17,
    "start_time": "2023-03-07T09:15:25.894Z"
   },
   {
    "duration": 14,
    "start_time": "2023-03-07T09:15:25.917Z"
   },
   {
    "duration": 13,
    "start_time": "2023-03-07T09:15:25.935Z"
   },
   {
    "duration": 35,
    "start_time": "2023-03-07T09:15:25.952Z"
   },
   {
    "duration": 44,
    "start_time": "2023-03-07T09:15:25.993Z"
   },
   {
    "duration": 6,
    "start_time": "2023-03-07T09:15:26.040Z"
   },
   {
    "duration": 22,
    "start_time": "2023-03-07T09:15:26.049Z"
   },
   {
    "duration": 40,
    "start_time": "2023-03-07T09:15:26.073Z"
   },
   {
    "duration": 24,
    "start_time": "2023-03-07T09:15:26.116Z"
   },
   {
    "duration": 300,
    "start_time": "2023-03-07T09:15:26.142Z"
   },
   {
    "duration": 244,
    "start_time": "2023-03-07T09:15:26.444Z"
   },
   {
    "duration": 29,
    "start_time": "2023-03-07T09:15:26.699Z"
   },
   {
    "duration": 10,
    "start_time": "2023-03-07T09:15:26.730Z"
   },
   {
    "duration": 637,
    "start_time": "2023-03-07T09:15:26.742Z"
   },
   {
    "duration": 517,
    "start_time": "2023-03-07T09:15:27.381Z"
   },
   {
    "duration": 20,
    "start_time": "2023-03-07T09:15:27.899Z"
   },
   {
    "duration": 584,
    "start_time": "2023-03-07T09:15:27.921Z"
   },
   {
    "duration": 33,
    "start_time": "2023-03-07T09:15:28.507Z"
   },
   {
    "duration": 473,
    "start_time": "2023-03-07T09:15:28.545Z"
   },
   {
    "duration": 16,
    "start_time": "2023-03-07T09:15:29.029Z"
   },
   {
    "duration": 545,
    "start_time": "2023-03-07T09:15:29.046Z"
   },
   {
    "duration": 35,
    "start_time": "2023-03-07T09:15:29.593Z"
   },
   {
    "duration": 301,
    "start_time": "2023-03-07T09:15:29.630Z"
   },
   {
    "duration": 8,
    "start_time": "2023-03-07T09:15:29.934Z"
   },
   {
    "duration": 64,
    "start_time": "2023-03-07T09:15:29.945Z"
   },
   {
    "duration": 419,
    "start_time": "2023-03-07T09:15:30.011Z"
   },
   {
    "duration": 8,
    "start_time": "2023-03-07T09:15:30.434Z"
   },
   {
    "duration": 369,
    "start_time": "2023-03-07T09:15:30.444Z"
   },
   {
    "duration": 242,
    "start_time": "2023-03-07T09:15:30.822Z"
   },
   {
    "duration": 10,
    "start_time": "2023-03-07T09:15:31.065Z"
   },
   {
    "duration": 61,
    "start_time": "2023-03-07T09:15:31.080Z"
   },
   {
    "duration": 20,
    "start_time": "2023-03-07T09:15:31.144Z"
   },
   {
    "duration": 10,
    "start_time": "2023-03-07T09:18:47.125Z"
   },
   {
    "duration": 12,
    "start_time": "2023-03-07T09:19:05.697Z"
   },
   {
    "duration": 12,
    "start_time": "2023-03-07T10:15:17.774Z"
   },
   {
    "duration": 118,
    "start_time": "2023-03-07T10:15:36.369Z"
   },
   {
    "duration": 10,
    "start_time": "2023-03-07T10:15:51.704Z"
   },
   {
    "duration": 46,
    "start_time": "2023-03-07T10:25:50.871Z"
   },
   {
    "duration": 22,
    "start_time": "2023-03-07T10:25:58.882Z"
   },
   {
    "duration": 47,
    "start_time": "2023-03-07T10:26:14.796Z"
   },
   {
    "duration": 11,
    "start_time": "2023-03-07T10:26:19.300Z"
   },
   {
    "duration": 1197,
    "start_time": "2023-03-07T10:26:36.117Z"
   },
   {
    "duration": 78,
    "start_time": "2023-03-07T10:26:37.316Z"
   },
   {
    "duration": 14,
    "start_time": "2023-03-07T10:26:37.396Z"
   },
   {
    "duration": 4,
    "start_time": "2023-03-07T10:26:37.412Z"
   },
   {
    "duration": 14,
    "start_time": "2023-03-07T10:26:37.418Z"
   },
   {
    "duration": 16,
    "start_time": "2023-03-07T10:26:37.434Z"
   },
   {
    "duration": 17,
    "start_time": "2023-03-07T10:26:37.452Z"
   },
   {
    "duration": 18,
    "start_time": "2023-03-07T10:26:37.472Z"
   },
   {
    "duration": 14,
    "start_time": "2023-03-07T10:26:37.491Z"
   },
   {
    "duration": 18,
    "start_time": "2023-03-07T10:26:37.507Z"
   },
   {
    "duration": 13,
    "start_time": "2023-03-07T10:26:37.527Z"
   },
   {
    "duration": 23,
    "start_time": "2023-03-07T10:26:37.542Z"
   },
   {
    "duration": 7,
    "start_time": "2023-03-07T10:26:37.567Z"
   },
   {
    "duration": 11,
    "start_time": "2023-03-07T10:26:37.577Z"
   },
   {
    "duration": 14,
    "start_time": "2023-03-07T10:26:37.590Z"
   },
   {
    "duration": 5,
    "start_time": "2023-03-07T10:26:37.606Z"
   },
   {
    "duration": 46,
    "start_time": "2023-03-07T10:26:37.613Z"
   },
   {
    "duration": 18,
    "start_time": "2023-03-07T10:26:37.663Z"
   },
   {
    "duration": 12,
    "start_time": "2023-03-07T10:26:37.683Z"
   },
   {
    "duration": 230,
    "start_time": "2023-03-07T10:26:37.697Z"
   },
   {
    "duration": 165,
    "start_time": "2023-03-07T10:26:37.929Z"
   },
   {
    "duration": 14,
    "start_time": "2023-03-07T10:26:38.096Z"
   },
   {
    "duration": 17,
    "start_time": "2023-03-07T10:26:38.111Z"
   },
   {
    "duration": 466,
    "start_time": "2023-03-07T10:26:38.130Z"
   },
   {
    "duration": 391,
    "start_time": "2023-03-07T10:26:38.598Z"
   },
   {
    "duration": 13,
    "start_time": "2023-03-07T10:26:38.991Z"
   },
   {
    "duration": 498,
    "start_time": "2023-03-07T10:26:39.005Z"
   },
   {
    "duration": 19,
    "start_time": "2023-03-07T10:26:39.505Z"
   },
   {
    "duration": 367,
    "start_time": "2023-03-07T10:26:39.525Z"
   },
   {
    "duration": 13,
    "start_time": "2023-03-07T10:26:39.894Z"
   },
   {
    "duration": 482,
    "start_time": "2023-03-07T10:26:39.909Z"
   },
   {
    "duration": 16,
    "start_time": "2023-03-07T10:26:40.393Z"
   },
   {
    "duration": 242,
    "start_time": "2023-03-07T10:26:40.411Z"
   },
   {
    "duration": 9,
    "start_time": "2023-03-07T10:26:40.656Z"
   },
   {
    "duration": 18,
    "start_time": "2023-03-07T10:26:40.667Z"
   },
   {
    "duration": 309,
    "start_time": "2023-03-07T10:26:40.687Z"
   },
   {
    "duration": 5,
    "start_time": "2023-03-07T10:26:40.999Z"
   },
   {
    "duration": 267,
    "start_time": "2023-03-07T10:26:41.006Z"
   },
   {
    "duration": 179,
    "start_time": "2023-03-07T10:26:41.276Z"
   },
   {
    "duration": 10,
    "start_time": "2023-03-07T10:26:41.457Z"
   },
   {
    "duration": 32,
    "start_time": "2023-03-07T10:26:41.472Z"
   },
   {
    "duration": 11,
    "start_time": "2023-03-07T10:26:41.505Z"
   },
   {
    "duration": 38,
    "start_time": "2023-03-07T10:26:41.518Z"
   },
   {
    "duration": 14,
    "start_time": "2023-03-07T10:26:41.558Z"
   },
   {
    "duration": 27,
    "start_time": "2023-03-07T10:26:41.575Z"
   },
   {
    "duration": 12,
    "start_time": "2023-03-07T10:47:14.575Z"
   },
   {
    "duration": 1152,
    "start_time": "2023-03-07T13:24:50.146Z"
   },
   {
    "duration": 79,
    "start_time": "2023-03-07T13:24:51.300Z"
   },
   {
    "duration": 12,
    "start_time": "2023-03-07T13:24:51.380Z"
   },
   {
    "duration": 15,
    "start_time": "2023-03-07T13:24:51.394Z"
   },
   {
    "duration": 16,
    "start_time": "2023-03-07T13:24:51.410Z"
   },
   {
    "duration": 26,
    "start_time": "2023-03-07T13:24:51.428Z"
   },
   {
    "duration": 17,
    "start_time": "2023-03-07T13:24:51.455Z"
   },
   {
    "duration": 16,
    "start_time": "2023-03-07T13:24:51.474Z"
   },
   {
    "duration": 23,
    "start_time": "2023-03-07T13:24:51.492Z"
   },
   {
    "duration": 24,
    "start_time": "2023-03-07T13:24:51.518Z"
   },
   {
    "duration": 12,
    "start_time": "2023-03-07T13:24:51.544Z"
   },
   {
    "duration": 12,
    "start_time": "2023-03-07T13:24:51.557Z"
   },
   {
    "duration": 11,
    "start_time": "2023-03-07T13:24:51.571Z"
   },
   {
    "duration": 15,
    "start_time": "2023-03-07T13:24:51.584Z"
   },
   {
    "duration": 15,
    "start_time": "2023-03-07T13:24:51.600Z"
   },
   {
    "duration": 6,
    "start_time": "2023-03-07T13:24:51.617Z"
   },
   {
    "duration": 31,
    "start_time": "2023-03-07T13:24:51.624Z"
   },
   {
    "duration": 24,
    "start_time": "2023-03-07T13:24:51.656Z"
   },
   {
    "duration": 13,
    "start_time": "2023-03-07T13:24:51.682Z"
   },
   {
    "duration": 165,
    "start_time": "2023-03-07T13:24:51.696Z"
   },
   {
    "duration": 123,
    "start_time": "2023-03-07T13:24:51.862Z"
   },
   {
    "duration": 15,
    "start_time": "2023-03-07T13:24:51.986Z"
   },
   {
    "duration": 36,
    "start_time": "2023-03-07T13:24:52.003Z"
   },
   {
    "duration": 455,
    "start_time": "2023-03-07T13:24:52.041Z"
   },
   {
    "duration": 374,
    "start_time": "2023-03-07T13:24:52.497Z"
   },
   {
    "duration": 13,
    "start_time": "2023-03-07T13:24:52.872Z"
   },
   {
    "duration": 519,
    "start_time": "2023-03-07T13:24:52.887Z"
   },
   {
    "duration": 37,
    "start_time": "2023-03-07T13:24:53.411Z"
   },
   {
    "duration": 345,
    "start_time": "2023-03-07T13:24:53.450Z"
   },
   {
    "duration": 16,
    "start_time": "2023-03-07T13:24:53.796Z"
   },
   {
    "duration": 451,
    "start_time": "2023-03-07T13:24:53.814Z"
   },
   {
    "duration": 12,
    "start_time": "2023-03-07T13:24:54.267Z"
   },
   {
    "duration": 223,
    "start_time": "2023-03-07T13:24:54.280Z"
   },
   {
    "duration": 4,
    "start_time": "2023-03-07T13:24:54.505Z"
   },
   {
    "duration": 40,
    "start_time": "2023-03-07T13:24:54.511Z"
   },
   {
    "duration": 258,
    "start_time": "2023-03-07T13:24:54.553Z"
   },
   {
    "duration": 5,
    "start_time": "2023-03-07T13:24:54.812Z"
   },
   {
    "duration": 258,
    "start_time": "2023-03-07T13:24:54.819Z"
   },
   {
    "duration": 164,
    "start_time": "2023-03-07T13:24:55.079Z"
   },
   {
    "duration": 7,
    "start_time": "2023-03-07T13:24:55.244Z"
   },
   {
    "duration": 26,
    "start_time": "2023-03-07T13:24:55.252Z"
   },
   {
    "duration": 10,
    "start_time": "2023-03-07T13:24:55.280Z"
   },
   {
    "duration": 16,
    "start_time": "2023-03-07T13:24:55.291Z"
   },
   {
    "duration": 13,
    "start_time": "2023-03-07T13:24:55.309Z"
   },
   {
    "duration": 31,
    "start_time": "2023-03-07T13:24:55.324Z"
   },
   {
    "duration": 10,
    "start_time": "2023-03-07T13:24:55.356Z"
   },
   {
    "duration": 50,
    "start_time": "2023-03-08T08:02:09.146Z"
   },
   {
    "duration": 1406,
    "start_time": "2023-03-08T08:02:15.392Z"
   },
   {
    "duration": 195,
    "start_time": "2023-03-08T08:02:16.800Z"
   },
   {
    "duration": 18,
    "start_time": "2023-03-08T08:02:16.997Z"
   },
   {
    "duration": 7,
    "start_time": "2023-03-08T08:02:17.018Z"
   },
   {
    "duration": 17,
    "start_time": "2023-03-08T08:02:17.026Z"
   },
   {
    "duration": 15,
    "start_time": "2023-03-08T08:02:17.045Z"
   },
   {
    "duration": 9,
    "start_time": "2023-03-08T08:02:17.061Z"
   },
   {
    "duration": 17,
    "start_time": "2023-03-08T08:02:17.071Z"
   },
   {
    "duration": 25,
    "start_time": "2023-03-08T08:02:17.090Z"
   },
   {
    "duration": 22,
    "start_time": "2023-03-08T08:02:17.118Z"
   },
   {
    "duration": 10,
    "start_time": "2023-03-08T08:02:17.142Z"
   },
   {
    "duration": 13,
    "start_time": "2023-03-08T08:02:17.153Z"
   },
   {
    "duration": 17,
    "start_time": "2023-03-08T08:02:17.167Z"
   },
   {
    "duration": 8,
    "start_time": "2023-03-08T08:02:17.186Z"
   },
   {
    "duration": 14,
    "start_time": "2023-03-08T08:02:17.196Z"
   },
   {
    "duration": 21,
    "start_time": "2023-03-08T08:02:17.212Z"
   },
   {
    "duration": 7,
    "start_time": "2023-03-08T08:02:17.235Z"
   },
   {
    "duration": 16,
    "start_time": "2023-03-08T08:02:17.244Z"
   },
   {
    "duration": 16,
    "start_time": "2023-03-08T08:02:17.261Z"
   },
   {
    "duration": 33,
    "start_time": "2023-03-08T08:02:17.279Z"
   },
   {
    "duration": 203,
    "start_time": "2023-03-08T08:02:17.314Z"
   },
   {
    "duration": 144,
    "start_time": "2023-03-08T08:02:17.519Z"
   },
   {
    "duration": 14,
    "start_time": "2023-03-08T08:02:17.666Z"
   },
   {
    "duration": 35,
    "start_time": "2023-03-08T08:02:17.682Z"
   },
   {
    "duration": 463,
    "start_time": "2023-03-08T08:02:17.718Z"
   },
   {
    "duration": 404,
    "start_time": "2023-03-08T08:02:18.183Z"
   },
   {
    "duration": 21,
    "start_time": "2023-03-08T08:02:18.589Z"
   },
   {
    "duration": 514,
    "start_time": "2023-03-08T08:02:18.615Z"
   },
   {
    "duration": 18,
    "start_time": "2023-03-08T08:02:19.131Z"
   },
   {
    "duration": 355,
    "start_time": "2023-03-08T08:02:19.151Z"
   },
   {
    "duration": 15,
    "start_time": "2023-03-08T08:02:19.509Z"
   },
   {
    "duration": 419,
    "start_time": "2023-03-08T08:02:19.526Z"
   },
   {
    "duration": 11,
    "start_time": "2023-03-08T08:02:19.946Z"
   },
   {
    "duration": 245,
    "start_time": "2023-03-08T08:02:19.959Z"
   },
   {
    "duration": 6,
    "start_time": "2023-03-08T08:02:20.206Z"
   },
   {
    "duration": 16,
    "start_time": "2023-03-08T08:02:20.214Z"
   },
   {
    "duration": 303,
    "start_time": "2023-03-08T08:02:20.232Z"
   },
   {
    "duration": 5,
    "start_time": "2023-03-08T08:02:20.537Z"
   },
   {
    "duration": 256,
    "start_time": "2023-03-08T08:02:20.543Z"
   },
   {
    "duration": 170,
    "start_time": "2023-03-08T08:02:20.802Z"
   },
   {
    "duration": 6,
    "start_time": "2023-03-08T08:02:20.974Z"
   },
   {
    "duration": 45,
    "start_time": "2023-03-08T08:02:20.982Z"
   },
   {
    "duration": 11,
    "start_time": "2023-03-08T08:02:21.029Z"
   },
   {
    "duration": 10,
    "start_time": "2023-03-08T08:02:21.042Z"
   },
   {
    "duration": 9,
    "start_time": "2023-03-08T08:02:21.054Z"
   },
   {
    "duration": 50,
    "start_time": "2023-03-08T08:02:21.064Z"
   },
   {
    "duration": 12,
    "start_time": "2023-03-08T08:02:21.116Z"
   },
   {
    "duration": 5,
    "start_time": "2023-03-08T08:05:56.435Z"
   },
   {
    "duration": 5,
    "start_time": "2023-03-08T08:06:24.530Z"
   },
   {
    "duration": 5,
    "start_time": "2023-03-08T08:06:41.220Z"
   },
   {
    "duration": 6,
    "start_time": "2023-03-08T08:11:31.924Z"
   },
   {
    "duration": 19,
    "start_time": "2023-03-08T08:11:44.292Z"
   },
   {
    "duration": 6,
    "start_time": "2023-03-08T08:12:15.605Z"
   },
   {
    "duration": 11,
    "start_time": "2023-03-08T08:12:23.364Z"
   },
   {
    "duration": 6,
    "start_time": "2023-03-08T08:12:48.755Z"
   },
   {
    "duration": 7,
    "start_time": "2023-03-08T08:12:57.274Z"
   },
   {
    "duration": 6,
    "start_time": "2023-03-08T08:13:32.882Z"
   },
   {
    "duration": 7,
    "start_time": "2023-03-08T08:22:35.327Z"
   },
   {
    "duration": 7,
    "start_time": "2023-03-08T08:25:16.398Z"
   },
   {
    "duration": 125,
    "start_time": "2023-03-08T08:31:24.153Z"
   },
   {
    "duration": 8,
    "start_time": "2023-03-08T08:31:42.718Z"
   },
   {
    "duration": 5,
    "start_time": "2023-03-08T08:32:03.725Z"
   },
   {
    "duration": 5,
    "start_time": "2023-03-08T08:34:51.724Z"
   },
   {
    "duration": 76,
    "start_time": "2023-03-08T08:42:13.356Z"
   },
   {
    "duration": 6,
    "start_time": "2023-03-08T08:42:37.237Z"
   },
   {
    "duration": 85,
    "start_time": "2023-03-08T08:45:56.313Z"
   },
   {
    "duration": 6,
    "start_time": "2023-03-08T08:46:34.496Z"
   },
   {
    "duration": 7,
    "start_time": "2023-03-08T08:46:57.519Z"
   },
   {
    "duration": 5,
    "start_time": "2023-03-08T09:01:02.689Z"
   },
   {
    "duration": 15,
    "start_time": "2023-03-08T09:01:39.810Z"
   },
   {
    "duration": 6,
    "start_time": "2023-03-08T09:08:08.114Z"
   },
   {
    "duration": 22,
    "start_time": "2023-03-08T09:08:15.690Z"
   },
   {
    "duration": 5,
    "start_time": "2023-03-08T09:09:27.864Z"
   },
   {
    "duration": 6,
    "start_time": "2023-03-08T09:09:41.750Z"
   },
   {
    "duration": 19,
    "start_time": "2023-03-08T09:10:35.093Z"
   },
   {
    "duration": 82,
    "start_time": "2023-03-08T09:31:13.860Z"
   },
   {
    "duration": 7,
    "start_time": "2023-03-08T09:31:21.815Z"
   },
   {
    "duration": 4,
    "start_time": "2023-03-08T09:31:24.987Z"
   },
   {
    "duration": 4,
    "start_time": "2023-03-08T09:33:51.073Z"
   },
   {
    "duration": 1146,
    "start_time": "2023-03-08T09:33:58.713Z"
   },
   {
    "duration": 76,
    "start_time": "2023-03-08T09:33:59.861Z"
   },
   {
    "duration": 11,
    "start_time": "2023-03-08T09:33:59.939Z"
   },
   {
    "duration": 5,
    "start_time": "2023-03-08T09:33:59.952Z"
   },
   {
    "duration": 18,
    "start_time": "2023-03-08T09:33:59.958Z"
   },
   {
    "duration": 11,
    "start_time": "2023-03-08T09:33:59.978Z"
   },
   {
    "duration": 5,
    "start_time": "2023-03-08T09:33:59.991Z"
   },
   {
    "duration": 13,
    "start_time": "2023-03-08T09:33:59.998Z"
   },
   {
    "duration": 15,
    "start_time": "2023-03-08T09:34:00.013Z"
   },
   {
    "duration": 16,
    "start_time": "2023-03-08T09:34:00.031Z"
   },
   {
    "duration": 56,
    "start_time": "2023-03-08T09:34:00.049Z"
   },
   {
    "duration": 27,
    "start_time": "2023-03-08T09:34:00.107Z"
   },
   {
    "duration": 10,
    "start_time": "2023-03-08T09:34:00.136Z"
   },
   {
    "duration": 20,
    "start_time": "2023-03-08T09:34:00.148Z"
   },
   {
    "duration": 19,
    "start_time": "2023-03-08T09:34:00.170Z"
   },
   {
    "duration": 28,
    "start_time": "2023-03-08T09:34:00.190Z"
   },
   {
    "duration": 38,
    "start_time": "2023-03-08T09:34:00.220Z"
   },
   {
    "duration": 42,
    "start_time": "2023-03-08T09:34:00.260Z"
   },
   {
    "duration": 24,
    "start_time": "2023-03-08T09:34:00.304Z"
   },
   {
    "duration": 32,
    "start_time": "2023-03-08T09:34:00.330Z"
   },
   {
    "duration": 13,
    "start_time": "2023-03-08T09:34:00.364Z"
   },
   {
    "duration": 36,
    "start_time": "2023-03-08T09:34:00.379Z"
   },
   {
    "duration": 19,
    "start_time": "2023-03-08T09:34:00.416Z"
   },
   {
    "duration": 21,
    "start_time": "2023-03-08T09:34:00.436Z"
   },
   {
    "duration": 37,
    "start_time": "2023-03-08T09:34:00.459Z"
   },
   {
    "duration": 22,
    "start_time": "2023-03-08T09:34:00.498Z"
   },
   {
    "duration": 34,
    "start_time": "2023-03-08T09:34:00.521Z"
   },
   {
    "duration": 9,
    "start_time": "2023-03-08T09:34:00.559Z"
   },
   {
    "duration": 41,
    "start_time": "2023-03-08T09:34:00.570Z"
   },
   {
    "duration": 21,
    "start_time": "2023-03-08T09:34:00.613Z"
   },
   {
    "duration": 12,
    "start_time": "2023-03-08T09:34:00.636Z"
   },
   {
    "duration": 203,
    "start_time": "2023-03-08T09:34:00.649Z"
   },
   {
    "duration": 155,
    "start_time": "2023-03-08T09:34:00.854Z"
   },
   {
    "duration": 13,
    "start_time": "2023-03-08T09:34:01.011Z"
   },
   {
    "duration": 48,
    "start_time": "2023-03-08T09:34:01.026Z"
   },
   {
    "duration": 465,
    "start_time": "2023-03-08T09:34:01.076Z"
   },
   {
    "duration": 374,
    "start_time": "2023-03-08T09:34:01.543Z"
   },
   {
    "duration": 13,
    "start_time": "2023-03-08T09:34:01.919Z"
   },
   {
    "duration": 545,
    "start_time": "2023-03-08T09:34:01.935Z"
   },
   {
    "duration": 28,
    "start_time": "2023-03-08T09:34:02.482Z"
   },
   {
    "duration": 371,
    "start_time": "2023-03-08T09:34:02.512Z"
   },
   {
    "duration": 21,
    "start_time": "2023-03-08T09:34:02.885Z"
   },
   {
    "duration": 427,
    "start_time": "2023-03-08T09:34:02.908Z"
   },
   {
    "duration": 12,
    "start_time": "2023-03-08T09:34:03.337Z"
   },
   {
    "duration": 358,
    "start_time": "2023-03-08T09:34:03.351Z"
   },
   {
    "duration": 5,
    "start_time": "2023-03-08T09:34:03.711Z"
   },
   {
    "duration": 23,
    "start_time": "2023-03-08T09:34:03.717Z"
   },
   {
    "duration": 595,
    "start_time": "2023-03-08T09:34:03.742Z"
   },
   {
    "duration": 6,
    "start_time": "2023-03-08T09:34:04.339Z"
   },
   {
    "duration": 494,
    "start_time": "2023-03-08T09:34:04.347Z"
   },
   {
    "duration": 288,
    "start_time": "2023-03-08T09:34:04.843Z"
   },
   {
    "duration": 7,
    "start_time": "2023-03-08T09:34:05.133Z"
   },
   {
    "duration": 83,
    "start_time": "2023-03-08T09:34:05.141Z"
   },
   {
    "duration": 12,
    "start_time": "2023-03-08T09:34:05.226Z"
   },
   {
    "duration": 70,
    "start_time": "2023-03-08T09:34:05.240Z"
   },
   {
    "duration": 9,
    "start_time": "2023-03-08T09:34:05.312Z"
   },
   {
    "duration": 87,
    "start_time": "2023-03-08T09:34:05.322Z"
   },
   {
    "duration": 12,
    "start_time": "2023-03-08T09:34:05.411Z"
   },
   {
    "duration": 8,
    "start_time": "2023-03-08T09:34:55.464Z"
   },
   {
    "duration": 7,
    "start_time": "2023-03-08T09:35:12.862Z"
   },
   {
    "duration": 1330,
    "start_time": "2023-03-08T09:35:34.406Z"
   },
   {
    "duration": 6,
    "start_time": "2023-03-08T09:35:53.854Z"
   },
   {
    "duration": 124,
    "start_time": "2023-03-08T09:36:45.982Z"
   },
   {
    "duration": 184,
    "start_time": "2023-03-08T09:37:02.765Z"
   },
   {
    "duration": 117,
    "start_time": "2023-03-08T09:37:15.541Z"
   },
   {
    "duration": 52,
    "start_time": "2023-03-08T09:38:24.850Z"
   },
   {
    "duration": 77,
    "start_time": "2023-03-08T09:38:52.827Z"
   },
   {
    "duration": 1171,
    "start_time": "2023-03-08T09:43:15.336Z"
   },
   {
    "duration": 79,
    "start_time": "2023-03-08T09:43:16.509Z"
   },
   {
    "duration": 13,
    "start_time": "2023-03-08T09:43:16.589Z"
   },
   {
    "duration": 2,
    "start_time": "2023-03-08T09:43:16.605Z"
   },
   {
    "duration": 17,
    "start_time": "2023-03-08T09:43:16.609Z"
   },
   {
    "duration": 17,
    "start_time": "2023-03-08T09:43:16.628Z"
   },
   {
    "duration": 10,
    "start_time": "2023-03-08T09:43:16.646Z"
   },
   {
    "duration": 17,
    "start_time": "2023-03-08T09:43:16.658Z"
   },
   {
    "duration": 13,
    "start_time": "2023-03-08T09:43:16.677Z"
   },
   {
    "duration": 10,
    "start_time": "2023-03-08T09:43:16.702Z"
   },
   {
    "duration": 10,
    "start_time": "2023-03-08T09:43:16.714Z"
   },
   {
    "duration": 7,
    "start_time": "2023-03-08T09:43:16.726Z"
   },
   {
    "duration": 17,
    "start_time": "2023-03-08T09:43:16.734Z"
   },
   {
    "duration": 9,
    "start_time": "2023-03-08T09:43:16.752Z"
   },
   {
    "duration": 10,
    "start_time": "2023-03-08T09:43:16.762Z"
   },
   {
    "duration": 7,
    "start_time": "2023-03-08T09:43:16.774Z"
   },
   {
    "duration": 9,
    "start_time": "2023-03-08T09:43:16.802Z"
   },
   {
    "duration": 16,
    "start_time": "2023-03-08T09:43:16.813Z"
   },
   {
    "duration": 6,
    "start_time": "2023-03-08T09:43:16.831Z"
   },
   {
    "duration": 13,
    "start_time": "2023-03-08T09:43:16.839Z"
   },
   {
    "duration": 8,
    "start_time": "2023-03-08T09:43:16.854Z"
   },
   {
    "duration": 9,
    "start_time": "2023-03-08T09:43:16.864Z"
   },
   {
    "duration": 28,
    "start_time": "2023-03-08T09:43:16.875Z"
   },
   {
    "duration": 10,
    "start_time": "2023-03-08T09:43:16.905Z"
   },
   {
    "duration": 21,
    "start_time": "2023-03-08T09:43:16.917Z"
   },
   {
    "duration": 1152,
    "start_time": "2023-03-08T09:45:38.569Z"
   },
   {
    "duration": 77,
    "start_time": "2023-03-08T09:45:39.723Z"
   },
   {
    "duration": 12,
    "start_time": "2023-03-08T09:45:39.802Z"
   },
   {
    "duration": 7,
    "start_time": "2023-03-08T09:45:39.817Z"
   },
   {
    "duration": 19,
    "start_time": "2023-03-08T09:45:39.826Z"
   },
   {
    "duration": 15,
    "start_time": "2023-03-08T09:45:39.847Z"
   },
   {
    "duration": 10,
    "start_time": "2023-03-08T09:45:39.863Z"
   },
   {
    "duration": 15,
    "start_time": "2023-03-08T09:45:39.875Z"
   },
   {
    "duration": 14,
    "start_time": "2023-03-08T09:45:39.902Z"
   },
   {
    "duration": 17,
    "start_time": "2023-03-08T09:45:39.919Z"
   },
   {
    "duration": 7,
    "start_time": "2023-03-08T09:45:39.938Z"
   },
   {
    "duration": 12,
    "start_time": "2023-03-08T09:45:39.946Z"
   },
   {
    "duration": 11,
    "start_time": "2023-03-08T09:45:39.959Z"
   },
   {
    "duration": 7,
    "start_time": "2023-03-08T09:45:39.972Z"
   },
   {
    "duration": 22,
    "start_time": "2023-03-08T09:45:39.981Z"
   },
   {
    "duration": 15,
    "start_time": "2023-03-08T09:45:40.005Z"
   },
   {
    "duration": 20,
    "start_time": "2023-03-08T09:45:40.023Z"
   },
   {
    "duration": 21,
    "start_time": "2023-03-08T09:45:40.045Z"
   },
   {
    "duration": 7,
    "start_time": "2023-03-08T09:45:40.068Z"
   },
   {
    "duration": 20,
    "start_time": "2023-03-08T09:45:40.077Z"
   },
   {
    "duration": 12,
    "start_time": "2023-03-08T09:45:40.099Z"
   },
   {
    "duration": 11,
    "start_time": "2023-03-08T09:45:40.113Z"
   },
   {
    "duration": 10,
    "start_time": "2023-03-08T09:45:40.125Z"
   },
   {
    "duration": 12,
    "start_time": "2023-03-08T09:45:40.136Z"
   },
   {
    "duration": 15,
    "start_time": "2023-03-08T09:45:40.150Z"
   },
   {
    "duration": 161,
    "start_time": "2023-03-08T09:45:40.167Z"
   },
   {
    "duration": 13,
    "start_time": "2023-03-08T09:45:40.330Z"
   },
   {
    "duration": 4,
    "start_time": "2023-03-08T09:45:40.347Z"
   },
   {
    "duration": 13,
    "start_time": "2023-03-08T09:45:40.352Z"
   },
   {
    "duration": 46,
    "start_time": "2023-03-08T09:45:40.367Z"
   },
   {
    "duration": 10,
    "start_time": "2023-03-08T09:45:40.415Z"
   },
   {
    "duration": 195,
    "start_time": "2023-03-08T09:45:40.427Z"
   },
   {
    "duration": 157,
    "start_time": "2023-03-08T09:45:40.624Z"
   },
   {
    "duration": 25,
    "start_time": "2023-03-08T09:45:40.783Z"
   },
   {
    "duration": 18,
    "start_time": "2023-03-08T09:45:40.811Z"
   },
   {
    "duration": 463,
    "start_time": "2023-03-08T09:45:40.832Z"
   },
   {
    "duration": 380,
    "start_time": "2023-03-08T09:45:41.298Z"
   },
   {
    "duration": 22,
    "start_time": "2023-03-08T09:45:41.680Z"
   },
   {
    "duration": 819,
    "start_time": "2023-03-08T09:45:41.704Z"
   },
   {
    "duration": 77,
    "start_time": "2023-03-08T09:45:42.525Z"
   },
   {
    "duration": 638,
    "start_time": "2023-03-08T09:45:42.604Z"
   },
   {
    "duration": 73,
    "start_time": "2023-03-08T09:45:43.243Z"
   },
   {
    "duration": 718,
    "start_time": "2023-03-08T09:45:43.319Z"
   },
   {
    "duration": 13,
    "start_time": "2023-03-08T09:45:44.039Z"
   },
   {
    "duration": 151,
    "start_time": "2023-03-08T09:45:44.053Z"
   },
   {
    "duration": 5,
    "start_time": "2023-03-08T09:45:44.206Z"
   },
   {
    "duration": 36,
    "start_time": "2023-03-08T09:45:44.213Z"
   },
   {
    "duration": 323,
    "start_time": "2023-03-08T09:45:44.251Z"
   },
   {
    "duration": 6,
    "start_time": "2023-03-08T09:45:44.575Z"
   },
   {
    "duration": 297,
    "start_time": "2023-03-08T09:45:44.583Z"
   },
   {
    "duration": 172,
    "start_time": "2023-03-08T09:45:44.882Z"
   },
   {
    "duration": 7,
    "start_time": "2023-03-08T09:45:45.056Z"
   },
   {
    "duration": 40,
    "start_time": "2023-03-08T09:45:45.065Z"
   },
   {
    "duration": 14,
    "start_time": "2023-03-08T09:45:45.107Z"
   },
   {
    "duration": 15,
    "start_time": "2023-03-08T09:45:45.123Z"
   },
   {
    "duration": 22,
    "start_time": "2023-03-08T09:45:45.140Z"
   },
   {
    "duration": 37,
    "start_time": "2023-03-08T09:45:45.164Z"
   },
   {
    "duration": 13,
    "start_time": "2023-03-08T09:45:45.204Z"
   },
   {
    "duration": 59,
    "start_time": "2023-03-08T09:47:26.235Z"
   },
   {
    "duration": 187,
    "start_time": "2023-03-08T09:47:47.458Z"
   },
   {
    "duration": 80,
    "start_time": "2023-03-08T09:47:58.746Z"
   },
   {
    "duration": 58,
    "start_time": "2023-03-08T09:48:03.841Z"
   },
   {
    "duration": 70,
    "start_time": "2023-03-08T09:48:41.065Z"
   },
   {
    "duration": 69,
    "start_time": "2023-03-08T09:48:45.000Z"
   },
   {
    "duration": 57,
    "start_time": "2023-03-08T09:53:09.029Z"
   },
   {
    "duration": 9,
    "start_time": "2023-03-08T10:10:26.656Z"
   },
   {
    "duration": 10,
    "start_time": "2023-03-08T10:10:33.689Z"
   },
   {
    "duration": 1127,
    "start_time": "2023-03-08T10:10:44.144Z"
   },
   {
    "duration": 83,
    "start_time": "2023-03-08T10:10:45.273Z"
   },
   {
    "duration": 13,
    "start_time": "2023-03-08T10:10:45.358Z"
   },
   {
    "duration": 4,
    "start_time": "2023-03-08T10:10:45.373Z"
   },
   {
    "duration": 15,
    "start_time": "2023-03-08T10:10:45.378Z"
   },
   {
    "duration": 15,
    "start_time": "2023-03-08T10:10:45.394Z"
   },
   {
    "duration": 6,
    "start_time": "2023-03-08T10:10:45.411Z"
   },
   {
    "duration": 12,
    "start_time": "2023-03-08T10:10:45.419Z"
   },
   {
    "duration": 14,
    "start_time": "2023-03-08T10:10:45.433Z"
   },
   {
    "duration": 14,
    "start_time": "2023-03-08T10:10:45.449Z"
   },
   {
    "duration": 9,
    "start_time": "2023-03-08T10:10:45.464Z"
   },
   {
    "duration": 28,
    "start_time": "2023-03-08T10:10:45.475Z"
   },
   {
    "duration": 5,
    "start_time": "2023-03-08T10:10:45.506Z"
   },
   {
    "duration": 6,
    "start_time": "2023-03-08T10:10:45.512Z"
   },
   {
    "duration": 8,
    "start_time": "2023-03-08T10:10:45.520Z"
   },
   {
    "duration": 7,
    "start_time": "2023-03-08T10:10:45.529Z"
   },
   {
    "duration": 11,
    "start_time": "2023-03-08T10:10:45.538Z"
   },
   {
    "duration": 53,
    "start_time": "2023-03-08T10:10:45.551Z"
   },
   {
    "duration": 6,
    "start_time": "2023-03-08T10:10:45.607Z"
   },
   {
    "duration": 19,
    "start_time": "2023-03-08T10:10:45.614Z"
   },
   {
    "duration": 8,
    "start_time": "2023-03-08T10:10:45.635Z"
   },
   {
    "duration": 10,
    "start_time": "2023-03-08T10:10:45.645Z"
   },
   {
    "duration": 7,
    "start_time": "2023-03-08T10:10:45.656Z"
   },
   {
    "duration": 8,
    "start_time": "2023-03-08T10:10:45.664Z"
   },
   {
    "duration": 39,
    "start_time": "2023-03-08T10:10:45.673Z"
   },
   {
    "duration": 65,
    "start_time": "2023-03-08T10:10:45.715Z"
   },
   {
    "duration": 26,
    "start_time": "2023-03-08T10:10:45.782Z"
   },
   {
    "duration": 6,
    "start_time": "2023-03-08T10:10:45.812Z"
   },
   {
    "duration": 14,
    "start_time": "2023-03-08T10:10:45.820Z"
   },
   {
    "duration": 20,
    "start_time": "2023-03-08T10:10:45.836Z"
   },
   {
    "duration": 44,
    "start_time": "2023-03-08T10:10:45.858Z"
   },
   {
    "duration": 189,
    "start_time": "2023-03-08T10:10:45.903Z"
   },
   {
    "duration": 129,
    "start_time": "2023-03-08T10:10:46.093Z"
   },
   {
    "duration": 35,
    "start_time": "2023-03-08T10:10:46.224Z"
   },
   {
    "duration": 15,
    "start_time": "2023-03-08T10:10:46.262Z"
   },
   {
    "duration": 439,
    "start_time": "2023-03-08T10:10:46.279Z"
   },
   {
    "duration": 361,
    "start_time": "2023-03-08T10:10:46.720Z"
   },
   {
    "duration": 20,
    "start_time": "2023-03-08T10:10:47.082Z"
   },
   {
    "duration": 482,
    "start_time": "2023-03-08T10:10:47.104Z"
   },
   {
    "duration": 26,
    "start_time": "2023-03-08T10:10:47.589Z"
   },
   {
    "duration": 341,
    "start_time": "2023-03-08T10:10:47.617Z"
   },
   {
    "duration": 15,
    "start_time": "2023-03-08T10:10:47.959Z"
   },
   {
    "duration": 549,
    "start_time": "2023-03-08T10:10:47.975Z"
   },
   {
    "duration": 16,
    "start_time": "2023-03-08T10:10:48.526Z"
   },
   {
    "duration": 154,
    "start_time": "2023-03-08T10:10:48.544Z"
   },
   {
    "duration": 6,
    "start_time": "2023-03-08T10:10:48.701Z"
   },
   {
    "duration": 11,
    "start_time": "2023-03-08T10:10:48.708Z"
   },
   {
    "duration": 282,
    "start_time": "2023-03-08T10:10:48.721Z"
   },
   {
    "duration": 6,
    "start_time": "2023-03-08T10:10:49.005Z"
   },
   {
    "duration": 245,
    "start_time": "2023-03-08T10:10:49.013Z"
   },
   {
    "duration": 158,
    "start_time": "2023-03-08T10:10:49.259Z"
   },
   {
    "duration": 6,
    "start_time": "2023-03-08T10:10:49.419Z"
   },
   {
    "duration": 24,
    "start_time": "2023-03-08T10:10:49.427Z"
   },
   {
    "duration": 11,
    "start_time": "2023-03-08T10:10:49.452Z"
   },
   {
    "duration": 9,
    "start_time": "2023-03-08T10:10:49.464Z"
   },
   {
    "duration": 11,
    "start_time": "2023-03-08T10:10:49.505Z"
   },
   {
    "duration": 25,
    "start_time": "2023-03-08T10:10:49.518Z"
   },
   {
    "duration": 11,
    "start_time": "2023-03-08T10:10:49.545Z"
   },
   {
    "duration": 15,
    "start_time": "2023-03-08T10:18:58.400Z"
   },
   {
    "duration": 12,
    "start_time": "2023-03-08T10:19:03.504Z"
   },
   {
    "duration": 1271,
    "start_time": "2023-03-08T10:19:11.659Z"
   },
   {
    "duration": 111,
    "start_time": "2023-03-08T10:19:12.933Z"
   },
   {
    "duration": 18,
    "start_time": "2023-03-08T10:19:13.046Z"
   },
   {
    "duration": 5,
    "start_time": "2023-03-08T10:19:13.066Z"
   },
   {
    "duration": 16,
    "start_time": "2023-03-08T10:19:13.075Z"
   },
   {
    "duration": 25,
    "start_time": "2023-03-08T10:19:13.093Z"
   },
   {
    "duration": 10,
    "start_time": "2023-03-08T10:19:13.120Z"
   },
   {
    "duration": 34,
    "start_time": "2023-03-08T10:19:13.132Z"
   },
   {
    "duration": 19,
    "start_time": "2023-03-08T10:19:13.168Z"
   },
   {
    "duration": 22,
    "start_time": "2023-03-08T10:19:13.189Z"
   },
   {
    "duration": 18,
    "start_time": "2023-03-08T10:19:13.213Z"
   },
   {
    "duration": 10,
    "start_time": "2023-03-08T10:19:13.233Z"
   },
   {
    "duration": 12,
    "start_time": "2023-03-08T10:19:13.245Z"
   },
   {
    "duration": 12,
    "start_time": "2023-03-08T10:19:13.261Z"
   },
   {
    "duration": 10,
    "start_time": "2023-03-08T10:19:13.275Z"
   },
   {
    "duration": 26,
    "start_time": "2023-03-08T10:19:13.286Z"
   },
   {
    "duration": 13,
    "start_time": "2023-03-08T10:19:13.314Z"
   },
   {
    "duration": 20,
    "start_time": "2023-03-08T10:19:13.329Z"
   },
   {
    "duration": 7,
    "start_time": "2023-03-08T10:19:13.351Z"
   },
   {
    "duration": 15,
    "start_time": "2023-03-08T10:19:13.360Z"
   },
   {
    "duration": 26,
    "start_time": "2023-03-08T10:19:13.377Z"
   },
   {
    "duration": 5,
    "start_time": "2023-03-08T10:19:13.405Z"
   },
   {
    "duration": 7,
    "start_time": "2023-03-08T10:19:13.412Z"
   },
   {
    "duration": 8,
    "start_time": "2023-03-08T10:19:13.420Z"
   },
   {
    "duration": 13,
    "start_time": "2023-03-08T10:19:13.430Z"
   },
   {
    "duration": 89,
    "start_time": "2023-03-08T10:19:13.445Z"
   },
   {
    "duration": 14,
    "start_time": "2023-03-08T10:19:13.536Z"
   },
   {
    "duration": 5,
    "start_time": "2023-03-08T10:19:13.553Z"
   },
   {
    "duration": 29,
    "start_time": "2023-03-08T10:19:13.560Z"
   },
   {
    "duration": 15,
    "start_time": "2023-03-08T10:19:13.603Z"
   },
   {
    "duration": 11,
    "start_time": "2023-03-08T10:19:13.620Z"
   },
   {
    "duration": 217,
    "start_time": "2023-03-08T10:19:13.632Z"
   },
   {
    "duration": 153,
    "start_time": "2023-03-08T10:19:13.850Z"
   },
   {
    "duration": 13,
    "start_time": "2023-03-08T10:19:14.005Z"
   },
   {
    "duration": 11,
    "start_time": "2023-03-08T10:19:14.020Z"
   },
   {
    "duration": 477,
    "start_time": "2023-03-08T10:19:14.033Z"
   },
   {
    "duration": 432,
    "start_time": "2023-03-08T10:19:14.511Z"
   },
   {
    "duration": 14,
    "start_time": "2023-03-08T10:19:14.945Z"
   },
   {
    "duration": 567,
    "start_time": "2023-03-08T10:19:14.961Z"
   },
   {
    "duration": 24,
    "start_time": "2023-03-08T10:19:15.530Z"
   },
   {
    "duration": 394,
    "start_time": "2023-03-08T10:19:15.558Z"
   },
   {
    "duration": 22,
    "start_time": "2023-03-08T10:19:15.954Z"
   },
   {
    "duration": 462,
    "start_time": "2023-03-08T10:19:15.978Z"
   },
   {
    "duration": 13,
    "start_time": "2023-03-08T10:19:16.442Z"
   },
   {
    "duration": 253,
    "start_time": "2023-03-08T10:19:16.456Z"
   },
   {
    "duration": 6,
    "start_time": "2023-03-08T10:19:16.711Z"
   },
   {
    "duration": 14,
    "start_time": "2023-03-08T10:19:16.718Z"
   },
   {
    "duration": 306,
    "start_time": "2023-03-08T10:19:16.734Z"
   },
   {
    "duration": 6,
    "start_time": "2023-03-08T10:19:17.042Z"
   },
   {
    "duration": 253,
    "start_time": "2023-03-08T10:19:17.050Z"
   },
   {
    "duration": 186,
    "start_time": "2023-03-08T10:19:17.305Z"
   },
   {
    "duration": 14,
    "start_time": "2023-03-08T10:19:17.493Z"
   },
   {
    "duration": 38,
    "start_time": "2023-03-08T10:19:17.509Z"
   },
   {
    "duration": 12,
    "start_time": "2023-03-08T10:19:17.549Z"
   },
   {
    "duration": 13,
    "start_time": "2023-03-08T10:19:17.563Z"
   },
   {
    "duration": 11,
    "start_time": "2023-03-08T10:19:17.603Z"
   },
   {
    "duration": 26,
    "start_time": "2023-03-08T10:19:17.616Z"
   },
   {
    "duration": 14,
    "start_time": "2023-03-08T10:19:17.645Z"
   },
   {
    "duration": 1140,
    "start_time": "2023-03-08T10:24:28.533Z"
   },
   {
    "duration": 74,
    "start_time": "2023-03-08T10:24:29.675Z"
   },
   {
    "duration": 12,
    "start_time": "2023-03-08T10:24:29.751Z"
   },
   {
    "duration": 3,
    "start_time": "2023-03-08T10:24:29.765Z"
   },
   {
    "duration": 13,
    "start_time": "2023-03-08T10:24:29.770Z"
   },
   {
    "duration": 11,
    "start_time": "2023-03-08T10:24:29.784Z"
   },
   {
    "duration": 6,
    "start_time": "2023-03-08T10:24:29.797Z"
   },
   {
    "duration": 12,
    "start_time": "2023-03-08T10:24:29.804Z"
   },
   {
    "duration": 16,
    "start_time": "2023-03-08T10:24:29.818Z"
   },
   {
    "duration": 11,
    "start_time": "2023-03-08T10:24:29.837Z"
   },
   {
    "duration": 8,
    "start_time": "2023-03-08T10:24:29.850Z"
   },
   {
    "duration": 7,
    "start_time": "2023-03-08T10:24:29.859Z"
   },
   {
    "duration": 6,
    "start_time": "2023-03-08T10:24:29.868Z"
   },
   {
    "duration": 28,
    "start_time": "2023-03-08T10:24:29.876Z"
   },
   {
    "duration": 7,
    "start_time": "2023-03-08T10:24:29.906Z"
   },
   {
    "duration": 9,
    "start_time": "2023-03-08T10:24:29.915Z"
   },
   {
    "duration": 13,
    "start_time": "2023-03-08T10:24:29.926Z"
   },
   {
    "duration": 12,
    "start_time": "2023-03-08T10:24:29.940Z"
   },
   {
    "duration": 10,
    "start_time": "2023-03-08T10:24:29.954Z"
   },
   {
    "duration": 43,
    "start_time": "2023-03-08T10:24:29.965Z"
   },
   {
    "duration": 12,
    "start_time": "2023-03-08T10:24:30.010Z"
   },
   {
    "duration": 14,
    "start_time": "2023-03-08T10:24:30.024Z"
   },
   {
    "duration": 11,
    "start_time": "2023-03-08T10:24:30.040Z"
   },
   {
    "duration": 12,
    "start_time": "2023-03-08T10:24:30.053Z"
   },
   {
    "duration": 18,
    "start_time": "2023-03-08T10:24:30.067Z"
   },
   {
    "duration": 67,
    "start_time": "2023-03-08T10:24:30.087Z"
   },
   {
    "duration": 14,
    "start_time": "2023-03-08T10:24:30.156Z"
   },
   {
    "duration": 4,
    "start_time": "2023-03-08T10:24:30.174Z"
   },
   {
    "duration": 32,
    "start_time": "2023-03-08T10:24:30.180Z"
   },
   {
    "duration": 22,
    "start_time": "2023-03-08T10:24:30.214Z"
   },
   {
    "duration": 24,
    "start_time": "2023-03-08T10:24:30.238Z"
   },
   {
    "duration": 182,
    "start_time": "2023-03-08T10:24:30.264Z"
   },
   {
    "duration": 139,
    "start_time": "2023-03-08T10:24:30.448Z"
   },
   {
    "duration": 25,
    "start_time": "2023-03-08T10:24:30.589Z"
   },
   {
    "duration": 28,
    "start_time": "2023-03-08T10:24:30.616Z"
   },
   {
    "duration": 498,
    "start_time": "2023-03-08T10:24:30.646Z"
   },
   {
    "duration": 385,
    "start_time": "2023-03-08T10:24:31.146Z"
   },
   {
    "duration": 13,
    "start_time": "2023-03-08T10:24:31.533Z"
   },
   {
    "duration": 513,
    "start_time": "2023-03-08T10:24:31.548Z"
   },
   {
    "duration": 22,
    "start_time": "2023-03-08T10:24:32.064Z"
   },
   {
    "duration": 338,
    "start_time": "2023-03-08T10:24:32.102Z"
   },
   {
    "duration": 14,
    "start_time": "2023-03-08T10:24:32.442Z"
   },
   {
    "duration": 516,
    "start_time": "2023-03-08T10:24:32.458Z"
   },
   {
    "duration": 12,
    "start_time": "2023-03-08T10:24:32.976Z"
   },
   {
    "duration": 149,
    "start_time": "2023-03-08T10:24:32.990Z"
   },
   {
    "duration": 6,
    "start_time": "2023-03-08T10:24:33.140Z"
   },
   {
    "duration": 15,
    "start_time": "2023-03-08T10:24:33.147Z"
   },
   {
    "duration": 288,
    "start_time": "2023-03-08T10:24:33.164Z"
   },
   {
    "duration": 5,
    "start_time": "2023-03-08T10:24:33.454Z"
   },
   {
    "duration": 243,
    "start_time": "2023-03-08T10:24:33.461Z"
   },
   {
    "duration": 152,
    "start_time": "2023-03-08T10:24:33.706Z"
   },
   {
    "duration": 7,
    "start_time": "2023-03-08T10:24:33.860Z"
   },
   {
    "duration": 37,
    "start_time": "2023-03-08T10:24:33.868Z"
   },
   {
    "duration": 10,
    "start_time": "2023-03-08T10:24:33.907Z"
   },
   {
    "duration": 22,
    "start_time": "2023-03-08T10:24:33.919Z"
   },
   {
    "duration": 63,
    "start_time": "2023-03-08T10:24:33.943Z"
   },
   {
    "duration": 62,
    "start_time": "2023-03-08T10:24:34.008Z"
   },
   {
    "duration": 16,
    "start_time": "2023-03-08T10:24:34.072Z"
   },
   {
    "duration": 1163,
    "start_time": "2023-03-08T10:24:49.837Z"
   },
   {
    "duration": 75,
    "start_time": "2023-03-08T10:24:51.003Z"
   },
   {
    "duration": 13,
    "start_time": "2023-03-08T10:24:51.080Z"
   },
   {
    "duration": 7,
    "start_time": "2023-03-08T10:24:51.095Z"
   },
   {
    "duration": 21,
    "start_time": "2023-03-08T10:24:51.105Z"
   },
   {
    "duration": 14,
    "start_time": "2023-03-08T10:24:51.128Z"
   },
   {
    "duration": 6,
    "start_time": "2023-03-08T10:24:51.144Z"
   },
   {
    "duration": 14,
    "start_time": "2023-03-08T10:24:51.152Z"
   },
   {
    "duration": 15,
    "start_time": "2023-03-08T10:24:51.168Z"
   },
   {
    "duration": 12,
    "start_time": "2023-03-08T10:24:51.201Z"
   },
   {
    "duration": 10,
    "start_time": "2023-03-08T10:24:51.215Z"
   },
   {
    "duration": 6,
    "start_time": "2023-03-08T10:24:51.226Z"
   },
   {
    "duration": 7,
    "start_time": "2023-03-08T10:24:51.234Z"
   },
   {
    "duration": 7,
    "start_time": "2023-03-08T10:24:51.244Z"
   },
   {
    "duration": 8,
    "start_time": "2023-03-08T10:24:51.252Z"
   },
   {
    "duration": 8,
    "start_time": "2023-03-08T10:24:51.261Z"
   },
   {
    "duration": 34,
    "start_time": "2023-03-08T10:24:51.270Z"
   },
   {
    "duration": 14,
    "start_time": "2023-03-08T10:24:51.306Z"
   },
   {
    "duration": 9,
    "start_time": "2023-03-08T10:24:51.322Z"
   },
   {
    "duration": 15,
    "start_time": "2023-03-08T10:24:51.332Z"
   },
   {
    "duration": 7,
    "start_time": "2023-03-08T10:24:51.349Z"
   },
   {
    "duration": 7,
    "start_time": "2023-03-08T10:24:51.358Z"
   },
   {
    "duration": 37,
    "start_time": "2023-03-08T10:24:51.366Z"
   },
   {
    "duration": 7,
    "start_time": "2023-03-08T10:24:51.406Z"
   },
   {
    "duration": 15,
    "start_time": "2023-03-08T10:24:51.415Z"
   },
   {
    "duration": 76,
    "start_time": "2023-03-08T10:24:51.432Z"
   },
   {
    "duration": 15,
    "start_time": "2023-03-08T10:24:51.510Z"
   },
   {
    "duration": 5,
    "start_time": "2023-03-08T10:24:51.527Z"
   },
   {
    "duration": 14,
    "start_time": "2023-03-08T10:24:51.533Z"
   },
   {
    "duration": 18,
    "start_time": "2023-03-08T10:24:51.548Z"
   },
   {
    "duration": 10,
    "start_time": "2023-03-08T10:24:51.602Z"
   },
   {
    "duration": 191,
    "start_time": "2023-03-08T10:24:51.614Z"
   },
   {
    "duration": 136,
    "start_time": "2023-03-08T10:24:51.806Z"
   },
   {
    "duration": 13,
    "start_time": "2023-03-08T10:24:51.944Z"
   },
   {
    "duration": 12,
    "start_time": "2023-03-08T10:24:51.958Z"
   },
   {
    "duration": 456,
    "start_time": "2023-03-08T10:24:51.972Z"
   },
   {
    "duration": 359,
    "start_time": "2023-03-08T10:24:52.430Z"
   },
   {
    "duration": 23,
    "start_time": "2023-03-08T10:24:52.791Z"
   },
   {
    "duration": 477,
    "start_time": "2023-03-08T10:24:52.816Z"
   },
   {
    "duration": 23,
    "start_time": "2023-03-08T10:24:53.295Z"
   },
   {
    "duration": 356,
    "start_time": "2023-03-08T10:24:53.322Z"
   },
   {
    "duration": 15,
    "start_time": "2023-03-08T10:24:53.679Z"
   },
   {
    "duration": 426,
    "start_time": "2023-03-08T10:24:53.702Z"
   },
   {
    "duration": 12,
    "start_time": "2023-03-08T10:24:54.129Z"
   },
   {
    "duration": 255,
    "start_time": "2023-03-08T10:24:54.143Z"
   },
   {
    "duration": 5,
    "start_time": "2023-03-08T10:24:54.402Z"
   },
   {
    "duration": 14,
    "start_time": "2023-03-08T10:24:54.409Z"
   },
   {
    "duration": 294,
    "start_time": "2023-03-08T10:24:54.425Z"
   },
   {
    "duration": 19,
    "start_time": "2023-03-08T10:24:54.721Z"
   },
   {
    "duration": 404,
    "start_time": "2023-03-08T10:24:54.742Z"
   },
   {
    "duration": 361,
    "start_time": "2023-03-08T10:24:55.147Z"
   },
   {
    "duration": 8,
    "start_time": "2023-03-08T10:24:55.509Z"
   },
   {
    "duration": 103,
    "start_time": "2023-03-08T10:24:55.519Z"
   },
   {
    "duration": 12,
    "start_time": "2023-03-08T10:24:55.624Z"
   },
   {
    "duration": 67,
    "start_time": "2023-03-08T10:24:55.638Z"
   },
   {
    "duration": 12,
    "start_time": "2023-03-08T10:24:55.707Z"
   },
   {
    "duration": 29,
    "start_time": "2023-03-08T10:24:55.721Z"
   },
   {
    "duration": 14,
    "start_time": "2023-03-08T10:24:55.801Z"
   },
   {
    "duration": 13,
    "start_time": "2023-03-08T10:25:33.293Z"
   },
   {
    "duration": 13,
    "start_time": "2023-03-08T10:25:37.344Z"
   },
   {
    "duration": 13,
    "start_time": "2023-03-08T10:25:56.511Z"
   },
   {
    "duration": 15,
    "start_time": "2023-03-08T10:37:38.411Z"
   },
   {
    "duration": 112,
    "start_time": "2023-03-08T10:40:40.759Z"
   },
   {
    "duration": 6,
    "start_time": "2023-03-08T10:40:45.637Z"
   },
   {
    "duration": 6,
    "start_time": "2023-03-08T10:41:26.013Z"
   },
   {
    "duration": 6,
    "start_time": "2023-03-08T10:44:10.274Z"
   },
   {
    "duration": 8,
    "start_time": "2023-03-08T10:44:12.690Z"
   },
   {
    "duration": 7,
    "start_time": "2023-03-08T10:46:31.033Z"
   },
   {
    "duration": 6,
    "start_time": "2023-03-08T10:46:47.298Z"
   },
   {
    "duration": 5,
    "start_time": "2023-03-08T10:47:00.975Z"
   },
   {
    "duration": 1214,
    "start_time": "2023-03-08T10:49:00.891Z"
   },
   {
    "duration": 76,
    "start_time": "2023-03-08T10:49:02.108Z"
   },
   {
    "duration": 15,
    "start_time": "2023-03-08T10:49:02.186Z"
   },
   {
    "duration": 10,
    "start_time": "2023-03-08T10:49:02.203Z"
   },
   {
    "duration": 29,
    "start_time": "2023-03-08T10:49:02.216Z"
   },
   {
    "duration": 34,
    "start_time": "2023-03-08T10:49:02.248Z"
   },
   {
    "duration": 15,
    "start_time": "2023-03-08T10:49:02.284Z"
   },
   {
    "duration": 53,
    "start_time": "2023-03-08T10:49:02.301Z"
   },
   {
    "duration": 33,
    "start_time": "2023-03-08T10:49:02.356Z"
   },
   {
    "duration": 21,
    "start_time": "2023-03-08T10:49:02.392Z"
   },
   {
    "duration": 41,
    "start_time": "2023-03-08T10:49:02.415Z"
   },
   {
    "duration": 25,
    "start_time": "2023-03-08T10:49:02.458Z"
   },
   {
    "duration": 16,
    "start_time": "2023-03-08T10:49:02.485Z"
   },
   {
    "duration": 16,
    "start_time": "2023-03-08T10:49:02.505Z"
   },
   {
    "duration": 11,
    "start_time": "2023-03-08T10:49:02.523Z"
   },
   {
    "duration": 10,
    "start_time": "2023-03-08T10:49:02.535Z"
   },
   {
    "duration": 42,
    "start_time": "2023-03-08T10:49:02.547Z"
   },
   {
    "duration": 27,
    "start_time": "2023-03-08T10:49:02.591Z"
   },
   {
    "duration": 49,
    "start_time": "2023-03-08T10:49:02.620Z"
   },
   {
    "duration": 24,
    "start_time": "2023-03-08T10:49:02.671Z"
   },
   {
    "duration": 7,
    "start_time": "2023-03-08T10:49:02.697Z"
   },
   {
    "duration": 13,
    "start_time": "2023-03-08T10:49:02.706Z"
   },
   {
    "duration": 11,
    "start_time": "2023-03-08T10:49:02.721Z"
   },
   {
    "duration": 19,
    "start_time": "2023-03-08T10:49:02.733Z"
   },
   {
    "duration": 26,
    "start_time": "2023-03-08T10:49:02.754Z"
   },
   {
    "duration": 97,
    "start_time": "2023-03-08T10:49:02.782Z"
   },
   {
    "duration": 13,
    "start_time": "2023-03-08T10:49:02.881Z"
   },
   {
    "duration": 8,
    "start_time": "2023-03-08T10:49:02.901Z"
   },
   {
    "duration": 31,
    "start_time": "2023-03-08T10:49:02.911Z"
   },
   {
    "duration": 29,
    "start_time": "2023-03-08T10:49:02.944Z"
   },
   {
    "duration": 20,
    "start_time": "2023-03-08T10:49:02.975Z"
   },
   {
    "duration": 195,
    "start_time": "2023-03-08T10:49:02.997Z"
   },
   {
    "duration": 157,
    "start_time": "2023-03-08T10:49:03.195Z"
   },
   {
    "duration": 18,
    "start_time": "2023-03-08T10:49:03.354Z"
   },
   {
    "duration": 33,
    "start_time": "2023-03-08T10:49:03.374Z"
   },
   {
    "duration": 452,
    "start_time": "2023-03-08T10:49:03.409Z"
   },
   {
    "duration": 387,
    "start_time": "2023-03-08T10:49:03.863Z"
   },
   {
    "duration": 17,
    "start_time": "2023-03-08T10:49:04.253Z"
   },
   {
    "duration": 537,
    "start_time": "2023-03-08T10:49:04.272Z"
   },
   {
    "duration": 24,
    "start_time": "2023-03-08T10:49:04.812Z"
   },
   {
    "duration": 403,
    "start_time": "2023-03-08T10:49:04.841Z"
   },
   {
    "duration": 14,
    "start_time": "2023-03-08T10:49:05.247Z"
   },
   {
    "duration": 506,
    "start_time": "2023-03-08T10:49:05.263Z"
   },
   {
    "duration": 12,
    "start_time": "2023-03-08T10:49:05.771Z"
   },
   {
    "duration": 260,
    "start_time": "2023-03-08T10:49:05.785Z"
   },
   {
    "duration": 6,
    "start_time": "2023-03-08T10:49:06.047Z"
   },
   {
    "duration": 14,
    "start_time": "2023-03-08T10:49:06.055Z"
   },
   {
    "duration": 326,
    "start_time": "2023-03-08T10:49:06.071Z"
   },
   {
    "duration": 6,
    "start_time": "2023-03-08T10:49:06.399Z"
   },
   {
    "duration": 258,
    "start_time": "2023-03-08T10:49:06.406Z"
   },
   {
    "duration": 196,
    "start_time": "2023-03-08T10:49:06.665Z"
   },
   {
    "duration": 7,
    "start_time": "2023-03-08T10:49:06.863Z"
   },
   {
    "duration": 7,
    "start_time": "2023-03-08T10:49:06.871Z"
   },
   {
    "duration": 25,
    "start_time": "2023-03-08T10:49:06.880Z"
   },
   {
    "duration": 25,
    "start_time": "2023-03-08T10:49:06.907Z"
   },
   {
    "duration": 6,
    "start_time": "2023-03-08T10:49:06.933Z"
   },
   {
    "duration": 5,
    "start_time": "2023-03-08T10:49:06.941Z"
   },
   {
    "duration": 6,
    "start_time": "2023-03-08T10:49:06.948Z"
   },
   {
    "duration": 9,
    "start_time": "2023-03-08T10:49:06.956Z"
   },
   {
    "duration": 18,
    "start_time": "2023-03-08T10:49:07.001Z"
   },
   {
    "duration": 19,
    "start_time": "2023-03-08T10:49:07.021Z"
   },
   {
    "duration": 30,
    "start_time": "2023-03-08T10:49:07.042Z"
   },
   {
    "duration": 27,
    "start_time": "2023-03-08T10:49:07.075Z"
   },
   {
    "duration": 1136,
    "start_time": "2023-03-09T06:05:20.873Z"
   },
   {
    "duration": 207,
    "start_time": "2023-03-09T06:05:22.011Z"
   },
   {
    "duration": 10,
    "start_time": "2023-03-09T06:05:22.220Z"
   },
   {
    "duration": 6,
    "start_time": "2023-03-09T06:05:22.232Z"
   },
   {
    "duration": 12,
    "start_time": "2023-03-09T06:05:22.239Z"
   },
   {
    "duration": 9,
    "start_time": "2023-03-09T06:05:22.253Z"
   },
   {
    "duration": 4,
    "start_time": "2023-03-09T06:05:22.264Z"
   },
   {
    "duration": 17,
    "start_time": "2023-03-09T06:05:22.270Z"
   },
   {
    "duration": 13,
    "start_time": "2023-03-09T06:05:22.288Z"
   },
   {
    "duration": 10,
    "start_time": "2023-03-09T06:05:22.303Z"
   },
   {
    "duration": 5,
    "start_time": "2023-03-09T06:05:22.314Z"
   },
   {
    "duration": 22,
    "start_time": "2023-03-09T06:05:22.320Z"
   },
   {
    "duration": 10,
    "start_time": "2023-03-09T06:05:22.344Z"
   },
   {
    "duration": 21,
    "start_time": "2023-03-09T06:05:22.355Z"
   },
   {
    "duration": 7,
    "start_time": "2023-03-09T06:05:22.377Z"
   },
   {
    "duration": 11,
    "start_time": "2023-03-09T06:05:22.385Z"
   },
   {
    "duration": 13,
    "start_time": "2023-03-09T06:05:22.399Z"
   },
   {
    "duration": 17,
    "start_time": "2023-03-09T06:05:22.414Z"
   },
   {
    "duration": 36,
    "start_time": "2023-03-09T06:05:22.433Z"
   },
   {
    "duration": 18,
    "start_time": "2023-03-09T06:05:22.471Z"
   },
   {
    "duration": 18,
    "start_time": "2023-03-09T06:05:22.491Z"
   },
   {
    "duration": 12,
    "start_time": "2023-03-09T06:05:22.510Z"
   },
   {
    "duration": 18,
    "start_time": "2023-03-09T06:05:22.524Z"
   },
   {
    "duration": 11,
    "start_time": "2023-03-09T06:05:22.543Z"
   },
   {
    "duration": 11,
    "start_time": "2023-03-09T06:05:22.555Z"
   },
   {
    "duration": 53,
    "start_time": "2023-03-09T06:05:22.568Z"
   },
   {
    "duration": 18,
    "start_time": "2023-03-09T06:05:22.623Z"
   },
   {
    "duration": 3,
    "start_time": "2023-03-09T06:05:22.644Z"
   },
   {
    "duration": 18,
    "start_time": "2023-03-09T06:05:22.648Z"
   },
   {
    "duration": 17,
    "start_time": "2023-03-09T06:05:22.667Z"
   },
   {
    "duration": 10,
    "start_time": "2023-03-09T06:05:22.685Z"
   },
   {
    "duration": 169,
    "start_time": "2023-03-09T06:05:22.697Z"
   },
   {
    "duration": 120,
    "start_time": "2023-03-09T06:05:22.868Z"
   },
   {
    "duration": 11,
    "start_time": "2023-03-09T06:05:22.990Z"
   },
   {
    "duration": 15,
    "start_time": "2023-03-09T06:05:23.003Z"
   },
   {
    "duration": 387,
    "start_time": "2023-03-09T06:05:23.019Z"
   },
   {
    "duration": 320,
    "start_time": "2023-03-09T06:05:23.408Z"
   },
   {
    "duration": 18,
    "start_time": "2023-03-09T06:05:23.730Z"
   },
   {
    "duration": 471,
    "start_time": "2023-03-09T06:05:23.750Z"
   },
   {
    "duration": 24,
    "start_time": "2023-03-09T06:05:24.223Z"
   },
   {
    "duration": 345,
    "start_time": "2023-03-09T06:05:24.248Z"
   },
   {
    "duration": 13,
    "start_time": "2023-03-09T06:05:24.594Z"
   },
   {
    "duration": 465,
    "start_time": "2023-03-09T06:05:24.609Z"
   },
   {
    "duration": 12,
    "start_time": "2023-03-09T06:05:25.076Z"
   },
   {
    "duration": 166,
    "start_time": "2023-03-09T06:05:25.089Z"
   },
   {
    "duration": 6,
    "start_time": "2023-03-09T06:05:25.256Z"
   },
   {
    "duration": 13,
    "start_time": "2023-03-09T06:05:25.264Z"
   },
   {
    "duration": 306,
    "start_time": "2023-03-09T06:05:25.278Z"
   },
   {
    "duration": 6,
    "start_time": "2023-03-09T06:05:25.586Z"
   },
   {
    "duration": 280,
    "start_time": "2023-03-09T06:05:25.593Z"
   },
   {
    "duration": 177,
    "start_time": "2023-03-09T06:05:25.875Z"
   },
   {
    "duration": 8,
    "start_time": "2023-03-09T06:05:26.054Z"
   },
   {
    "duration": 22,
    "start_time": "2023-03-09T06:05:26.063Z"
   },
   {
    "duration": 6,
    "start_time": "2023-03-09T06:05:26.087Z"
   },
   {
    "duration": 34,
    "start_time": "2023-03-09T06:05:26.094Z"
   },
   {
    "duration": 8,
    "start_time": "2023-03-09T06:05:26.140Z"
   },
   {
    "duration": 5,
    "start_time": "2023-03-09T06:05:26.150Z"
   },
   {
    "duration": 6,
    "start_time": "2023-03-09T06:05:26.157Z"
   },
   {
    "duration": 18,
    "start_time": "2023-03-09T06:05:26.165Z"
   },
   {
    "duration": 12,
    "start_time": "2023-03-09T06:05:26.184Z"
   },
   {
    "duration": 9,
    "start_time": "2023-03-09T06:05:26.198Z"
   },
   {
    "duration": 51,
    "start_time": "2023-03-09T06:05:26.209Z"
   },
   {
    "duration": 10,
    "start_time": "2023-03-09T06:05:26.262Z"
   }
  ],
  "kernelspec": {
   "display_name": "Python 3 (ipykernel)",
   "language": "python",
   "name": "python3"
  },
  "language_info": {
   "codemirror_mode": {
    "name": "ipython",
    "version": 3
   },
   "file_extension": ".py",
   "mimetype": "text/x-python",
   "name": "python",
   "nbconvert_exporter": "python",
   "pygments_lexer": "ipython3",
   "version": "3.9.13"
  },
  "toc": {
   "base_numbering": 1,
   "nav_menu": {},
   "number_sections": true,
   "sideBar": true,
   "skip_h1_title": true,
   "title_cell": "Table of Contents",
   "title_sidebar": "Contents",
   "toc_cell": false,
   "toc_position": {
    "height": "calc(100% - 180px)",
    "left": "10px",
    "top": "150px",
    "width": "165px"
   },
   "toc_section_display": true,
   "toc_window_display": true
  }
 },
 "nbformat": 4,
 "nbformat_minor": 2
}
