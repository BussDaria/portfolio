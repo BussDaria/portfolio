{
 "cells": [
  {
   "cell_type": "markdown",
   "metadata": {},
   "source": [
    "## Обзор данных"
   ]
  },
  {
   "cell_type": "markdown",
   "metadata": {},
   "source": [
    "Выгрузим данные о поведении пользователей из csv-файла в датафрейм и сохраним его в переменной `logs`."
   ]
  },
  {
   "cell_type": "code",
   "execution_count": 1,
   "metadata": {},
   "outputs": [],
   "source": [
    "# загружаем библиотеки\n",
    "import pandas as pd\n",
    "import datetime as dt\n",
    "from matplotlib import pyplot as plt\n",
    "import seaborn as sns\n",
    "from scipy import stats as st\n",
    "import numpy as np\n",
    "import math as mth"
   ]
  },
  {
   "cell_type": "code",
   "execution_count": 2,
   "metadata": {},
   "outputs": [],
   "source": [
    "# загружаем данные\n",
    "try:\n",
    "    logs = pd.read_csv('/datasets/logs_exp.csv', sep='\\t')\n",
    "except FileNotFoundError:\n",
    "    display('Такого файла не существует!')"
   ]
  },
  {
   "cell_type": "markdown",
   "metadata": {},
   "source": [
    "Выведем 10 строчек датафрейма `logs` на экран."
   ]
  },
  {
   "cell_type": "code",
   "execution_count": 3,
   "metadata": {},
   "outputs": [
    {
     "data": {
      "text/html": [
       "<div>\n",
       "<style scoped>\n",
       "    .dataframe tbody tr th:only-of-type {\n",
       "        vertical-align: middle;\n",
       "    }\n",
       "\n",
       "    .dataframe tbody tr th {\n",
       "        vertical-align: top;\n",
       "    }\n",
       "\n",
       "    .dataframe thead th {\n",
       "        text-align: right;\n",
       "    }\n",
       "</style>\n",
       "<table border=\"1\" class=\"dataframe\">\n",
       "  <thead>\n",
       "    <tr style=\"text-align: right;\">\n",
       "      <th></th>\n",
       "      <th>EventName</th>\n",
       "      <th>DeviceIDHash</th>\n",
       "      <th>EventTimestamp</th>\n",
       "      <th>ExpId</th>\n",
       "    </tr>\n",
       "  </thead>\n",
       "  <tbody>\n",
       "    <tr>\n",
       "      <th>90811</th>\n",
       "      <td>OffersScreenAppear</td>\n",
       "      <td>5006225713885460557</td>\n",
       "      <td>1564835129</td>\n",
       "      <td>247</td>\n",
       "    </tr>\n",
       "    <tr>\n",
       "      <th>60890</th>\n",
       "      <td>PaymentScreenSuccessful</td>\n",
       "      <td>3003444229104601988</td>\n",
       "      <td>1564756433</td>\n",
       "      <td>248</td>\n",
       "    </tr>\n",
       "    <tr>\n",
       "      <th>94916</th>\n",
       "      <td>MainScreenAppear</td>\n",
       "      <td>7300435892325726869</td>\n",
       "      <td>1564841923</td>\n",
       "      <td>248</td>\n",
       "    </tr>\n",
       "    <tr>\n",
       "      <th>183939</th>\n",
       "      <td>MainScreenAppear</td>\n",
       "      <td>8751941392761811595</td>\n",
       "      <td>1565076263</td>\n",
       "      <td>247</td>\n",
       "    </tr>\n",
       "    <tr>\n",
       "      <th>172330</th>\n",
       "      <td>CartScreenAppear</td>\n",
       "      <td>8896240631357211388</td>\n",
       "      <td>1565029354</td>\n",
       "      <td>248</td>\n",
       "    </tr>\n",
       "    <tr>\n",
       "      <th>185248</th>\n",
       "      <td>OffersScreenAppear</td>\n",
       "      <td>2204195013513295394</td>\n",
       "      <td>1565079022</td>\n",
       "      <td>248</td>\n",
       "    </tr>\n",
       "    <tr>\n",
       "      <th>127936</th>\n",
       "      <td>MainScreenAppear</td>\n",
       "      <td>1741785633060377552</td>\n",
       "      <td>1564928835</td>\n",
       "      <td>247</td>\n",
       "    </tr>\n",
       "    <tr>\n",
       "      <th>206669</th>\n",
       "      <td>CartScreenAppear</td>\n",
       "      <td>5350532170097222952</td>\n",
       "      <td>1565113607</td>\n",
       "      <td>248</td>\n",
       "    </tr>\n",
       "    <tr>\n",
       "      <th>210197</th>\n",
       "      <td>MainScreenAppear</td>\n",
       "      <td>4563180381186480517</td>\n",
       "      <td>1565119566</td>\n",
       "      <td>247</td>\n",
       "    </tr>\n",
       "    <tr>\n",
       "      <th>168600</th>\n",
       "      <td>MainScreenAppear</td>\n",
       "      <td>8441020992042856535</td>\n",
       "      <td>1565023763</td>\n",
       "      <td>247</td>\n",
       "    </tr>\n",
       "  </tbody>\n",
       "</table>\n",
       "</div>"
      ],
      "text/plain": [
       "                      EventName         DeviceIDHash  EventTimestamp  ExpId\n",
       "90811        OffersScreenAppear  5006225713885460557      1564835129    247\n",
       "60890   PaymentScreenSuccessful  3003444229104601988      1564756433    248\n",
       "94916          MainScreenAppear  7300435892325726869      1564841923    248\n",
       "183939         MainScreenAppear  8751941392761811595      1565076263    247\n",
       "172330         CartScreenAppear  8896240631357211388      1565029354    248\n",
       "185248       OffersScreenAppear  2204195013513295394      1565079022    248\n",
       "127936         MainScreenAppear  1741785633060377552      1564928835    247\n",
       "206669         CartScreenAppear  5350532170097222952      1565113607    248\n",
       "210197         MainScreenAppear  4563180381186480517      1565119566    247\n",
       "168600         MainScreenAppear  8441020992042856535      1565023763    247"
      ]
     },
     "execution_count": 3,
     "metadata": {},
     "output_type": "execute_result"
    }
   ],
   "source": [
    "logs.sample(10)"
   ]
  },
  {
   "cell_type": "markdown",
   "metadata": {},
   "source": [
    "**Таблица содержит следующую информацию:**\n",
    "\n",
    "- `EventName` - название события;\n",
    "- `DeviceIDHash` - уникальный идентификатор пользователя;\n",
    "- `EventTimestamp` - время события;\n",
    "- `ExpId` - номер эксперимента. \n",
    "\n",
    "Группа 246 и 247 - контрольные группы, а группа 248 - экспериментальная. Каждая запись в логе - это действие пользователя, или событие. "
   ]
  },
  {
   "cell_type": "markdown",
   "metadata": {},
   "source": [
    "Выведем основную информацию о датафрейме."
   ]
  },
  {
   "cell_type": "code",
   "execution_count": 4,
   "metadata": {},
   "outputs": [
    {
     "name": "stdout",
     "output_type": "stream",
     "text": [
      "<class 'pandas.core.frame.DataFrame'>\n",
      "RangeIndex: 244126 entries, 0 to 244125\n",
      "Data columns (total 4 columns):\n",
      " #   Column          Non-Null Count   Dtype \n",
      "---  ------          --------------   ----- \n",
      " 0   EventName       244126 non-null  object\n",
      " 1   DeviceIDHash    244126 non-null  int64 \n",
      " 2   EventTimestamp  244126 non-null  int64 \n",
      " 3   ExpId           244126 non-null  int64 \n",
      "dtypes: int64(3), object(1)\n",
      "memory usage: 7.5+ MB\n"
     ]
    }
   ],
   "source": [
    "logs.info()"
   ]
  },
  {
   "cell_type": "markdown",
   "metadata": {},
   "source": [
    "Таблица с исходными данными содержит 4 столбца и 244126 строк."
   ]
  },
  {
   "cell_type": "markdown",
   "metadata": {},
   "source": [
    "## Предобработка данных"
   ]
  },
  {
   "cell_type": "markdown",
   "metadata": {},
   "source": [
    "### Замена названия столбцов"
   ]
  },
  {
   "cell_type": "markdown",
   "metadata": {},
   "source": [
    "Заменим названия столбцов на удобные и понятные для нас:\n",
    "- `EventName` на `event_name` - название события;\n",
    "- `DeviceIDHash` на `user_id` - уникальный идентификатор пользователя;\n",
    "- `EventTimestamp` на `event_time` - время события;\n",
    "- `ExpId` на `exp_id` - номер эксперимента."
   ]
  },
  {
   "cell_type": "code",
   "execution_count": 5,
   "metadata": {},
   "outputs": [],
   "source": [
    "logs = logs.rename(columns={'EventName':'event_name', 'DeviceIDHash':'user_id', 'EventTimestamp':'event_time', \\\n",
    "                            'ExpId':'exp_id'})"
   ]
  },
  {
   "cell_type": "code",
   "execution_count": 6,
   "metadata": {},
   "outputs": [
    {
     "data": {
      "text/plain": [
       "Index(['event_name', 'user_id', 'event_time', 'exp_id'], dtype='object')"
      ]
     },
     "execution_count": 6,
     "metadata": {},
     "output_type": "execute_result"
    }
   ],
   "source": [
    "# check\n",
    "logs.columns"
   ]
  },
  {
   "cell_type": "markdown",
   "metadata": {},
   "source": [
    "### Удаление пропусков"
   ]
  },
  {
   "cell_type": "markdown",
   "metadata": {},
   "source": [
    "Проверим наши данные на наличие пропусков."
   ]
  },
  {
   "cell_type": "code",
   "execution_count": 7,
   "metadata": {
    "scrolled": true
   },
   "outputs": [
    {
     "data": {
      "text/plain": [
       "event_name    0\n",
       "user_id       0\n",
       "event_time    0\n",
       "exp_id        0\n",
       "dtype: int64"
      ]
     },
     "execution_count": 7,
     "metadata": {},
     "output_type": "execute_result"
    }
   ],
   "source": [
    "logs.isna().sum()"
   ]
  },
  {
   "cell_type": "markdown",
   "metadata": {},
   "source": [
    "Пропусков в данных нет."
   ]
  },
  {
   "cell_type": "markdown",
   "metadata": {},
   "source": [
    "Проверим данные на количество дубликатов."
   ]
  },
  {
   "cell_type": "code",
   "execution_count": 8,
   "metadata": {},
   "outputs": [
    {
     "data": {
      "text/plain": [
       "413"
      ]
     },
     "execution_count": 8,
     "metadata": {},
     "output_type": "execute_result"
    }
   ],
   "source": [
    "logs.duplicated().sum()"
   ]
  },
  {
   "cell_type": "markdown",
   "metadata": {},
   "source": [
    "В данных есть явные дубликаты, удалим их с помощью метода `drop_duplicates()`."
   ]
  },
  {
   "cell_type": "code",
   "execution_count": 9,
   "metadata": {
    "scrolled": true
   },
   "outputs": [
    {
     "data": {
      "text/html": [
       "<div>\n",
       "<style scoped>\n",
       "    .dataframe tbody tr th:only-of-type {\n",
       "        vertical-align: middle;\n",
       "    }\n",
       "\n",
       "    .dataframe tbody tr th {\n",
       "        vertical-align: top;\n",
       "    }\n",
       "\n",
       "    .dataframe thead th {\n",
       "        text-align: right;\n",
       "    }\n",
       "</style>\n",
       "<table border=\"1\" class=\"dataframe\">\n",
       "  <thead>\n",
       "    <tr style=\"text-align: right;\">\n",
       "      <th></th>\n",
       "      <th>event_name</th>\n",
       "      <th>user_id</th>\n",
       "      <th>event_time</th>\n",
       "      <th>exp_id</th>\n",
       "    </tr>\n",
       "  </thead>\n",
       "  <tbody>\n",
       "    <tr>\n",
       "      <th>243708</th>\n",
       "      <td>MainScreenAppear</td>\n",
       "      <td>4599628364049201812</td>\n",
       "      <td>1565212345</td>\n",
       "      <td>247</td>\n",
       "    </tr>\n",
       "    <tr>\n",
       "      <th>243709</th>\n",
       "      <td>MainScreenAppear</td>\n",
       "      <td>5849806612437486590</td>\n",
       "      <td>1565212439</td>\n",
       "      <td>246</td>\n",
       "    </tr>\n",
       "    <tr>\n",
       "      <th>243710</th>\n",
       "      <td>MainScreenAppear</td>\n",
       "      <td>5746969938801999050</td>\n",
       "      <td>1565212483</td>\n",
       "      <td>246</td>\n",
       "    </tr>\n",
       "    <tr>\n",
       "      <th>243711</th>\n",
       "      <td>MainScreenAppear</td>\n",
       "      <td>5746969938801999050</td>\n",
       "      <td>1565212498</td>\n",
       "      <td>246</td>\n",
       "    </tr>\n",
       "    <tr>\n",
       "      <th>243712</th>\n",
       "      <td>OffersScreenAppear</td>\n",
       "      <td>5746969938801999050</td>\n",
       "      <td>1565212517</td>\n",
       "      <td>246</td>\n",
       "    </tr>\n",
       "  </tbody>\n",
       "</table>\n",
       "</div>"
      ],
      "text/plain": [
       "                event_name              user_id  event_time  exp_id\n",
       "243708    MainScreenAppear  4599628364049201812  1565212345     247\n",
       "243709    MainScreenAppear  5849806612437486590  1565212439     246\n",
       "243710    MainScreenAppear  5746969938801999050  1565212483     246\n",
       "243711    MainScreenAppear  5746969938801999050  1565212498     246\n",
       "243712  OffersScreenAppear  5746969938801999050  1565212517     246"
      ]
     },
     "execution_count": 9,
     "metadata": {},
     "output_type": "execute_result"
    }
   ],
   "source": [
    "logs = logs.drop_duplicates().reset_index(drop=True)\n",
    "logs.tail()"
   ]
  },
  {
   "cell_type": "code",
   "execution_count": 10,
   "metadata": {},
   "outputs": [
    {
     "data": {
      "text/plain": [
       "0"
      ]
     },
     "execution_count": 10,
     "metadata": {},
     "output_type": "execute_result"
    }
   ],
   "source": [
    "# check\n",
    "logs.duplicated().sum()"
   ]
  },
  {
   "cell_type": "markdown",
   "metadata": {},
   "source": [
    "### Изменение типов данных"
   ]
  },
  {
   "cell_type": "markdown",
   "metadata": {},
   "source": [
    "Изучим типы данных в нашем датафрейме."
   ]
  },
  {
   "cell_type": "code",
   "execution_count": 11,
   "metadata": {
    "scrolled": false
   },
   "outputs": [
    {
     "data": {
      "text/plain": [
       "event_name    object\n",
       "user_id        int64\n",
       "event_time     int64\n",
       "exp_id         int64\n",
       "dtype: object"
      ]
     },
     "execution_count": 11,
     "metadata": {},
     "output_type": "execute_result"
    }
   ],
   "source": [
    "logs.dtypes"
   ]
  },
  {
   "cell_type": "markdown",
   "metadata": {},
   "source": [
    "Столбец `event_time` содержит тип `int`, изменим его на `datetime` с помощью `Timestamp`."
   ]
  },
  {
   "cell_type": "code",
   "execution_count": 12,
   "metadata": {},
   "outputs": [],
   "source": [
    "logs['event_time'] = logs['event_time'].map(lambda x: pd.Timestamp(x, unit='s'))"
   ]
  },
  {
   "cell_type": "code",
   "execution_count": 13,
   "metadata": {},
   "outputs": [
    {
     "data": {
      "text/plain": [
       "0   2019-07-25 04:43:36\n",
       "1   2019-07-25 11:11:42\n",
       "2   2019-07-25 11:28:47\n",
       "3   2019-07-25 11:28:47\n",
       "4   2019-07-25 11:48:42\n",
       "Name: event_time, dtype: datetime64[ns]"
      ]
     },
     "execution_count": 13,
     "metadata": {},
     "output_type": "execute_result"
    }
   ],
   "source": [
    "# check\n",
    "logs['event_time'].head()"
   ]
  },
  {
   "cell_type": "code",
   "execution_count": 14,
   "metadata": {
    "scrolled": true
   },
   "outputs": [
    {
     "data": {
      "text/plain": [
       "event_name            object\n",
       "user_id                int64\n",
       "event_time    datetime64[ns]\n",
       "exp_id                 int64\n",
       "dtype: object"
      ]
     },
     "execution_count": 14,
     "metadata": {},
     "output_type": "execute_result"
    }
   ],
   "source": [
    "# check\n",
    "logs.dtypes"
   ]
  },
  {
   "cell_type": "markdown",
   "metadata": {},
   "source": [
    "Изменили тип данных в столбце `event_time` на `datetime`."
   ]
  },
  {
   "cell_type": "markdown",
   "metadata": {},
   "source": [
    "### Добавление новых столбцов"
   ]
  },
  {
   "cell_type": "markdown",
   "metadata": {},
   "source": [
    "Добавим столбец `event_date_time`, который будет содержать дату и время, и столбец `event_date`, который будет содержать дату."
   ]
  },
  {
   "cell_type": "code",
   "execution_count": 15,
   "metadata": {},
   "outputs": [
    {
     "data": {
      "text/plain": [
       "0   2019-07-25 04:43:36\n",
       "1   2019-07-25 11:11:42\n",
       "2   2019-07-25 11:28:47\n",
       "3   2019-07-25 11:28:47\n",
       "4   2019-07-25 11:48:42\n",
       "Name: event_date_time, dtype: datetime64[ns]"
      ]
     },
     "execution_count": 15,
     "metadata": {},
     "output_type": "execute_result"
    }
   ],
   "source": [
    "logs['event_date_time'] = pd.to_datetime(logs['event_time'])\n",
    "logs['event_date_time'].head()"
   ]
  },
  {
   "cell_type": "code",
   "execution_count": 16,
   "metadata": {},
   "outputs": [
    {
     "data": {
      "text/plain": [
       "0   2019-07-25\n",
       "1   2019-07-25\n",
       "2   2019-07-25\n",
       "3   2019-07-25\n",
       "4   2019-07-25\n",
       "Name: event_date, dtype: datetime64[ns]"
      ]
     },
     "execution_count": 16,
     "metadata": {},
     "output_type": "execute_result"
    }
   ],
   "source": [
    "logs['event_date'] = pd.to_datetime(logs['event_time']).dt.date\n",
    "logs['event_date'] = pd.to_datetime(logs['event_date'])\n",
    "logs['event_date'].head()"
   ]
  },
  {
   "cell_type": "code",
   "execution_count": 17,
   "metadata": {
    "scrolled": true
   },
   "outputs": [
    {
     "name": "stdout",
     "output_type": "stream",
     "text": [
      "<class 'pandas.core.frame.DataFrame'>\n",
      "RangeIndex: 243713 entries, 0 to 243712\n",
      "Data columns (total 6 columns):\n",
      " #   Column           Non-Null Count   Dtype         \n",
      "---  ------           --------------   -----         \n",
      " 0   event_name       243713 non-null  object        \n",
      " 1   user_id          243713 non-null  int64         \n",
      " 2   event_time       243713 non-null  datetime64[ns]\n",
      " 3   exp_id           243713 non-null  int64         \n",
      " 4   event_date_time  243713 non-null  datetime64[ns]\n",
      " 5   event_date       243713 non-null  datetime64[ns]\n",
      "dtypes: datetime64[ns](3), int64(2), object(1)\n",
      "memory usage: 11.2+ MB\n"
     ]
    }
   ],
   "source": [
    "# check\n",
    "logs.info()"
   ]
  },
  {
   "cell_type": "markdown",
   "metadata": {},
   "source": [
    "Добавили два новых столбца `event_date_time` и `event_date`."
   ]
  },
  {
   "cell_type": "code",
   "execution_count": 18,
   "metadata": {
    "scrolled": true
   },
   "outputs": [
    {
     "name": "stdout",
     "output_type": "stream",
     "text": [
      "Количество пользователей в группе 246: 2489\n",
      "Количество пользователей в группе 247: 2520\n",
      "Количество пользователей в группе 248: 2542\n",
      "Количество пользователей, попавших в две и более группы: 0\n"
     ]
    }
   ],
   "source": [
    "aab_users = logs.groupby('user_id').agg({'exp_id': ['nunique', 'unique']})\n",
    "aab_users.columns = ['groups', 'group_name']\n",
    "aab_users = aab_users.query('groups > 1')\n",
    "print('Количество пользователей в группе 246:', logs.query('exp_id == 246')['user_id'].nunique())\n",
    "print('Количество пользователей в группе 247:', logs.query('exp_id == 247')['user_id'].nunique())\n",
    "print('Количество пользователей в группе 248:', logs.query('exp_id == 248')['user_id'].nunique())\n",
    "print('Количество пользователей, попавших в две и более группы:', len(aab_users))"
   ]
  },
  {
   "cell_type": "markdown",
   "metadata": {},
   "source": [
    "## Исследование данных"
   ]
  },
  {
   "cell_type": "markdown",
   "metadata": {},
   "source": [
    "### Количество событий в логе"
   ]
  },
  {
   "cell_type": "markdown",
   "metadata": {},
   "source": [
    "Узнаем какие действия совершают пользователи нашего приложения."
   ]
  },
  {
   "cell_type": "code",
   "execution_count": 19,
   "metadata": {},
   "outputs": [
    {
     "data": {
      "text/plain": [
       "array(['MainScreenAppear', 'PaymentScreenSuccessful', 'CartScreenAppear',\n",
       "       'OffersScreenAppear', 'Tutorial'], dtype=object)"
      ]
     },
     "execution_count": 19,
     "metadata": {},
     "output_type": "execute_result"
    }
   ],
   "source": [
    "logs.event_name.unique()"
   ]
  },
  {
   "cell_type": "markdown",
   "metadata": {},
   "source": [
    "Всего в логе пять событий:\n",
    "- `MainScreenAppear` - это событие возникает, когда пользователь запускает главный экран или главную страницу нашего приложения. Обычно это используется для отслеживания того, сколько раз пользователь запускает приложение и как долго он находится на главном экране.\n",
    "- `PaymentScreenSuccessful` - это событие возникает, когда пользователь успешно завершает платежный процесс на экране оплаты в приложении. Обычно это используется для отслеживания количества успешных транзакций и общей суммы дохода приложения от платежей.\n",
    "- `CartScreenAppear` - это событие возникает, когда пользователь открывает экран корзины в приложении. Обычно это используется для отслеживания того, сколько раз пользователь просматривает свою корзину и сколько времени он проводит на этом экране.\n",
    "- `OffersScreenAppear` - это событие возникает, когда пользователь открывает экран с предложениями в приложении. Обычно это используется для отслеживания того, какие предложения наиболее популярны среди пользователей и сколько времени они проводят на этом экране.\n",
    "- `Tutorial` - это обучающий материал, который помогает пользователю разобраться в нашем приложении."
   ]
  },
  {
   "cell_type": "markdown",
   "metadata": {},
   "source": [
    "Узнаем количество всех событий в логе. "
   ]
  },
  {
   "cell_type": "code",
   "execution_count": 20,
   "metadata": {},
   "outputs": [
    {
     "data": {
      "text/plain": [
       "243713"
      ]
     },
     "execution_count": 20,
     "metadata": {},
     "output_type": "execute_result"
    }
   ],
   "source": [
    "events = logs.event_name.count()\n",
    "events"
   ]
  },
  {
   "cell_type": "markdown",
   "metadata": {},
   "source": [
    "Всего в логе 243713 событий. Посчитаем количество событий для каждого наименования."
   ]
  },
  {
   "cell_type": "code",
   "execution_count": 21,
   "metadata": {
    "scrolled": true
   },
   "outputs": [
    {
     "data": {
      "text/html": [
       "<div>\n",
       "<style scoped>\n",
       "    .dataframe tbody tr th:only-of-type {\n",
       "        vertical-align: middle;\n",
       "    }\n",
       "\n",
       "    .dataframe tbody tr th {\n",
       "        vertical-align: top;\n",
       "    }\n",
       "\n",
       "    .dataframe thead th {\n",
       "        text-align: right;\n",
       "    }\n",
       "</style>\n",
       "<table border=\"1\" class=\"dataframe\">\n",
       "  <thead>\n",
       "    <tr style=\"text-align: right;\">\n",
       "      <th></th>\n",
       "      <th>count</th>\n",
       "    </tr>\n",
       "    <tr>\n",
       "      <th>event_name</th>\n",
       "      <th></th>\n",
       "    </tr>\n",
       "  </thead>\n",
       "  <tbody>\n",
       "    <tr>\n",
       "      <th>MainScreenAppear</th>\n",
       "      <td>119101</td>\n",
       "    </tr>\n",
       "    <tr>\n",
       "      <th>OffersScreenAppear</th>\n",
       "      <td>46808</td>\n",
       "    </tr>\n",
       "    <tr>\n",
       "      <th>CartScreenAppear</th>\n",
       "      <td>42668</td>\n",
       "    </tr>\n",
       "    <tr>\n",
       "      <th>PaymentScreenSuccessful</th>\n",
       "      <td>34118</td>\n",
       "    </tr>\n",
       "    <tr>\n",
       "      <th>Tutorial</th>\n",
       "      <td>1018</td>\n",
       "    </tr>\n",
       "  </tbody>\n",
       "</table>\n",
       "</div>"
      ],
      "text/plain": [
       "                          count\n",
       "event_name                     \n",
       "MainScreenAppear         119101\n",
       "OffersScreenAppear        46808\n",
       "CartScreenAppear          42668\n",
       "PaymentScreenSuccessful   34118\n",
       "Tutorial                   1018"
      ]
     },
     "execution_count": 21,
     "metadata": {},
     "output_type": "execute_result"
    }
   ],
   "source": [
    "event_name = (logs\n",
    "              .groupby(['event_name'])\n",
    "              .agg(count = ('event_name', 'count'))\n",
    "              .sort_values(by = 'count', ascending = False)\n",
    "             )\n",
    "event_name"
   ]
  },
  {
   "cell_type": "code",
   "execution_count": 22,
   "metadata": {},
   "outputs": [
    {
     "data": {
      "image/png": "[encoded data removed]",
      "text/plain": [
       "<Figure size 864x504 with 1 Axes>"
      ]
     },
     "metadata": {
      "needs_background": "light"
     },
     "output_type": "display_data"
    }
   ],
   "source": [
    "# визуализируем данные таблицы 'event_name'\n",
    "event_name.reset_index()\n",
    "event_name.plot(kind='bar', \n",
    "                figsize = (12, 7), \n",
    "                rot = -10, grid = True, \n",
    "                legend = True, \n",
    "                fontsize = 12);\n",
    "\n",
    "plt.ylabel('Количество событий', fontsize = 12)\n",
    "plt.xlabel('', fontsize = 12)\n",
    "plt.title('Распределение событий', fontsize = 14);\n",
    "\n",
    "plt.show()"
   ]
  },
  {
   "cell_type": "markdown",
   "metadata": {},
   "source": [
    "На графике мы видим, что чаще всего пользователи запускает главную страницу нашего приложения, реже всего используют обучающий материал."
   ]
  },
  {
   "cell_type": "markdown",
   "metadata": {},
   "source": [
    "### Количество пользователей в логе"
   ]
  },
  {
   "cell_type": "markdown",
   "metadata": {},
   "source": [
    "Узнаем какое количество уникальных пользователей в нашем логе."
   ]
  },
  {
   "cell_type": "code",
   "execution_count": 23,
   "metadata": {},
   "outputs": [
    {
     "data": {
      "text/plain": [
       "7551"
      ]
     },
     "execution_count": 23,
     "metadata": {},
     "output_type": "execute_result"
    }
   ],
   "source": [
    "users = logs['user_id'].nunique()\n",
    "users"
   ]
  },
  {
   "cell_type": "markdown",
   "metadata": {},
   "source": [
    "В нашем датафрейме 7551 уникальных пользователей."
   ]
  },
  {
   "cell_type": "markdown",
   "metadata": {},
   "source": [
    "### Среднее количество событий на одного пользователя"
   ]
  },
  {
   "cell_type": "markdown",
   "metadata": {},
   "source": [
    "По полученным данным выше, найдем среднее количество событий на одного пользователя."
   ]
  },
  {
   "cell_type": "code",
   "execution_count": 24,
   "metadata": {},
   "outputs": [
    {
     "data": {
      "text/plain": [
       "32"
      ]
     },
     "execution_count": 24,
     "metadata": {},
     "output_type": "execute_result"
    }
   ],
   "source": [
    "event_per_user = events / users\n",
    "# округлим полученное значение до целого числа\n",
    "round(event_per_user)"
   ]
  },
  {
   "cell_type": "markdown",
   "metadata": {},
   "source": [
    "На каждого пользователя приходится в среднем 32 события."
   ]
  },
  {
   "cell_type": "code",
   "execution_count": 25,
   "metadata": {
    "scrolled": true
   },
   "outputs": [
    {
     "data": {
      "text/html": [
       "<div>\n",
       "<style scoped>\n",
       "    .dataframe tbody tr th:only-of-type {\n",
       "        vertical-align: middle;\n",
       "    }\n",
       "\n",
       "    .dataframe tbody tr th {\n",
       "        vertical-align: top;\n",
       "    }\n",
       "\n",
       "    .dataframe thead th {\n",
       "        text-align: right;\n",
       "    }\n",
       "</style>\n",
       "<table border=\"1\" class=\"dataframe\">\n",
       "  <thead>\n",
       "    <tr style=\"text-align: right;\">\n",
       "      <th></th>\n",
       "      <th>event_name</th>\n",
       "    </tr>\n",
       "    <tr>\n",
       "      <th>user_id</th>\n",
       "      <th></th>\n",
       "    </tr>\n",
       "  </thead>\n",
       "  <tbody>\n",
       "    <tr>\n",
       "      <th>6888746892508752</th>\n",
       "      <td>1</td>\n",
       "    </tr>\n",
       "    <tr>\n",
       "      <th>6909561520679493</th>\n",
       "      <td>5</td>\n",
       "    </tr>\n",
       "    <tr>\n",
       "      <th>6922444491712477</th>\n",
       "      <td>47</td>\n",
       "    </tr>\n",
       "    <tr>\n",
       "      <th>7435777799948366</th>\n",
       "      <td>6</td>\n",
       "    </tr>\n",
       "    <tr>\n",
       "      <th>7702139951469979</th>\n",
       "      <td>137</td>\n",
       "    </tr>\n",
       "  </tbody>\n",
       "</table>\n",
       "</div>"
      ],
      "text/plain": [
       "                  event_name\n",
       "user_id                     \n",
       "6888746892508752           1\n",
       "6909561520679493           5\n",
       "6922444491712477          47\n",
       "7435777799948366           6\n",
       "7702139951469979         137"
      ]
     },
     "execution_count": 25,
     "metadata": {},
     "output_type": "execute_result"
    }
   ],
   "source": [
    "# соберем данные о количестве событий на каждого пользователя\n",
    "events_user = logs.pivot_table(index='user_id', values='event_name', aggfunc='count')\n",
    "events_user.head()"
   ]
  },
  {
   "cell_type": "code",
   "execution_count": 26,
   "metadata": {
    "scrolled": true
   },
   "outputs": [
    {
     "data": {
      "image/png": "[encoded data removed]",
      "text/plain": [
       "<Figure size 1008x360 with 1 Axes>"
      ]
     },
     "metadata": {
      "needs_background": "light"
     },
     "output_type": "display_data"
    }
   ],
   "source": [
    "# визуализируем данные таблицы 'events_user'\n",
    "events_user.reset_index()\n",
    "events_user.hist(bins=14*24, figsize=(14, 5))\n",
    "\n",
    "plt.minorticks_on()\n",
    "plt.grid(which='minor', color='#aaa', ls=':')\n",
    "\n",
    "plt.ylabel('Количество пользователей', fontsize = 12)\n",
    "plt.xlabel('Количество событий', fontsize = 12)\n",
    "plt.title('Распределение количества событий на пользователя', fontsize = 14);\n",
    "\n",
    "plt.show()"
   ]
  },
  {
   "cell_type": "markdown",
   "metadata": {},
   "source": [
    "Большинство пользователей совершают 1-2 события, но есть пользователи, которые соввершают от 500 до более чем 2000 событий. "
   ]
  },
  {
   "cell_type": "markdown",
   "metadata": {},
   "source": [
    "### Период времени всех событий. Количество данных за весь период.  Период времени, данными которыми мы располагаем на самом деле"
   ]
  },
  {
   "cell_type": "markdown",
   "metadata": {},
   "source": [
    "Узнаем, данными за какой период мы располагаем. Для этого найдем минимальную и максимальную даты нашего датафрейма."
   ]
  },
  {
   "cell_type": "code",
   "execution_count": 27,
   "metadata": {
    "scrolled": true
   },
   "outputs": [
    {
     "data": {
      "text/plain": [
       "(Timestamp('2019-07-25 00:00:00'), Timestamp('2019-08-07 00:00:00'))"
      ]
     },
     "execution_count": 27,
     "metadata": {},
     "output_type": "execute_result"
    }
   ],
   "source": [
    "logs['event_date'].min(), logs['event_date'].max()"
   ]
  },
  {
   "cell_type": "markdown",
   "metadata": {},
   "source": [
    "Все события в нашем логе происходили в период с 25 июля по 7 августа 2019 года. Посмотрим на распределение количества событий, совершенных пользователями за весь период. Для этого создадим сводную таблицу `events_per_time` и сгруппируем данные по столбу `event_date`."
   ]
  },
  {
   "cell_type": "code",
   "execution_count": 28,
   "metadata": {
    "scrolled": true
   },
   "outputs": [
    {
     "data": {
      "text/html": [
       "<div>\n",
       "<style scoped>\n",
       "    .dataframe tbody tr th:only-of-type {\n",
       "        vertical-align: middle;\n",
       "    }\n",
       "\n",
       "    .dataframe tbody tr th {\n",
       "        vertical-align: top;\n",
       "    }\n",
       "\n",
       "    .dataframe thead th {\n",
       "        text-align: right;\n",
       "    }\n",
       "</style>\n",
       "<table border=\"1\" class=\"dataframe\">\n",
       "  <thead>\n",
       "    <tr style=\"text-align: right;\">\n",
       "      <th></th>\n",
       "      <th>count</th>\n",
       "    </tr>\n",
       "    <tr>\n",
       "      <th>event_date</th>\n",
       "      <th></th>\n",
       "    </tr>\n",
       "  </thead>\n",
       "  <tbody>\n",
       "    <tr>\n",
       "      <th>2019-07-25</th>\n",
       "      <td>9</td>\n",
       "    </tr>\n",
       "    <tr>\n",
       "      <th>2019-07-26</th>\n",
       "      <td>31</td>\n",
       "    </tr>\n",
       "    <tr>\n",
       "      <th>2019-07-27</th>\n",
       "      <td>55</td>\n",
       "    </tr>\n",
       "    <tr>\n",
       "      <th>2019-07-28</th>\n",
       "      <td>105</td>\n",
       "    </tr>\n",
       "    <tr>\n",
       "      <th>2019-07-29</th>\n",
       "      <td>184</td>\n",
       "    </tr>\n",
       "    <tr>\n",
       "      <th>2019-07-30</th>\n",
       "      <td>412</td>\n",
       "    </tr>\n",
       "    <tr>\n",
       "      <th>2019-07-31</th>\n",
       "      <td>2030</td>\n",
       "    </tr>\n",
       "    <tr>\n",
       "      <th>2019-08-01</th>\n",
       "      <td>36141</td>\n",
       "    </tr>\n",
       "    <tr>\n",
       "      <th>2019-08-02</th>\n",
       "      <td>35554</td>\n",
       "    </tr>\n",
       "    <tr>\n",
       "      <th>2019-08-03</th>\n",
       "      <td>33282</td>\n",
       "    </tr>\n",
       "    <tr>\n",
       "      <th>2019-08-04</th>\n",
       "      <td>32968</td>\n",
       "    </tr>\n",
       "    <tr>\n",
       "      <th>2019-08-05</th>\n",
       "      <td>36058</td>\n",
       "    </tr>\n",
       "    <tr>\n",
       "      <th>2019-08-06</th>\n",
       "      <td>35788</td>\n",
       "    </tr>\n",
       "    <tr>\n",
       "      <th>2019-08-07</th>\n",
       "      <td>31096</td>\n",
       "    </tr>\n",
       "  </tbody>\n",
       "</table>\n",
       "</div>"
      ],
      "text/plain": [
       "            count\n",
       "event_date       \n",
       "2019-07-25      9\n",
       "2019-07-26     31\n",
       "2019-07-27     55\n",
       "2019-07-28    105\n",
       "2019-07-29    184\n",
       "2019-07-30    412\n",
       "2019-07-31   2030\n",
       "2019-08-01  36141\n",
       "2019-08-02  35554\n",
       "2019-08-03  33282\n",
       "2019-08-04  32968\n",
       "2019-08-05  36058\n",
       "2019-08-06  35788\n",
       "2019-08-07  31096"
      ]
     },
     "execution_count": 28,
     "metadata": {},
     "output_type": "execute_result"
    }
   ],
   "source": [
    "events_per_time = logs.groupby(['event_date']).agg(count = ('event_name', 'count'))\n",
    "events_per_time"
   ]
  },
  {
   "cell_type": "code",
   "execution_count": 29,
   "metadata": {
    "scrolled": false
   },
   "outputs": [
    {
     "data": {
      "image/png": "[encoded data removed]",
      "text/plain": [
       "<Figure size 1440x720 with 1 Axes>"
      ]
     },
     "metadata": {
      "needs_background": "light"
     },
     "output_type": "display_data"
    }
   ],
   "source": [
    "# визуализируем данные таблицы 'events_per_time'\n",
    "fig = plt.figure()\n",
    "\n",
    "sns.barplot(x = events_per_time.index, y = events_per_time['count'])\n",
    "\n",
    "plt.title('Распределение количества событий, совершенных пользователями', fontsize = 18, color = 'k')\n",
    "plt.xlabel('')\n",
    "plt.xticks(rotation=80);\n",
    "plt.ylabel('Количество событий');\n",
    "\n",
    "fig.set_figwidth(20)   \n",
    "fig.set_figheight(10) \n",
    "\n",
    "plt.show()"
   ]
  },
  {
   "cell_type": "markdown",
   "metadata": {},
   "source": [
    "На графике мы видим, что до 31 июля включительно, событий было очень мало, по сравнению с их количеством 1 августа. С 1 по 7 августа данные более полные, поэтому отбросим данные в период с 25 по 31 июля 2019 года. Более полные данные сохраним в переменной `logs_actual`."
   ]
  },
  {
   "cell_type": "code",
   "execution_count": 31,
   "metadata": {},
   "outputs": [
    {
     "data": {
      "text/plain": [
       "count                           240887\n",
       "mean     2019-08-03 22:48:55.002718976\n",
       "min                2019-08-01 00:00:00\n",
       "25%                2019-08-02 00:00:00\n",
       "50%                2019-08-04 00:00:00\n",
       "75%                2019-08-06 00:00:00\n",
       "max                2019-08-07 00:00:00\n",
       "Name: event_date, dtype: object"
      ]
     },
     "execution_count": 31,
     "metadata": {},
     "output_type": "execute_result"
    }
   ],
   "source": [
    "logs_actual = logs[(logs['event_date']) > '2019-07-31']\n",
    "\n",
    "# проверим период времени 'logs_actual' \n",
    "logs_actual.event_date.describe(datetime_is_numeric=True)"
   ]
  },
  {
   "cell_type": "markdown",
   "metadata": {},
   "source": [
    "Таблица `logs_actual` содержит более полные данные в период с 1 по 7 августа 2019 года."
   ]
  },
  {
   "cell_type": "markdown",
   "metadata": {},
   "source": [
    "### Количество событий и пользователей, которых мы потеряли отбросив старые данные"
   ]
  },
  {
   "cell_type": "markdown",
   "metadata": {},
   "source": [
    "Узнаем какое количество событий мы потеряли, отбросив старые данные."
   ]
  },
  {
   "cell_type": "code",
   "execution_count": 32,
   "metadata": {},
   "outputs": [
    {
     "name": "stdout",
     "output_type": "stream",
     "text": [
      "Количество событий, которые мы потеряли в абсолютной величине: 2826\n",
      "Количество событий, которые мы потеряли в относительной величине: 1.16 %\n"
     ]
    }
   ],
   "source": [
    "# количество событий с в период с 1 по 7 августа 2019 года\n",
    "actual_events = logs_actual.event_name.count()\n",
    "\n",
    "# переменная 'events' содержит количество событий с в период с 25 июля по 7 августа 2019 года\n",
    "# количество событий, которые мы потеряли в абсолютной величине\n",
    "abs_lost_events = events - actual_events\n",
    "# количество событий, которые мы потеряли в относительной величине\n",
    "rel_lost_events = abs_lost_events * 100 / events\n",
    "\n",
    "print('Количество событий, которые мы потеряли в абсолютной величине:', abs_lost_events)\n",
    "print('Количество событий, которые мы потеряли в относительной величине:', round(rel_lost_events, 2), '%')"
   ]
  },
  {
   "cell_type": "markdown",
   "metadata": {},
   "source": [
    "Мы потеряли 2826 или 1,16% действий в нашем приложении, отбросив старые данные."
   ]
  },
  {
   "cell_type": "markdown",
   "metadata": {},
   "source": [
    "Узнаем, какое количество пользователей мы потеряли, отбросив старые данные."
   ]
  },
  {
   "cell_type": "code",
   "execution_count": 33,
   "metadata": {},
   "outputs": [
    {
     "name": "stdout",
     "output_type": "stream",
     "text": [
      "Количество пользователей, которых мы потеряли в абсолютной величине: 17\n",
      "Количество пользователей, которых мы потеряли в относительной величине: 0.23 %\n"
     ]
    }
   ],
   "source": [
    "# количество уникальных пользователей в период с 1 по 7 августа 2019 года\n",
    "actual_users = logs_actual['user_id'].nunique()\n",
    "\n",
    "# переменная 'users' содержит количество уникальных пользователей в период с 25 июля по 7 августа 2019 года\n",
    "# количество пользователей, которых мы потеряли в абсолютной величине\n",
    "abs_lost_users = users - actual_users\n",
    "# количество пользователей, которых мы потеряли в абсолютной величине\n",
    "rel_lost_users = abs_lost_users * 100 / users\n",
    "\n",
    "print('Количество пользователей, которых мы потеряли в абсолютной величине:', abs_lost_users)\n",
    "print('Количество пользователей, которых мы потеряли в относительной величине:', round(rel_lost_users, 2), '%')"
   ]
  },
  {
   "cell_type": "markdown",
   "metadata": {},
   "source": [
    "Отбросив старые данные мы потеряли 2826 действий, совершенных 17 уникальными пользователями."
   ]
  },
  {
   "cell_type": "markdown",
   "metadata": {},
   "source": [
    "### Количество пользователей из всех трёх экспериментальных групп"
   ]
  },
  {
   "cell_type": "markdown",
   "metadata": {},
   "source": [
    "Проверим, что у нас есть пользователи из всех трёх экспериментальных групп."
   ]
  },
  {
   "cell_type": "code",
   "execution_count": 34,
   "metadata": {
    "scrolled": true
   },
   "outputs": [
    {
     "data": {
      "text/html": [
       "<div>\n",
       "<style scoped>\n",
       "    .dataframe tbody tr th:only-of-type {\n",
       "        vertical-align: middle;\n",
       "    }\n",
       "\n",
       "    .dataframe tbody tr th {\n",
       "        vertical-align: top;\n",
       "    }\n",
       "\n",
       "    .dataframe thead th {\n",
       "        text-align: right;\n",
       "    }\n",
       "</style>\n",
       "<table border=\"1\" class=\"dataframe\">\n",
       "  <thead>\n",
       "    <tr style=\"text-align: right;\">\n",
       "      <th></th>\n",
       "      <th>count</th>\n",
       "    </tr>\n",
       "    <tr>\n",
       "      <th>exp_id</th>\n",
       "      <th></th>\n",
       "    </tr>\n",
       "  </thead>\n",
       "  <tbody>\n",
       "    <tr>\n",
       "      <th>246</th>\n",
       "      <td>2484</td>\n",
       "    </tr>\n",
       "    <tr>\n",
       "      <th>247</th>\n",
       "      <td>2513</td>\n",
       "    </tr>\n",
       "    <tr>\n",
       "      <th>248</th>\n",
       "      <td>2537</td>\n",
       "    </tr>\n",
       "  </tbody>\n",
       "</table>\n",
       "</div>"
      ],
      "text/plain": [
       "        count\n",
       "exp_id       \n",
       "246      2484\n",
       "247      2513\n",
       "248      2537"
      ]
     },
     "execution_count": 34,
     "metadata": {},
     "output_type": "execute_result"
    }
   ],
   "source": [
    "actual_exp_id = (logs_actual\n",
    "                 .groupby(['exp_id'])\n",
    "                 .agg(count = ('user_id', 'nunique'))\n",
    "                 .sort_values(by = 'exp_id')\n",
    "                )\n",
    "\n",
    "actual_exp_id"
   ]
  },
  {
   "cell_type": "markdown",
   "metadata": {},
   "source": [
    "У нас есть пользователи во всех трех экспериментальных группах, стоит отметить, что их количество практически одинаковое."
   ]
  },
  {
   "cell_type": "markdown",
   "metadata": {},
   "source": [
    "## Исследование воронки событий"
   ]
  },
  {
   "cell_type": "markdown",
   "metadata": {},
   "source": [
    "### Количество событий в логе с полными данными "
   ]
  },
  {
   "cell_type": "markdown",
   "metadata": {},
   "source": [
    "Узнаем количество событий для каждого наименования в датафрейме `logs_actual`."
   ]
  },
  {
   "cell_type": "code",
   "execution_count": 35,
   "metadata": {},
   "outputs": [
    {
     "data": {
      "text/html": [
       "<div>\n",
       "<style scoped>\n",
       "    .dataframe tbody tr th:only-of-type {\n",
       "        vertical-align: middle;\n",
       "    }\n",
       "\n",
       "    .dataframe tbody tr th {\n",
       "        vertical-align: top;\n",
       "    }\n",
       "\n",
       "    .dataframe thead th {\n",
       "        text-align: right;\n",
       "    }\n",
       "</style>\n",
       "<table border=\"1\" class=\"dataframe\">\n",
       "  <thead>\n",
       "    <tr style=\"text-align: right;\">\n",
       "      <th></th>\n",
       "      <th>count</th>\n",
       "    </tr>\n",
       "    <tr>\n",
       "      <th>event_name</th>\n",
       "      <th></th>\n",
       "    </tr>\n",
       "  </thead>\n",
       "  <tbody>\n",
       "    <tr>\n",
       "      <th>MainScreenAppear</th>\n",
       "      <td>117328</td>\n",
       "    </tr>\n",
       "    <tr>\n",
       "      <th>OffersScreenAppear</th>\n",
       "      <td>46333</td>\n",
       "    </tr>\n",
       "    <tr>\n",
       "      <th>CartScreenAppear</th>\n",
       "      <td>42303</td>\n",
       "    </tr>\n",
       "    <tr>\n",
       "      <th>PaymentScreenSuccessful</th>\n",
       "      <td>33918</td>\n",
       "    </tr>\n",
       "    <tr>\n",
       "      <th>Tutorial</th>\n",
       "      <td>1005</td>\n",
       "    </tr>\n",
       "  </tbody>\n",
       "</table>\n",
       "</div>"
      ],
      "text/plain": [
       "                          count\n",
       "event_name                     \n",
       "MainScreenAppear         117328\n",
       "OffersScreenAppear        46333\n",
       "CartScreenAppear          42303\n",
       "PaymentScreenSuccessful   33918\n",
       "Tutorial                   1005"
      ]
     },
     "execution_count": 35,
     "metadata": {},
     "output_type": "execute_result"
    }
   ],
   "source": [
    "actual_event_name = (logs_actual\n",
    "                     .groupby(['event_name'])\n",
    "                     .agg(count = ('event_name', 'count'))\n",
    "                     .sort_values(by = 'count', ascending = False)\n",
    "                    )\n",
    "actual_event_name"
   ]
  },
  {
   "cell_type": "code",
   "execution_count": 36,
   "metadata": {},
   "outputs": [
    {
     "data": {
      "image/png": "[encoded data removed]",
      "text/plain": [
       "<Figure size 864x504 with 1 Axes>"
      ]
     },
     "metadata": {
      "needs_background": "light"
     },
     "output_type": "display_data"
    }
   ],
   "source": [
    "# визуализируем данные таблицы 'actual_event_name'\n",
    "actual_event_name.reset_index()\n",
    "actual_event_name.plot(kind='bar', \n",
    "                       figsize = (12, 7), \n",
    "                       rot = -10, grid = True, \n",
    "                       legend = True, \n",
    "                       fontsize = 12);\n",
    "\n",
    "plt.ylabel('Количество событий', fontsize = 12)\n",
    "plt.xlabel('', fontsize = 12)\n",
    "plt.title('Распределение событий', fontsize = 14);\n",
    "\n",
    "plt.show()"
   ]
  },
  {
   "cell_type": "markdown",
   "metadata": {},
   "source": [
    "Самое большое количество действий, которое совершают пользователи - это `MainScreenAppear` - запускают главную страницу нашего приложения - 117328 раз пользователи совершили это действие. Реже всего происходит событие `Tutorial` - 1005 раз, малое количество людей обращается к обучающим материалам, значит наше приложение достаточно интуитивное и понятное пользователю. События `OffersScreenAppear`, `CartScreenAppear` и `PaymentScreenSuccessful` - находятся примерно около одного уровня."
   ]
  },
  {
   "cell_type": "markdown",
   "metadata": {},
   "source": [
    "### Количество и доля пользователей, которые совершали каждое из событий"
   ]
  },
  {
   "cell_type": "markdown",
   "metadata": {},
   "source": [
    "Узнаем какое количество пользователей совершали каждое действие в нашем приложении, и также рассчитаем их долю. Мы помним, что количество всех пользователей в период с 1 по 7 августа хранит переменная `actual_users`."
   ]
  },
  {
   "cell_type": "code",
   "execution_count": 37,
   "metadata": {
    "scrolled": true
   },
   "outputs": [
    {
     "data": {
      "text/html": [
       "<div>\n",
       "<style scoped>\n",
       "    .dataframe tbody tr th:only-of-type {\n",
       "        vertical-align: middle;\n",
       "    }\n",
       "\n",
       "    .dataframe tbody tr th {\n",
       "        vertical-align: top;\n",
       "    }\n",
       "\n",
       "    .dataframe thead th {\n",
       "        text-align: right;\n",
       "    }\n",
       "</style>\n",
       "<table border=\"1\" class=\"dataframe\">\n",
       "  <thead>\n",
       "    <tr style=\"text-align: right;\">\n",
       "      <th></th>\n",
       "      <th>numbers_users</th>\n",
       "      <th>share_users</th>\n",
       "    </tr>\n",
       "    <tr>\n",
       "      <th>event_name</th>\n",
       "      <th></th>\n",
       "      <th></th>\n",
       "    </tr>\n",
       "  </thead>\n",
       "  <tbody>\n",
       "    <tr>\n",
       "      <th>MainScreenAppear</th>\n",
       "      <td>7419</td>\n",
       "      <td>0.98</td>\n",
       "    </tr>\n",
       "    <tr>\n",
       "      <th>OffersScreenAppear</th>\n",
       "      <td>4593</td>\n",
       "      <td>0.61</td>\n",
       "    </tr>\n",
       "    <tr>\n",
       "      <th>CartScreenAppear</th>\n",
       "      <td>3734</td>\n",
       "      <td>0.50</td>\n",
       "    </tr>\n",
       "    <tr>\n",
       "      <th>PaymentScreenSuccessful</th>\n",
       "      <td>3539</td>\n",
       "      <td>0.47</td>\n",
       "    </tr>\n",
       "    <tr>\n",
       "      <th>Tutorial</th>\n",
       "      <td>840</td>\n",
       "      <td>0.11</td>\n",
       "    </tr>\n",
       "  </tbody>\n",
       "</table>\n",
       "</div>"
      ],
      "text/plain": [
       "                         numbers_users  share_users\n",
       "event_name                                         \n",
       "MainScreenAppear                  7419         0.98\n",
       "OffersScreenAppear                4593         0.61\n",
       "CartScreenAppear                  3734         0.50\n",
       "PaymentScreenSuccessful           3539         0.47\n",
       "Tutorial                           840         0.11"
      ]
     },
     "execution_count": 37,
     "metadata": {},
     "output_type": "execute_result"
    }
   ],
   "source": [
    "event_name_users = (logs_actual\n",
    "                    .groupby(['event_name'])\n",
    "                    .agg(numbers_users = ('user_id', 'nunique'))\n",
    "                    .sort_values(by = 'numbers_users', ascending = False)\n",
    "                    )\n",
    "# добавим столбец 'share_users' - доля пользователей, которые совершили то или иное действие\n",
    "event_name_users['share_users'] = event_name_users['numbers_users'] / actual_users\n",
    "\n",
    "# округлим значения столбца 'share_users' до двух знаков после запятой\n",
    "event_name_users['share_users'] = event_name_users['share_users'].round(2)\n",
    "\n",
    "event_name_users"
   ]
  },
  {
   "cell_type": "markdown",
   "metadata": {},
   "source": [
    "Самая большая доля пользователей запускает экран приложения - 7419 человек. Самая маленькая доля - 840 человек - учится пользоваться нашим приложением. Около половины пользователей открывает экран с предложениями, просматривает свою корзину и успешно оплачивает заказ."
   ]
  },
  {
   "cell_type": "markdown",
   "metadata": {},
   "source": [
    "### Порядок, в котором происходят события"
   ]
  },
  {
   "cell_type": "markdown",
   "metadata": {},
   "source": [
    "Предположим порядок в котором происходят события:\n",
    "\n",
    "1) `MainScreenAppear` - пользователь запускает главный экран или главную страницу приложения;\n",
    "\n",
    "2) `OffersScreenAppear` - пользователь открывает экран с предложениями приложения;\n",
    "\n",
    "3) `CartScreenAppea` - пользователь открывает экран корзины;\n",
    "\n",
    "4) `PaymentScreenSuccessful` - пользователь успешно завершает платежный процесс."
   ]
  },
  {
   "cell_type": "markdown",
   "metadata": {},
   "source": [
    "Действие `Tutorial` - изучение обучающего материала не встраивается в эту цепочку, потому что к этому действию пользователь может обратиться в любой момент или не совершать это действие вовсе. Около 90% наших пользователей не совершали этого события. Исключим событие `Tutorial` из наших данных."
   ]
  },
  {
   "cell_type": "code",
   "execution_count": 38,
   "metadata": {},
   "outputs": [],
   "source": [
    "logs_actual = logs_actual[(logs_actual['event_name']) != \"Tutorial\"]"
   ]
  },
  {
   "cell_type": "code",
   "execution_count": 39,
   "metadata": {
    "scrolled": true
   },
   "outputs": [
    {
     "data": {
      "text/html": [
       "<div>\n",
       "<style scoped>\n",
       "    .dataframe tbody tr th:only-of-type {\n",
       "        vertical-align: middle;\n",
       "    }\n",
       "\n",
       "    .dataframe tbody tr th {\n",
       "        vertical-align: top;\n",
       "    }\n",
       "\n",
       "    .dataframe thead th {\n",
       "        text-align: right;\n",
       "    }\n",
       "</style>\n",
       "<table border=\"1\" class=\"dataframe\">\n",
       "  <thead>\n",
       "    <tr style=\"text-align: right;\">\n",
       "      <th></th>\n",
       "      <th>event_name</th>\n",
       "    </tr>\n",
       "  </thead>\n",
       "  <tbody>\n",
       "    <tr>\n",
       "      <th>MainScreenAppear</th>\n",
       "      <td>117328</td>\n",
       "    </tr>\n",
       "    <tr>\n",
       "      <th>OffersScreenAppear</th>\n",
       "      <td>46333</td>\n",
       "    </tr>\n",
       "    <tr>\n",
       "      <th>CartScreenAppear</th>\n",
       "      <td>42303</td>\n",
       "    </tr>\n",
       "    <tr>\n",
       "      <th>PaymentScreenSuccessful</th>\n",
       "      <td>33918</td>\n",
       "    </tr>\n",
       "  </tbody>\n",
       "</table>\n",
       "</div>"
      ],
      "text/plain": [
       "                         event_name\n",
       "MainScreenAppear             117328\n",
       "OffersScreenAppear            46333\n",
       "CartScreenAppear              42303\n",
       "PaymentScreenSuccessful       33918"
      ]
     },
     "execution_count": 39,
     "metadata": {},
     "output_type": "execute_result"
    }
   ],
   "source": [
    "# check\n",
    "logs_actual.event_name.value_counts().to_frame()"
   ]
  },
  {
   "cell_type": "code",
   "execution_count": 40,
   "metadata": {},
   "outputs": [
    {
     "data": {
      "text/plain": [
       "7530"
      ]
     },
     "execution_count": 40,
     "metadata": {},
     "output_type": "execute_result"
    }
   ],
   "source": [
    "# проверим количество уникальных пользователей после удаления события `Tutorial`\n",
    "actual_users = logs_actual.user_id.nunique()\n",
    "actual_users"
   ]
  },
  {
   "cell_type": "markdown",
   "metadata": {},
   "source": [
    "После удаления из данных строк с событием `Tutorial` мы потеряли 4 пользователей."
   ]
  },
  {
   "cell_type": "markdown",
   "metadata": {},
   "source": [
    "### Доля пользователей, которая переходит на следующий шаг. "
   ]
  },
  {
   "cell_type": "markdown",
   "metadata": {},
   "source": [
    "Узнаем какая доля пользователей переходит к следующему шагу нашей воронки событий."
   ]
  },
  {
   "cell_type": "code",
   "execution_count": 41,
   "metadata": {
    "scrolled": true
   },
   "outputs": [
    {
     "data": {
      "text/html": [
       "<div>\n",
       "<style scoped>\n",
       "    .dataframe tbody tr th:only-of-type {\n",
       "        vertical-align: middle;\n",
       "    }\n",
       "\n",
       "    .dataframe tbody tr th {\n",
       "        vertical-align: top;\n",
       "    }\n",
       "\n",
       "    .dataframe thead th {\n",
       "        text-align: right;\n",
       "    }\n",
       "</style>\n",
       "<table border=\"1\" class=\"dataframe\">\n",
       "  <thead>\n",
       "    <tr style=\"text-align: right;\">\n",
       "      <th></th>\n",
       "      <th>numbers_users</th>\n",
       "      <th>share_users</th>\n",
       "      <th>share_from_prev_step</th>\n",
       "    </tr>\n",
       "    <tr>\n",
       "      <th>event_name</th>\n",
       "      <th></th>\n",
       "      <th></th>\n",
       "      <th></th>\n",
       "    </tr>\n",
       "  </thead>\n",
       "  <tbody>\n",
       "    <tr>\n",
       "      <th>MainScreenAppear</th>\n",
       "      <td>7419</td>\n",
       "      <td>0.99</td>\n",
       "      <td>NaN</td>\n",
       "    </tr>\n",
       "    <tr>\n",
       "      <th>OffersScreenAppear</th>\n",
       "      <td>4593</td>\n",
       "      <td>0.61</td>\n",
       "      <td>0.62</td>\n",
       "    </tr>\n",
       "    <tr>\n",
       "      <th>CartScreenAppear</th>\n",
       "      <td>3734</td>\n",
       "      <td>0.50</td>\n",
       "      <td>0.81</td>\n",
       "    </tr>\n",
       "    <tr>\n",
       "      <th>PaymentScreenSuccessful</th>\n",
       "      <td>3539</td>\n",
       "      <td>0.47</td>\n",
       "      <td>0.95</td>\n",
       "    </tr>\n",
       "  </tbody>\n",
       "</table>\n",
       "</div>"
      ],
      "text/plain": [
       "                         numbers_users  share_users  share_from_prev_step\n",
       "event_name                                                               \n",
       "MainScreenAppear                  7419         0.99                   NaN\n",
       "OffersScreenAppear                4593         0.61                  0.62\n",
       "CartScreenAppear                  3734         0.50                  0.81\n",
       "PaymentScreenSuccessful           3539         0.47                  0.95"
      ]
     },
     "execution_count": 41,
     "metadata": {},
     "output_type": "execute_result"
    }
   ],
   "source": [
    "event_name_users = (logs_actual\n",
    "                    .groupby(['event_name'])\n",
    "                    .agg(numbers_users = ('user_id', 'nunique'))\n",
    "                    .sort_values(by = 'numbers_users', ascending = False)\n",
    "                    )\n",
    "# добавим столбец 'share_users' - доля пользователей, которые совершили то или иное действие\n",
    "event_name_users['share_users'] = event_name_users['numbers_users'] / actual_users\n",
    "\n",
    "# округлим значения столбца 'share_users' до двух знаков после запятой\n",
    "event_name_users['share_users'] = event_name_users['share_users'].round(2)\n",
    "\n",
    "# добавим столбец 'share_from_prev_step' - доля пользователей, котороая проходит на следующий шаг воронки \n",
    "event_name_users['share_from_prev_step'] = \\\n",
    "event_name_users['numbers_users'] / event_name_users['numbers_users'].shift()\n",
    "\n",
    "# округлим значения столбца 'share_users_step' до двух знаков после запятой\n",
    "event_name_users['share_from_prev_step'] = event_name_users['share_from_prev_step'].round(2)\n",
    "\n",
    "event_name_users"
   ]
  },
  {
   "cell_type": "markdown",
   "metadata": {},
   "source": [
    "Самая маленькая доля пользователей переходит от события `MainScreenAppear` к событию `OffersScreenAppear` - 62% пользователей. Самая большая доля пользователей переходит с `CartScreenAppear` к `PaymentScreenSuccessful` - 95%."
   ]
  },
  {
   "cell_type": "markdown",
   "metadata": {},
   "source": [
    "### Шаг, на котором теряется больше всего пользователей"
   ]
  },
  {
   "cell_type": "markdown",
   "metadata": {},
   "source": [
    "Посчитаем, какую долю пользователей мы теряем от перехода к следующему шагу нашей воронки событий."
   ]
  },
  {
   "cell_type": "code",
   "execution_count": 42,
   "metadata": {
    "scrolled": true
   },
   "outputs": [
    {
     "data": {
      "text/html": [
       "<div>\n",
       "<style scoped>\n",
       "    .dataframe tbody tr th:only-of-type {\n",
       "        vertical-align: middle;\n",
       "    }\n",
       "\n",
       "    .dataframe tbody tr th {\n",
       "        vertical-align: top;\n",
       "    }\n",
       "\n",
       "    .dataframe thead th {\n",
       "        text-align: right;\n",
       "    }\n",
       "</style>\n",
       "<table border=\"1\" class=\"dataframe\">\n",
       "  <thead>\n",
       "    <tr style=\"text-align: right;\">\n",
       "      <th></th>\n",
       "      <th>numbers_users</th>\n",
       "      <th>share_users</th>\n",
       "      <th>share_from_prev_step</th>\n",
       "      <th>share_lost_users</th>\n",
       "    </tr>\n",
       "    <tr>\n",
       "      <th>event_name</th>\n",
       "      <th></th>\n",
       "      <th></th>\n",
       "      <th></th>\n",
       "      <th></th>\n",
       "    </tr>\n",
       "  </thead>\n",
       "  <tbody>\n",
       "    <tr>\n",
       "      <th>MainScreenAppear</th>\n",
       "      <td>7419</td>\n",
       "      <td>0.99</td>\n",
       "      <td>NaN</td>\n",
       "      <td>NaN</td>\n",
       "    </tr>\n",
       "    <tr>\n",
       "      <th>OffersScreenAppear</th>\n",
       "      <td>4593</td>\n",
       "      <td>0.61</td>\n",
       "      <td>0.62</td>\n",
       "      <td>0.38</td>\n",
       "    </tr>\n",
       "    <tr>\n",
       "      <th>CartScreenAppear</th>\n",
       "      <td>3734</td>\n",
       "      <td>0.50</td>\n",
       "      <td>0.81</td>\n",
       "      <td>0.19</td>\n",
       "    </tr>\n",
       "    <tr>\n",
       "      <th>PaymentScreenSuccessful</th>\n",
       "      <td>3539</td>\n",
       "      <td>0.47</td>\n",
       "      <td>0.95</td>\n",
       "      <td>0.05</td>\n",
       "    </tr>\n",
       "  </tbody>\n",
       "</table>\n",
       "</div>"
      ],
      "text/plain": [
       "                         numbers_users  share_users  share_from_prev_step  \\\n",
       "event_name                                                                  \n",
       "MainScreenAppear                  7419         0.99                   NaN   \n",
       "OffersScreenAppear                4593         0.61                  0.62   \n",
       "CartScreenAppear                  3734         0.50                  0.81   \n",
       "PaymentScreenSuccessful           3539         0.47                  0.95   \n",
       "\n",
       "                         share_lost_users  \n",
       "event_name                                 \n",
       "MainScreenAppear                      NaN  \n",
       "OffersScreenAppear                   0.38  \n",
       "CartScreenAppear                     0.19  \n",
       "PaymentScreenSuccessful              0.05  "
      ]
     },
     "execution_count": 42,
     "metadata": {},
     "output_type": "execute_result"
    }
   ],
   "source": [
    "# добавим столбец 'share_lost_users' - доля пользователей, которую мы теряем при переходе на следующий шаг воронки \n",
    "event_name_users['share_lost_users'] = 1 - event_name_users['share_from_prev_step']\n",
    "\n",
    "event_name_users"
   ]
  },
  {
   "cell_type": "markdown",
   "metadata": {},
   "source": [
    "При переходе с главного экрана приложения `MainScreenAppear` к предложениям приложения `OffersScreenAppear` терятся самая большая доля пользователей - 38%. "
   ]
  },
  {
   "cell_type": "markdown",
   "metadata": {},
   "source": [
    "###  Доля пользователей, которая доходит от первого события до оплаты"
   ]
  },
  {
   "cell_type": "markdown",
   "metadata": {},
   "source": [
    "Узнаем, какая доля пользователей доходит от первого события до оплаты."
   ]
  },
  {
   "cell_type": "code",
   "execution_count": 43,
   "metadata": {},
   "outputs": [
    {
     "data": {
      "text/plain": [
       "0.48"
      ]
     },
     "execution_count": 43,
     "metadata": {},
     "output_type": "execute_result"
    }
   ],
   "source": [
    "# обратимся к последнему и первому значению столбца 'numbers_users' таблицы `share_main_to_payment`\n",
    "share_main_to_payment = \\\n",
    "event_name_users['numbers_users'].iloc[-1] / event_name_users['numbers_users'].iloc[0]\n",
    "\n",
    "round(share_main_to_payment, 2)"
   ]
  },
  {
   "cell_type": "markdown",
   "metadata": {},
   "source": [
    "От первого события воронки до оплаты доходит 48% пользователей."
   ]
  },
  {
   "cell_type": "markdown",
   "metadata": {},
   "source": [
    "## Исследование результатов эксперимента"
   ]
  },
  {
   "cell_type": "markdown",
   "metadata": {},
   "source": [
    "### Количество пользователей в каждой экспериментальной группе"
   ]
  },
  {
   "cell_type": "code",
   "execution_count": 45,
   "metadata": {
    "scrolled": false
   },
   "outputs": [
    {
     "data": {
      "text/html": [
       "<div>\n",
       "<style scoped>\n",
       "    .dataframe tbody tr th:only-of-type {\n",
       "        vertical-align: middle;\n",
       "    }\n",
       "\n",
       "    .dataframe tbody tr th {\n",
       "        vertical-align: top;\n",
       "    }\n",
       "\n",
       "    .dataframe thead th {\n",
       "        text-align: right;\n",
       "    }\n",
       "</style>\n",
       "<table border=\"1\" class=\"dataframe\">\n",
       "  <thead>\n",
       "    <tr style=\"text-align: right;\">\n",
       "      <th></th>\n",
       "      <th>count</th>\n",
       "    </tr>\n",
       "    <tr>\n",
       "      <th>exp_id</th>\n",
       "      <th></th>\n",
       "    </tr>\n",
       "  </thead>\n",
       "  <tbody>\n",
       "    <tr>\n",
       "      <th>246</th>\n",
       "      <td>2483</td>\n",
       "    </tr>\n",
       "    <tr>\n",
       "      <th>247</th>\n",
       "      <td>2512</td>\n",
       "    </tr>\n",
       "    <tr>\n",
       "      <th>248</th>\n",
       "      <td>2535</td>\n",
       "    </tr>\n",
       "  </tbody>\n",
       "</table>\n",
       "</div>"
      ],
      "text/plain": [
       "        count\n",
       "exp_id       \n",
       "246      2483\n",
       "247      2512\n",
       "248      2535"
      ]
     },
     "execution_count": 45,
     "metadata": {},
     "output_type": "execute_result"
    }
   ],
   "source": [
    "users_exp_id = (logs_actual\n",
    "                 .groupby(['exp_id'])\n",
    "                 .agg(count = ('user_id', 'nunique'))\n",
    "                 .sort_values(by = 'exp_id')\n",
    "                )\n",
    "\n",
    "users_exp_id"
   ]
  },
  {
   "cell_type": "code",
   "execution_count": 46,
   "metadata": {},
   "outputs": [
    {
     "name": "stdout",
     "output_type": "stream",
     "text": [
      "Сумма пользователей из трех групп равна: 7530\n",
      "Общее количество пользователей равно: 7530\n"
     ]
    }
   ],
   "source": [
    "print('Сумма пользователей из трех групп равна:', users_exp_id['count'].sum())\n",
    "print('Общее количество пользователей равно:', actual_users)"
   ]
  },
  {
   "cell_type": "markdown",
   "metadata": {},
   "source": [
    "В каждой экспериментальной группе практически одинаковое количество пользователей. Сумма пользователей из трёх групп равна общему количеству пользователей, таким образом попавший в одну из групп посетитель остаётся в этой группе до конца теста."
   ]
  },
  {
   "cell_type": "markdown",
   "metadata": {},
   "source": [
    "### Проведение A/A-теста"
   ]
  },
  {
   "cell_type": "markdown",
   "metadata": {},
   "source": [
    "Для проведения A/A-теста построим воронку событий для контрольной группы 246 и 247."
   ]
  },
  {
   "cell_type": "code",
   "execution_count": 47,
   "metadata": {
    "scrolled": true
   },
   "outputs": [
    {
     "data": {
      "text/html": [
       "<style  type=\"text/css\" >\n",
       "#T_bae17_row0_col0,#T_bae17_row0_col1,#T_bae17_row3_col2{\n",
       "            background-color:  #3cb371;\n",
       "            color:  #000000;\n",
       "        }#T_bae17_row0_col2{\n",
       "            background-color:  #000000;\n",
       "            color:  #f1f1f1;\n",
       "        }#T_bae17_row1_col0,#T_bae17_row1_col1{\n",
       "            background-color:  #bbe1cb;\n",
       "            color:  #000000;\n",
       "        }#T_bae17_row1_col2,#T_bae17_row3_col0,#T_bae17_row3_col1{\n",
       "            background-color:  #ebf3ed;\n",
       "            color:  #000000;\n",
       "        }#T_bae17_row2_col0,#T_bae17_row2_col1{\n",
       "            background-color:  #e2efe7;\n",
       "            color:  #000000;\n",
       "        }#T_bae17_row2_col2{\n",
       "            background-color:  #81cca2;\n",
       "            color:  #000000;\n",
       "        }</style><table id=\"T_bae17_\" ><thead>    <tr>        <th class=\"blank level0\" ></th>        <th class=\"col_heading level0 col0\" >numbers_users</th>        <th class=\"col_heading level0 col1\" >share_users</th>        <th class=\"col_heading level0 col2\" >share_from_prev_step</th>    </tr>    <tr>        <th class=\"index_name level0\" >event_name</th>        <th class=\"blank\" ></th>        <th class=\"blank\" ></th>        <th class=\"blank\" ></th>    </tr></thead><tbody>\n",
       "                <tr>\n",
       "                        <th id=\"T_bae17_level0_row0\" class=\"row_heading level0 row0\" >MainScreenAppear</th>\n",
       "                        <td id=\"T_bae17_row0_col0\" class=\"data row0 col0\" >2450</td>\n",
       "                        <td id=\"T_bae17_row0_col1\" class=\"data row0 col1\" >0.986710</td>\n",
       "                        <td id=\"T_bae17_row0_col2\" class=\"data row0 col2\" >nan</td>\n",
       "            </tr>\n",
       "            <tr>\n",
       "                        <th id=\"T_bae17_level0_row1\" class=\"row_heading level0 row1\" >OffersScreenAppear</th>\n",
       "                        <td id=\"T_bae17_row1_col0\" class=\"data row1 col0\" >1542</td>\n",
       "                        <td id=\"T_bae17_row1_col1\" class=\"data row1 col1\" >0.621023</td>\n",
       "                        <td id=\"T_bae17_row1_col2\" class=\"data row1 col2\" >0.629388</td>\n",
       "            </tr>\n",
       "            <tr>\n",
       "                        <th id=\"T_bae17_level0_row2\" class=\"row_heading level0 row2\" >CartScreenAppear</th>\n",
       "                        <td id=\"T_bae17_row2_col0\" class=\"data row2 col0\" >1266</td>\n",
       "                        <td id=\"T_bae17_row2_col1\" class=\"data row2 col1\" >0.509867</td>\n",
       "                        <td id=\"T_bae17_row2_col2\" class=\"data row2 col2\" >0.821012</td>\n",
       "            </tr>\n",
       "            <tr>\n",
       "                        <th id=\"T_bae17_level0_row3\" class=\"row_heading level0 row3\" >PaymentScreenSuccessful</th>\n",
       "                        <td id=\"T_bae17_row3_col0\" class=\"data row3 col0\" >1200</td>\n",
       "                        <td id=\"T_bae17_row3_col1\" class=\"data row3 col1\" >0.483286</td>\n",
       "                        <td id=\"T_bae17_row3_col2\" class=\"data row3 col2\" >0.947867</td>\n",
       "            </tr>\n",
       "    </tbody></table>"
      ],
      "text/plain": [
       "<pandas.io.formats.style.Styler at 0x7fdb840727f0>"
      ]
     },
     "execution_count": 47,
     "metadata": {},
     "output_type": "execute_result"
    }
   ],
   "source": [
    "# воронка событий для группы 246\n",
    "exp_246 = (logs_actual\n",
    "          .query('exp_id == 246')\n",
    "          .groupby(['event_name'])\n",
    "          .agg(numbers_users = ('user_id', 'nunique'))\n",
    "          .sort_values(by = 'numbers_users', ascending = False)\n",
    "         )\n",
    "           \n",
    "users_246 = users_exp_id['count'].iloc[0]\n",
    "\n",
    "# добавим столбец 'share_users' - доля пользователей, которые совершили то или иное действие\n",
    "exp_246['share_users'] = exp_246['numbers_users'] / users_246\n",
    "\n",
    "# добавим столбец 'share_from_prev_step' - доля пользователей, котороая проходит на следующий шаг воронки \n",
    "exp_246['share_from_prev_step'] = \\\n",
    "exp_246['numbers_users'] / exp_246['numbers_users'].shift()\n",
    "\n",
    "# добавим столбец с общим количеством пользователей 'total_users'\n",
    "exp_246['total_users'] = users_246\n",
    "\n",
    "cm = sns.light_palette(\"mediumseagreen\", as_cmap=True)\n",
    "\n",
    "exp_246[['numbers_users', 'share_users', 'share_from_prev_step']].style.background_gradient(cmap=cm)"
   ]
  },
  {
   "cell_type": "code",
   "execution_count": 48,
   "metadata": {},
   "outputs": [
    {
     "data": {
      "text/html": [
       "<style  type=\"text/css\" >\n",
       "#T_861bc_row0_col0,#T_861bc_row0_col1,#T_861bc_row3_col2{\n",
       "            background-color:  #87ceeb;\n",
       "            color:  #000000;\n",
       "        }#T_861bc_row0_col2{\n",
       "            background-color:  #000000;\n",
       "            color:  #f1f1f1;\n",
       "        }#T_861bc_row1_col0,#T_861bc_row1_col1{\n",
       "            background-color:  #d2e7f0;\n",
       "            color:  #000000;\n",
       "        }#T_861bc_row1_col2,#T_861bc_row3_col0,#T_861bc_row3_col1{\n",
       "            background-color:  #eff1f2;\n",
       "            color:  #000000;\n",
       "        }#T_861bc_row2_col0,#T_861bc_row2_col1{\n",
       "            background-color:  #e9eff2;\n",
       "            color:  #000000;\n",
       "        }#T_861bc_row2_col2{\n",
       "            background-color:  #aedbee;\n",
       "            color:  #000000;\n",
       "        }</style><table id=\"T_861bc_\" ><thead>    <tr>        <th class=\"blank level0\" ></th>        <th class=\"col_heading level0 col0\" >numbers_users</th>        <th class=\"col_heading level0 col1\" >share_users</th>        <th class=\"col_heading level0 col2\" >share_from_prev_step</th>    </tr>    <tr>        <th class=\"index_name level0\" >event_name</th>        <th class=\"blank\" ></th>        <th class=\"blank\" ></th>        <th class=\"blank\" ></th>    </tr></thead><tbody>\n",
       "                <tr>\n",
       "                        <th id=\"T_861bc_level0_row0\" class=\"row_heading level0 row0\" >MainScreenAppear</th>\n",
       "                        <td id=\"T_861bc_row0_col0\" class=\"data row0 col0\" >2476</td>\n",
       "                        <td id=\"T_861bc_row0_col1\" class=\"data row0 col1\" >0.985669</td>\n",
       "                        <td id=\"T_861bc_row0_col2\" class=\"data row0 col2\" >nan</td>\n",
       "            </tr>\n",
       "            <tr>\n",
       "                        <th id=\"T_861bc_level0_row1\" class=\"row_heading level0 row1\" >OffersScreenAppear</th>\n",
       "                        <td id=\"T_861bc_row1_col0\" class=\"data row1 col0\" >1520</td>\n",
       "                        <td id=\"T_861bc_row1_col1\" class=\"data row1 col1\" >0.605096</td>\n",
       "                        <td id=\"T_861bc_row1_col2\" class=\"data row1 col2\" >0.613893</td>\n",
       "            </tr>\n",
       "            <tr>\n",
       "                        <th id=\"T_861bc_level0_row2\" class=\"row_heading level0 row2\" >CartScreenAppear</th>\n",
       "                        <td id=\"T_861bc_row2_col0\" class=\"data row2 col0\" >1238</td>\n",
       "                        <td id=\"T_861bc_row2_col1\" class=\"data row2 col1\" >0.492834</td>\n",
       "                        <td id=\"T_861bc_row2_col2\" class=\"data row2 col2\" >0.814474</td>\n",
       "            </tr>\n",
       "            <tr>\n",
       "                        <th id=\"T_861bc_level0_row3\" class=\"row_heading level0 row3\" >PaymentScreenSuccessful</th>\n",
       "                        <td id=\"T_861bc_row3_col0\" class=\"data row3 col0\" >1158</td>\n",
       "                        <td id=\"T_861bc_row3_col1\" class=\"data row3 col1\" >0.460987</td>\n",
       "                        <td id=\"T_861bc_row3_col2\" class=\"data row3 col2\" >0.935380</td>\n",
       "            </tr>\n",
       "    </tbody></table>"
      ],
      "text/plain": [
       "<pandas.io.formats.style.Styler at 0x7fdb02aae490>"
      ]
     },
     "execution_count": 48,
     "metadata": {},
     "output_type": "execute_result"
    }
   ],
   "source": [
    "# воронка событий для группы 247\n",
    "exp_247 = (logs_actual\n",
    "          .query('exp_id == 247')\n",
    "          .groupby(['event_name'])\n",
    "          .agg(numbers_users = ('user_id', 'nunique'))\n",
    "          .sort_values(by = 'numbers_users', ascending = False)\n",
    "         )\n",
    "           \n",
    "users_247 = users_exp_id['count'].iloc[1]\n",
    "\n",
    "# добавим столбец 'share_users' - доля пользователей, которые совершили то или иное действие\n",
    "exp_247['share_users'] = exp_247['numbers_users'] / users_247\n",
    "\n",
    "# добавим столбец 'share_from_prev_step' - доля пользователей, котороая проходит на следующий шаг воронки \n",
    "exp_247['share_from_prev_step'] = \\\n",
    "exp_247['numbers_users'] / exp_247['numbers_users'].shift()\n",
    "\n",
    "# добавим столбец с общим количеством пользователей 'total_users'\n",
    "exp_247['total_users'] = users_247\n",
    "\n",
    "cm = sns.light_palette(\"skyblue\", as_cmap=True)\n",
    "\n",
    "exp_247[['numbers_users', 'share_users', 'share_from_prev_step']].style.background_gradient(cmap=cm)"
   ]
  },
  {
   "cell_type": "markdown",
   "metadata": {},
   "source": [
    "Узнаем, какая доля пользователей доходит от первого события до оплаты в контрольных группах 246 и 247."
   ]
  },
  {
   "cell_type": "code",
   "execution_count": 49,
   "metadata": {},
   "outputs": [
    {
     "name": "stdout",
     "output_type": "stream",
     "text": [
      "Доля пользователей, которая доходит от первого события до оплаты в контрольной группе 246 - 0.49\n",
      "Доля пользователей, которая доходит от первого события до оплаты в контрольной группе 247 - 0.47\n"
     ]
    }
   ],
   "source": [
    "share_main_to_payment_246 = \\\n",
    "exp_246['numbers_users'].iloc[-1] / exp_246['numbers_users'].iloc[0]\n",
    "\n",
    "share_main_to_payment_247 = \\\n",
    "exp_247['numbers_users'].iloc[-1] / exp_247['numbers_users'].iloc[0]\n",
    "\n",
    "print('Доля пользователей, которая доходит от первого события до оплаты в контрольной группе 246 -', \\\n",
    "      round(share_main_to_payment_246, 2))\n",
    "print('Доля пользователей, которая доходит от первого события до оплаты в контрольной группе 247 -', \\\n",
    "      round(share_main_to_payment_247, 2))"
   ]
  },
  {
   "cell_type": "markdown",
   "metadata": {},
   "source": [
    "Разница между пропорциями, наблюдаемыми на выборках, будет нашей статистикой. Проверим гипотезу о равенстве долей между контрольной группой 246 и 247. "
   ]
  },
  {
   "cell_type": "markdown",
   "metadata": {},
   "source": [
    "Сформулируем нулевую и альтернативную гипотезу, а также зададим пороговое значение `alpha`.\n",
    "```\n",
    "H_0: Доля пользователей, которая доходит от первого события до оплаты в группе 246 = доля пользователей, которая доходит от первого события до оплаты в группе 247\n",
    "H_a: Доля пользователей, которая доходит от первого события до оплаты в группе 246 ≠ доля пользователей, которая доходит от первого события до оплаты в группе 247\n",
    "alpha = 0.05\n",
    "```"
   ]
  },
  {
   "cell_type": "code",
   "execution_count": 50,
   "metadata": {
    "scrolled": true
   },
   "outputs": [
    {
     "name": "stdout",
     "output_type": "stream",
     "text": [
      "p-значение:  0.12044299485641763\n",
      "Не получилось отвергнуть нулевую гипотезу, нет оснований считать доли разными\n"
     ]
    }
   ],
   "source": [
    "# критический уровень статистической значимости\n",
    "alpha = .05 \n",
    "\n",
    "successes = np.array([exp_246['numbers_users'].iloc[-1], exp_247['numbers_users'].iloc[-1]])\n",
    "trials = np.array([exp_246['numbers_users'].iloc[0], exp_247['numbers_users'].iloc[0]])\n",
    "\n",
    "# пропорция успехов в первой группе:\n",
    "p1 = successes[0]/trials[0]\n",
    "\n",
    "# пропорция успехов во второй группе:\n",
    "p2 = successes[1]/trials[1]\n",
    "\n",
    "# пропорция успехов в комбинированном датасете:\n",
    "p_combined = (successes[0] + successes[1]) / (trials[0] + trials[1])\n",
    "\n",
    "# разница пропорций в датасетах\n",
    "difference = p1 - p2 \n",
    "\n",
    "# считаем статистику в ст.отклонениях стандартного нормального распределения\n",
    "z_value = difference / mth.sqrt(p_combined * (1 - p_combined) * (1/trials[0] + 1/trials[1]))\n",
    "\n",
    "# задаем стандартное нормальное распределение (среднее 0, ст.отклонение 1)\n",
    "distr = st.norm(0, 1) \n",
    "\n",
    "p_value = (1 - distr.cdf(abs(z_value))) * 2\n",
    "\n",
    "print('p-значение: ', p_value)\n",
    "\n",
    "if p_value < alpha:\n",
    "    print('Отвергаем нулевую гипотезу: между долями есть значимая разница')\n",
    "else:\n",
    "    print('Не получилось отвергнуть нулевую гипотезу, нет оснований считать доли разными')"
   ]
  },
  {
   "cell_type": "markdown",
   "metadata": {},
   "source": [
    "Отвергнуть нулевую гипотезу не получилось, это значит, что доля пользователей, которая доходит от первого события до оплаты в группе 246 и 247 статистически значимо не различаются."
   ]
  },
  {
   "cell_type": "markdown",
   "metadata": {},
   "source": [
    "Проверим равенство долей для каждого события между группами 246 и 247. Обернем проверку в функцию `get_z_value`."
   ]
  },
  {
   "cell_type": "code",
   "execution_count": 51,
   "metadata": {},
   "outputs": [],
   "source": [
    "def get_z_value(successes, trials, alpha): \n",
    "    \n",
    "    p1 = successes[0]/trials[0]\n",
    "    p2 = successes[1]/trials[1]\n",
    "\n",
    "    p_combined = (successes[0] + successes[1]) / (trials[0] + trials[1])\n",
    "\n",
    "    difference = p1 - p2 \n",
    "\n",
    "    z_value = difference / mth.sqrt(p_combined * (1 - p_combined) * (1/trials[0] + 1/trials[1]))\n",
    "\n",
    "    distr = st.norm(0, 1) \n",
    "\n",
    "    p_value = (1 - distr.cdf(abs(z_value))) * 2\n",
    "\n",
    "    print('p-значение: ', p_value)\n",
    "\n",
    "    if p_value < alpha:\n",
    "        print('Отвергаем нулевую гипотезу: между долями есть значимая разница')\n",
    "    else:\n",
    "        print('Не получилось отвергнуть нулевую гипотезу, нет оснований считать доли разными')   "
   ]
  },
  {
   "cell_type": "markdown",
   "metadata": {},
   "source": [
    "Создадим массивы для каждого события контрольной группы 246 и 247."
   ]
  },
  {
   "cell_type": "code",
   "execution_count": 52,
   "metadata": {},
   "outputs": [],
   "source": [
    "# число пользователей \"MainScreenAppear\" группы 246 и 247\n",
    "successes_MainScreenAppear = \\\n",
    "np.array([exp_246['numbers_users'].iloc[0], exp_247['numbers_users'].iloc[0]])\n",
    "\n",
    "# число пользователей\"OffersScreenAppear\" группы 246 и 247\n",
    "successes_OffersScreenAppear = \\\n",
    "np.array([exp_246['numbers_users'].iloc[1], exp_247['numbers_users'].iloc[1]])\n",
    "\n",
    "# число пользователей \"CartScreenAppear\" группы 246 и 247\n",
    "successes_CartScreenAppear = \\\n",
    "np.array([exp_246['numbers_users'].iloc[2], exp_247['numbers_users'].iloc[2]])\n",
    "\n",
    "# число пользователей \"PaymentScreenSuccessful\" группы 246 и 247\n",
    "successes_PaymentScreenSuccessful = \\\n",
    "np.array([exp_246['numbers_users'].iloc[3], exp_247['numbers_users'].iloc[3]])\n",
    "\n",
    "# количество уникальных пользователей группы 246 и 247\n",
    "trials_events = np.array([exp_246['total_users'].iloc[0], exp_247['total_users'].iloc[0]])"
   ]
  },
  {
   "cell_type": "markdown",
   "metadata": {},
   "source": [
    "Создадим функцию `get_result` для проверки равенства долей для каждого события между двумя группами."
   ]
  },
  {
   "cell_type": "code",
   "execution_count": 53,
   "metadata": {},
   "outputs": [],
   "source": [
    "def get_result():\n",
    "      \n",
    "    print('Проверка равенства долей события MainScreenAppear группы 246 и 247')\n",
    "    get_z_value(successes_MainScreenAppear, trials_events, alpha)\n",
    "    print('')\n",
    "    \n",
    "    print('Проверка равенства долей события OffersScreenAppear группы 246 и 247')\n",
    "    get_z_value(successes_OffersScreenAppear, trials_events, alpha)\n",
    "    print('')\n",
    "    \n",
    "    print('Проверка равенства долей события CartScreenAppear группы 246 и 247')\n",
    "    get_z_value(successes_CartScreenAppear, trials_events, alpha)\n",
    "    print('')\n",
    "    \n",
    "    print('Проверка равенства долей события PaymentScreenSuccessful группы 246 и 247')\n",
    "    get_z_value(successes_PaymentScreenSuccessful, trials_events, alpha)"
   ]
  },
  {
   "cell_type": "code",
   "execution_count": 54,
   "metadata": {
    "scrolled": false
   },
   "outputs": [
    {
     "name": "stdout",
     "output_type": "stream",
     "text": [
      "Проверка равенства долей события MainScreenAppear группы 246 и 247\n",
      "p-значение:  0.7526703436483038\n",
      "Не получилось отвергнуть нулевую гипотезу, нет оснований считать доли разными\n",
      "\n",
      "Проверка равенства долей события OffersScreenAppear группы 246 и 247\n",
      "p-значение:  0.24786096925282264\n",
      "Не получилось отвергнуть нулевую гипотезу, нет оснований считать доли разными\n",
      "\n",
      "Проверка равенства долей события CartScreenAppear группы 246 и 247\n",
      "p-значение:  0.22867643757335676\n",
      "Не получилось отвергнуть нулевую гипотезу, нет оснований считать доли разными\n",
      "\n",
      "Проверка равенства долей события PaymentScreenSuccessful группы 246 и 247\n",
      "p-значение:  0.11446627829276612\n",
      "Не получилось отвергнуть нулевую гипотезу, нет оснований считать доли разными\n"
     ]
    }
   ],
   "source": [
    "get_result()"
   ]
  },
  {
   "cell_type": "markdown",
   "metadata": {},
   "source": [
    "Отвергнуть нулевую гипотезу не получилось в каждом из событий, это значит, что доля пользователей, которая совершает событие `MainScreenAppear`, `OffersScreenAppear`, `CartScreenAppear` и `PaymentScreenSuccessful` в группе 246 и 247 статистически значимо не различаются. \n",
    "\n",
    "A/A-тест можно считать успешным, так как:\n",
    "- Количество пользователей в группах различается не более, чем на 1%;\n",
    "- Для всех групп фиксируют и отправляют в системы аналитики данные об одном и том же;\n",
    "- Различие ключевых метрик по группам не превышает 1% и не имеет статистической значимости;\n",
    "- Попавший в одну из групп посетитель остаётся в этой группе до конца теста."
   ]
  },
  {
   "cell_type": "markdown",
   "metadata": {},
   "source": [
    "### Анализ A/B-теста при уровне статистической значимости 5%"
   ]
  },
  {
   "cell_type": "markdown",
   "metadata": {},
   "source": [
    "#### Анализ A/B-теста группы 246 и 248"
   ]
  },
  {
   "cell_type": "markdown",
   "metadata": {},
   "source": [
    "Аналогично A/A-тесту проведем A/B-тест между контрольной группой 246 и экспериментальной группой 248 с измененным шрифтом. Для этого построим воронку событий группы 248."
   ]
  },
  {
   "cell_type": "code",
   "execution_count": 55,
   "metadata": {},
   "outputs": [
    {
     "data": {
      "text/html": [
       "<style  type=\"text/css\" >\n",
       "#T_cb727_row0_col0,#T_cb727_row0_col1,#T_cb727_row3_col2{\n",
       "            background-color:  #ffd700;\n",
       "            color:  #000000;\n",
       "        }#T_cb727_row0_col2{\n",
       "            background-color:  #000000;\n",
       "            color:  #f1f1f1;\n",
       "        }#T_cb727_row1_col0,#T_cb727_row1_col1{\n",
       "            background-color:  #f6eaac;\n",
       "            color:  #000000;\n",
       "        }#T_cb727_row1_col2,#T_cb727_row3_col0,#T_cb727_row3_col1{\n",
       "            background-color:  #f3f0eb;\n",
       "            color:  #000000;\n",
       "        }#T_cb727_row2_col0,#T_cb727_row2_col1{\n",
       "            background-color:  #f3f0e3;\n",
       "            color:  #000000;\n",
       "        }#T_cb727_row2_col2{\n",
       "            background-color:  #fae26a;\n",
       "            color:  #000000;\n",
       "        }</style><table id=\"T_cb727_\" ><thead>    <tr>        <th class=\"blank level0\" ></th>        <th class=\"col_heading level0 col0\" >numbers_users</th>        <th class=\"col_heading level0 col1\" >share_users</th>        <th class=\"col_heading level0 col2\" >share_from_prev_step</th>    </tr>    <tr>        <th class=\"index_name level0\" >event_name</th>        <th class=\"blank\" ></th>        <th class=\"blank\" ></th>        <th class=\"blank\" ></th>    </tr></thead><tbody>\n",
       "                <tr>\n",
       "                        <th id=\"T_cb727_level0_row0\" class=\"row_heading level0 row0\" >MainScreenAppear</th>\n",
       "                        <td id=\"T_cb727_row0_col0\" class=\"data row0 col0\" >2493</td>\n",
       "                        <td id=\"T_cb727_row0_col1\" class=\"data row0 col1\" >0.983432</td>\n",
       "                        <td id=\"T_cb727_row0_col2\" class=\"data row0 col2\" >nan</td>\n",
       "            </tr>\n",
       "            <tr>\n",
       "                        <th id=\"T_cb727_level0_row1\" class=\"row_heading level0 row1\" >OffersScreenAppear</th>\n",
       "                        <td id=\"T_cb727_row1_col0\" class=\"data row1 col0\" >1531</td>\n",
       "                        <td id=\"T_cb727_row1_col1\" class=\"data row1 col1\" >0.603945</td>\n",
       "                        <td id=\"T_cb727_row1_col2\" class=\"data row1 col2\" >0.614120</td>\n",
       "            </tr>\n",
       "            <tr>\n",
       "                        <th id=\"T_cb727_level0_row2\" class=\"row_heading level0 row2\" >CartScreenAppear</th>\n",
       "                        <td id=\"T_cb727_row2_col0\" class=\"data row2 col0\" >1230</td>\n",
       "                        <td id=\"T_cb727_row2_col1\" class=\"data row2 col1\" >0.485207</td>\n",
       "                        <td id=\"T_cb727_row2_col2\" class=\"data row2 col2\" >0.803396</td>\n",
       "            </tr>\n",
       "            <tr>\n",
       "                        <th id=\"T_cb727_level0_row3\" class=\"row_heading level0 row3\" >PaymentScreenSuccessful</th>\n",
       "                        <td id=\"T_cb727_row3_col0\" class=\"data row3 col0\" >1181</td>\n",
       "                        <td id=\"T_cb727_row3_col1\" class=\"data row3 col1\" >0.465878</td>\n",
       "                        <td id=\"T_cb727_row3_col2\" class=\"data row3 col2\" >0.960163</td>\n",
       "            </tr>\n",
       "    </tbody></table>"
      ],
      "text/plain": [
       "<pandas.io.formats.style.Styler at 0x7fdaf8393fa0>"
      ]
     },
     "execution_count": 55,
     "metadata": {},
     "output_type": "execute_result"
    }
   ],
   "source": [
    "# воронка событий для группы 248\n",
    "exp_248 = (logs_actual\n",
    "          .query('exp_id == 248')\n",
    "          .groupby(['event_name'])\n",
    "          .agg(numbers_users = ('user_id', 'nunique'))\n",
    "          .sort_values(by = 'numbers_users', ascending = False)\n",
    "         )\n",
    "           \n",
    "users_248 = users_exp_id['count'].iloc[2]\n",
    "\n",
    "# добавим столбец 'share_users' - доля пользователей, которые совершили то или иное действие\n",
    "exp_248['share_users'] = exp_248['numbers_users'] / users_248\n",
    "\n",
    "# добавим столбец 'share_from_prev_step' - доля пользователей, котороая проходит на следующий шаг воронки \n",
    "exp_248['share_from_prev_step'] = \\\n",
    "exp_248['numbers_users'] / exp_248['numbers_users'].shift()\n",
    "\n",
    "# добавим столбец с общим количеством пользователей 'total_users'\n",
    "exp_248['total_users'] = users_248\n",
    "\n",
    "cm = sns.light_palette(\"gold\", as_cmap=True)\n",
    "\n",
    "exp_248[['numbers_users', 'share_users', 'share_from_prev_step']].style.background_gradient(cmap=cm)"
   ]
  },
  {
   "cell_type": "markdown",
   "metadata": {},
   "source": [
    "Узнаем, какая доля пользователей доходит от первого события до оплаты в экспериментальной группе 248."
   ]
  },
  {
   "cell_type": "code",
   "execution_count": 56,
   "metadata": {},
   "outputs": [
    {
     "name": "stdout",
     "output_type": "stream",
     "text": [
      "Доля пользователей, которая доходит от первого события до оплаты в контрольной группе 246 - 0.49\n",
      "Доля пользователей, которая доходит от первого события до оплаты в контрольной группе 248 - 0.47\n"
     ]
    }
   ],
   "source": [
    "share_main_to_payment_246 = \\\n",
    "exp_246['numbers_users'].iloc[-1] / exp_246['numbers_users'].iloc[0]\n",
    "\n",
    "share_main_to_payment_248 = \\\n",
    "exp_248['numbers_users'].iloc[-1] / exp_248['numbers_users'].iloc[0]\n",
    "\n",
    "print('Доля пользователей, которая доходит от первого события до оплаты в контрольной группе 246 -', \\\n",
    "      round(share_main_to_payment_246, 2))\n",
    "print('Доля пользователей, которая доходит от первого события до оплаты в контрольной группе 248 -', \\\n",
    "      round(share_main_to_payment_248, 2))"
   ]
  },
  {
   "cell_type": "markdown",
   "metadata": {},
   "source": [
    "Проверим равенство долей для каждого события между группами 246 и 248. Но для начала усовершенствуем нашу функцию `get_result`. На вход наша функция будет принимать данные двух сравниваемых групп, их наименование и уровень статистической значимости `alpha`. Все необходимые для расчета массивы будут находиться внутри функции."
   ]
  },
  {
   "cell_type": "code",
   "execution_count": 57,
   "metadata": {},
   "outputs": [],
   "source": [
    "def get_result(exp_1, exp_2, exp_name_1, exp_name_2, alpha):\n",
    "    \n",
    "    # число пользователей \"MainScreenAppear\" группы exp_1 и exp_2\n",
    "    successes_MainScreenAppear = \\\n",
    "    np.array([exp_1['numbers_users'].iloc[0], exp_2['numbers_users'].iloc[0]])\n",
    "\n",
    "    # число пользователей\"OffersScreenAppear\" группы  exp_1 и exp_2\n",
    "    successes_OffersScreenAppear = \\\n",
    "    np.array([exp_1['numbers_users'].iloc[1], exp_2['numbers_users'].iloc[1]])\n",
    "\n",
    "    # число пользователей \"CartScreenAppear\" группы  exp_1 и exp_2\n",
    "    successes_CartScreenAppear = \\\n",
    "    np.array([exp_1['numbers_users'].iloc[2], exp_2['numbers_users'].iloc[2]])\n",
    "\n",
    "   # число пользователей \"PaymentScreenSuccessful\" группы  exp_1 и exp_2\n",
    "    successes_PaymentScreenSuccessful = \\\n",
    "    np.array([exp_1['numbers_users'].iloc[3], exp_2['numbers_users'].iloc[3]])\n",
    "\n",
    "    # количество уникальных пользователей группы  exp_1 и exp_2\n",
    "    trials_events = np.array([exp_1['total_users'].iloc[0], exp_2['total_users'].iloc[0]])\n",
    "    \n",
    "    print('Проверка равенства долей события MainScreenAppear группы', exp_name_1, 'и', exp_name_2)\n",
    "    get_z_value(successes_MainScreenAppear, trials_events, alpha)\n",
    "    print('')\n",
    "    \n",
    "    print('Проверка равенства долей события OffersScreenAppear группы', exp_name_1, 'и', exp_name_2)\n",
    "    get_z_value(successes_OffersScreenAppear, trials_events, alpha)\n",
    "    print('')\n",
    "    \n",
    "    print('Проверка равенства долей события CartScreenAppear группы', exp_name_1, 'и', exp_name_2)\n",
    "    get_z_value(successes_CartScreenAppear, trials_events, alpha)\n",
    "    print('')\n",
    "    \n",
    "    print('Проверка равенства долей события PaymentScreenSuccessful группы', exp_name_1, 'и', exp_name_2)\n",
    "    get_z_value(successes_PaymentScreenSuccessful, trials_events, alpha)\n",
    "    print('')\n",
    "     \n",
    "    #print('Проверка равенства долей от первого события до оплаты ', exp_name_1, 'и', exp_name_2)\n",
    "    #get_z_value(successes, trials, alpha) "
   ]
  },
  {
   "cell_type": "markdown",
   "metadata": {},
   "source": [
    "Сформулируем нулевую и альтернативную гипотезу:\n",
    "```\n",
    "H_0: Доля пользователей в группе 246 = доля пользователей в группе 248\n",
    "H_a: Доля пользователей в группе 246 ≠ доля пользователей в группе 248\n",
    "```"
   ]
  },
  {
   "cell_type": "code",
   "execution_count": 58,
   "metadata": {
    "scrolled": true
   },
   "outputs": [
    {
     "name": "stdout",
     "output_type": "stream",
     "text": [
      "Проверка равенства долей события MainScreenAppear группы 246 и 248\n",
      "p-значение:  0.3387114076159288\n",
      "Не получилось отвергнуть нулевую гипотезу, нет оснований считать доли разными\n",
      "\n",
      "Проверка равенства долей события OffersScreenAppear группы 246 и 248\n",
      "p-значение:  0.21442476639710506\n",
      "Не получилось отвергнуть нулевую гипотезу, нет оснований считать доли разными\n",
      "\n",
      "Проверка равенства долей события CartScreenAppear группы 246 и 248\n",
      "p-значение:  0.08067367598823139\n",
      "Не получилось отвергнуть нулевую гипотезу, нет оснований считать доли разными\n",
      "\n",
      "Проверка равенства долей события PaymentScreenSuccessful группы 246 и 248\n",
      "p-значение:  0.21693033984516674\n",
      "Не получилось отвергнуть нулевую гипотезу, нет оснований считать доли разными\n",
      "\n"
     ]
    }
   ],
   "source": [
    "get_result(exp_246, exp_248, 246, 248, 0.05)"
   ]
  },
  {
   "cell_type": "markdown",
   "metadata": {},
   "source": [
    "Отвергнуть нулевую гипотезу не получилось в каждом из событий, это значит, что доли пользователей, которые совершают события `MainScreenAppear`, `OffersScreenAppear`, `CartScreenAppear`, `PaymentScreenSuccessful`, в группе 246 и 248 статистически значимо не различаются. Обратим внимание на p-значение события `CartScreenAppear` - 0,08 оно находится близко к значению `alpha`."
   ]
  },
  {
   "cell_type": "markdown",
   "metadata": {},
   "source": [
    "#### Анализ A/B-теста группы 247 и 248"
   ]
  },
  {
   "cell_type": "markdown",
   "metadata": {},
   "source": [
    "Проверим равенство долей между контрольной группой 247 и экспериментальной группой 248. Выведем на экран долю пользователей, которая доходит от первого события до оплаты. "
   ]
  },
  {
   "cell_type": "code",
   "execution_count": 59,
   "metadata": {},
   "outputs": [
    {
     "name": "stdout",
     "output_type": "stream",
     "text": [
      "Доля пользователей, которая доходит от первого события до оплаты в контрольной группе 247 - 0.47\n",
      "Доля пользователей, которая доходит от первого события до оплаты в контрольной группе 248 - 0.47\n"
     ]
    }
   ],
   "source": [
    "print('Доля пользователей, которая доходит от первого события до оплаты в контрольной группе 247 -', \\\n",
    "      round(share_main_to_payment_247, 2))\n",
    "print('Доля пользователей, которая доходит от первого события до оплаты в контрольной группе 248 -', \\\n",
    "      round(share_main_to_payment_248, 2))"
   ]
  },
  {
   "cell_type": "markdown",
   "metadata": {},
   "source": [
    "На первый взглят доли выглядят равными. Проверим, так ли это на самом деле."
   ]
  },
  {
   "cell_type": "markdown",
   "metadata": {},
   "source": [
    "```\n",
    "H_0: Доля пользователей в группе 247 = доля пользователей в группе 248\n",
    "H_a: Доля пользователей в группе 247 ≠ доля пользователей в группе 248\n",
    "```"
   ]
  },
  {
   "cell_type": "code",
   "execution_count": 60,
   "metadata": {},
   "outputs": [
    {
     "name": "stdout",
     "output_type": "stream",
     "text": [
      "Проверка равенства долей события MainScreenAppear группы 247 и 248\n",
      "p-значение:  0.5194964354051703\n",
      "Не получилось отвергнуть нулевую гипотезу, нет оснований считать доли разными\n",
      "\n",
      "Проверка равенства долей события OffersScreenAppear группы 247 и 248\n",
      "p-значение:  0.9333751305879443\n",
      "Не получилось отвергнуть нулевую гипотезу, нет оснований считать доли разными\n",
      "\n",
      "Проверка равенства долей события CartScreenAppear группы 247 и 248\n",
      "p-значение:  0.5878284605111943\n",
      "Не получилось отвергнуть нулевую гипотезу, нет оснований считать доли разными\n",
      "\n",
      "Проверка равенства долей события PaymentScreenSuccessful группы 247 и 248\n",
      "p-значение:  0.7275718682261119\n",
      "Не получилось отвергнуть нулевую гипотезу, нет оснований считать доли разными\n",
      "\n"
     ]
    }
   ],
   "source": [
    "get_result(exp_247, exp_248, 247, 248, 0.05)"
   ]
  },
  {
   "cell_type": "markdown",
   "metadata": {},
   "source": [
    "Отвергнуть нулевую гипотезу не получилось в каждом из событий, это значит, что доли пользователей, которые совершают события `MainScreenAppear`, `OffersScreenAppear`, `CartScreenAppear`, `PaymentScreenSuccessful`, в группе 247 и 248 статистически значимо не различаются."
   ]
  },
  {
   "cell_type": "markdown",
   "metadata": {},
   "source": [
    "#### Анализ A/B-теста объединенной контрольной группы  и 248"
   ]
  },
  {
   "cell_type": "markdown",
   "metadata": {},
   "source": [
    "Объединеним контрольные группы 246 и 247. Назовем объединённую контрольную группу - группа 100, и сохраним ее в переменной `exp_100`. "
   ]
  },
  {
   "cell_type": "code",
   "execution_count": 61,
   "metadata": {
    "scrolled": true
   },
   "outputs": [
    {
     "data": {
      "text/html": [
       "<div>\n",
       "<style scoped>\n",
       "    .dataframe tbody tr th:only-of-type {\n",
       "        vertical-align: middle;\n",
       "    }\n",
       "\n",
       "    .dataframe tbody tr th {\n",
       "        vertical-align: top;\n",
       "    }\n",
       "\n",
       "    .dataframe thead th {\n",
       "        text-align: right;\n",
       "    }\n",
       "</style>\n",
       "<table border=\"1\" class=\"dataframe\">\n",
       "  <thead>\n",
       "    <tr style=\"text-align: right;\">\n",
       "      <th></th>\n",
       "      <th>numbers_users</th>\n",
       "      <th>share_users</th>\n",
       "      <th>share_from_prev_step</th>\n",
       "      <th>total_users</th>\n",
       "    </tr>\n",
       "    <tr>\n",
       "      <th>event_name</th>\n",
       "      <th></th>\n",
       "      <th></th>\n",
       "      <th></th>\n",
       "      <th></th>\n",
       "    </tr>\n",
       "  </thead>\n",
       "  <tbody>\n",
       "    <tr>\n",
       "      <th>MainScreenAppear</th>\n",
       "      <td>4926</td>\n",
       "      <td>1.972378</td>\n",
       "      <td>NaN</td>\n",
       "      <td>4995</td>\n",
       "    </tr>\n",
       "    <tr>\n",
       "      <th>OffersScreenAppear</th>\n",
       "      <td>3062</td>\n",
       "      <td>1.226118</td>\n",
       "      <td>1.243281</td>\n",
       "      <td>4995</td>\n",
       "    </tr>\n",
       "    <tr>\n",
       "      <th>CartScreenAppear</th>\n",
       "      <td>2504</td>\n",
       "      <td>1.002701</td>\n",
       "      <td>1.635485</td>\n",
       "      <td>4995</td>\n",
       "    </tr>\n",
       "    <tr>\n",
       "      <th>PaymentScreenSuccessful</th>\n",
       "      <td>2358</td>\n",
       "      <td>0.944274</td>\n",
       "      <td>1.883247</td>\n",
       "      <td>4995</td>\n",
       "    </tr>\n",
       "  </tbody>\n",
       "</table>\n",
       "</div>"
      ],
      "text/plain": [
       "                         numbers_users  share_users  share_from_prev_step  \\\n",
       "event_name                                                                  \n",
       "MainScreenAppear                  4926     1.972378                   NaN   \n",
       "OffersScreenAppear                3062     1.226118              1.243281   \n",
       "CartScreenAppear                  2504     1.002701              1.635485   \n",
       "PaymentScreenSuccessful           2358     0.944274              1.883247   \n",
       "\n",
       "                         total_users  \n",
       "event_name                            \n",
       "MainScreenAppear                4995  \n",
       "OffersScreenAppear              4995  \n",
       "CartScreenAppear                4995  \n",
       "PaymentScreenSuccessful         4995  "
      ]
     },
     "execution_count": 61,
     "metadata": {},
     "output_type": "execute_result"
    }
   ],
   "source": [
    "exp_100 = exp_246 + exp_247\n",
    "exp_100"
   ]
  },
  {
   "cell_type": "markdown",
   "metadata": {},
   "source": [
    "Обратим внимание, что столбцы `share_users` и `share_from_prev_step` рассчитаны не корректно для нашей воронки событий, потому что мы складывали значения таблиц `exp_246` и `exp_247`. Пересчитаем значения в этих столбцах."
   ]
  },
  {
   "cell_type": "code",
   "execution_count": 62,
   "metadata": {},
   "outputs": [
    {
     "data": {
      "text/html": [
       "<style  type=\"text/css\" >\n",
       "#T_d1d53_row0_col0,#T_d1d53_row0_col1,#T_d1d53_row3_col2{\n",
       "            background-color:  #ffc0cb;\n",
       "            color:  #000000;\n",
       "        }#T_d1d53_row0_col2{\n",
       "            background-color:  #000000;\n",
       "            color:  #f1f1f1;\n",
       "        }#T_d1d53_row1_col0,#T_d1d53_row1_col1{\n",
       "            background-color:  #f6e3e6;\n",
       "            color:  #000000;\n",
       "        }#T_d1d53_row1_col2,#T_d1d53_row3_col0,#T_d1d53_row3_col1{\n",
       "            background-color:  #f3f0f0;\n",
       "            color:  #000000;\n",
       "        }#T_d1d53_row2_col0,#T_d1d53_row2_col1{\n",
       "            background-color:  #f3edee;\n",
       "            color:  #000000;\n",
       "        }#T_d1d53_row2_col2{\n",
       "            background-color:  #fad3d9;\n",
       "            color:  #000000;\n",
       "        }</style><table id=\"T_d1d53_\" ><thead>    <tr>        <th class=\"blank level0\" ></th>        <th class=\"col_heading level0 col0\" >numbers_users</th>        <th class=\"col_heading level0 col1\" >share_users</th>        <th class=\"col_heading level0 col2\" >share_from_prev_step</th>    </tr>    <tr>        <th class=\"index_name level0\" >event_name</th>        <th class=\"blank\" ></th>        <th class=\"blank\" ></th>        <th class=\"blank\" ></th>    </tr></thead><tbody>\n",
       "                <tr>\n",
       "                        <th id=\"T_d1d53_level0_row0\" class=\"row_heading level0 row0\" >MainScreenAppear</th>\n",
       "                        <td id=\"T_d1d53_row0_col0\" class=\"data row0 col0\" >4926</td>\n",
       "                        <td id=\"T_d1d53_row0_col1\" class=\"data row0 col1\" >0.986186</td>\n",
       "                        <td id=\"T_d1d53_row0_col2\" class=\"data row0 col2\" >nan</td>\n",
       "            </tr>\n",
       "            <tr>\n",
       "                        <th id=\"T_d1d53_level0_row1\" class=\"row_heading level0 row1\" >OffersScreenAppear</th>\n",
       "                        <td id=\"T_d1d53_row1_col0\" class=\"data row1 col0\" >3062</td>\n",
       "                        <td id=\"T_d1d53_row1_col1\" class=\"data row1 col1\" >0.613013</td>\n",
       "                        <td id=\"T_d1d53_row1_col2\" class=\"data row1 col2\" >0.621600</td>\n",
       "            </tr>\n",
       "            <tr>\n",
       "                        <th id=\"T_d1d53_level0_row2\" class=\"row_heading level0 row2\" >CartScreenAppear</th>\n",
       "                        <td id=\"T_d1d53_row2_col0\" class=\"data row2 col0\" >2504</td>\n",
       "                        <td id=\"T_d1d53_row2_col1\" class=\"data row2 col1\" >0.501301</td>\n",
       "                        <td id=\"T_d1d53_row2_col2\" class=\"data row2 col2\" >0.817766</td>\n",
       "            </tr>\n",
       "            <tr>\n",
       "                        <th id=\"T_d1d53_level0_row3\" class=\"row_heading level0 row3\" >PaymentScreenSuccessful</th>\n",
       "                        <td id=\"T_d1d53_row3_col0\" class=\"data row3 col0\" >2358</td>\n",
       "                        <td id=\"T_d1d53_row3_col1\" class=\"data row3 col1\" >0.472072</td>\n",
       "                        <td id=\"T_d1d53_row3_col2\" class=\"data row3 col2\" >0.941693</td>\n",
       "            </tr>\n",
       "    </tbody></table>"
      ],
      "text/plain": [
       "<pandas.io.formats.style.Styler at 0x7fdaf83c78e0>"
      ]
     },
     "execution_count": 62,
     "metadata": {},
     "output_type": "execute_result"
    }
   ],
   "source": [
    "# добавим переменную 'users_100' - общее количество пользователей в группе\n",
    "users_100 = users_246 + users_247\n",
    "\n",
    "# пересчитаем значения 'share_users' - доля пользователей, которые совершили то или иное действие\n",
    "exp_100['share_users'] = exp_100['numbers_users'] / users_100\n",
    "\n",
    "# пересчитаем значения 'share_from_prev_step' - доля пользователей, котороая проходит на следующий шаг воронки \n",
    "exp_100['share_from_prev_step'] = \\\n",
    "exp_100['numbers_users'] / exp_100['numbers_users'].shift()\n",
    "\n",
    "cm = sns.light_palette(\"pink\", as_cmap=True)\n",
    "\n",
    "exp_100[['numbers_users', 'share_users', 'share_from_prev_step']].style.background_gradient(cmap=cm)"
   ]
  },
  {
   "cell_type": "markdown",
   "metadata": {},
   "source": [
    "Узнаем, какая доля пользователей доходит от первого события до оплаты в объединенной контрольной группе 100."
   ]
  },
  {
   "cell_type": "code",
   "execution_count": 63,
   "metadata": {},
   "outputs": [
    {
     "name": "stdout",
     "output_type": "stream",
     "text": [
      "Доля пользователей, которая доходит от первого события до оплаты в объединённой контрольной группе 100 - 0.48\n",
      "Доля пользователей, которая доходит от первого события до оплаты в контрольной группе 248 - 0.47\n"
     ]
    }
   ],
   "source": [
    "share_main_to_payment_100 = \\\n",
    "exp_100['numbers_users'].iloc[-1] / exp_100['numbers_users'].iloc[0]\n",
    "\n",
    "print('Доля пользователей, которая доходит от первого события до оплаты в объединённой контрольной группе 100 -', \\\n",
    "      round(share_main_to_payment_100, 2))\n",
    "print('Доля пользователей, которая доходит от первого события до оплаты в контрольной группе 248 -', \\\n",
    "      round(share_main_to_payment_248, 2))"
   ]
  },
  {
   "cell_type": "markdown",
   "metadata": {},
   "source": [
    "Проверим равенство долей между объединенной контрольной группой 100 и экспериментальной 248."
   ]
  },
  {
   "cell_type": "markdown",
   "metadata": {},
   "source": [
    "```\n",
    "H_0: Доля пользователей в группе 100 = доля пользователей в группе 248\n",
    "H_a: Доля пользователей в группе 100 ≠ доля пользователей в группе 248\n",
    "```"
   ]
  },
  {
   "cell_type": "code",
   "execution_count": 64,
   "metadata": {
    "scrolled": true
   },
   "outputs": [
    {
     "name": "stdout",
     "output_type": "stream",
     "text": [
      "Проверка равенства долей события MainScreenAppear группы 100 и 248\n",
      "p-значение:  0.3486684291093256\n",
      "Не получилось отвергнуть нулевую гипотезу, нет оснований считать доли разными\n",
      "\n",
      "Проверка равенства долей события OffersScreenAppear группы 100 и 248\n",
      "p-значение:  0.44582745409482394\n",
      "Не получилось отвергнуть нулевую гипотезу, нет оснований считать доли разными\n",
      "\n",
      "Проверка равенства долей события CartScreenAppear группы 100 и 248\n",
      "p-значение:  0.18683558686831558\n",
      "Не получилось отвергнуть нулевую гипотезу, нет оснований считать доли разными\n",
      "\n",
      "Проверка равенства долей события PaymentScreenSuccessful группы 100 и 248\n",
      "p-значение:  0.6107918742187335\n",
      "Не получилось отвергнуть нулевую гипотезу, нет оснований считать доли разными\n",
      "\n"
     ]
    }
   ],
   "source": [
    "get_result(exp_100, exp_248, 100, 248, 0.05)"
   ]
  },
  {
   "cell_type": "markdown",
   "metadata": {},
   "source": [
    "Отвергнуть нулевую гипотезу не получилось в каждом из событий, это значит, что доля пользователей, которая совершает событие `MainScreenAppear`, `OffersScreenAppear`, `CartScreenAppear`, `PaymentScreenSuccessful`, в группе 100 и 248 статистически значимо не различаются."
   ]
  },
  {
   "cell_type": "markdown",
   "metadata": {},
   "source": [
    "### Анализ A/B-теста при уровне статистической значимости 10%"
   ]
  },
  {
   "cell_type": "markdown",
   "metadata": {},
   "source": [
    "#### Анализ A/A-теста"
   ]
  },
  {
   "cell_type": "markdown",
   "metadata": {},
   "source": [
    "Проверим равенство долей для каждого события между контрольными группами 246 и 247. Изменим уровень статистической значимости на 0,1."
   ]
  },
  {
   "cell_type": "markdown",
   "metadata": {},
   "source": [
    "```\n",
    "H_0: Доля пользователей в группе 246 = доля пользователей в группе 247\n",
    "H_a: Доля пользователей в группе 246 ≠ доля пользователей в группе 247\n",
    "alpha = 0.1\n",
    "```"
   ]
  },
  {
   "cell_type": "code",
   "execution_count": 65,
   "metadata": {
    "scrolled": true
   },
   "outputs": [
    {
     "name": "stdout",
     "output_type": "stream",
     "text": [
      "Проверка равенства долей события MainScreenAppear группы 246 и 247\n",
      "p-значение:  0.7526703436483038\n",
      "Не получилось отвергнуть нулевую гипотезу, нет оснований считать доли разными\n",
      "\n",
      "Проверка равенства долей события OffersScreenAppear группы 246 и 247\n",
      "p-значение:  0.24786096925282264\n",
      "Не получилось отвергнуть нулевую гипотезу, нет оснований считать доли разными\n",
      "\n",
      "Проверка равенства долей события CartScreenAppear группы 246 и 247\n",
      "p-значение:  0.22867643757335676\n",
      "Не получилось отвергнуть нулевую гипотезу, нет оснований считать доли разными\n",
      "\n",
      "Проверка равенства долей события PaymentScreenSuccessful группы 246 и 247\n",
      "p-значение:  0.11446627829276612\n",
      "Не получилось отвергнуть нулевую гипотезу, нет оснований считать доли разными\n",
      "\n"
     ]
    }
   ],
   "source": [
    "get_result(exp_246, exp_247, 246, 247, alpha=0.1)"
   ]
  },
  {
   "cell_type": "markdown",
   "metadata": {},
   "source": [
    "Результаты проверки A/A-теста не изменились. Ни в одном из случаев отвергнуть гипотезу не получилось, значит разница между долями статистически значимо не отличается."
   ]
  },
  {
   "cell_type": "markdown",
   "metadata": {},
   "source": [
    "#### Анализ A/B-теста группы 246 и 248"
   ]
  },
  {
   "cell_type": "markdown",
   "metadata": {},
   "source": [
    "Проверим равенство долей для каждого события между контрольной группой 246 и группой 248 с измененными шрифтами."
   ]
  },
  {
   "cell_type": "markdown",
   "metadata": {},
   "source": [
    "```\n",
    "H_0: Доля пользователей в группе 246 = доля пользователей в группе 248\n",
    "H_a: Доля пользователей в группе 246 ≠ доля пользователей в группе 248\n",
    "alpha = 0.1\n",
    "```"
   ]
  },
  {
   "cell_type": "code",
   "execution_count": 66,
   "metadata": {
    "scrolled": true
   },
   "outputs": [
    {
     "name": "stdout",
     "output_type": "stream",
     "text": [
      "Проверка равенства долей события MainScreenAppear группы 246 и 248\n",
      "p-значение:  0.3387114076159288\n",
      "Не получилось отвергнуть нулевую гипотезу, нет оснований считать доли разными\n",
      "\n",
      "Проверка равенства долей события OffersScreenAppear группы 246 и 248\n",
      "p-значение:  0.21442476639710506\n",
      "Не получилось отвергнуть нулевую гипотезу, нет оснований считать доли разными\n",
      "\n",
      "Проверка равенства долей события CartScreenAppear группы 246 и 248\n",
      "p-значение:  0.08067367598823139\n",
      "Отвергаем нулевую гипотезу: между долями есть значимая разница\n",
      "\n",
      "Проверка равенства долей события PaymentScreenSuccessful группы 246 и 248\n",
      "p-значение:  0.21693033984516674\n",
      "Не получилось отвергнуть нулевую гипотезу, нет оснований считать доли разными\n",
      "\n"
     ]
    }
   ],
   "source": [
    "get_result(exp_246, exp_248, 246, 248, alpha=0.1)"
   ]
  },
  {
   "cell_type": "markdown",
   "metadata": {},
   "source": [
    "Результаты проверки A/B-теста между группой 246 и 248 немного изменились. Отвергнуть нулевую гипотезу получилось в случае с событем `CartScreenAppear`, это значит, что доли пользователей, которые совершают событие `CartScreenAppear` в группе 246 и 248 статистически значимо различаются.\n",
    "\n",
    "Отвергнуть нулевую гипотезу не получилось в событии `MainScreenAppear`, `OffersScreenAppear`, `PaymentScreenSuccessful`, это значит, что эти доли в группе 246 и 248 статистически значимо не различаются."
   ]
  },
  {
   "cell_type": "markdown",
   "metadata": {},
   "source": [
    "#### Анализ A/B-теста группы 247 и 248"
   ]
  },
  {
   "cell_type": "markdown",
   "metadata": {},
   "source": [
    "Проверим равенство долей для каждого события между контрольной группой 247 и экспериментальной группой 248."
   ]
  },
  {
   "cell_type": "markdown",
   "metadata": {},
   "source": [
    "```\n",
    "H_0: Доля пользователей в группе 247 = доля пользователей в группе 248\n",
    "H_a: Доля пользователей в группе 247 ≠ доля пользователей в группе 248\n",
    "alpha = 0.1\n",
    "```"
   ]
  },
  {
   "cell_type": "code",
   "execution_count": 67,
   "metadata": {
    "scrolled": true
   },
   "outputs": [
    {
     "name": "stdout",
     "output_type": "stream",
     "text": [
      "Проверка равенства долей события MainScreenAppear группы 247 и 248\n",
      "p-значение:  0.5194964354051703\n",
      "Не получилось отвергнуть нулевую гипотезу, нет оснований считать доли разными\n",
      "\n",
      "Проверка равенства долей события OffersScreenAppear группы 247 и 248\n",
      "p-значение:  0.9333751305879443\n",
      "Не получилось отвергнуть нулевую гипотезу, нет оснований считать доли разными\n",
      "\n",
      "Проверка равенства долей события CartScreenAppear группы 247 и 248\n",
      "p-значение:  0.5878284605111943\n",
      "Не получилось отвергнуть нулевую гипотезу, нет оснований считать доли разными\n",
      "\n",
      "Проверка равенства долей события PaymentScreenSuccessful группы 247 и 248\n",
      "p-значение:  0.7275718682261119\n",
      "Не получилось отвергнуть нулевую гипотезу, нет оснований считать доли разными\n",
      "\n"
     ]
    }
   ],
   "source": [
    "get_result(exp_247, exp_248, 247, 248, alpha=0.1)"
   ]
  },
  {
   "cell_type": "markdown",
   "metadata": {},
   "source": [
    "Результаты проверки не изменились. Отвергнуть нулевую гипотезу не получилось ни в одном из событий, это значит, что доли в группе 247 и 248 статистически значимо не различаются."
   ]
  },
  {
   "cell_type": "markdown",
   "metadata": {},
   "source": [
    "#### Анализ A/B-теста объединенной контрольной группы 100 и 248"
   ]
  },
  {
   "cell_type": "markdown",
   "metadata": {},
   "source": [
    "Проверим равенство долей для каждого события между объединенной контрольной группой 100 и группой с измененными шрифтами 248."
   ]
  },
  {
   "cell_type": "markdown",
   "metadata": {},
   "source": [
    "```\n",
    "H_0: Доля пользователей в группе 100 = доля пользователей в группе 248\n",
    "H_a: Доля пользователей в группе 100 ≠ доля пользователей в группе 248\n",
    "alpha = 0.1\n",
    "```"
   ]
  },
  {
   "cell_type": "code",
   "execution_count": 68,
   "metadata": {},
   "outputs": [
    {
     "name": "stdout",
     "output_type": "stream",
     "text": [
      "Проверка равенства долей события MainScreenAppear группы 100 и 248\n",
      "p-значение:  0.3486684291093256\n",
      "Не получилось отвергнуть нулевую гипотезу, нет оснований считать доли разными\n",
      "\n",
      "Проверка равенства долей события OffersScreenAppear группы 100 и 248\n",
      "p-значение:  0.44582745409482394\n",
      "Не получилось отвергнуть нулевую гипотезу, нет оснований считать доли разными\n",
      "\n",
      "Проверка равенства долей события CartScreenAppear группы 100 и 248\n",
      "p-значение:  0.18683558686831558\n",
      "Не получилось отвергнуть нулевую гипотезу, нет оснований считать доли разными\n",
      "\n",
      "Проверка равенства долей события PaymentScreenSuccessful группы 100 и 248\n",
      "p-значение:  0.6107918742187335\n",
      "Не получилось отвергнуть нулевую гипотезу, нет оснований считать доли разными\n",
      "\n"
     ]
    }
   ],
   "source": [
    "get_result(exp_100, exp_248, 100, 248, alpha=0.1)"
   ]
  },
  {
   "cell_type": "markdown",
   "metadata": {},
   "source": [
    "Результаты проверки не изменились. Отвергнуть нулевую гипотезу не получилось ни в одном из событий, это значит, что доли в группе 100 и 248 статистически значимо не различаются."
   ]
  },
  {
   "cell_type": "markdown",
   "metadata": {},
   "source": [
    "В нашем исследовании участвовало 4 группы:\n",
    "- контрольная группа 246;\n",
    "- контрольная группа 247;\n",
    "- контрольная группа 248;\n",
    "- объединенная контрольная группа 100.\n",
    "\n",
    "Мы провели попарное сравнение следующих групп:\n",
    "\n",
    "1) контрольные группы 246 и 247;\n",
    "\n",
    "2) контрольную группу 246 и экспериментальную 248;\n",
    "\n",
    "3) контрольную группу 247 и экспериментальную 248;\n",
    "\n",
    "4) объединённую контрольную группу 100 и экспериментальную 248.\n",
    "\n",
    "В каждой группе мы попарно сравнивали между собой 4 события: `MainScreenAppear`, `OffersScreenAppear`, `CartScreenAppear`, `PaymentScreenSuccessful`. Таким образом, мы проверили 16 гипотез (4 сравнения по 4 гипотезы в каждом: 4 * 4 = 16) - мы провели множественную проверку гипотез. Важная особенность множественной проверки в том, что с каждой новой проверкой гипотезы растёт вероятность ошибки первого рода, то есть мы можем найти различия там, где их нет. \n",
    "\n",
    "При попарном сравнении вероятность, что тест покажет ложнопозитивный результат равна уровню значимости.\n",
    "Тогда вероятность того, что хотя бы в одном из 4 попарных сравнений будет зафиксирован ложнопозитивный результат равна:"
   ]
  },
  {
   "cell_type": "code",
   "execution_count": 69,
   "metadata": {
    "scrolled": true
   },
   "outputs": [
    {
     "name": "stdout",
     "output_type": "stream",
     "text": [
      "Вероятность получить ложнопозитивный результат составляет 18.55 %\n"
     ]
    }
   ],
   "source": [
    "alpha = 0.05\n",
    "false_positive = (1 - (1 - alpha)**4)*100\n",
    "print('Вероятность получить ложнопозитивный результат составляет', round(false_positive, 2), '%')"
   ]
  },
  {
   "cell_type": "markdown",
   "metadata": {},
   "source": [
    "Чтобы снизить вероятность ложнопозитивного результата при множественном тестировании гипотез, применяют \n",
    "поправку на множественное сравнение, например можно использовать поправку Бонферрони: если мы хотим удержать вероятность ошибки первого рода на уровне 0.05, то мы должны `alpha` разделить на число гипотез:"
   ]
  },
  {
   "cell_type": "code",
   "execution_count": 70,
   "metadata": {
    "scrolled": true
   },
   "outputs": [
    {
     "name": "stdout",
     "output_type": "stream",
     "text": [
      "0.003125\n"
     ]
    }
   ],
   "source": [
    "alpha_exp = alpha / 16\n",
    "print(alpha_exp)"
   ]
  },
  {
   "cell_type": "markdown",
   "metadata": {},
   "source": [
    "В нашем случае, чтобы снизить вероятность ошибки первого рода, мы должны применить уровень значимости `alpha` равным 0.003125. При таком уровне значимости ни одну нулевую гипотезу отвергнуть не получится, поэтому нет оснований считать доли разными."
   ]
  },
  {
   "cell_type": "markdown",
   "metadata": {},
   "source": [
    "## Общий вывод"
   ]
  },
  {
   "cell_type": "markdown",
   "metadata": {},
   "source": [
    "**На этапе предобработки данных мы проделали следующую работу:**\n",
    "1. Заменили названия столбцов:\n",
    "- `event_name` - название события;\n",
    "- `user_id` - уникальный идентификатор пользователя;\n",
    "- `event_time` - время события;\n",
    "- `exp_id` - номер эксперимента.\n",
    "\n",
    "2. Удалили явные дубликаты.\n",
    "\n",
    "3. Заменили целочисленный тип данных в столбце `event_time` - время события, на `datetime`.\n",
    "\n",
    "4. Добавили новые столбцы:\n",
    "- `event_date_time` - дата и время события;\n",
    "- `event_date` - дата события.\n",
    "\n",
    "**Провели исследовательский анализ данных:**\n",
    "\n",
    "*1. Количество всех событий - 243713 события.*\n",
    "- `MainScreenAppear` встречается - 119101 раз;\n",
    "- `OffersScreenAppear` встречается - 46808 раз;\n",
    "- `CartScreenAppear` встречается - 42668 раз;\n",
    "- `PaymentScreenSuccessful` встречается - 34118 раз;\n",
    "- `Tutorial` встречается - 1018 раз.\n",
    "\n",
    "*2. Количество уникальных пользователей - 7551 человек.*\n",
    "\n",
    "*3. Среднее количество событий, которое совершает один пользователь - 32 события.*\n",
    "\n",
    "*4. Определили, что в период с 1 по 8 августа 2019 года, мы обладаем более полными данными.*\n",
    "\n",
    "*5. Оценили, какое количество событий и пользователей мы потеряли отбросив старые данные:*\n",
    "\n",
    "- Количество действий - 2826 или 1,16%;\n",
    "- Количество пользователей - 17 или 0,23%.\n",
    "\n",
    "*6. Проверили наличие пользователей во всех трёх экспериментальных группах:*\n",
    "\n",
    "- `246` - 2484 пользователей;\n",
    "- `247` - 2513 пользователей;\n",
    "- `248` - 2537 пользователей.\n",
    "\n",
    "**На этапе исследования воронки событий:**\n",
    "\n",
    "*1. Узнали какие действия совершаются, и как часто они встречаются:*\n",
    "- `MainScreenAppear` встречается - 117328 раз;\n",
    "- `OffersScreenAppear` встречается - 46333 раз;\n",
    "- `CartScreenAppear` встречается - 33918 раз;\n",
    "- `PaymentScreenSuccessful` встречается - 34118 раз;\n",
    "- `Tutorial` встречается - 1005 раз.\n",
    "\n",
    "*2. Посчитали какое количество (доля) пользователей  совершает каждое из событий:*\n",
    "- `MainScreenAppear` - 7419 пользователей (0,98);\n",
    "- `OffersScreenAppear` - 4593 пользователей\t(0,61);\n",
    "- `CartScreenAppear` - 3734\tпользователей (0,50);\n",
    "- `PaymentScreenSuccessful` - 3539 пользователей (0,47);\n",
    "- `Tutorial` - 840 пользователей (0,11).\n",
    "\n",
    "*3. Выстроили наши события в последовательную цепочку:*\n",
    "\n",
    "`MainScreenAppear` - `OffersScreenAppear` - `CartScreenAppear` - `PaymentScreenSuccessful`\n",
    "\n",
    "*4. Посчитали, какая доля пользователей переходит на следующий шаг воронки:*\n",
    "\n",
    "- от события `MainScreenAppear` к `OffersScreenAppear` переходит 62% пользователей;\n",
    "- от события `OffersScreenAppear` к `CartScreenAppear` переходит 81% пользователей;\n",
    "- от события `CartScreenAppear` к `PaymentScreenSuccessful` переходит 95% пользователей;\n",
    "\n",
    "*5. На первом шаге от события `MainScreenAppear` к `OffersScreenAppear` теряется самая большая доля пользователей - 38%.*\n",
    "\n",
    "*6. От первого события до оплаты доходит 48% пользователей.*\n",
    "\n",
    "**Провели исследование результатов эксперимента:**\n",
    "\n",
    "*1. Определили количество пользователей в каждой экспериментальной группе:*\n",
    "\n",
    "- `246`\t- 2483 пользователей;\n",
    "- `247`\t- 2512 пользователей;\n",
    "- `248`\t- 2535 пользователей.\n",
    "\n",
    "*2. Провели A/A-тест, и установили, что его можно считать успешным.*\n",
    "\n",
    "*3. Провели A/В-тест при уровне значимости 0,05 и установили, что:*\n",
    "\n",
    "- Доли пользователей, которые совершают события `MainScreenAppear`, `OffersScreenAppear`, `CartScreenAppear`, `PaymentScreenSuccessful` в контрольной группе 246 и экспериментальной группе 248 статистически значимо не различаются.\n",
    "\n",
    "- Доли пользователей, которые совершают события `MainScreenAppear`, `OffersScreenAppear`, `CartScreenAppear`, `PaymentScreenSuccessful` в контрольной  группе 247 и экспериментальной группе 248 статистически значимо не различаются.\n",
    "\n",
    "- Доли пользователей, которые совершают события `MainScreenAppear`, `OffersScreenAppear`, `CartScreenAppear`, `PaymentScreenSuccessful` в объединённой контрольной группе 100 и экспериментальной группе 248 статистически значимо не различаются.\n",
    "\n",
    "*4. Провели A/В-тест при уровне значимости 0,1 и установили, что:*\n",
    "\n",
    "- Доли пользователей, которые совершают события `MainScreenAppear`, `OffersScreenAppear`, `PaymentScreenSuccessful` в контрольной группе 246 и экспериментальной группе 248 статистически значимо не различаются. \n",
    "\n",
    "- Доли пользователей, которые совершают событие `CartScreenAppear` в контрольной группе 246 и экспериментальной группе 248 статистически значимо **различаются**.\n",
    "\n",
    "- Доли пользователей, которые совершают события `MainScreenAppear`, `OffersScreenAppear`, `CartScreenAppear`, `PaymentScreenSuccessful` в контрольной  группе 247 и экспериментальной группе 248 статистически значимо не различаются.\n",
    "\n",
    "- Доли пользователей, которые совершают события `MainScreenAppear`, `OffersScreenAppear`, `CartScreenAppear`, `PaymentScreenSuccessful` в объединённой контрольной группе 100 и экспериментальной группе 248 статистически значимо не различаются.\n",
    "\n",
    "**Рекомендуем остановить тест и зафиксировать отсутствие различий между группами. Результаты A/A/B-теста показали, что изменение шрифта во всем приложении никак не повлияет на покупательскую способность. Также отметим, что при изменение шрифта доля пользователей, которые заходят в корзину может немного снизится.**"
   ]
  }
 ],
 "metadata": {
  "ExecuteTimeLog": [
   {
    "duration": 387,
    "start_time": "2023-03-10T08:19:14.018Z"
   },
   {
    "duration": 623,
    "start_time": "2023-03-10T08:21:35.011Z"
   },
   {
    "duration": 19,
    "start_time": "2023-03-10T08:24:35.048Z"
   },
   {
    "duration": 297,
    "start_time": "2023-03-10T08:24:52.502Z"
   },
   {
    "duration": 12,
    "start_time": "2023-03-10T08:24:55.367Z"
   },
   {
    "duration": 273,
    "start_time": "2023-03-10T08:25:18.751Z"
   },
   {
    "duration": 12,
    "start_time": "2023-03-10T08:25:22.103Z"
   },
   {
    "duration": 623,
    "start_time": "2023-03-10T08:25:26.263Z"
   },
   {
    "duration": 13,
    "start_time": "2023-03-10T08:25:35.223Z"
   },
   {
    "duration": 84,
    "start_time": "2023-03-10T08:25:47.143Z"
   },
   {
    "duration": 12,
    "start_time": "2023-03-10T08:25:53.403Z"
   },
   {
    "duration": 175,
    "start_time": "2023-03-10T08:26:00.814Z"
   },
   {
    "duration": 13,
    "start_time": "2023-03-10T08:26:03.870Z"
   },
   {
    "duration": 19,
    "start_time": "2023-03-10T08:26:08.960Z"
   },
   {
    "duration": 21,
    "start_time": "2023-03-10T08:32:29.112Z"
   },
   {
    "duration": 64,
    "start_time": "2023-03-10T18:57:03.994Z"
   },
   {
    "duration": 376,
    "start_time": "2023-03-10T18:57:12.404Z"
   },
   {
    "duration": 721,
    "start_time": "2023-03-10T18:57:12.782Z"
   },
   {
    "duration": 25,
    "start_time": "2023-03-10T18:57:13.506Z"
   },
   {
    "duration": 45,
    "start_time": "2023-03-10T18:57:13.533Z"
   },
   {
    "duration": 19,
    "start_time": "2023-03-10T18:57:13.579Z"
   },
   {
    "duration": 4,
    "start_time": "2023-03-10T18:57:45.951Z"
   },
   {
    "duration": 14,
    "start_time": "2023-03-10T19:01:09.248Z"
   },
   {
    "duration": 79,
    "start_time": "2023-03-10T19:03:30.210Z"
   },
   {
    "duration": 18,
    "start_time": "2023-03-10T19:09:26.639Z"
   },
   {
    "duration": 36,
    "start_time": "2023-03-10T19:11:03.044Z"
   },
   {
    "duration": 356,
    "start_time": "2023-03-10T19:12:05.623Z"
   },
   {
    "duration": 36,
    "start_time": "2023-03-10T19:12:27.560Z"
   },
   {
    "duration": 5,
    "start_time": "2023-03-10T19:12:45.655Z"
   },
   {
    "duration": 5,
    "start_time": "2023-03-10T19:16:38.670Z"
   },
   {
    "duration": 426,
    "start_time": "2023-03-10T19:16:45.422Z"
   },
   {
    "duration": 155,
    "start_time": "2023-03-10T19:16:45.850Z"
   },
   {
    "duration": 21,
    "start_time": "2023-03-10T19:16:46.007Z"
   },
   {
    "duration": 28,
    "start_time": "2023-03-10T19:16:46.031Z"
   },
   {
    "duration": 14,
    "start_time": "2023-03-10T19:16:46.061Z"
   },
   {
    "duration": 5,
    "start_time": "2023-03-10T19:16:46.076Z"
   },
   {
    "duration": 23,
    "start_time": "2023-03-10T19:16:46.082Z"
   },
   {
    "duration": 22,
    "start_time": "2023-03-10T19:16:46.107Z"
   },
   {
    "duration": 29,
    "start_time": "2023-03-10T19:16:46.131Z"
   },
   {
    "duration": 47,
    "start_time": "2023-03-10T19:16:46.163Z"
   },
   {
    "duration": 6,
    "start_time": "2023-03-10T19:16:46.211Z"
   },
   {
    "duration": 81,
    "start_time": "2023-03-10T19:17:57.946Z"
   },
   {
    "duration": 5,
    "start_time": "2023-03-10T19:26:59.796Z"
   },
   {
    "duration": 15,
    "start_time": "2023-03-10T19:28:41.404Z"
   },
   {
    "duration": 12,
    "start_time": "2023-03-10T19:28:56.780Z"
   },
   {
    "duration": 53,
    "start_time": "2023-03-10T19:31:27.745Z"
   },
   {
    "duration": 9,
    "start_time": "2023-03-10T19:31:31.982Z"
   },
   {
    "duration": 913,
    "start_time": "2023-03-10T19:36:41.266Z"
   },
   {
    "duration": 931,
    "start_time": "2023-03-10T19:36:59.313Z"
   },
   {
    "duration": 1292,
    "start_time": "2023-03-10T19:42:02.264Z"
   },
   {
    "duration": 5,
    "start_time": "2023-03-10T19:42:08.589Z"
   },
   {
    "duration": 187,
    "start_time": "2023-03-10T19:44:02.699Z"
   },
   {
    "duration": 416,
    "start_time": "2023-03-10T19:47:19.164Z"
   },
   {
    "duration": 184,
    "start_time": "2023-03-10T19:47:19.582Z"
   },
   {
    "duration": 24,
    "start_time": "2023-03-10T19:47:19.768Z"
   },
   {
    "duration": 24,
    "start_time": "2023-03-10T19:47:19.795Z"
   },
   {
    "duration": 34,
    "start_time": "2023-03-10T19:47:19.822Z"
   },
   {
    "duration": 4,
    "start_time": "2023-03-10T19:47:19.858Z"
   },
   {
    "duration": 23,
    "start_time": "2023-03-10T19:47:19.864Z"
   },
   {
    "duration": 5,
    "start_time": "2023-03-10T19:47:19.889Z"
   },
   {
    "duration": 7,
    "start_time": "2023-03-10T19:47:19.896Z"
   },
   {
    "duration": 292,
    "start_time": "2023-03-10T19:47:19.906Z"
   },
   {
    "duration": 0,
    "start_time": "2023-03-10T19:47:20.200Z"
   },
   {
    "duration": 209,
    "start_time": "2023-03-10T19:51:07.573Z"
   },
   {
    "duration": 137,
    "start_time": "2023-03-10T19:55:39.197Z"
   },
   {
    "duration": 8,
    "start_time": "2023-03-10T19:55:43.364Z"
   },
   {
    "duration": 734,
    "start_time": "2023-03-10T19:55:55.826Z"
   },
   {
    "duration": 695,
    "start_time": "2023-03-10T19:56:14.024Z"
   },
   {
    "duration": 701,
    "start_time": "2023-03-10T19:56:20.416Z"
   },
   {
    "duration": 10,
    "start_time": "2023-03-10T19:59:02.694Z"
   },
   {
    "duration": 519,
    "start_time": "2023-03-10T20:01:38.854Z"
   },
   {
    "duration": 421,
    "start_time": "2023-03-10T20:02:31.081Z"
   },
   {
    "duration": 181,
    "start_time": "2023-03-10T20:02:31.505Z"
   },
   {
    "duration": 32,
    "start_time": "2023-03-10T20:02:31.689Z"
   },
   {
    "duration": 39,
    "start_time": "2023-03-10T20:02:31.723Z"
   },
   {
    "duration": 11,
    "start_time": "2023-03-10T20:02:31.765Z"
   },
   {
    "duration": 37,
    "start_time": "2023-03-10T20:02:31.779Z"
   },
   {
    "duration": 44,
    "start_time": "2023-03-10T20:02:31.818Z"
   },
   {
    "duration": 18,
    "start_time": "2023-03-10T20:02:31.864Z"
   },
   {
    "duration": 15,
    "start_time": "2023-03-10T20:02:31.885Z"
   },
   {
    "duration": 720,
    "start_time": "2023-03-10T20:02:31.902Z"
   },
   {
    "duration": 6,
    "start_time": "2023-03-10T20:02:32.624Z"
   },
   {
    "duration": 6,
    "start_time": "2023-03-10T20:02:58.727Z"
   },
   {
    "duration": 1261,
    "start_time": "2023-03-10T20:03:36.900Z"
   },
   {
    "duration": 5,
    "start_time": "2023-03-10T20:03:41.545Z"
   },
   {
    "duration": 4,
    "start_time": "2023-03-10T20:04:24.952Z"
   },
   {
    "duration": 7,
    "start_time": "2023-03-10T20:04:33.525Z"
   },
   {
    "duration": 4,
    "start_time": "2023-03-10T20:04:51.185Z"
   },
   {
    "duration": 4,
    "start_time": "2023-03-10T20:05:07.964Z"
   },
   {
    "duration": 1396,
    "start_time": "2023-03-10T20:05:29.954Z"
   },
   {
    "duration": 6,
    "start_time": "2023-03-10T20:05:44.945Z"
   },
   {
    "duration": 901,
    "start_time": "2023-03-10T20:06:57.493Z"
   },
   {
    "duration": 830,
    "start_time": "2023-03-10T20:07:44.280Z"
   },
   {
    "duration": 768,
    "start_time": "2023-03-10T20:07:56.575Z"
   },
   {
    "duration": 937,
    "start_time": "2023-03-10T20:08:29.571Z"
   },
   {
    "duration": 5,
    "start_time": "2023-03-10T20:08:35.492Z"
   },
   {
    "duration": 289,
    "start_time": "2023-03-10T20:10:29.623Z"
   },
   {
    "duration": 189,
    "start_time": "2023-03-10T20:10:42.615Z"
   },
   {
    "duration": 213,
    "start_time": "2023-03-10T20:12:13.395Z"
   },
   {
    "duration": 697,
    "start_time": "2023-03-10T20:13:09.648Z"
   },
   {
    "duration": 779,
    "start_time": "2023-03-10T20:13:15.135Z"
   },
   {
    "duration": 5,
    "start_time": "2023-03-10T20:13:22.335Z"
   },
   {
    "duration": 460,
    "start_time": "2023-03-10T20:13:31.950Z"
   },
   {
    "duration": 171,
    "start_time": "2023-03-10T20:13:32.412Z"
   },
   {
    "duration": 25,
    "start_time": "2023-03-10T20:13:32.585Z"
   },
   {
    "duration": 22,
    "start_time": "2023-03-10T20:13:32.612Z"
   },
   {
    "duration": 16,
    "start_time": "2023-03-10T20:13:32.655Z"
   },
   {
    "duration": 6,
    "start_time": "2023-03-10T20:13:32.673Z"
   },
   {
    "duration": 25,
    "start_time": "2023-03-10T20:13:32.681Z"
   },
   {
    "duration": 7,
    "start_time": "2023-03-10T20:13:32.708Z"
   },
   {
    "duration": 37,
    "start_time": "2023-03-10T20:13:32.717Z"
   },
   {
    "duration": 728,
    "start_time": "2023-03-10T20:13:32.756Z"
   },
   {
    "duration": 7,
    "start_time": "2023-03-10T20:13:33.486Z"
   },
   {
    "duration": 5,
    "start_time": "2023-03-10T20:13:33.495Z"
   },
   {
    "duration": 1420,
    "start_time": "2023-03-10T20:13:49.835Z"
   },
   {
    "duration": 5,
    "start_time": "2023-03-10T20:13:54.221Z"
   },
   {
    "duration": 5,
    "start_time": "2023-03-10T20:14:48.283Z"
   },
   {
    "duration": 9,
    "start_time": "2023-03-10T20:15:57.846Z"
   },
   {
    "duration": 6,
    "start_time": "2023-03-10T20:16:02.072Z"
   },
   {
    "duration": 388,
    "start_time": "2023-03-10T20:16:16.916Z"
   },
   {
    "duration": 163,
    "start_time": "2023-03-10T20:16:17.306Z"
   },
   {
    "duration": 21,
    "start_time": "2023-03-10T20:16:17.471Z"
   },
   {
    "duration": 19,
    "start_time": "2023-03-10T20:16:17.494Z"
   },
   {
    "duration": 9,
    "start_time": "2023-03-10T20:16:17.515Z"
   },
   {
    "duration": 4,
    "start_time": "2023-03-10T20:16:17.553Z"
   },
   {
    "duration": 15,
    "start_time": "2023-03-10T20:16:17.559Z"
   },
   {
    "duration": 5,
    "start_time": "2023-03-10T20:16:17.575Z"
   },
   {
    "duration": 5,
    "start_time": "2023-03-10T20:16:17.582Z"
   },
   {
    "duration": 14,
    "start_time": "2023-03-10T20:16:17.589Z"
   },
   {
    "duration": 5,
    "start_time": "2023-03-10T20:16:17.604Z"
   },
   {
    "duration": 45,
    "start_time": "2023-03-10T20:16:17.610Z"
   },
   {
    "duration": 374,
    "start_time": "2023-03-10T20:16:57.215Z"
   },
   {
    "duration": 148,
    "start_time": "2023-03-10T20:16:57.591Z"
   },
   {
    "duration": 20,
    "start_time": "2023-03-10T20:16:57.740Z"
   },
   {
    "duration": 18,
    "start_time": "2023-03-10T20:16:57.762Z"
   },
   {
    "duration": 9,
    "start_time": "2023-03-10T20:16:57.782Z"
   },
   {
    "duration": 3,
    "start_time": "2023-03-10T20:16:57.793Z"
   },
   {
    "duration": 16,
    "start_time": "2023-03-10T20:16:57.798Z"
   },
   {
    "duration": 5,
    "start_time": "2023-03-10T20:16:57.816Z"
   },
   {
    "duration": 33,
    "start_time": "2023-03-10T20:16:57.823Z"
   },
   {
    "duration": 615,
    "start_time": "2023-03-10T20:16:57.858Z"
   },
   {
    "duration": 6,
    "start_time": "2023-03-10T20:16:58.475Z"
   },
   {
    "duration": 6,
    "start_time": "2023-03-10T20:16:58.483Z"
   },
   {
    "duration": 5,
    "start_time": "2023-03-10T20:17:26.287Z"
   },
   {
    "duration": 5,
    "start_time": "2023-03-10T20:18:53.308Z"
   },
   {
    "duration": 5,
    "start_time": "2023-03-10T20:37:17.898Z"
   },
   {
    "duration": 64,
    "start_time": "2023-03-10T20:38:46.413Z"
   },
   {
    "duration": 72,
    "start_time": "2023-03-10T20:40:02.025Z"
   },
   {
    "duration": 73,
    "start_time": "2023-03-10T20:48:29.075Z"
   },
   {
    "duration": 57,
    "start_time": "2023-03-10T20:49:02.462Z"
   },
   {
    "duration": 376,
    "start_time": "2023-03-10T20:50:27.813Z"
   },
   {
    "duration": 149,
    "start_time": "2023-03-10T20:50:28.191Z"
   },
   {
    "duration": 22,
    "start_time": "2023-03-10T20:50:28.342Z"
   },
   {
    "duration": 19,
    "start_time": "2023-03-10T20:50:28.366Z"
   },
   {
    "duration": 10,
    "start_time": "2023-03-10T20:50:28.387Z"
   },
   {
    "duration": 4,
    "start_time": "2023-03-10T20:50:28.399Z"
   },
   {
    "duration": 16,
    "start_time": "2023-03-10T20:50:28.404Z"
   },
   {
    "duration": 101,
    "start_time": "2023-03-10T20:50:28.422Z"
   },
   {
    "duration": 78,
    "start_time": "2023-03-10T20:50:28.524Z"
   },
   {
    "duration": 67,
    "start_time": "2023-03-10T20:50:28.604Z"
   },
   {
    "duration": 6,
    "start_time": "2023-03-10T20:50:28.673Z"
   },
   {
    "duration": 697,
    "start_time": "2023-03-10T20:50:28.680Z"
   },
   {
    "duration": 6,
    "start_time": "2023-03-10T20:50:29.378Z"
   },
   {
    "duration": 8,
    "start_time": "2023-03-10T20:50:29.385Z"
   },
   {
    "duration": 65,
    "start_time": "2023-03-10T20:57:37.241Z"
   },
   {
    "duration": 8,
    "start_time": "2023-03-10T20:57:45.667Z"
   },
   {
    "duration": 68,
    "start_time": "2023-03-10T21:01:46.625Z"
   },
   {
    "duration": 15,
    "start_time": "2023-03-10T21:04:22.859Z"
   },
   {
    "duration": 70,
    "start_time": "2023-03-10T21:04:27.009Z"
   },
   {
    "duration": 7,
    "start_time": "2023-03-10T21:04:54.402Z"
   },
   {
    "duration": 22,
    "start_time": "2023-03-10T21:05:20.665Z"
   },
   {
    "duration": 15,
    "start_time": "2023-03-10T21:05:32.969Z"
   },
   {
    "duration": 67,
    "start_time": "2023-03-10T21:05:55.720Z"
   },
   {
    "duration": 27,
    "start_time": "2023-03-10T21:06:26.061Z"
   },
   {
    "duration": 83,
    "start_time": "2023-03-10T21:07:22.069Z"
   },
   {
    "duration": 28,
    "start_time": "2023-03-10T21:07:27.299Z"
   },
   {
    "duration": 113,
    "start_time": "2023-03-10T21:14:01.801Z"
   },
   {
    "duration": 11,
    "start_time": "2023-03-10T21:14:35.322Z"
   },
   {
    "duration": 7,
    "start_time": "2023-03-10T21:15:05.214Z"
   },
   {
    "duration": 820,
    "start_time": "2023-03-10T21:17:41.035Z"
   },
   {
    "duration": 938,
    "start_time": "2023-03-10T21:19:48.390Z"
   },
   {
    "duration": 17,
    "start_time": "2023-03-10T21:20:03.654Z"
   },
   {
    "duration": 49,
    "start_time": "2023-03-10T21:20:15.580Z"
   },
   {
    "duration": 77,
    "start_time": "2023-03-10T21:20:22.638Z"
   },
   {
    "duration": 251,
    "start_time": "2023-03-10T21:21:37.032Z"
   },
   {
    "duration": 234,
    "start_time": "2023-03-10T21:21:52.284Z"
   },
   {
    "duration": 78,
    "start_time": "2023-03-10T21:22:02.307Z"
   },
   {
    "duration": 27,
    "start_time": "2023-03-10T21:24:13.112Z"
   },
   {
    "duration": 80,
    "start_time": "2023-03-10T21:24:57.128Z"
   },
   {
    "duration": 16,
    "start_time": "2023-03-10T21:25:13.938Z"
   },
   {
    "duration": 79,
    "start_time": "2023-03-10T21:25:16.150Z"
   },
   {
    "duration": 26,
    "start_time": "2023-03-10T21:25:20.505Z"
   },
   {
    "duration": 219,
    "start_time": "2023-03-10T21:29:59.065Z"
   },
   {
    "duration": 178,
    "start_time": "2023-03-10T21:31:02.111Z"
   },
   {
    "duration": 193,
    "start_time": "2023-03-10T21:31:19.916Z"
   },
   {
    "duration": 406,
    "start_time": "2023-03-10T21:34:43.179Z"
   },
   {
    "duration": 150,
    "start_time": "2023-03-10T21:34:43.587Z"
   },
   {
    "duration": 22,
    "start_time": "2023-03-10T21:34:43.739Z"
   },
   {
    "duration": 17,
    "start_time": "2023-03-10T21:34:43.763Z"
   },
   {
    "duration": 9,
    "start_time": "2023-03-10T21:34:43.782Z"
   },
   {
    "duration": 4,
    "start_time": "2023-03-10T21:34:43.792Z"
   },
   {
    "duration": 14,
    "start_time": "2023-03-10T21:34:43.797Z"
   },
   {
    "duration": 97,
    "start_time": "2023-03-10T21:34:43.813Z"
   },
   {
    "duration": 78,
    "start_time": "2023-03-10T21:34:43.912Z"
   },
   {
    "duration": 73,
    "start_time": "2023-03-10T21:34:43.993Z"
   },
   {
    "duration": 5,
    "start_time": "2023-03-10T21:34:44.067Z"
   },
   {
    "duration": 674,
    "start_time": "2023-03-10T21:34:44.074Z"
   },
   {
    "duration": 5,
    "start_time": "2023-03-10T21:34:44.750Z"
   },
   {
    "duration": 16,
    "start_time": "2023-03-10T21:34:44.757Z"
   },
   {
    "duration": 15,
    "start_time": "2023-03-10T21:34:44.775Z"
   },
   {
    "duration": 734,
    "start_time": "2023-03-10T21:34:44.791Z"
   },
   {
    "duration": 0,
    "start_time": "2023-03-10T21:34:45.526Z"
   },
   {
    "duration": 940,
    "start_time": "2023-03-10T21:35:34.024Z"
   },
   {
    "duration": 731,
    "start_time": "2023-03-10T21:36:15.617Z"
   },
   {
    "duration": 427,
    "start_time": "2023-03-10T21:43:00.531Z"
   },
   {
    "duration": 165,
    "start_time": "2023-03-10T21:43:00.960Z"
   },
   {
    "duration": 22,
    "start_time": "2023-03-10T21:43:01.127Z"
   },
   {
    "duration": 26,
    "start_time": "2023-03-10T21:43:01.154Z"
   },
   {
    "duration": 28,
    "start_time": "2023-03-10T21:43:01.182Z"
   },
   {
    "duration": 38,
    "start_time": "2023-03-10T21:43:01.212Z"
   },
   {
    "duration": 36,
    "start_time": "2023-03-10T21:43:01.251Z"
   },
   {
    "duration": 97,
    "start_time": "2023-03-10T21:43:01.289Z"
   },
   {
    "duration": 76,
    "start_time": "2023-03-10T21:43:01.387Z"
   },
   {
    "duration": 69,
    "start_time": "2023-03-10T21:43:01.467Z"
   },
   {
    "duration": 17,
    "start_time": "2023-03-10T21:43:01.538Z"
   },
   {
    "duration": 684,
    "start_time": "2023-03-10T21:43:01.556Z"
   },
   {
    "duration": 12,
    "start_time": "2023-03-10T21:43:02.242Z"
   },
   {
    "duration": 26,
    "start_time": "2023-03-10T21:43:02.255Z"
   },
   {
    "duration": 29,
    "start_time": "2023-03-10T21:43:02.282Z"
   },
   {
    "duration": 112,
    "start_time": "2023-03-10T21:43:02.313Z"
   },
   {
    "duration": 230,
    "start_time": "2023-03-10T21:43:02.426Z"
   },
   {
    "duration": 0,
    "start_time": "2023-03-10T21:43:02.658Z"
   },
   {
    "duration": 115,
    "start_time": "2023-03-10T21:47:04.161Z"
   },
   {
    "duration": 21,
    "start_time": "2023-03-10T21:48:10.096Z"
   },
   {
    "duration": 19,
    "start_time": "2023-03-10T21:49:12.085Z"
   },
   {
    "duration": 47,
    "start_time": "2023-03-11T10:49:47.729Z"
   },
   {
    "duration": 425,
    "start_time": "2023-03-11T10:49:55.413Z"
   },
   {
    "duration": 732,
    "start_time": "2023-03-11T10:49:55.840Z"
   },
   {
    "duration": 22,
    "start_time": "2023-03-11T10:49:56.574Z"
   },
   {
    "duration": 29,
    "start_time": "2023-03-11T10:49:56.598Z"
   },
   {
    "duration": 18,
    "start_time": "2023-03-11T10:49:56.629Z"
   },
   {
    "duration": 17,
    "start_time": "2023-03-11T10:49:56.649Z"
   },
   {
    "duration": 16,
    "start_time": "2023-03-11T10:49:56.668Z"
   },
   {
    "duration": 74,
    "start_time": "2023-03-11T10:49:56.686Z"
   },
   {
    "duration": 72,
    "start_time": "2023-03-11T10:49:56.762Z"
   },
   {
    "duration": 54,
    "start_time": "2023-03-11T10:49:56.837Z"
   },
   {
    "duration": 5,
    "start_time": "2023-03-11T10:49:56.893Z"
   },
   {
    "duration": 740,
    "start_time": "2023-03-11T10:49:56.899Z"
   },
   {
    "duration": 5,
    "start_time": "2023-03-11T10:49:57.641Z"
   },
   {
    "duration": 8,
    "start_time": "2023-03-11T10:49:57.647Z"
   },
   {
    "duration": 17,
    "start_time": "2023-03-11T10:49:57.656Z"
   },
   {
    "duration": 148,
    "start_time": "2023-03-11T10:49:57.675Z"
   },
   {
    "duration": 31,
    "start_time": "2023-03-11T10:49:57.825Z"
   },
   {
    "duration": 19,
    "start_time": "2023-03-11T10:49:57.857Z"
   },
   {
    "duration": 63,
    "start_time": "2023-03-11T11:34:38.602Z"
   },
   {
    "duration": 128,
    "start_time": "2023-03-11T11:36:33.818Z"
   },
   {
    "duration": 41,
    "start_time": "2023-03-11T11:36:47.369Z"
   },
   {
    "duration": 7,
    "start_time": "2023-03-11T11:37:45.898Z"
   },
   {
    "duration": 4,
    "start_time": "2023-03-11T11:38:58.201Z"
   },
   {
    "duration": 22,
    "start_time": "2023-03-11T11:41:02.015Z"
   },
   {
    "duration": 8,
    "start_time": "2023-03-11T11:49:27.566Z"
   },
   {
    "duration": 11,
    "start_time": "2023-03-11T11:49:39.200Z"
   },
   {
    "duration": 13,
    "start_time": "2023-03-11T11:49:59.749Z"
   },
   {
    "duration": 12,
    "start_time": "2023-03-11T11:50:15.802Z"
   },
   {
    "duration": 9,
    "start_time": "2023-03-11T11:50:27.223Z"
   },
   {
    "duration": 722,
    "start_time": "2023-03-11T11:51:46.916Z"
   },
   {
    "duration": 22,
    "start_time": "2023-03-11T11:54:51.345Z"
   },
   {
    "duration": 225,
    "start_time": "2023-03-11T11:54:59.822Z"
   },
   {
    "duration": 763,
    "start_time": "2023-03-11T11:56:40.239Z"
   },
   {
    "duration": 239,
    "start_time": "2023-03-11T11:56:41.004Z"
   },
   {
    "duration": 24,
    "start_time": "2023-03-11T11:56:41.245Z"
   },
   {
    "duration": 23,
    "start_time": "2023-03-11T11:56:41.272Z"
   },
   {
    "duration": 38,
    "start_time": "2023-03-11T11:56:41.297Z"
   },
   {
    "duration": 5,
    "start_time": "2023-03-11T11:56:41.340Z"
   },
   {
    "duration": 17,
    "start_time": "2023-03-11T11:56:41.347Z"
   },
   {
    "duration": 100,
    "start_time": "2023-03-11T11:56:41.366Z"
   },
   {
    "duration": 93,
    "start_time": "2023-03-11T11:56:41.469Z"
   },
   {
    "duration": 82,
    "start_time": "2023-03-11T11:56:41.564Z"
   },
   {
    "duration": 7,
    "start_time": "2023-03-11T11:56:41.648Z"
   },
   {
    "duration": 868,
    "start_time": "2023-03-11T11:56:41.657Z"
   },
   {
    "duration": 6,
    "start_time": "2023-03-11T11:56:42.529Z"
   },
   {
    "duration": 6,
    "start_time": "2023-03-11T11:56:42.544Z"
   },
   {
    "duration": 17,
    "start_time": "2023-03-11T11:56:42.553Z"
   },
   {
    "duration": 172,
    "start_time": "2023-03-11T11:56:42.571Z"
   },
   {
    "duration": 34,
    "start_time": "2023-03-11T11:56:42.745Z"
   },
   {
    "duration": 22,
    "start_time": "2023-03-11T11:56:42.781Z"
   },
   {
    "duration": 41,
    "start_time": "2023-03-11T11:56:42.804Z"
   },
   {
    "duration": 57,
    "start_time": "2023-03-11T11:56:42.847Z"
   },
   {
    "duration": 253,
    "start_time": "2023-03-11T11:56:42.906Z"
   },
   {
    "duration": 10,
    "start_time": "2023-03-11T11:56:43.161Z"
   },
   {
    "duration": 183,
    "start_time": "2023-03-11T11:57:21.173Z"
   },
   {
    "duration": 229,
    "start_time": "2023-03-11T11:57:40.616Z"
   },
   {
    "duration": 278,
    "start_time": "2023-03-11T11:57:48.399Z"
   },
   {
    "duration": 235,
    "start_time": "2023-03-11T11:58:00.596Z"
   },
   {
    "duration": 227,
    "start_time": "2023-03-11T11:58:16.640Z"
   },
   {
    "duration": 27,
    "start_time": "2023-03-11T12:16:59.859Z"
   },
   {
    "duration": 17,
    "start_time": "2023-03-11T12:17:37.905Z"
   },
   {
    "duration": 23,
    "start_time": "2023-03-11T12:17:43.633Z"
   },
   {
    "duration": 30,
    "start_time": "2023-03-11T12:17:48.720Z"
   },
   {
    "duration": 20,
    "start_time": "2023-03-11T12:17:58.947Z"
   },
   {
    "duration": 36,
    "start_time": "2023-03-11T12:18:10.214Z"
   },
   {
    "duration": 16,
    "start_time": "2023-03-11T12:18:46.454Z"
   },
   {
    "duration": 26,
    "start_time": "2023-03-11T12:20:10.332Z"
   },
   {
    "duration": 16,
    "start_time": "2023-03-11T12:20:30.103Z"
   },
   {
    "duration": 29,
    "start_time": "2023-03-11T12:20:37.111Z"
   },
   {
    "duration": 62,
    "start_time": "2023-03-11T15:32:38.829Z"
   },
   {
    "duration": 831,
    "start_time": "2023-03-11T15:32:46.798Z"
   },
   {
    "duration": 298,
    "start_time": "2023-03-11T15:32:47.631Z"
   },
   {
    "duration": 20,
    "start_time": "2023-03-11T15:32:47.931Z"
   },
   {
    "duration": 28,
    "start_time": "2023-03-11T15:32:47.953Z"
   },
   {
    "duration": 8,
    "start_time": "2023-03-11T15:32:47.982Z"
   },
   {
    "duration": 7,
    "start_time": "2023-03-11T15:32:47.992Z"
   },
   {
    "duration": 25,
    "start_time": "2023-03-11T15:32:48.001Z"
   },
   {
    "duration": 88,
    "start_time": "2023-03-11T15:32:48.028Z"
   },
   {
    "duration": 79,
    "start_time": "2023-03-11T15:32:48.118Z"
   },
   {
    "duration": 63,
    "start_time": "2023-03-11T15:32:48.200Z"
   },
   {
    "duration": 17,
    "start_time": "2023-03-11T15:32:48.264Z"
   },
   {
    "duration": 706,
    "start_time": "2023-03-11T15:32:48.282Z"
   },
   {
    "duration": 5,
    "start_time": "2023-03-11T15:32:48.990Z"
   },
   {
    "duration": 11,
    "start_time": "2023-03-11T15:32:48.997Z"
   },
   {
    "duration": 22,
    "start_time": "2023-03-11T15:32:49.010Z"
   },
   {
    "duration": 136,
    "start_time": "2023-03-11T15:32:49.033Z"
   },
   {
    "duration": 27,
    "start_time": "2023-03-11T15:32:49.171Z"
   },
   {
    "duration": 26,
    "start_time": "2023-03-11T15:32:49.200Z"
   },
   {
    "duration": 15,
    "start_time": "2023-03-11T15:32:49.228Z"
   },
   {
    "duration": 76,
    "start_time": "2023-03-11T15:32:49.245Z"
   },
   {
    "duration": 225,
    "start_time": "2023-03-11T15:32:49.323Z"
   },
   {
    "duration": 9,
    "start_time": "2023-03-11T15:32:49.550Z"
   },
   {
    "duration": 54,
    "start_time": "2023-03-11T15:32:49.562Z"
   },
   {
    "duration": 190,
    "start_time": "2023-03-11T15:36:11.243Z"
   },
   {
    "duration": 669,
    "start_time": "2023-03-11T15:41:05.789Z"
   },
   {
    "duration": 179,
    "start_time": "2023-03-11T15:41:06.460Z"
   },
   {
    "duration": 19,
    "start_time": "2023-03-11T15:41:06.641Z"
   },
   {
    "duration": 30,
    "start_time": "2023-03-11T15:41:06.662Z"
   },
   {
    "duration": 10,
    "start_time": "2023-03-11T15:41:06.697Z"
   },
   {
    "duration": 5,
    "start_time": "2023-03-11T15:41:06.708Z"
   },
   {
    "duration": 22,
    "start_time": "2023-03-11T15:41:06.715Z"
   },
   {
    "duration": 98,
    "start_time": "2023-03-11T15:41:06.738Z"
   },
   {
    "duration": 108,
    "start_time": "2023-03-11T15:41:06.838Z"
   },
   {
    "duration": 93,
    "start_time": "2023-03-11T15:41:06.948Z"
   },
   {
    "duration": 5,
    "start_time": "2023-03-11T15:41:07.043Z"
   },
   {
    "duration": 742,
    "start_time": "2023-03-11T15:41:07.051Z"
   },
   {
    "duration": 5,
    "start_time": "2023-03-11T15:41:07.796Z"
   },
   {
    "duration": 18,
    "start_time": "2023-03-11T15:41:07.804Z"
   },
   {
    "duration": 23,
    "start_time": "2023-03-11T15:41:07.823Z"
   },
   {
    "duration": 130,
    "start_time": "2023-03-11T15:41:07.848Z"
   },
   {
    "duration": 25,
    "start_time": "2023-03-11T15:41:07.980Z"
   },
   {
    "duration": 26,
    "start_time": "2023-03-11T15:41:08.007Z"
   },
   {
    "duration": 12,
    "start_time": "2023-03-11T15:41:08.035Z"
   },
   {
    "duration": 80,
    "start_time": "2023-03-11T15:41:08.048Z"
   },
   {
    "duration": 216,
    "start_time": "2023-03-11T15:41:08.130Z"
   },
   {
    "duration": 8,
    "start_time": "2023-03-11T15:41:08.348Z"
   },
   {
    "duration": 18,
    "start_time": "2023-03-11T15:41:08.359Z"
   },
   {
    "duration": 123,
    "start_time": "2023-03-11T15:43:43.577Z"
   },
   {
    "duration": 7,
    "start_time": "2023-03-11T15:44:44.330Z"
   },
   {
    "duration": 52,
    "start_time": "2023-03-11T17:08:43.046Z"
   },
   {
    "duration": 850,
    "start_time": "2023-03-11T17:08:51.752Z"
   },
   {
    "duration": 275,
    "start_time": "2023-03-11T17:08:52.604Z"
   },
   {
    "duration": 20,
    "start_time": "2023-03-11T17:08:52.881Z"
   },
   {
    "duration": 22,
    "start_time": "2023-03-11T17:08:52.903Z"
   },
   {
    "duration": 10,
    "start_time": "2023-03-11T17:08:52.927Z"
   },
   {
    "duration": 12,
    "start_time": "2023-03-11T17:08:52.939Z"
   },
   {
    "duration": 25,
    "start_time": "2023-03-11T17:08:52.953Z"
   },
   {
    "duration": 70,
    "start_time": "2023-03-11T17:08:52.980Z"
   },
   {
    "duration": 64,
    "start_time": "2023-03-11T17:08:53.063Z"
   },
   {
    "duration": 76,
    "start_time": "2023-03-11T17:08:53.129Z"
   },
   {
    "duration": 5,
    "start_time": "2023-03-11T17:08:53.207Z"
   },
   {
    "duration": 680,
    "start_time": "2023-03-11T17:08:53.214Z"
   },
   {
    "duration": 6,
    "start_time": "2023-03-11T17:08:53.896Z"
   },
   {
    "duration": 23,
    "start_time": "2023-03-11T17:08:53.905Z"
   },
   {
    "duration": 16,
    "start_time": "2023-03-11T17:08:53.930Z"
   },
   {
    "duration": 125,
    "start_time": "2023-03-11T17:08:53.948Z"
   },
   {
    "duration": 23,
    "start_time": "2023-03-11T17:08:54.074Z"
   },
   {
    "duration": 22,
    "start_time": "2023-03-11T17:08:54.099Z"
   },
   {
    "duration": 12,
    "start_time": "2023-03-11T17:08:54.123Z"
   },
   {
    "duration": 80,
    "start_time": "2023-03-11T17:08:54.137Z"
   },
   {
    "duration": 216,
    "start_time": "2023-03-11T17:08:54.219Z"
   },
   {
    "duration": 8,
    "start_time": "2023-03-11T17:08:54.437Z"
   },
   {
    "duration": 4,
    "start_time": "2023-03-11T17:08:54.446Z"
   },
   {
    "duration": 7,
    "start_time": "2023-03-11T17:08:54.465Z"
   },
   {
    "duration": 99,
    "start_time": "2023-03-11T17:08:54.474Z"
   },
   {
    "duration": 0,
    "start_time": "2023-03-11T17:08:54.575Z"
   },
   {
    "duration": 44,
    "start_time": "2023-03-11T17:09:05.093Z"
   },
   {
    "duration": 27,
    "start_time": "2023-03-11T17:09:50.063Z"
   },
   {
    "duration": 14,
    "start_time": "2023-03-11T17:14:17.368Z"
   },
   {
    "duration": 1179,
    "start_time": "2023-03-11T17:14:46.307Z"
   },
   {
    "duration": 164,
    "start_time": "2023-03-11T17:14:47.488Z"
   },
   {
    "duration": 18,
    "start_time": "2023-03-11T17:14:47.654Z"
   },
   {
    "duration": 22,
    "start_time": "2023-03-11T17:14:47.673Z"
   },
   {
    "duration": 7,
    "start_time": "2023-03-11T17:14:47.697Z"
   },
   {
    "duration": 3,
    "start_time": "2023-03-11T17:14:47.706Z"
   },
   {
    "duration": 21,
    "start_time": "2023-03-11T17:14:47.711Z"
   },
   {
    "duration": 88,
    "start_time": "2023-03-11T17:14:47.733Z"
   },
   {
    "duration": 84,
    "start_time": "2023-03-11T17:14:47.822Z"
   },
   {
    "duration": 67,
    "start_time": "2023-03-11T17:14:47.908Z"
   },
   {
    "duration": 6,
    "start_time": "2023-03-11T17:14:47.977Z"
   },
   {
    "duration": 651,
    "start_time": "2023-03-11T17:14:47.985Z"
   },
   {
    "duration": 5,
    "start_time": "2023-03-11T17:14:48.637Z"
   },
   {
    "duration": 6,
    "start_time": "2023-03-11T17:14:48.645Z"
   },
   {
    "duration": 13,
    "start_time": "2023-03-11T17:14:48.665Z"
   },
   {
    "duration": 180,
    "start_time": "2023-03-11T17:14:48.680Z"
   },
   {
    "duration": 22,
    "start_time": "2023-03-11T17:14:48.864Z"
   },
   {
    "duration": 22,
    "start_time": "2023-03-11T17:14:48.888Z"
   },
   {
    "duration": 12,
    "start_time": "2023-03-11T17:14:48.912Z"
   },
   {
    "duration": 76,
    "start_time": "2023-03-11T17:14:48.926Z"
   },
   {
    "duration": 205,
    "start_time": "2023-03-11T17:14:49.004Z"
   },
   {
    "duration": 8,
    "start_time": "2023-03-11T17:14:49.210Z"
   },
   {
    "duration": 5,
    "start_time": "2023-03-11T17:14:49.220Z"
   },
   {
    "duration": 8,
    "start_time": "2023-03-11T17:14:49.227Z"
   },
   {
    "duration": 50,
    "start_time": "2023-03-11T17:14:49.237Z"
   },
   {
    "duration": 288,
    "start_time": "2023-03-11T17:14:49.289Z"
   },
   {
    "duration": 290,
    "start_time": "2023-03-11T17:18:17.043Z"
   },
   {
    "duration": 356,
    "start_time": "2023-03-11T17:19:26.956Z"
   },
   {
    "duration": 253,
    "start_time": "2023-03-11T17:20:19.573Z"
   },
   {
    "duration": 278,
    "start_time": "2023-03-11T17:22:26.030Z"
   },
   {
    "duration": 288,
    "start_time": "2023-03-11T17:22:48.208Z"
   },
   {
    "duration": 300,
    "start_time": "2023-03-11T17:23:03.954Z"
   },
   {
    "duration": 77,
    "start_time": "2023-03-11T17:24:28.572Z"
   },
   {
    "duration": 13,
    "start_time": "2023-03-11T17:24:43.521Z"
   },
   {
    "duration": 1236,
    "start_time": "2023-03-11T17:25:43.517Z"
   },
   {
    "duration": 159,
    "start_time": "2023-03-11T17:25:44.755Z"
   },
   {
    "duration": 17,
    "start_time": "2023-03-11T17:25:44.916Z"
   },
   {
    "duration": 30,
    "start_time": "2023-03-11T17:25:44.935Z"
   },
   {
    "duration": 7,
    "start_time": "2023-03-11T17:25:44.967Z"
   },
   {
    "duration": 3,
    "start_time": "2023-03-11T17:25:44.976Z"
   },
   {
    "duration": 21,
    "start_time": "2023-03-11T17:25:44.981Z"
   },
   {
    "duration": 85,
    "start_time": "2023-03-11T17:25:45.004Z"
   },
   {
    "duration": 73,
    "start_time": "2023-03-11T17:25:45.091Z"
   },
   {
    "duration": 60,
    "start_time": "2023-03-11T17:25:45.167Z"
   },
   {
    "duration": 5,
    "start_time": "2023-03-11T17:25:45.229Z"
   },
   {
    "duration": 661,
    "start_time": "2023-03-11T17:25:45.236Z"
   },
   {
    "duration": 6,
    "start_time": "2023-03-11T17:25:45.899Z"
   },
   {
    "duration": 23,
    "start_time": "2023-03-11T17:25:45.907Z"
   },
   {
    "duration": 16,
    "start_time": "2023-03-11T17:25:45.931Z"
   },
   {
    "duration": 149,
    "start_time": "2023-03-11T17:25:45.949Z"
   },
   {
    "duration": 31,
    "start_time": "2023-03-11T17:25:46.100Z"
   },
   {
    "duration": 37,
    "start_time": "2023-03-11T17:25:46.133Z"
   },
   {
    "duration": 12,
    "start_time": "2023-03-11T17:25:46.172Z"
   },
   {
    "duration": 53,
    "start_time": "2023-03-11T17:25:46.186Z"
   },
   {
    "duration": 220,
    "start_time": "2023-03-11T17:25:46.241Z"
   },
   {
    "duration": 7,
    "start_time": "2023-03-11T17:25:46.465Z"
   },
   {
    "duration": 4,
    "start_time": "2023-03-11T17:25:46.474Z"
   },
   {
    "duration": 33,
    "start_time": "2023-03-11T17:25:46.479Z"
   },
   {
    "duration": 65,
    "start_time": "2023-03-11T17:25:46.513Z"
   },
   {
    "duration": 329,
    "start_time": "2023-03-11T17:25:46.580Z"
   },
   {
    "duration": 264,
    "start_time": "2023-03-11T17:31:30.519Z"
   },
   {
    "duration": 285,
    "start_time": "2023-03-11T17:34:31.895Z"
   },
   {
    "duration": 329,
    "start_time": "2023-03-11T17:34:45.029Z"
   },
   {
    "duration": 302,
    "start_time": "2023-03-11T17:35:20.045Z"
   },
   {
    "duration": 1251,
    "start_time": "2023-03-11T17:36:47.339Z"
   },
   {
    "duration": 169,
    "start_time": "2023-03-11T17:36:48.592Z"
   },
   {
    "duration": 18,
    "start_time": "2023-03-11T17:36:48.763Z"
   },
   {
    "duration": 22,
    "start_time": "2023-03-11T17:36:48.782Z"
   },
   {
    "duration": 7,
    "start_time": "2023-03-11T17:36:48.806Z"
   },
   {
    "duration": 5,
    "start_time": "2023-03-11T17:36:48.815Z"
   },
   {
    "duration": 47,
    "start_time": "2023-03-11T17:36:48.821Z"
   },
   {
    "duration": 68,
    "start_time": "2023-03-11T17:36:48.869Z"
   },
   {
    "duration": 84,
    "start_time": "2023-03-11T17:36:48.939Z"
   },
   {
    "duration": 74,
    "start_time": "2023-03-11T17:36:49.025Z"
   },
   {
    "duration": 6,
    "start_time": "2023-03-11T17:36:49.101Z"
   },
   {
    "duration": 656,
    "start_time": "2023-03-11T17:36:49.109Z"
   },
   {
    "duration": 6,
    "start_time": "2023-03-11T17:36:49.767Z"
   },
   {
    "duration": 6,
    "start_time": "2023-03-11T17:36:49.777Z"
   },
   {
    "duration": 17,
    "start_time": "2023-03-11T17:36:49.784Z"
   },
   {
    "duration": 196,
    "start_time": "2023-03-11T17:36:49.803Z"
   },
   {
    "duration": 21,
    "start_time": "2023-03-11T17:36:50.001Z"
   },
   {
    "duration": 18,
    "start_time": "2023-03-11T17:36:50.024Z"
   },
   {
    "duration": 30,
    "start_time": "2023-03-11T17:36:50.044Z"
   },
   {
    "duration": 53,
    "start_time": "2023-03-11T17:36:50.076Z"
   },
   {
    "duration": 204,
    "start_time": "2023-03-11T17:36:50.131Z"
   },
   {
    "duration": 7,
    "start_time": "2023-03-11T17:36:50.337Z"
   },
   {
    "duration": 4,
    "start_time": "2023-03-11T17:36:50.346Z"
   },
   {
    "duration": 6,
    "start_time": "2023-03-11T17:36:50.365Z"
   },
   {
    "duration": 25,
    "start_time": "2023-03-11T17:36:50.373Z"
   },
   {
    "duration": 315,
    "start_time": "2023-03-11T17:36:50.399Z"
   },
   {
    "duration": 313,
    "start_time": "2023-03-11T17:37:49.552Z"
   },
   {
    "duration": 293,
    "start_time": "2023-03-11T17:37:59.008Z"
   },
   {
    "duration": 284,
    "start_time": "2023-03-11T17:46:08.437Z"
   },
   {
    "duration": 393,
    "start_time": "2023-03-11T17:46:21.619Z"
   },
   {
    "duration": 293,
    "start_time": "2023-03-11T17:46:42.214Z"
   },
   {
    "duration": 273,
    "start_time": "2023-03-11T17:46:59.805Z"
   },
   {
    "duration": 270,
    "start_time": "2023-03-11T17:47:19.083Z"
   },
   {
    "duration": 272,
    "start_time": "2023-03-11T17:47:47.333Z"
   },
   {
    "duration": 417,
    "start_time": "2023-03-11T17:47:55.630Z"
   },
   {
    "duration": 288,
    "start_time": "2023-03-11T17:48:12.281Z"
   },
   {
    "duration": 1232,
    "start_time": "2023-03-11T17:50:40.168Z"
   },
   {
    "duration": 168,
    "start_time": "2023-03-11T17:50:41.402Z"
   },
   {
    "duration": 20,
    "start_time": "2023-03-11T17:50:41.572Z"
   },
   {
    "duration": 24,
    "start_time": "2023-03-11T17:50:41.594Z"
   },
   {
    "duration": 8,
    "start_time": "2023-03-11T17:50:41.620Z"
   },
   {
    "duration": 5,
    "start_time": "2023-03-11T17:50:41.630Z"
   },
   {
    "duration": 18,
    "start_time": "2023-03-11T17:50:41.665Z"
   },
   {
    "duration": 103,
    "start_time": "2023-03-11T17:50:41.685Z"
   },
   {
    "duration": 84,
    "start_time": "2023-03-11T17:50:41.789Z"
   },
   {
    "duration": 68,
    "start_time": "2023-03-11T17:50:41.875Z"
   },
   {
    "duration": 22,
    "start_time": "2023-03-11T17:50:41.944Z"
   },
   {
    "duration": 672,
    "start_time": "2023-03-11T17:50:41.968Z"
   },
   {
    "duration": 7,
    "start_time": "2023-03-11T17:50:42.642Z"
   },
   {
    "duration": 5,
    "start_time": "2023-03-11T17:50:42.664Z"
   },
   {
    "duration": 16,
    "start_time": "2023-03-11T17:50:42.671Z"
   },
   {
    "duration": 169,
    "start_time": "2023-03-11T17:50:42.689Z"
   },
   {
    "duration": 32,
    "start_time": "2023-03-11T17:50:42.865Z"
   },
   {
    "duration": 20,
    "start_time": "2023-03-11T17:50:42.899Z"
   },
   {
    "duration": 12,
    "start_time": "2023-03-11T17:50:42.921Z"
   },
   {
    "duration": 80,
    "start_time": "2023-03-11T17:50:42.935Z"
   },
   {
    "duration": 205,
    "start_time": "2023-03-11T17:50:43.017Z"
   },
   {
    "duration": 8,
    "start_time": "2023-03-11T17:50:43.224Z"
   },
   {
    "duration": 5,
    "start_time": "2023-03-11T17:50:43.233Z"
   },
   {
    "duration": 50,
    "start_time": "2023-03-11T17:50:43.239Z"
   },
   {
    "duration": 43,
    "start_time": "2023-03-11T17:50:43.290Z"
   },
   {
    "duration": 466,
    "start_time": "2023-03-11T17:50:43.335Z"
   },
   {
    "duration": 277,
    "start_time": "2023-03-11T17:51:00.554Z"
   },
   {
    "duration": 321,
    "start_time": "2023-03-11T17:51:17.774Z"
   },
   {
    "duration": 1240,
    "start_time": "2023-03-11T17:52:18.666Z"
   },
   {
    "duration": 186,
    "start_time": "2023-03-11T17:52:19.908Z"
   },
   {
    "duration": 21,
    "start_time": "2023-03-11T17:52:20.096Z"
   },
   {
    "duration": 27,
    "start_time": "2023-03-11T17:52:20.119Z"
   },
   {
    "duration": 24,
    "start_time": "2023-03-11T17:52:20.148Z"
   },
   {
    "duration": 17,
    "start_time": "2023-03-11T17:52:20.174Z"
   },
   {
    "duration": 24,
    "start_time": "2023-03-11T17:52:20.193Z"
   },
   {
    "duration": 158,
    "start_time": "2023-03-11T17:52:20.220Z"
   },
   {
    "duration": 184,
    "start_time": "2023-03-11T17:52:20.380Z"
   },
   {
    "duration": 121,
    "start_time": "2023-03-11T17:52:20.566Z"
   },
   {
    "duration": 6,
    "start_time": "2023-03-11T17:52:20.689Z"
   },
   {
    "duration": 1470,
    "start_time": "2023-03-11T17:52:20.696Z"
   },
   {
    "duration": 6,
    "start_time": "2023-03-11T17:52:22.168Z"
   },
   {
    "duration": 11,
    "start_time": "2023-03-11T17:52:22.177Z"
   },
   {
    "duration": 24,
    "start_time": "2023-03-11T17:52:22.190Z"
   },
   {
    "duration": 197,
    "start_time": "2023-03-11T17:52:22.217Z"
   },
   {
    "duration": 34,
    "start_time": "2023-03-11T17:52:22.416Z"
   },
   {
    "duration": 27,
    "start_time": "2023-03-11T17:52:22.452Z"
   },
   {
    "duration": 18,
    "start_time": "2023-03-11T17:52:22.485Z"
   },
   {
    "duration": 76,
    "start_time": "2023-03-11T17:52:22.505Z"
   },
   {
    "duration": 216,
    "start_time": "2023-03-11T17:52:22.583Z"
   },
   {
    "duration": 8,
    "start_time": "2023-03-11T17:52:22.801Z"
   },
   {
    "duration": 25,
    "start_time": "2023-03-11T17:52:22.810Z"
   },
   {
    "duration": 41,
    "start_time": "2023-03-11T17:52:22.836Z"
   },
   {
    "duration": 45,
    "start_time": "2023-03-11T17:52:22.879Z"
   },
   {
    "duration": 290,
    "start_time": "2023-03-11T17:52:22.926Z"
   },
   {
    "duration": 297,
    "start_time": "2023-03-11T17:53:07.767Z"
   },
   {
    "duration": 525,
    "start_time": "2023-03-11T18:06:14.767Z"
   },
   {
    "duration": 52,
    "start_time": "2023-03-11T18:06:37.669Z"
   },
   {
    "duration": 47,
    "start_time": "2023-03-11T18:07:52.717Z"
   },
   {
    "duration": 331,
    "start_time": "2023-03-11T18:08:48.322Z"
   },
   {
    "duration": 4,
    "start_time": "2023-03-11T18:12:04.062Z"
   },
   {
    "duration": 1142,
    "start_time": "2023-03-11T18:12:52.882Z"
   },
   {
    "duration": 1310,
    "start_time": "2023-03-11T18:13:15.659Z"
   },
   {
    "duration": 173,
    "start_time": "2023-03-11T18:13:16.972Z"
   },
   {
    "duration": 22,
    "start_time": "2023-03-11T18:13:17.147Z"
   },
   {
    "duration": 24,
    "start_time": "2023-03-11T18:13:17.171Z"
   },
   {
    "duration": 8,
    "start_time": "2023-03-11T18:13:17.197Z"
   },
   {
    "duration": 6,
    "start_time": "2023-03-11T18:13:17.207Z"
   },
   {
    "duration": 50,
    "start_time": "2023-03-11T18:13:17.215Z"
   },
   {
    "duration": 72,
    "start_time": "2023-03-11T18:13:17.267Z"
   },
   {
    "duration": 90,
    "start_time": "2023-03-11T18:13:17.341Z"
   },
   {
    "duration": 80,
    "start_time": "2023-03-11T18:13:17.432Z"
   },
   {
    "duration": 5,
    "start_time": "2023-03-11T18:13:17.514Z"
   },
   {
    "duration": 689,
    "start_time": "2023-03-11T18:13:17.521Z"
   },
   {
    "duration": 6,
    "start_time": "2023-03-11T18:13:18.212Z"
   },
   {
    "duration": 7,
    "start_time": "2023-03-11T18:13:18.222Z"
   },
   {
    "duration": 38,
    "start_time": "2023-03-11T18:13:18.232Z"
   },
   {
    "duration": 214,
    "start_time": "2023-03-11T18:13:18.271Z"
   },
   {
    "duration": 31,
    "start_time": "2023-03-11T18:13:18.487Z"
   },
   {
    "duration": 44,
    "start_time": "2023-03-11T18:13:18.520Z"
   },
   {
    "duration": 12,
    "start_time": "2023-03-11T18:13:18.566Z"
   },
   {
    "duration": 79,
    "start_time": "2023-03-11T18:13:18.580Z"
   },
   {
    "duration": 208,
    "start_time": "2023-03-11T18:13:18.661Z"
   },
   {
    "duration": 9,
    "start_time": "2023-03-11T18:13:18.871Z"
   },
   {
    "duration": 5,
    "start_time": "2023-03-11T18:13:18.882Z"
   },
   {
    "duration": 36,
    "start_time": "2023-03-11T18:13:18.889Z"
   },
   {
    "duration": 71,
    "start_time": "2023-03-11T18:13:18.927Z"
   },
   {
    "duration": 292,
    "start_time": "2023-03-11T18:13:19.000Z"
   },
   {
    "duration": 1331,
    "start_time": "2023-03-11T18:13:19.295Z"
   },
   {
    "duration": 0,
    "start_time": "2023-03-11T18:13:20.629Z"
   },
   {
    "duration": 1196,
    "start_time": "2023-03-11T18:14:40.695Z"
   },
   {
    "duration": 289,
    "start_time": "2023-03-11T18:14:53.262Z"
   },
   {
    "duration": 1276,
    "start_time": "2023-03-11T18:19:56.603Z"
   },
   {
    "duration": 186,
    "start_time": "2023-03-11T18:19:57.883Z"
   },
   {
    "duration": 24,
    "start_time": "2023-03-11T18:19:58.072Z"
   },
   {
    "duration": 24,
    "start_time": "2023-03-11T18:19:58.098Z"
   },
   {
    "duration": 12,
    "start_time": "2023-03-11T18:19:58.125Z"
   },
   {
    "duration": 9,
    "start_time": "2023-03-11T18:19:58.165Z"
   },
   {
    "duration": 30,
    "start_time": "2023-03-11T18:19:58.176Z"
   },
   {
    "duration": 99,
    "start_time": "2023-03-11T18:19:58.208Z"
   },
   {
    "duration": 100,
    "start_time": "2023-03-11T18:19:58.309Z"
   },
   {
    "duration": 91,
    "start_time": "2023-03-11T18:19:58.411Z"
   },
   {
    "duration": 7,
    "start_time": "2023-03-11T18:19:58.504Z"
   },
   {
    "duration": 1578,
    "start_time": "2023-03-11T18:19:58.513Z"
   },
   {
    "duration": 11,
    "start_time": "2023-03-11T18:20:00.094Z"
   },
   {
    "duration": 60,
    "start_time": "2023-03-11T18:20:00.108Z"
   },
   {
    "duration": 52,
    "start_time": "2023-03-11T18:20:00.170Z"
   },
   {
    "duration": 487,
    "start_time": "2023-03-11T18:20:00.224Z"
   },
   {
    "duration": 32,
    "start_time": "2023-03-11T18:20:00.772Z"
   },
   {
    "duration": 88,
    "start_time": "2023-03-11T18:20:00.805Z"
   },
   {
    "duration": 85,
    "start_time": "2023-03-11T18:20:00.895Z"
   },
   {
    "duration": 198,
    "start_time": "2023-03-11T18:20:00.987Z"
   },
   {
    "duration": 378,
    "start_time": "2023-03-11T18:20:01.189Z"
   },
   {
    "duration": 13,
    "start_time": "2023-03-11T18:20:01.570Z"
   },
   {
    "duration": 46,
    "start_time": "2023-03-11T18:20:01.587Z"
   },
   {
    "duration": 57,
    "start_time": "2023-03-11T18:20:01.636Z"
   },
   {
    "duration": 96,
    "start_time": "2023-03-11T18:20:01.695Z"
   },
   {
    "duration": 353,
    "start_time": "2023-03-11T18:20:01.794Z"
   },
   {
    "duration": 31,
    "start_time": "2023-03-11T18:20:02.149Z"
   },
   {
    "duration": 337,
    "start_time": "2023-03-11T18:20:36.290Z"
   },
   {
    "duration": 332,
    "start_time": "2023-03-11T18:20:50.768Z"
   },
   {
    "duration": 305,
    "start_time": "2023-03-11T18:21:11.712Z"
   },
   {
    "duration": 22,
    "start_time": "2023-03-11T18:25:02.705Z"
   },
   {
    "duration": 28,
    "start_time": "2023-03-11T18:27:57.182Z"
   },
   {
    "duration": 82,
    "start_time": "2023-03-11T18:37:24.819Z"
   },
   {
    "duration": 8,
    "start_time": "2023-03-11T18:38:01.772Z"
   },
   {
    "duration": 40,
    "start_time": "2023-03-11T18:48:36.380Z"
   },
   {
    "duration": 44,
    "start_time": "2023-03-11T18:50:32.802Z"
   },
   {
    "duration": 64,
    "start_time": "2023-03-11T19:09:19.383Z"
   },
   {
    "duration": 135,
    "start_time": "2023-03-11T19:12:33.426Z"
   },
   {
    "duration": 11,
    "start_time": "2023-03-11T19:12:55.427Z"
   },
   {
    "duration": 9,
    "start_time": "2023-03-11T19:13:17.828Z"
   },
   {
    "duration": 10,
    "start_time": "2023-03-11T19:13:46.090Z"
   },
   {
    "duration": 49,
    "start_time": "2023-03-11T19:14:13.993Z"
   },
   {
    "duration": 56,
    "start_time": "2023-03-11T19:14:50.343Z"
   },
   {
    "duration": 52,
    "start_time": "2023-03-12T08:12:11.262Z"
   },
   {
    "duration": 1482,
    "start_time": "2023-03-12T08:12:18.118Z"
   },
   {
    "duration": 859,
    "start_time": "2023-03-12T08:12:19.602Z"
   },
   {
    "duration": 19,
    "start_time": "2023-03-12T08:12:20.463Z"
   },
   {
    "duration": 41,
    "start_time": "2023-03-12T08:12:20.484Z"
   },
   {
    "duration": 49,
    "start_time": "2023-03-12T08:12:20.527Z"
   },
   {
    "duration": 39,
    "start_time": "2023-03-12T08:12:20.578Z"
   },
   {
    "duration": 73,
    "start_time": "2023-03-12T08:12:20.620Z"
   },
   {
    "duration": 61,
    "start_time": "2023-03-12T08:12:20.695Z"
   },
   {
    "duration": 67,
    "start_time": "2023-03-12T08:12:20.758Z"
   },
   {
    "duration": 68,
    "start_time": "2023-03-12T08:12:20.828Z"
   },
   {
    "duration": 5,
    "start_time": "2023-03-12T08:12:20.898Z"
   },
   {
    "duration": 618,
    "start_time": "2023-03-12T08:12:20.905Z"
   },
   {
    "duration": 6,
    "start_time": "2023-03-12T08:12:21.524Z"
   },
   {
    "duration": 29,
    "start_time": "2023-03-12T08:12:21.531Z"
   },
   {
    "duration": 29,
    "start_time": "2023-03-12T08:12:21.562Z"
   },
   {
    "duration": 165,
    "start_time": "2023-03-12T08:12:21.593Z"
   },
   {
    "duration": 22,
    "start_time": "2023-03-12T08:12:21.760Z"
   },
   {
    "duration": 37,
    "start_time": "2023-03-12T08:12:21.784Z"
   },
   {
    "duration": 21,
    "start_time": "2023-03-12T08:12:21.824Z"
   },
   {
    "duration": 72,
    "start_time": "2023-03-12T08:12:21.847Z"
   },
   {
    "duration": 255,
    "start_time": "2023-03-12T08:12:21.921Z"
   },
   {
    "duration": 8,
    "start_time": "2023-03-12T08:12:22.178Z"
   },
   {
    "duration": 30,
    "start_time": "2023-03-12T08:12:22.188Z"
   },
   {
    "duration": 20,
    "start_time": "2023-03-12T08:12:22.220Z"
   },
   {
    "duration": 39,
    "start_time": "2023-03-12T08:12:22.241Z"
   },
   {
    "duration": 297,
    "start_time": "2023-03-12T08:12:22.282Z"
   },
   {
    "duration": 26,
    "start_time": "2023-03-12T08:12:22.581Z"
   },
   {
    "duration": 32,
    "start_time": "2023-03-12T08:12:22.610Z"
   },
   {
    "duration": 10,
    "start_time": "2023-03-12T08:12:22.644Z"
   },
   {
    "duration": 84,
    "start_time": "2023-03-12T08:12:22.655Z"
   },
   {
    "duration": 36,
    "start_time": "2023-03-12T08:12:22.741Z"
   },
   {
    "duration": 177,
    "start_time": "2023-03-12T08:13:13.497Z"
   },
   {
    "duration": 5,
    "start_time": "2023-03-12T08:35:51.858Z"
   },
   {
    "duration": 62,
    "start_time": "2023-03-12T08:42:48.362Z"
   },
   {
    "duration": 63,
    "start_time": "2023-03-12T08:45:25.108Z"
   },
   {
    "duration": 1063,
    "start_time": "2023-03-12T08:46:57.932Z"
   },
   {
    "duration": 1441,
    "start_time": "2023-03-12T08:47:18.993Z"
   },
   {
    "duration": 215,
    "start_time": "2023-03-12T08:47:20.437Z"
   },
   {
    "duration": 27,
    "start_time": "2023-03-12T08:47:20.662Z"
   },
   {
    "duration": 42,
    "start_time": "2023-03-12T08:47:20.692Z"
   },
   {
    "duration": 21,
    "start_time": "2023-03-12T08:47:20.736Z"
   },
   {
    "duration": 5,
    "start_time": "2023-03-12T08:47:20.765Z"
   },
   {
    "duration": 40,
    "start_time": "2023-03-12T08:47:20.772Z"
   },
   {
    "duration": 74,
    "start_time": "2023-03-12T08:47:20.814Z"
   },
   {
    "duration": 88,
    "start_time": "2023-03-12T08:47:20.890Z"
   },
   {
    "duration": 84,
    "start_time": "2023-03-12T08:47:20.981Z"
   },
   {
    "duration": 6,
    "start_time": "2023-03-12T08:47:21.068Z"
   },
   {
    "duration": 754,
    "start_time": "2023-03-12T08:47:21.077Z"
   },
   {
    "duration": 12,
    "start_time": "2023-03-12T08:47:21.840Z"
   },
   {
    "duration": 12,
    "start_time": "2023-03-12T08:47:21.857Z"
   },
   {
    "duration": 21,
    "start_time": "2023-03-12T08:47:21.872Z"
   },
   {
    "duration": 280,
    "start_time": "2023-03-12T08:47:21.895Z"
   },
   {
    "duration": 37,
    "start_time": "2023-03-12T08:47:22.182Z"
   },
   {
    "duration": 41,
    "start_time": "2023-03-12T08:47:22.221Z"
   },
   {
    "duration": 13,
    "start_time": "2023-03-12T08:47:22.267Z"
   },
   {
    "duration": 99,
    "start_time": "2023-03-12T08:47:22.283Z"
   },
   {
    "duration": 266,
    "start_time": "2023-03-12T08:47:22.384Z"
   },
   {
    "duration": 11,
    "start_time": "2023-03-12T08:47:22.652Z"
   },
   {
    "duration": 35,
    "start_time": "2023-03-12T08:47:22.667Z"
   },
   {
    "duration": 35,
    "start_time": "2023-03-12T08:47:22.704Z"
   },
   {
    "duration": 52,
    "start_time": "2023-03-12T08:47:22.744Z"
   },
   {
    "duration": 363,
    "start_time": "2023-03-12T08:47:22.798Z"
   },
   {
    "duration": 32,
    "start_time": "2023-03-12T08:47:23.163Z"
   },
   {
    "duration": 49,
    "start_time": "2023-03-12T08:47:23.199Z"
   },
   {
    "duration": 16,
    "start_time": "2023-03-12T08:47:23.250Z"
   },
   {
    "duration": 80,
    "start_time": "2023-03-12T08:47:23.269Z"
   },
   {
    "duration": 44,
    "start_time": "2023-03-12T08:47:23.353Z"
   },
   {
    "duration": 212,
    "start_time": "2023-03-12T08:47:23.399Z"
   },
   {
    "duration": 4,
    "start_time": "2023-03-12T08:47:23.613Z"
   },
   {
    "duration": 1195,
    "start_time": "2023-03-12T08:47:23.620Z"
   },
   {
    "duration": 106,
    "start_time": "2023-03-12T08:48:30.659Z"
   },
   {
    "duration": 69,
    "start_time": "2023-03-12T08:50:24.313Z"
   },
   {
    "duration": 61,
    "start_time": "2023-03-12T08:51:25.710Z"
   },
   {
    "duration": 69,
    "start_time": "2023-03-12T08:51:48.868Z"
   },
   {
    "duration": 76,
    "start_time": "2023-03-12T09:03:36.841Z"
   },
   {
    "duration": 21,
    "start_time": "2023-03-12T12:08:24.901Z"
   },
   {
    "duration": 9,
    "start_time": "2023-03-12T12:08:47.100Z"
   },
   {
    "duration": 23,
    "start_time": "2023-03-12T12:11:55.854Z"
   },
   {
    "duration": 9,
    "start_time": "2023-03-12T12:11:56.945Z"
   },
   {
    "duration": 1307,
    "start_time": "2023-03-12T12:12:26.363Z"
   },
   {
    "duration": 183,
    "start_time": "2023-03-12T12:12:27.672Z"
   },
   {
    "duration": 22,
    "start_time": "2023-03-12T12:12:27.857Z"
   },
   {
    "duration": 24,
    "start_time": "2023-03-12T12:12:27.881Z"
   },
   {
    "duration": 37,
    "start_time": "2023-03-12T12:12:27.908Z"
   },
   {
    "duration": 6,
    "start_time": "2023-03-12T12:12:27.947Z"
   },
   {
    "duration": 28,
    "start_time": "2023-03-12T12:12:27.955Z"
   },
   {
    "duration": 112,
    "start_time": "2023-03-12T12:12:27.985Z"
   },
   {
    "duration": 91,
    "start_time": "2023-03-12T12:12:28.099Z"
   },
   {
    "duration": 81,
    "start_time": "2023-03-12T12:12:28.193Z"
   },
   {
    "duration": 5,
    "start_time": "2023-03-12T12:12:28.276Z"
   },
   {
    "duration": 680,
    "start_time": "2023-03-12T12:12:28.283Z"
   },
   {
    "duration": 6,
    "start_time": "2023-03-12T12:12:28.965Z"
   },
   {
    "duration": 18,
    "start_time": "2023-03-12T12:12:28.973Z"
   },
   {
    "duration": 15,
    "start_time": "2023-03-12T12:12:28.993Z"
   },
   {
    "duration": 209,
    "start_time": "2023-03-12T12:12:29.010Z"
   },
   {
    "duration": 33,
    "start_time": "2023-03-12T12:12:29.221Z"
   },
   {
    "duration": 21,
    "start_time": "2023-03-12T12:12:29.256Z"
   },
   {
    "duration": 12,
    "start_time": "2023-03-12T12:12:29.279Z"
   },
   {
    "duration": 96,
    "start_time": "2023-03-12T12:12:29.294Z"
   },
   {
    "duration": 213,
    "start_time": "2023-03-12T12:12:29.392Z"
   },
   {
    "duration": 9,
    "start_time": "2023-03-12T12:12:29.607Z"
   },
   {
    "duration": 25,
    "start_time": "2023-03-12T12:12:29.618Z"
   },
   {
    "duration": 14,
    "start_time": "2023-03-12T12:12:29.645Z"
   },
   {
    "duration": 29,
    "start_time": "2023-03-12T12:12:29.661Z"
   },
   {
    "duration": 370,
    "start_time": "2023-03-12T12:12:29.691Z"
   },
   {
    "duration": 33,
    "start_time": "2023-03-12T12:12:30.063Z"
   },
   {
    "duration": 16,
    "start_time": "2023-03-12T12:12:30.098Z"
   },
   {
    "duration": 69,
    "start_time": "2023-03-12T12:12:30.115Z"
   },
   {
    "duration": 91,
    "start_time": "2023-03-12T12:12:30.185Z"
   },
   {
    "duration": 43,
    "start_time": "2023-03-12T12:12:30.277Z"
   },
   {
    "duration": 216,
    "start_time": "2023-03-12T12:12:30.322Z"
   },
   {
    "duration": 68,
    "start_time": "2023-03-12T12:12:30.542Z"
   },
   {
    "duration": 45,
    "start_time": "2023-03-12T12:12:30.612Z"
   },
   {
    "duration": 36,
    "start_time": "2023-03-12T12:12:30.659Z"
   },
   {
    "duration": 36,
    "start_time": "2023-03-12T12:14:12.028Z"
   },
   {
    "duration": 113,
    "start_time": "2023-03-12T12:17:02.854Z"
   },
   {
    "duration": 12,
    "start_time": "2023-03-12T12:17:35.877Z"
   },
   {
    "duration": 1196,
    "start_time": "2023-03-12T12:17:49.100Z"
   },
   {
    "duration": 181,
    "start_time": "2023-03-12T12:17:50.299Z"
   },
   {
    "duration": 20,
    "start_time": "2023-03-12T12:17:50.482Z"
   },
   {
    "duration": 43,
    "start_time": "2023-03-12T12:17:50.504Z"
   },
   {
    "duration": 8,
    "start_time": "2023-03-12T12:17:50.549Z"
   },
   {
    "duration": 4,
    "start_time": "2023-03-12T12:17:50.559Z"
   },
   {
    "duration": 20,
    "start_time": "2023-03-12T12:17:50.565Z"
   },
   {
    "duration": 118,
    "start_time": "2023-03-12T12:17:50.587Z"
   },
   {
    "duration": 93,
    "start_time": "2023-03-12T12:17:50.707Z"
   },
   {
    "duration": 79,
    "start_time": "2023-03-12T12:17:50.804Z"
   },
   {
    "duration": 5,
    "start_time": "2023-03-12T12:17:50.885Z"
   },
   {
    "duration": 745,
    "start_time": "2023-03-12T12:17:50.892Z"
   },
   {
    "duration": 6,
    "start_time": "2023-03-12T12:17:51.640Z"
   },
   {
    "duration": 21,
    "start_time": "2023-03-12T12:17:51.648Z"
   },
   {
    "duration": 28,
    "start_time": "2023-03-12T12:17:51.671Z"
   },
   {
    "duration": 216,
    "start_time": "2023-03-12T12:17:51.702Z"
   },
   {
    "duration": 31,
    "start_time": "2023-03-12T12:17:51.920Z"
   },
   {
    "duration": 36,
    "start_time": "2023-03-12T12:17:51.954Z"
   },
   {
    "duration": 20,
    "start_time": "2023-03-12T12:17:51.993Z"
   },
   {
    "duration": 110,
    "start_time": "2023-03-12T12:17:52.016Z"
   },
   {
    "duration": 221,
    "start_time": "2023-03-12T12:17:52.128Z"
   },
   {
    "duration": 11,
    "start_time": "2023-03-12T12:17:52.351Z"
   },
   {
    "duration": 6,
    "start_time": "2023-03-12T12:17:52.364Z"
   },
   {
    "duration": 11,
    "start_time": "2023-03-12T12:17:52.373Z"
   },
   {
    "duration": 59,
    "start_time": "2023-03-12T12:17:52.386Z"
   },
   {
    "duration": 356,
    "start_time": "2023-03-12T12:17:52.447Z"
   },
   {
    "duration": 44,
    "start_time": "2023-03-12T12:17:52.805Z"
   },
   {
    "duration": 15,
    "start_time": "2023-03-12T12:17:52.853Z"
   },
   {
    "duration": 13,
    "start_time": "2023-03-12T12:17:52.870Z"
   },
   {
    "duration": 96,
    "start_time": "2023-03-12T12:17:52.885Z"
   },
   {
    "duration": 58,
    "start_time": "2023-03-12T12:17:52.983Z"
   },
   {
    "duration": 201,
    "start_time": "2023-03-12T12:17:53.043Z"
   },
   {
    "duration": 66,
    "start_time": "2023-03-12T12:17:53.245Z"
   },
   {
    "duration": 43,
    "start_time": "2023-03-12T12:17:53.313Z"
   },
   {
    "duration": 28,
    "start_time": "2023-03-12T12:17:53.358Z"
   },
   {
    "duration": 8,
    "start_time": "2023-03-12T12:17:53.387Z"
   },
   {
    "duration": 164,
    "start_time": "2023-03-12T12:17:53.396Z"
   },
   {
    "duration": 48,
    "start_time": "2023-03-12T12:26:36.648Z"
   },
   {
    "duration": 45,
    "start_time": "2023-03-12T12:27:16.626Z"
   },
   {
    "duration": 61,
    "start_time": "2023-03-12T12:29:56.406Z"
   },
   {
    "duration": 67,
    "start_time": "2023-03-12T12:31:08.622Z"
   },
   {
    "duration": 60,
    "start_time": "2023-03-12T12:33:21.469Z"
   },
   {
    "duration": 6,
    "start_time": "2023-03-12T12:49:31.767Z"
   },
   {
    "duration": 20,
    "start_time": "2023-03-12T12:49:42.162Z"
   },
   {
    "duration": 436,
    "start_time": "2023-03-12T13:15:37.752Z"
   },
   {
    "duration": 27,
    "start_time": "2023-03-12T13:18:42.587Z"
   },
   {
    "duration": 9,
    "start_time": "2023-03-12T13:19:03.559Z"
   },
   {
    "duration": 10,
    "start_time": "2023-03-12T13:19:13.373Z"
   },
   {
    "duration": 4,
    "start_time": "2023-03-12T13:20:24.304Z"
   },
   {
    "duration": 6,
    "start_time": "2023-03-12T13:21:47.302Z"
   },
   {
    "duration": 5,
    "start_time": "2023-03-12T13:24:46.186Z"
   },
   {
    "duration": 1227,
    "start_time": "2023-03-12T14:05:23.369Z"
   },
   {
    "duration": 1072,
    "start_time": "2023-03-12T14:05:24.598Z"
   },
   {
    "duration": 20,
    "start_time": "2023-03-12T14:05:25.672Z"
   },
   {
    "duration": 25,
    "start_time": "2023-03-12T14:05:25.694Z"
   },
   {
    "duration": 9,
    "start_time": "2023-03-12T14:05:25.721Z"
   },
   {
    "duration": 13,
    "start_time": "2023-03-12T14:05:25.731Z"
   },
   {
    "duration": 35,
    "start_time": "2023-03-12T14:05:25.746Z"
   },
   {
    "duration": 100,
    "start_time": "2023-03-12T14:05:25.783Z"
   },
   {
    "duration": 98,
    "start_time": "2023-03-12T14:05:25.885Z"
   },
   {
    "duration": 87,
    "start_time": "2023-03-12T14:05:25.985Z"
   },
   {
    "duration": 5,
    "start_time": "2023-03-12T14:05:26.074Z"
   },
   {
    "duration": 755,
    "start_time": "2023-03-12T14:05:26.080Z"
   },
   {
    "duration": 6,
    "start_time": "2023-03-12T14:05:26.836Z"
   },
   {
    "duration": 8,
    "start_time": "2023-03-12T14:05:26.850Z"
   },
   {
    "duration": 21,
    "start_time": "2023-03-12T14:05:26.860Z"
   },
   {
    "duration": 237,
    "start_time": "2023-03-12T14:05:26.884Z"
   },
   {
    "duration": 37,
    "start_time": "2023-03-12T14:05:27.123Z"
   },
   {
    "duration": 28,
    "start_time": "2023-03-12T14:05:27.162Z"
   },
   {
    "duration": 13,
    "start_time": "2023-03-12T14:05:27.192Z"
   },
   {
    "duration": 96,
    "start_time": "2023-03-12T14:05:27.206Z"
   },
   {
    "duration": 247,
    "start_time": "2023-03-12T14:05:27.305Z"
   },
   {
    "duration": 18,
    "start_time": "2023-03-12T14:05:27.554Z"
   },
   {
    "duration": 14,
    "start_time": "2023-03-12T14:05:27.574Z"
   },
   {
    "duration": 12,
    "start_time": "2023-03-12T14:05:27.590Z"
   },
   {
    "duration": 58,
    "start_time": "2023-03-12T14:05:27.604Z"
   },
   {
    "duration": 423,
    "start_time": "2023-03-12T14:05:27.670Z"
   },
   {
    "duration": 60,
    "start_time": "2023-03-12T14:05:28.095Z"
   },
   {
    "duration": 26,
    "start_time": "2023-03-12T14:05:28.162Z"
   },
   {
    "duration": 20,
    "start_time": "2023-03-12T14:05:28.190Z"
   },
   {
    "duration": 94,
    "start_time": "2023-03-12T14:05:28.212Z"
   },
   {
    "duration": 82,
    "start_time": "2023-03-12T14:05:28.308Z"
   },
   {
    "duration": 236,
    "start_time": "2023-03-12T14:05:28.392Z"
   },
   {
    "duration": 104,
    "start_time": "2023-03-12T14:05:28.631Z"
   },
   {
    "duration": 57,
    "start_time": "2023-03-12T14:05:28.737Z"
   },
   {
    "duration": 50,
    "start_time": "2023-03-12T14:05:28.798Z"
   },
   {
    "duration": 1328,
    "start_time": "2023-03-12T14:05:28.853Z"
   },
   {
    "duration": 0,
    "start_time": "2023-03-12T14:05:30.183Z"
   },
   {
    "duration": 0,
    "start_time": "2023-03-12T14:05:30.185Z"
   },
   {
    "duration": 80,
    "start_time": "2023-03-12T14:05:49.903Z"
   },
   {
    "duration": 14,
    "start_time": "2023-03-12T14:05:56.070Z"
   },
   {
    "duration": 7,
    "start_time": "2023-03-12T14:06:06.272Z"
   },
   {
    "duration": 39,
    "start_time": "2023-03-12T14:31:35.029Z"
   },
   {
    "duration": 35,
    "start_time": "2023-03-12T14:40:03.095Z"
   },
   {
    "duration": 38,
    "start_time": "2023-03-12T14:40:42.689Z"
   },
   {
    "duration": 37,
    "start_time": "2023-03-12T14:41:46.432Z"
   },
   {
    "duration": 10,
    "start_time": "2023-03-12T15:32:05.441Z"
   },
   {
    "duration": 35,
    "start_time": "2023-03-12T15:32:13.124Z"
   },
   {
    "duration": 29,
    "start_time": "2023-03-12T15:32:32.531Z"
   },
   {
    "duration": 25,
    "start_time": "2023-03-12T15:33:13.154Z"
   },
   {
    "duration": 4,
    "start_time": "2023-03-12T15:33:58.192Z"
   },
   {
    "duration": 20,
    "start_time": "2023-03-12T15:34:22.106Z"
   },
   {
    "duration": 19,
    "start_time": "2023-03-12T15:35:15.591Z"
   },
   {
    "duration": 15,
    "start_time": "2023-03-12T15:35:44.375Z"
   },
   {
    "duration": 52,
    "start_time": "2023-03-12T15:39:49.539Z"
   },
   {
    "duration": 51,
    "start_time": "2023-03-12T15:43:31.024Z"
   },
   {
    "duration": 6,
    "start_time": "2023-03-12T15:44:24.258Z"
   },
   {
    "duration": 5,
    "start_time": "2023-03-12T15:45:45.910Z"
   },
   {
    "duration": 7,
    "start_time": "2023-03-12T15:54:37.992Z"
   },
   {
    "duration": 7,
    "start_time": "2023-03-12T15:55:05.630Z"
   },
   {
    "duration": 115,
    "start_time": "2023-03-12T16:54:33.157Z"
   },
   {
    "duration": 52,
    "start_time": "2023-03-12T17:03:56.720Z"
   },
   {
    "duration": 53,
    "start_time": "2023-03-12T17:04:35.557Z"
   },
   {
    "duration": 51,
    "start_time": "2023-03-12T17:05:36.887Z"
   },
   {
    "duration": 73,
    "start_time": "2023-03-12T17:05:51.788Z"
   },
   {
    "duration": 62,
    "start_time": "2023-03-12T17:06:20.985Z"
   },
   {
    "duration": 57,
    "start_time": "2023-03-12T17:08:03.387Z"
   },
   {
    "duration": 53,
    "start_time": "2023-03-12T17:08:31.778Z"
   },
   {
    "duration": 61,
    "start_time": "2023-03-12T17:09:07.556Z"
   },
   {
    "duration": 52,
    "start_time": "2023-03-12T17:09:40.004Z"
   },
   {
    "duration": 49,
    "start_time": "2023-03-12T17:10:18.218Z"
   },
   {
    "duration": 48,
    "start_time": "2023-03-12T17:11:48.087Z"
   },
   {
    "duration": 50,
    "start_time": "2023-03-12T17:12:47.126Z"
   },
   {
    "duration": 45,
    "start_time": "2023-03-12T17:13:29.291Z"
   },
   {
    "duration": 56,
    "start_time": "2023-03-12T17:13:54.147Z"
   },
   {
    "duration": 1262,
    "start_time": "2023-03-12T17:14:33.154Z"
   },
   {
    "duration": 207,
    "start_time": "2023-03-12T17:14:34.419Z"
   },
   {
    "duration": 31,
    "start_time": "2023-03-12T17:14:34.627Z"
   },
   {
    "duration": 20,
    "start_time": "2023-03-12T17:14:34.660Z"
   },
   {
    "duration": 23,
    "start_time": "2023-03-12T17:14:34.683Z"
   },
   {
    "duration": 17,
    "start_time": "2023-03-12T17:14:34.708Z"
   },
   {
    "duration": 38,
    "start_time": "2023-03-12T17:14:34.726Z"
   },
   {
    "duration": 64,
    "start_time": "2023-03-12T17:14:34.766Z"
   },
   {
    "duration": 84,
    "start_time": "2023-03-12T17:14:34.832Z"
   },
   {
    "duration": 91,
    "start_time": "2023-03-12T17:14:34.919Z"
   },
   {
    "duration": 5,
    "start_time": "2023-03-12T17:14:35.012Z"
   },
   {
    "duration": 698,
    "start_time": "2023-03-12T17:14:35.019Z"
   },
   {
    "duration": 6,
    "start_time": "2023-03-12T17:14:35.718Z"
   },
   {
    "duration": 32,
    "start_time": "2023-03-12T17:14:35.725Z"
   },
   {
    "duration": 15,
    "start_time": "2023-03-12T17:14:35.758Z"
   },
   {
    "duration": 192,
    "start_time": "2023-03-12T17:14:35.775Z"
   },
   {
    "duration": 20,
    "start_time": "2023-03-12T17:14:35.969Z"
   },
   {
    "duration": 26,
    "start_time": "2023-03-12T17:14:35.991Z"
   },
   {
    "duration": 38,
    "start_time": "2023-03-12T17:14:36.019Z"
   },
   {
    "duration": 57,
    "start_time": "2023-03-12T17:14:36.059Z"
   },
   {
    "duration": 209,
    "start_time": "2023-03-12T17:14:36.118Z"
   },
   {
    "duration": 14,
    "start_time": "2023-03-12T17:14:36.329Z"
   },
   {
    "duration": 11,
    "start_time": "2023-03-12T17:14:36.346Z"
   },
   {
    "duration": 8,
    "start_time": "2023-03-12T17:14:36.359Z"
   },
   {
    "duration": 24,
    "start_time": "2023-03-12T17:14:36.368Z"
   },
   {
    "duration": 362,
    "start_time": "2023-03-12T17:14:36.394Z"
   },
   {
    "duration": 30,
    "start_time": "2023-03-12T17:14:36.758Z"
   },
   {
    "duration": 14,
    "start_time": "2023-03-12T17:14:36.791Z"
   },
   {
    "duration": 44,
    "start_time": "2023-03-12T17:14:36.806Z"
   },
   {
    "duration": 57,
    "start_time": "2023-03-12T17:14:36.851Z"
   },
   {
    "duration": 61,
    "start_time": "2023-03-12T17:14:36.910Z"
   },
   {
    "duration": 208,
    "start_time": "2023-03-12T17:14:36.973Z"
   },
   {
    "duration": 74,
    "start_time": "2023-03-12T17:14:37.182Z"
   },
   {
    "duration": 35,
    "start_time": "2023-03-12T17:14:37.258Z"
   },
   {
    "duration": 26,
    "start_time": "2023-03-12T17:14:37.295Z"
   },
   {
    "duration": 83,
    "start_time": "2023-03-12T17:14:37.322Z"
   },
   {
    "duration": 19,
    "start_time": "2023-03-12T17:14:37.406Z"
   },
   {
    "duration": 6,
    "start_time": "2023-03-12T17:14:37.428Z"
   },
   {
    "duration": 53,
    "start_time": "2023-03-12T17:14:37.436Z"
   },
   {
    "duration": 276,
    "start_time": "2023-03-12T17:14:37.491Z"
   },
   {
    "duration": 106,
    "start_time": "2023-03-12T17:14:37.769Z"
   },
   {
    "duration": 5,
    "start_time": "2023-03-12T17:14:37.877Z"
   },
   {
    "duration": 47,
    "start_time": "2023-03-12T17:15:50.002Z"
   },
   {
    "duration": 58,
    "start_time": "2023-03-12T17:17:37.800Z"
   },
   {
    "duration": 79,
    "start_time": "2023-03-12T17:17:46.358Z"
   },
   {
    "duration": 45,
    "start_time": "2023-03-12T17:18:32.558Z"
   },
   {
    "duration": 50,
    "start_time": "2023-03-12T17:19:25.127Z"
   },
   {
    "duration": 52,
    "start_time": "2023-03-12T17:19:33.231Z"
   },
   {
    "duration": 48,
    "start_time": "2023-03-12T17:23:05.108Z"
   },
   {
    "duration": 53,
    "start_time": "2023-03-12T17:23:33.870Z"
   },
   {
    "duration": 11,
    "start_time": "2023-03-12T17:23:53.303Z"
   },
   {
    "duration": 10,
    "start_time": "2023-03-12T17:24:17.329Z"
   },
   {
    "duration": 10,
    "start_time": "2023-03-12T17:24:29.396Z"
   },
   {
    "duration": 10,
    "start_time": "2023-03-12T17:25:24.857Z"
   },
   {
    "duration": 6,
    "start_time": "2023-03-12T17:25:48.007Z"
   },
   {
    "duration": 5,
    "start_time": "2023-03-12T17:26:08.312Z"
   },
   {
    "duration": 46,
    "start_time": "2023-03-12T17:26:26.204Z"
   },
   {
    "duration": 58,
    "start_time": "2023-03-12T17:27:47.341Z"
   },
   {
    "duration": 1271,
    "start_time": "2023-03-12T17:44:13.628Z"
   },
   {
    "duration": 192,
    "start_time": "2023-03-12T17:44:14.901Z"
   },
   {
    "duration": 18,
    "start_time": "2023-03-12T17:44:15.094Z"
   },
   {
    "duration": 41,
    "start_time": "2023-03-12T17:44:15.114Z"
   },
   {
    "duration": 10,
    "start_time": "2023-03-12T17:44:15.158Z"
   },
   {
    "duration": 4,
    "start_time": "2023-03-12T17:44:15.170Z"
   },
   {
    "duration": 23,
    "start_time": "2023-03-12T17:44:15.176Z"
   },
   {
    "duration": 104,
    "start_time": "2023-03-12T17:44:15.201Z"
   },
   {
    "duration": 73,
    "start_time": "2023-03-12T17:44:15.307Z"
   },
   {
    "duration": 68,
    "start_time": "2023-03-12T17:44:15.383Z"
   },
   {
    "duration": 4,
    "start_time": "2023-03-12T17:44:15.453Z"
   },
   {
    "duration": 677,
    "start_time": "2023-03-12T17:44:15.459Z"
   },
   {
    "duration": 5,
    "start_time": "2023-03-12T17:44:16.138Z"
   },
   {
    "duration": 6,
    "start_time": "2023-03-12T17:44:16.145Z"
   },
   {
    "duration": 18,
    "start_time": "2023-03-12T17:44:16.153Z"
   },
   {
    "duration": 206,
    "start_time": "2023-03-12T17:44:16.173Z"
   },
   {
    "duration": 22,
    "start_time": "2023-03-12T17:44:16.381Z"
   },
   {
    "duration": 40,
    "start_time": "2023-03-12T17:44:16.405Z"
   },
   {
    "duration": 13,
    "start_time": "2023-03-12T17:44:16.447Z"
   },
   {
    "duration": 54,
    "start_time": "2023-03-12T17:44:16.462Z"
   },
   {
    "duration": 217,
    "start_time": "2023-03-12T17:44:16.517Z"
   },
   {
    "duration": 12,
    "start_time": "2023-03-12T17:44:16.736Z"
   },
   {
    "duration": 4,
    "start_time": "2023-03-12T17:44:16.750Z"
   },
   {
    "duration": 8,
    "start_time": "2023-03-12T17:44:16.755Z"
   },
   {
    "duration": 29,
    "start_time": "2023-03-12T17:44:16.765Z"
   },
   {
    "duration": 361,
    "start_time": "2023-03-12T17:44:16.795Z"
   },
   {
    "duration": 28,
    "start_time": "2023-03-12T17:44:17.158Z"
   },
   {
    "duration": 21,
    "start_time": "2023-03-12T17:44:17.189Z"
   },
   {
    "duration": 32,
    "start_time": "2023-03-12T17:44:17.211Z"
   },
   {
    "duration": 54,
    "start_time": "2023-03-12T17:44:17.245Z"
   },
   {
    "duration": 59,
    "start_time": "2023-03-12T17:44:17.301Z"
   },
   {
    "duration": 204,
    "start_time": "2023-03-12T17:44:17.361Z"
   },
   {
    "duration": 83,
    "start_time": "2023-03-12T17:44:17.567Z"
   },
   {
    "duration": 31,
    "start_time": "2023-03-12T17:44:17.652Z"
   },
   {
    "duration": 32,
    "start_time": "2023-03-12T17:44:17.686Z"
   },
   {
    "duration": 114,
    "start_time": "2023-03-12T17:44:17.741Z"
   },
   {
    "duration": 15,
    "start_time": "2023-03-12T17:44:17.857Z"
   },
   {
    "duration": 14,
    "start_time": "2023-03-12T17:44:17.874Z"
   },
   {
    "duration": 74,
    "start_time": "2023-03-12T17:44:17.891Z"
   },
   {
    "duration": 95,
    "start_time": "2023-03-12T17:44:17.966Z"
   },
   {
    "duration": 48,
    "start_time": "2023-03-12T17:44:18.062Z"
   },
   {
    "duration": 6,
    "start_time": "2023-03-12T17:44:18.111Z"
   },
   {
    "duration": 8,
    "start_time": "2023-03-12T17:52:02.292Z"
   },
   {
    "duration": 4,
    "start_time": "2023-03-12T17:58:49.037Z"
   },
   {
    "duration": 5,
    "start_time": "2023-03-12T19:07:08.220Z"
   },
   {
    "duration": 5,
    "start_time": "2023-03-12T19:09:40.104Z"
   },
   {
    "duration": 4,
    "start_time": "2023-03-12T19:11:29.605Z"
   },
   {
    "duration": 9,
    "start_time": "2023-03-12T19:11:32.755Z"
   },
   {
    "duration": 4,
    "start_time": "2023-03-12T19:12:41.078Z"
   },
   {
    "duration": 6,
    "start_time": "2023-03-12T19:30:02.168Z"
   },
   {
    "duration": 124,
    "start_time": "2023-03-12T19:31:26.994Z"
   },
   {
    "duration": 4,
    "start_time": "2023-03-12T19:32:04.306Z"
   },
   {
    "duration": 17,
    "start_time": "2023-03-12T19:32:06.877Z"
   },
   {
    "duration": 1241,
    "start_time": "2023-03-12T19:33:29.947Z"
   },
   {
    "duration": 198,
    "start_time": "2023-03-12T19:33:31.190Z"
   },
   {
    "duration": 18,
    "start_time": "2023-03-12T19:33:31.390Z"
   },
   {
    "duration": 69,
    "start_time": "2023-03-12T19:33:31.410Z"
   },
   {
    "duration": 23,
    "start_time": "2023-03-12T19:33:31.481Z"
   },
   {
    "duration": 24,
    "start_time": "2023-03-12T19:33:31.506Z"
   },
   {
    "duration": 49,
    "start_time": "2023-03-12T19:33:31.532Z"
   },
   {
    "duration": 96,
    "start_time": "2023-03-12T19:33:31.582Z"
   },
   {
    "duration": 71,
    "start_time": "2023-03-12T19:33:31.680Z"
   },
   {
    "duration": 92,
    "start_time": "2023-03-12T19:33:31.756Z"
   },
   {
    "duration": 8,
    "start_time": "2023-03-12T19:33:31.851Z"
   },
   {
    "duration": 674,
    "start_time": "2023-03-12T19:33:31.861Z"
   },
   {
    "duration": 6,
    "start_time": "2023-03-12T19:33:32.537Z"
   },
   {
    "duration": 7,
    "start_time": "2023-03-12T19:33:32.545Z"
   },
   {
    "duration": 16,
    "start_time": "2023-03-12T19:33:32.554Z"
   },
   {
    "duration": 223,
    "start_time": "2023-03-12T19:33:32.572Z"
   },
   {
    "duration": 22,
    "start_time": "2023-03-12T19:33:32.796Z"
   },
   {
    "duration": 38,
    "start_time": "2023-03-12T19:33:32.820Z"
   },
   {
    "duration": 16,
    "start_time": "2023-03-12T19:33:32.861Z"
   },
   {
    "duration": 95,
    "start_time": "2023-03-12T19:33:32.879Z"
   },
   {
    "duration": 220,
    "start_time": "2023-03-12T19:33:32.976Z"
   },
   {
    "duration": 8,
    "start_time": "2023-03-12T19:33:33.198Z"
   },
   {
    "duration": 6,
    "start_time": "2023-03-12T19:33:33.207Z"
   },
   {
    "duration": 30,
    "start_time": "2023-03-12T19:33:33.214Z"
   },
   {
    "duration": 45,
    "start_time": "2023-03-12T19:33:33.246Z"
   },
   {
    "duration": 355,
    "start_time": "2023-03-12T19:33:33.293Z"
   },
   {
    "duration": 36,
    "start_time": "2023-03-12T19:33:33.651Z"
   },
   {
    "duration": 17,
    "start_time": "2023-03-12T19:33:33.690Z"
   },
   {
    "duration": 48,
    "start_time": "2023-03-12T19:33:33.709Z"
   },
   {
    "duration": 57,
    "start_time": "2023-03-12T19:33:33.760Z"
   },
   {
    "duration": 50,
    "start_time": "2023-03-12T19:33:33.840Z"
   },
   {
    "duration": 237,
    "start_time": "2023-03-12T19:33:33.891Z"
   },
   {
    "duration": 86,
    "start_time": "2023-03-12T19:33:34.130Z"
   },
   {
    "duration": 43,
    "start_time": "2023-03-12T19:33:34.218Z"
   },
   {
    "duration": 27,
    "start_time": "2023-03-12T19:33:34.263Z"
   },
   {
    "duration": 98,
    "start_time": "2023-03-12T19:33:34.291Z"
   },
   {
    "duration": 10,
    "start_time": "2023-03-12T19:33:34.391Z"
   },
   {
    "duration": 9,
    "start_time": "2023-03-12T19:33:34.402Z"
   },
   {
    "duration": 60,
    "start_time": "2023-03-12T19:33:34.413Z"
   },
   {
    "duration": 96,
    "start_time": "2023-03-12T19:33:34.475Z"
   },
   {
    "duration": 43,
    "start_time": "2023-03-12T19:33:34.573Z"
   },
   {
    "duration": 24,
    "start_time": "2023-03-12T19:33:34.618Z"
   },
   {
    "duration": 10,
    "start_time": "2023-03-12T19:33:34.646Z"
   },
   {
    "duration": 11,
    "start_time": "2023-03-12T19:33:34.658Z"
   },
   {
    "duration": 7,
    "start_time": "2023-03-12T19:33:34.671Z"
   },
   {
    "duration": 9,
    "start_time": "2023-03-12T19:33:34.680Z"
   },
   {
    "duration": 12,
    "start_time": "2023-03-12T19:33:34.691Z"
   },
   {
    "duration": 42,
    "start_time": "2023-03-12T19:35:19.280Z"
   },
   {
    "duration": 48,
    "start_time": "2023-03-12T19:35:26.412Z"
   },
   {
    "duration": 5,
    "start_time": "2023-03-12T19:35:36.183Z"
   },
   {
    "duration": 1147,
    "start_time": "2023-03-12T19:36:05.394Z"
   },
   {
    "duration": 169,
    "start_time": "2023-03-12T19:36:06.544Z"
   },
   {
    "duration": 27,
    "start_time": "2023-03-12T19:36:06.715Z"
   },
   {
    "duration": 22,
    "start_time": "2023-03-12T19:36:06.745Z"
   },
   {
    "duration": 13,
    "start_time": "2023-03-12T19:36:06.768Z"
   },
   {
    "duration": 4,
    "start_time": "2023-03-12T19:36:06.783Z"
   },
   {
    "duration": 53,
    "start_time": "2023-03-12T19:36:06.789Z"
   },
   {
    "duration": 75,
    "start_time": "2023-03-12T19:36:06.843Z"
   },
   {
    "duration": 79,
    "start_time": "2023-03-12T19:36:06.919Z"
   },
   {
    "duration": 82,
    "start_time": "2023-03-12T19:36:07.001Z"
   },
   {
    "duration": 6,
    "start_time": "2023-03-12T19:36:07.085Z"
   },
   {
    "duration": 768,
    "start_time": "2023-03-12T19:36:07.092Z"
   },
   {
    "duration": 6,
    "start_time": "2023-03-12T19:36:07.864Z"
   },
   {
    "duration": 7,
    "start_time": "2023-03-12T19:36:07.872Z"
   },
   {
    "duration": 13,
    "start_time": "2023-03-12T19:36:07.881Z"
   },
   {
    "duration": 226,
    "start_time": "2023-03-12T19:36:07.895Z"
   },
   {
    "duration": 36,
    "start_time": "2023-03-12T19:36:08.122Z"
   },
   {
    "duration": 18,
    "start_time": "2023-03-12T19:36:08.161Z"
   },
   {
    "duration": 12,
    "start_time": "2023-03-12T19:36:08.181Z"
   },
   {
    "duration": 101,
    "start_time": "2023-03-12T19:36:08.194Z"
   },
   {
    "duration": 231,
    "start_time": "2023-03-12T19:36:08.297Z"
   },
   {
    "duration": 12,
    "start_time": "2023-03-12T19:36:08.530Z"
   },
   {
    "duration": 5,
    "start_time": "2023-03-12T19:36:08.545Z"
   },
   {
    "duration": 12,
    "start_time": "2023-03-12T19:36:08.551Z"
   },
   {
    "duration": 50,
    "start_time": "2023-03-12T19:36:08.567Z"
   },
   {
    "duration": 347,
    "start_time": "2023-03-12T19:36:08.619Z"
   },
   {
    "duration": 30,
    "start_time": "2023-03-12T19:36:08.968Z"
   },
   {
    "duration": 39,
    "start_time": "2023-03-12T19:36:09.004Z"
   },
   {
    "duration": 40,
    "start_time": "2023-03-12T19:36:09.045Z"
   },
   {
    "duration": 53,
    "start_time": "2023-03-12T19:36:09.087Z"
   },
   {
    "duration": 45,
    "start_time": "2023-03-12T19:36:09.143Z"
   },
   {
    "duration": 212,
    "start_time": "2023-03-12T19:36:09.189Z"
   },
   {
    "duration": 90,
    "start_time": "2023-03-12T19:36:09.404Z"
   },
   {
    "duration": 24,
    "start_time": "2023-03-12T19:36:09.495Z"
   },
   {
    "duration": 98,
    "start_time": "2023-03-12T19:36:09.522Z"
   },
   {
    "duration": 114,
    "start_time": "2023-03-12T19:36:09.621Z"
   },
   {
    "duration": 12,
    "start_time": "2023-03-12T19:36:09.737Z"
   },
   {
    "duration": 94,
    "start_time": "2023-03-12T19:36:09.752Z"
   },
   {
    "duration": 104,
    "start_time": "2023-03-12T19:36:09.848Z"
   },
   {
    "duration": 136,
    "start_time": "2023-03-12T19:36:09.955Z"
   },
   {
    "duration": 67,
    "start_time": "2023-03-12T19:36:10.093Z"
   },
   {
    "duration": 8,
    "start_time": "2023-03-12T19:36:10.163Z"
   },
   {
    "duration": 62,
    "start_time": "2023-03-12T19:36:10.173Z"
   },
   {
    "duration": 48,
    "start_time": "2023-03-12T19:36:10.236Z"
   },
   {
    "duration": 133,
    "start_time": "2023-03-12T19:36:10.286Z"
   },
   {
    "duration": 54,
    "start_time": "2023-03-12T19:36:10.420Z"
   },
   {
    "duration": 13,
    "start_time": "2023-03-12T19:36:10.475Z"
   },
   {
    "duration": 30,
    "start_time": "2023-03-12T19:36:10.489Z"
   },
   {
    "duration": 4,
    "start_time": "2023-03-12T19:37:15.949Z"
   },
   {
    "duration": 10,
    "start_time": "2023-03-12T19:37:18.097Z"
   },
   {
    "duration": 4,
    "start_time": "2023-03-12T19:45:35.784Z"
   },
   {
    "duration": 9,
    "start_time": "2023-03-12T19:45:39.013Z"
   },
   {
    "duration": 1158,
    "start_time": "2023-03-12T19:50:31.692Z"
   },
   {
    "duration": 161,
    "start_time": "2023-03-12T19:50:32.852Z"
   },
   {
    "duration": 17,
    "start_time": "2023-03-12T19:50:33.015Z"
   },
   {
    "duration": 25,
    "start_time": "2023-03-12T19:50:33.033Z"
   },
   {
    "duration": 14,
    "start_time": "2023-03-12T19:50:33.060Z"
   },
   {
    "duration": 4,
    "start_time": "2023-03-12T19:50:33.076Z"
   },
   {
    "duration": 22,
    "start_time": "2023-03-12T19:50:33.081Z"
   },
   {
    "duration": 86,
    "start_time": "2023-03-12T19:50:33.105Z"
   },
   {
    "duration": 84,
    "start_time": "2023-03-12T19:50:33.193Z"
   },
   {
    "duration": 72,
    "start_time": "2023-03-12T19:50:33.279Z"
   },
   {
    "duration": 5,
    "start_time": "2023-03-12T19:50:33.352Z"
   },
   {
    "duration": 619,
    "start_time": "2023-03-12T19:50:33.358Z"
   },
   {
    "duration": 5,
    "start_time": "2023-03-12T19:50:33.979Z"
   },
   {
    "duration": 5,
    "start_time": "2023-03-12T19:50:33.988Z"
   },
   {
    "duration": 16,
    "start_time": "2023-03-12T19:50:33.995Z"
   },
   {
    "duration": 205,
    "start_time": "2023-03-12T19:50:34.013Z"
   },
   {
    "duration": 25,
    "start_time": "2023-03-12T19:50:34.221Z"
   },
   {
    "duration": 17,
    "start_time": "2023-03-12T19:50:34.247Z"
   },
   {
    "duration": 10,
    "start_time": "2023-03-12T19:50:34.266Z"
   },
   {
    "duration": 74,
    "start_time": "2023-03-12T19:50:34.278Z"
   },
   {
    "duration": 189,
    "start_time": "2023-03-12T19:50:34.354Z"
   },
   {
    "duration": 7,
    "start_time": "2023-03-12T19:50:34.545Z"
   },
   {
    "duration": 3,
    "start_time": "2023-03-12T19:50:34.554Z"
   },
   {
    "duration": 11,
    "start_time": "2023-03-12T19:50:34.559Z"
   },
   {
    "duration": 27,
    "start_time": "2023-03-12T19:50:34.572Z"
   },
   {
    "duration": 319,
    "start_time": "2023-03-12T19:50:34.601Z"
   },
   {
    "duration": 39,
    "start_time": "2023-03-12T19:50:34.922Z"
   },
   {
    "duration": 13,
    "start_time": "2023-03-12T19:50:34.963Z"
   },
   {
    "duration": 11,
    "start_time": "2023-03-12T19:50:34.978Z"
   },
   {
    "duration": 79,
    "start_time": "2023-03-12T19:50:34.991Z"
   },
   {
    "duration": 37,
    "start_time": "2023-03-12T19:50:35.072Z"
   },
   {
    "duration": 196,
    "start_time": "2023-03-12T19:50:35.111Z"
   },
   {
    "duration": 72,
    "start_time": "2023-03-12T19:50:35.309Z"
   },
   {
    "duration": 24,
    "start_time": "2023-03-12T19:50:35.382Z"
   },
   {
    "duration": 37,
    "start_time": "2023-03-12T19:50:35.408Z"
   },
   {
    "duration": 66,
    "start_time": "2023-03-12T19:50:35.446Z"
   },
   {
    "duration": 33,
    "start_time": "2023-03-12T19:50:35.514Z"
   },
   {
    "duration": 8,
    "start_time": "2023-03-12T19:50:35.548Z"
   },
   {
    "duration": 38,
    "start_time": "2023-03-12T19:50:35.557Z"
   },
   {
    "duration": 115,
    "start_time": "2023-03-12T19:50:35.597Z"
   },
   {
    "duration": 60,
    "start_time": "2023-03-12T19:50:35.717Z"
   },
   {
    "duration": 5,
    "start_time": "2023-03-12T19:50:35.778Z"
   },
   {
    "duration": 10,
    "start_time": "2023-03-12T19:50:35.785Z"
   },
   {
    "duration": 15,
    "start_time": "2023-03-12T19:50:35.797Z"
   },
   {
    "duration": 28,
    "start_time": "2023-03-12T19:50:35.813Z"
   },
   {
    "duration": 8,
    "start_time": "2023-03-12T19:50:35.843Z"
   },
   {
    "duration": 124,
    "start_time": "2023-03-12T19:50:35.853Z"
   },
   {
    "duration": 4,
    "start_time": "2023-03-12T19:51:25.994Z"
   },
   {
    "duration": 8,
    "start_time": "2023-03-12T19:51:28.700Z"
   },
   {
    "duration": 3,
    "start_time": "2023-03-12T19:56:49.484Z"
   },
   {
    "duration": 9,
    "start_time": "2023-03-12T19:56:51.455Z"
   },
   {
    "duration": 8,
    "start_time": "2023-03-12T20:02:12.853Z"
   },
   {
    "duration": 1253,
    "start_time": "2023-03-12T20:05:47.026Z"
   },
   {
    "duration": 179,
    "start_time": "2023-03-12T20:05:48.281Z"
   },
   {
    "duration": 23,
    "start_time": "2023-03-12T20:05:48.462Z"
   },
   {
    "duration": 24,
    "start_time": "2023-03-12T20:05:48.488Z"
   },
   {
    "duration": 34,
    "start_time": "2023-03-12T20:05:48.514Z"
   },
   {
    "duration": 5,
    "start_time": "2023-03-12T20:05:48.550Z"
   },
   {
    "duration": 19,
    "start_time": "2023-03-12T20:05:48.557Z"
   },
   {
    "duration": 117,
    "start_time": "2023-03-12T20:05:48.578Z"
   },
   {
    "duration": 83,
    "start_time": "2023-03-12T20:05:48.697Z"
   },
   {
    "duration": 71,
    "start_time": "2023-03-12T20:05:48.783Z"
   },
   {
    "duration": 6,
    "start_time": "2023-03-12T20:05:48.857Z"
   },
   {
    "duration": 647,
    "start_time": "2023-03-12T20:05:48.865Z"
   },
   {
    "duration": 5,
    "start_time": "2023-03-12T20:05:49.513Z"
   },
   {
    "duration": 23,
    "start_time": "2023-03-12T20:05:49.519Z"
   },
   {
    "duration": 15,
    "start_time": "2023-03-12T20:05:49.544Z"
   },
   {
    "duration": 194,
    "start_time": "2023-03-12T20:05:49.561Z"
   },
   {
    "duration": 22,
    "start_time": "2023-03-12T20:05:49.757Z"
   },
   {
    "duration": 21,
    "start_time": "2023-03-12T20:05:49.781Z"
   },
   {
    "duration": 38,
    "start_time": "2023-03-12T20:05:49.804Z"
   },
   {
    "duration": 55,
    "start_time": "2023-03-12T20:05:49.844Z"
   },
   {
    "duration": 213,
    "start_time": "2023-03-12T20:05:49.901Z"
   },
   {
    "duration": 8,
    "start_time": "2023-03-12T20:05:50.116Z"
   },
   {
    "duration": 16,
    "start_time": "2023-03-12T20:05:50.126Z"
   },
   {
    "duration": 6,
    "start_time": "2023-03-12T20:05:50.144Z"
   },
   {
    "duration": 27,
    "start_time": "2023-03-12T20:05:50.151Z"
   },
   {
    "duration": 328,
    "start_time": "2023-03-12T20:05:50.179Z"
   },
   {
    "duration": 43,
    "start_time": "2023-03-12T20:05:50.509Z"
   },
   {
    "duration": 12,
    "start_time": "2023-03-12T20:05:50.555Z"
   },
   {
    "duration": 14,
    "start_time": "2023-03-12T20:05:50.568Z"
   },
   {
    "duration": 73,
    "start_time": "2023-03-12T20:05:50.583Z"
   },
   {
    "duration": 36,
    "start_time": "2023-03-12T20:05:50.658Z"
   },
   {
    "duration": 182,
    "start_time": "2023-03-12T20:05:50.695Z"
   },
   {
    "duration": 63,
    "start_time": "2023-03-12T20:05:50.879Z"
   },
   {
    "duration": 23,
    "start_time": "2023-03-12T20:05:50.943Z"
   },
   {
    "duration": 25,
    "start_time": "2023-03-12T20:05:50.967Z"
   },
   {
    "duration": 6,
    "start_time": "2023-03-12T20:05:50.993Z"
   },
   {
    "duration": 78,
    "start_time": "2023-03-12T20:05:51.001Z"
   },
   {
    "duration": 62,
    "start_time": "2023-03-12T20:05:51.081Z"
   },
   {
    "duration": 7,
    "start_time": "2023-03-12T20:05:51.144Z"
   },
   {
    "duration": 97,
    "start_time": "2023-03-12T20:05:51.152Z"
   },
   {
    "duration": 135,
    "start_time": "2023-03-12T20:05:51.251Z"
   },
   {
    "duration": 92,
    "start_time": "2023-03-12T20:05:51.388Z"
   },
   {
    "duration": 60,
    "start_time": "2023-03-12T20:05:51.482Z"
   },
   {
    "duration": 14,
    "start_time": "2023-03-12T20:05:51.543Z"
   },
   {
    "duration": 10,
    "start_time": "2023-03-12T20:05:51.558Z"
   },
   {
    "duration": 11,
    "start_time": "2023-03-12T20:05:51.569Z"
   },
   {
    "duration": 4,
    "start_time": "2023-03-12T20:05:51.582Z"
   },
   {
    "duration": 59,
    "start_time": "2023-03-12T20:05:51.588Z"
   },
   {
    "duration": 104,
    "start_time": "2023-03-12T20:25:54.043Z"
   },
   {
    "duration": 3,
    "start_time": "2023-03-12T20:25:59.842Z"
   },
   {
    "duration": 5,
    "start_time": "2023-03-12T20:30:28.154Z"
   },
   {
    "duration": 5,
    "start_time": "2023-03-12T20:31:43.712Z"
   },
   {
    "duration": 1265,
    "start_time": "2023-03-13T06:42:40.149Z"
   },
   {
    "duration": 272,
    "start_time": "2023-03-13T06:42:41.416Z"
   },
   {
    "duration": 18,
    "start_time": "2023-03-13T06:42:41.690Z"
   },
   {
    "duration": 20,
    "start_time": "2023-03-13T06:42:41.710Z"
   },
   {
    "duration": 10,
    "start_time": "2023-03-13T06:42:41.731Z"
   },
   {
    "duration": 3,
    "start_time": "2023-03-13T06:42:41.743Z"
   },
   {
    "duration": 43,
    "start_time": "2023-03-13T06:42:41.748Z"
   },
   {
    "duration": 62,
    "start_time": "2023-03-13T06:42:41.793Z"
   },
   {
    "duration": 74,
    "start_time": "2023-03-13T06:42:41.857Z"
   },
   {
    "duration": 68,
    "start_time": "2023-03-13T06:42:41.934Z"
   },
   {
    "duration": 5,
    "start_time": "2023-03-13T06:42:42.003Z"
   },
   {
    "duration": 1184,
    "start_time": "2023-03-13T06:42:42.009Z"
   },
   {
    "duration": 4,
    "start_time": "2023-03-13T06:42:43.195Z"
   },
   {
    "duration": 12,
    "start_time": "2023-03-13T06:42:43.201Z"
   },
   {
    "duration": 17,
    "start_time": "2023-03-13T06:42:43.214Z"
   },
   {
    "duration": 373,
    "start_time": "2023-03-13T06:42:43.233Z"
   },
   {
    "duration": 20,
    "start_time": "2023-03-13T06:42:43.608Z"
   },
   {
    "duration": 71,
    "start_time": "2023-03-13T06:42:43.629Z"
   },
   {
    "duration": 11,
    "start_time": "2023-03-13T06:42:43.702Z"
   },
   {
    "duration": 108,
    "start_time": "2023-03-13T06:42:43.714Z"
   },
   {
    "duration": 228,
    "start_time": "2023-03-13T06:42:43.824Z"
   },
   {
    "duration": 7,
    "start_time": "2023-03-13T06:42:44.054Z"
   },
   {
    "duration": 15,
    "start_time": "2023-03-13T06:42:44.062Z"
   },
   {
    "duration": 15,
    "start_time": "2023-03-13T06:42:44.078Z"
   },
   {
    "duration": 33,
    "start_time": "2023-03-13T06:42:44.095Z"
   },
   {
    "duration": 297,
    "start_time": "2023-03-13T06:42:44.129Z"
   },
   {
    "duration": 30,
    "start_time": "2023-03-13T06:42:44.428Z"
   },
   {
    "duration": 28,
    "start_time": "2023-03-13T06:42:44.462Z"
   },
   {
    "duration": 9,
    "start_time": "2023-03-13T06:42:44.492Z"
   },
   {
    "duration": 54,
    "start_time": "2023-03-13T06:42:44.503Z"
   },
   {
    "duration": 59,
    "start_time": "2023-03-13T06:42:44.559Z"
   },
   {
    "duration": 183,
    "start_time": "2023-03-13T06:42:44.620Z"
   },
   {
    "duration": 67,
    "start_time": "2023-03-13T06:42:44.805Z"
   },
   {
    "duration": 31,
    "start_time": "2023-03-13T06:42:44.874Z"
   },
   {
    "duration": 24,
    "start_time": "2023-03-13T06:42:44.907Z"
   },
   {
    "duration": 9,
    "start_time": "2023-03-13T06:42:44.933Z"
   },
   {
    "duration": 89,
    "start_time": "2023-03-13T06:42:44.943Z"
   },
   {
    "duration": 10,
    "start_time": "2023-03-13T06:42:45.033Z"
   },
   {
    "duration": 12,
    "start_time": "2023-03-13T06:42:45.044Z"
   },
   {
    "duration": 60,
    "start_time": "2023-03-13T06:42:45.058Z"
   },
   {
    "duration": 4,
    "start_time": "2023-03-13T06:42:45.120Z"
   },
   {
    "duration": 93,
    "start_time": "2023-03-13T06:42:45.125Z"
   },
   {
    "duration": 45,
    "start_time": "2023-03-13T06:42:45.219Z"
   },
   {
    "duration": 5,
    "start_time": "2023-03-13T06:42:45.265Z"
   },
   {
    "duration": 27,
    "start_time": "2023-03-13T06:42:45.271Z"
   },
   {
    "duration": 11,
    "start_time": "2023-03-13T06:42:45.299Z"
   },
   {
    "duration": 18,
    "start_time": "2023-03-13T06:42:45.311Z"
   },
   {
    "duration": 5,
    "start_time": "2023-03-13T06:42:45.331Z"
   },
   {
    "duration": 18,
    "start_time": "2023-03-13T06:42:45.338Z"
   },
   {
    "duration": 4,
    "start_time": "2023-03-13T06:48:03.524Z"
   },
   {
    "duration": 10,
    "start_time": "2023-03-13T06:48:06.562Z"
   },
   {
    "duration": 67,
    "start_time": "2023-03-13T07:00:46.202Z"
   },
   {
    "duration": 5,
    "start_time": "2023-03-13T07:02:07.374Z"
   },
   {
    "duration": 5,
    "start_time": "2023-03-13T07:04:19.151Z"
   },
   {
    "duration": 104,
    "start_time": "2023-03-13T07:12:52.803Z"
   },
   {
    "duration": 11,
    "start_time": "2023-03-13T07:13:18.215Z"
   },
   {
    "duration": 7,
    "start_time": "2023-03-13T07:13:33.399Z"
   },
   {
    "duration": 13,
    "start_time": "2023-03-13T07:13:36.758Z"
   },
   {
    "duration": 76,
    "start_time": "2023-03-13T07:17:52.956Z"
   },
   {
    "duration": 6,
    "start_time": "2023-03-13T07:18:46.826Z"
   },
   {
    "duration": 5,
    "start_time": "2023-03-13T07:19:15.970Z"
   },
   {
    "duration": 10,
    "start_time": "2023-03-13T07:19:42.483Z"
   },
   {
    "duration": 7,
    "start_time": "2023-03-13T07:31:12.533Z"
   },
   {
    "duration": 11,
    "start_time": "2023-03-13T07:31:16.126Z"
   },
   {
    "duration": 7,
    "start_time": "2023-03-13T07:33:04.619Z"
   },
   {
    "duration": 15,
    "start_time": "2023-03-13T07:33:14.410Z"
   },
   {
    "duration": 47,
    "start_time": "2023-03-13T07:42:01.478Z"
   },
   {
    "duration": 49,
    "start_time": "2023-03-13T07:46:50.973Z"
   },
   {
    "duration": 46,
    "start_time": "2023-03-13T07:48:35.430Z"
   },
   {
    "duration": 46,
    "start_time": "2023-03-13T07:54:23.599Z"
   },
   {
    "duration": 4,
    "start_time": "2023-03-13T07:55:17.501Z"
   },
   {
    "duration": 9,
    "start_time": "2023-03-13T07:55:21.398Z"
   },
   {
    "duration": 1215,
    "start_time": "2023-03-13T07:55:34.254Z"
   },
   {
    "duration": 170,
    "start_time": "2023-03-13T07:55:35.472Z"
   },
   {
    "duration": 18,
    "start_time": "2023-03-13T07:55:35.643Z"
   },
   {
    "duration": 32,
    "start_time": "2023-03-13T07:55:35.663Z"
   },
   {
    "duration": 10,
    "start_time": "2023-03-13T07:55:35.696Z"
   },
   {
    "duration": 5,
    "start_time": "2023-03-13T07:55:35.707Z"
   },
   {
    "duration": 23,
    "start_time": "2023-03-13T07:55:35.714Z"
   },
   {
    "duration": 84,
    "start_time": "2023-03-13T07:55:35.740Z"
   },
   {
    "duration": 71,
    "start_time": "2023-03-13T07:55:35.825Z"
   },
   {
    "duration": 63,
    "start_time": "2023-03-13T07:55:35.899Z"
   },
   {
    "duration": 5,
    "start_time": "2023-03-13T07:55:35.964Z"
   },
   {
    "duration": 754,
    "start_time": "2023-03-13T07:55:35.971Z"
   },
   {
    "duration": 5,
    "start_time": "2023-03-13T07:55:36.726Z"
   },
   {
    "duration": 8,
    "start_time": "2023-03-13T07:55:36.733Z"
   },
   {
    "duration": 28,
    "start_time": "2023-03-13T07:55:36.742Z"
   },
   {
    "duration": 187,
    "start_time": "2023-03-13T07:55:36.772Z"
   },
   {
    "duration": 29,
    "start_time": "2023-03-13T07:55:36.961Z"
   },
   {
    "duration": 19,
    "start_time": "2023-03-13T07:55:36.992Z"
   },
   {
    "duration": 12,
    "start_time": "2023-03-13T07:55:37.013Z"
   },
   {
    "duration": 84,
    "start_time": "2023-03-13T07:55:37.027Z"
   },
   {
    "duration": 204,
    "start_time": "2023-03-13T07:55:37.112Z"
   },
   {
    "duration": 11,
    "start_time": "2023-03-13T07:55:37.317Z"
   },
   {
    "duration": 7,
    "start_time": "2023-03-13T07:55:37.330Z"
   },
   {
    "duration": 10,
    "start_time": "2023-03-13T07:55:37.339Z"
   },
   {
    "duration": 72,
    "start_time": "2023-03-13T07:55:37.351Z"
   },
   {
    "duration": 321,
    "start_time": "2023-03-13T07:55:37.424Z"
   },
   {
    "duration": 29,
    "start_time": "2023-03-13T07:55:37.747Z"
   },
   {
    "duration": 24,
    "start_time": "2023-03-13T07:55:37.779Z"
   },
   {
    "duration": 11,
    "start_time": "2023-03-13T07:55:37.805Z"
   },
   {
    "duration": 79,
    "start_time": "2023-03-13T07:55:37.818Z"
   },
   {
    "duration": 41,
    "start_time": "2023-03-13T07:55:37.899Z"
   },
   {
    "duration": 210,
    "start_time": "2023-03-13T07:55:37.942Z"
   },
   {
    "duration": 80,
    "start_time": "2023-03-13T07:55:38.154Z"
   },
   {
    "duration": 27,
    "start_time": "2023-03-13T07:55:38.236Z"
   },
   {
    "duration": 39,
    "start_time": "2023-03-13T07:55:38.265Z"
   },
   {
    "duration": 9,
    "start_time": "2023-03-13T07:55:38.305Z"
   },
   {
    "duration": 96,
    "start_time": "2023-03-13T07:55:38.315Z"
   },
   {
    "duration": 14,
    "start_time": "2023-03-13T07:55:38.413Z"
   },
   {
    "duration": 7,
    "start_time": "2023-03-13T07:55:38.428Z"
   },
   {
    "duration": 57,
    "start_time": "2023-03-13T07:55:38.437Z"
   },
   {
    "duration": 4,
    "start_time": "2023-03-13T07:55:38.495Z"
   },
   {
    "duration": 112,
    "start_time": "2023-03-13T07:55:38.501Z"
   },
   {
    "duration": 103,
    "start_time": "2023-03-13T07:55:38.614Z"
   },
   {
    "duration": 5,
    "start_time": "2023-03-13T07:55:38.719Z"
   },
   {
    "duration": 65,
    "start_time": "2023-03-13T07:55:38.725Z"
   },
   {
    "duration": 4,
    "start_time": "2023-03-13T07:55:38.792Z"
   },
   {
    "duration": 9,
    "start_time": "2023-03-13T07:55:38.798Z"
   },
   {
    "duration": 7,
    "start_time": "2023-03-13T07:55:38.809Z"
   },
   {
    "duration": 28,
    "start_time": "2023-03-13T07:55:38.817Z"
   },
   {
    "duration": 102,
    "start_time": "2023-03-13T07:55:38.890Z"
   },
   {
    "duration": 5,
    "start_time": "2023-03-13T07:55:38.994Z"
   },
   {
    "duration": 25,
    "start_time": "2023-03-13T07:55:39.000Z"
   },
   {
    "duration": 17,
    "start_time": "2023-03-13T07:55:39.027Z"
   },
   {
    "duration": 264,
    "start_time": "2023-03-13T07:55:39.046Z"
   },
   {
    "duration": 5,
    "start_time": "2023-03-13T07:59:26.536Z"
   },
   {
    "duration": 4,
    "start_time": "2023-03-13T07:59:31.432Z"
   },
   {
    "duration": 19,
    "start_time": "2023-03-13T07:59:34.560Z"
   },
   {
    "duration": 1277,
    "start_time": "2023-03-13T08:06:36.326Z"
   },
   {
    "duration": 169,
    "start_time": "2023-03-13T08:06:37.605Z"
   },
   {
    "duration": 19,
    "start_time": "2023-03-13T08:06:37.776Z"
   },
   {
    "duration": 21,
    "start_time": "2023-03-13T08:06:37.797Z"
   },
   {
    "duration": 7,
    "start_time": "2023-03-13T08:06:37.820Z"
   },
   {
    "duration": 4,
    "start_time": "2023-03-13T08:06:37.829Z"
   },
   {
    "duration": 18,
    "start_time": "2023-03-13T08:06:37.835Z"
   },
   {
    "duration": 99,
    "start_time": "2023-03-13T08:06:37.855Z"
   },
   {
    "duration": 87,
    "start_time": "2023-03-13T08:06:37.956Z"
   },
   {
    "duration": 67,
    "start_time": "2023-03-13T08:06:38.046Z"
   },
   {
    "duration": 5,
    "start_time": "2023-03-13T08:06:38.115Z"
   },
   {
    "duration": 705,
    "start_time": "2023-03-13T08:06:38.121Z"
   },
   {
    "duration": 5,
    "start_time": "2023-03-13T08:06:38.827Z"
   },
   {
    "duration": 10,
    "start_time": "2023-03-13T08:06:38.834Z"
   },
   {
    "duration": 16,
    "start_time": "2023-03-13T08:06:38.846Z"
   },
   {
    "duration": 196,
    "start_time": "2023-03-13T08:06:38.865Z"
   },
   {
    "duration": 37,
    "start_time": "2023-03-13T08:06:39.063Z"
   },
   {
    "duration": 31,
    "start_time": "2023-03-13T08:06:39.102Z"
   },
   {
    "duration": 16,
    "start_time": "2023-03-13T08:06:39.135Z"
   },
   {
    "duration": 72,
    "start_time": "2023-03-13T08:06:39.153Z"
   },
   {
    "duration": 201,
    "start_time": "2023-03-13T08:06:39.227Z"
   },
   {
    "duration": 7,
    "start_time": "2023-03-13T08:06:39.430Z"
   },
   {
    "duration": 4,
    "start_time": "2023-03-13T08:06:39.439Z"
   },
   {
    "duration": 7,
    "start_time": "2023-03-13T08:06:39.445Z"
   },
   {
    "duration": 53,
    "start_time": "2023-03-13T08:06:39.453Z"
   },
   {
    "duration": 319,
    "start_time": "2023-03-13T08:06:39.507Z"
   },
   {
    "duration": 30,
    "start_time": "2023-03-13T08:06:39.828Z"
   },
   {
    "duration": 30,
    "start_time": "2023-03-13T08:06:39.861Z"
   },
   {
    "duration": 10,
    "start_time": "2023-03-13T08:06:39.892Z"
   },
   {
    "duration": 65,
    "start_time": "2023-03-13T08:06:39.903Z"
   },
   {
    "duration": 54,
    "start_time": "2023-03-13T08:06:39.969Z"
   },
   {
    "duration": 203,
    "start_time": "2023-03-13T08:06:40.025Z"
   },
   {
    "duration": 69,
    "start_time": "2023-03-13T08:06:40.230Z"
   },
   {
    "duration": 24,
    "start_time": "2023-03-13T08:06:40.300Z"
   },
   {
    "duration": 25,
    "start_time": "2023-03-13T08:06:40.326Z"
   },
   {
    "duration": 13,
    "start_time": "2023-03-13T08:06:40.353Z"
   },
   {
    "duration": 99,
    "start_time": "2023-03-13T08:06:40.368Z"
   },
   {
    "duration": 23,
    "start_time": "2023-03-13T08:06:40.469Z"
   },
   {
    "duration": 6,
    "start_time": "2023-03-13T08:06:40.494Z"
   },
   {
    "duration": 41,
    "start_time": "2023-03-13T08:06:40.501Z"
   },
   {
    "duration": 5,
    "start_time": "2023-03-13T08:06:40.545Z"
   },
   {
    "duration": 114,
    "start_time": "2023-03-13T08:06:40.552Z"
   },
   {
    "duration": 56,
    "start_time": "2023-03-13T08:06:40.668Z"
   },
   {
    "duration": 5,
    "start_time": "2023-03-13T08:06:40.726Z"
   },
   {
    "duration": 8,
    "start_time": "2023-03-13T08:06:40.733Z"
   },
   {
    "duration": 8,
    "start_time": "2023-03-13T08:06:40.743Z"
   },
   {
    "duration": 12,
    "start_time": "2023-03-13T08:06:40.753Z"
   },
   {
    "duration": 24,
    "start_time": "2023-03-13T08:06:40.766Z"
   },
   {
    "duration": 120,
    "start_time": "2023-03-13T08:06:40.791Z"
   },
   {
    "duration": 0,
    "start_time": "2023-03-13T08:06:40.913Z"
   },
   {
    "duration": 0,
    "start_time": "2023-03-13T08:06:40.915Z"
   },
   {
    "duration": 0,
    "start_time": "2023-03-13T08:06:40.917Z"
   },
   {
    "duration": 0,
    "start_time": "2023-03-13T08:06:40.919Z"
   },
   {
    "duration": 0,
    "start_time": "2023-03-13T08:06:40.920Z"
   },
   {
    "duration": 44,
    "start_time": "2023-03-13T08:07:37.199Z"
   },
   {
    "duration": 47,
    "start_time": "2023-03-13T08:08:37.142Z"
   },
   {
    "duration": 5,
    "start_time": "2023-03-13T08:08:58.949Z"
   },
   {
    "duration": 8,
    "start_time": "2023-03-13T08:09:05.847Z"
   },
   {
    "duration": 5,
    "start_time": "2023-03-13T08:09:08.571Z"
   },
   {
    "duration": 5,
    "start_time": "2023-03-13T08:09:18.334Z"
   },
   {
    "duration": 4,
    "start_time": "2023-03-13T08:09:25.268Z"
   },
   {
    "duration": 5,
    "start_time": "2023-03-13T08:12:12.841Z"
   },
   {
    "duration": 5,
    "start_time": "2023-03-13T08:12:15.010Z"
   },
   {
    "duration": 10,
    "start_time": "2023-03-13T08:12:17.409Z"
   },
   {
    "duration": 7,
    "start_time": "2023-03-13T08:13:06.449Z"
   },
   {
    "duration": 4,
    "start_time": "2023-03-13T08:13:08.328Z"
   },
   {
    "duration": 10,
    "start_time": "2023-03-13T08:13:11.292Z"
   },
   {
    "duration": 5,
    "start_time": "2023-03-13T08:13:31.351Z"
   },
   {
    "duration": 4,
    "start_time": "2023-03-13T08:13:33.513Z"
   },
   {
    "duration": 24,
    "start_time": "2023-03-13T08:13:35.680Z"
   },
   {
    "duration": 4,
    "start_time": "2023-03-13T08:13:55.171Z"
   },
   {
    "duration": 1271,
    "start_time": "2023-03-13T08:14:01.893Z"
   },
   {
    "duration": 178,
    "start_time": "2023-03-13T08:14:03.166Z"
   },
   {
    "duration": 18,
    "start_time": "2023-03-13T08:14:03.346Z"
   },
   {
    "duration": 31,
    "start_time": "2023-03-13T08:14:03.366Z"
   },
   {
    "duration": 11,
    "start_time": "2023-03-13T08:14:03.400Z"
   },
   {
    "duration": 5,
    "start_time": "2023-03-13T08:14:03.413Z"
   },
   {
    "duration": 27,
    "start_time": "2023-03-13T08:14:03.420Z"
   },
   {
    "duration": 108,
    "start_time": "2023-03-13T08:14:03.449Z"
   },
   {
    "duration": 70,
    "start_time": "2023-03-13T08:14:03.559Z"
   },
   {
    "duration": 67,
    "start_time": "2023-03-13T08:14:03.631Z"
   },
   {
    "duration": 5,
    "start_time": "2023-03-13T08:14:03.699Z"
   },
   {
    "duration": 679,
    "start_time": "2023-03-13T08:14:03.705Z"
   },
   {
    "duration": 7,
    "start_time": "2023-03-13T08:14:04.386Z"
   },
   {
    "duration": 35,
    "start_time": "2023-03-13T08:14:04.395Z"
   },
   {
    "duration": 45,
    "start_time": "2023-03-13T08:14:04.433Z"
   },
   {
    "duration": 212,
    "start_time": "2023-03-13T08:14:04.480Z"
   },
   {
    "duration": 22,
    "start_time": "2023-03-13T08:14:04.694Z"
   },
   {
    "duration": 21,
    "start_time": "2023-03-13T08:14:04.719Z"
   },
   {
    "duration": 12,
    "start_time": "2023-03-13T08:14:04.743Z"
   },
   {
    "duration": 95,
    "start_time": "2023-03-13T08:14:04.758Z"
   },
   {
    "duration": 218,
    "start_time": "2023-03-13T08:14:04.856Z"
   },
   {
    "duration": 16,
    "start_time": "2023-03-13T08:14:05.076Z"
   },
   {
    "duration": 4,
    "start_time": "2023-03-13T08:14:05.094Z"
   },
   {
    "duration": 13,
    "start_time": "2023-03-13T08:14:05.099Z"
   },
   {
    "duration": 30,
    "start_time": "2023-03-13T08:14:05.114Z"
   },
   {
    "duration": 315,
    "start_time": "2023-03-13T08:14:05.146Z"
   },
   {
    "duration": 38,
    "start_time": "2023-03-13T08:14:05.463Z"
   },
   {
    "duration": 14,
    "start_time": "2023-03-13T08:14:05.504Z"
   },
   {
    "duration": 37,
    "start_time": "2023-03-13T08:14:05.519Z"
   },
   {
    "duration": 53,
    "start_time": "2023-03-13T08:14:05.558Z"
   },
   {
    "duration": 39,
    "start_time": "2023-03-13T08:14:05.613Z"
   },
   {
    "duration": 208,
    "start_time": "2023-03-13T08:14:05.654Z"
   },
   {
    "duration": 82,
    "start_time": "2023-03-13T08:14:05.863Z"
   },
   {
    "duration": 25,
    "start_time": "2023-03-13T08:14:05.947Z"
   },
   {
    "duration": 34,
    "start_time": "2023-03-13T08:14:05.974Z"
   },
   {
    "duration": 16,
    "start_time": "2023-03-13T08:14:06.010Z"
   },
   {
    "duration": 75,
    "start_time": "2023-03-13T08:14:06.028Z"
   },
   {
    "duration": 11,
    "start_time": "2023-03-13T08:14:06.105Z"
   },
   {
    "duration": 9,
    "start_time": "2023-03-13T08:14:06.118Z"
   },
   {
    "duration": 41,
    "start_time": "2023-03-13T08:14:06.129Z"
   },
   {
    "duration": 3,
    "start_time": "2023-03-13T08:14:06.172Z"
   },
   {
    "duration": 107,
    "start_time": "2023-03-13T08:14:06.177Z"
   },
   {
    "duration": 113,
    "start_time": "2023-03-13T08:14:06.287Z"
   },
   {
    "duration": 7,
    "start_time": "2023-03-13T08:14:06.402Z"
   },
   {
    "duration": 16,
    "start_time": "2023-03-13T08:14:06.411Z"
   },
   {
    "duration": 59,
    "start_time": "2023-03-13T08:14:06.429Z"
   },
   {
    "duration": 35,
    "start_time": "2023-03-13T08:14:06.490Z"
   },
   {
    "duration": 21,
    "start_time": "2023-03-13T08:14:06.527Z"
   },
   {
    "duration": 38,
    "start_time": "2023-03-13T08:14:06.550Z"
   },
   {
    "duration": 101,
    "start_time": "2023-03-13T08:14:06.590Z"
   },
   {
    "duration": 6,
    "start_time": "2023-03-13T08:14:06.693Z"
   },
   {
    "duration": 48,
    "start_time": "2023-03-13T08:14:06.700Z"
   },
   {
    "duration": 12,
    "start_time": "2023-03-13T08:14:06.750Z"
   },
   {
    "duration": 136,
    "start_time": "2023-03-13T08:14:06.764Z"
   },
   {
    "duration": 48,
    "start_time": "2023-03-13T08:14:47.542Z"
   },
   {
    "duration": 47,
    "start_time": "2023-03-13T08:15:25.550Z"
   },
   {
    "duration": 8,
    "start_time": "2023-03-13T08:16:12.013Z"
   },
   {
    "duration": 15,
    "start_time": "2023-03-13T08:16:16.365Z"
   },
   {
    "duration": 8,
    "start_time": "2023-03-13T08:16:30.298Z"
   },
   {
    "duration": 12,
    "start_time": "2023-03-13T08:16:35.914Z"
   },
   {
    "duration": 11,
    "start_time": "2023-03-13T08:17:31.059Z"
   },
   {
    "duration": 1173,
    "start_time": "2023-03-13T08:19:04.328Z"
   },
   {
    "duration": 167,
    "start_time": "2023-03-13T08:19:05.503Z"
   },
   {
    "duration": 25,
    "start_time": "2023-03-13T08:19:05.672Z"
   },
   {
    "duration": 20,
    "start_time": "2023-03-13T08:19:05.699Z"
   },
   {
    "duration": 11,
    "start_time": "2023-03-13T08:19:05.721Z"
   },
   {
    "duration": 4,
    "start_time": "2023-03-13T08:19:05.734Z"
   },
   {
    "duration": 51,
    "start_time": "2023-03-13T08:19:05.740Z"
   },
   {
    "duration": 64,
    "start_time": "2023-03-13T08:19:05.792Z"
   },
   {
    "duration": 85,
    "start_time": "2023-03-13T08:19:05.858Z"
   },
   {
    "duration": 69,
    "start_time": "2023-03-13T08:19:05.945Z"
   },
   {
    "duration": 6,
    "start_time": "2023-03-13T08:19:06.015Z"
   },
   {
    "duration": 726,
    "start_time": "2023-03-13T08:19:06.023Z"
   },
   {
    "duration": 5,
    "start_time": "2023-03-13T08:19:06.751Z"
   },
   {
    "duration": 10,
    "start_time": "2023-03-13T08:19:06.758Z"
   },
   {
    "duration": 21,
    "start_time": "2023-03-13T08:19:06.770Z"
   },
   {
    "duration": 178,
    "start_time": "2023-03-13T08:19:06.793Z"
   },
   {
    "duration": 26,
    "start_time": "2023-03-13T08:19:06.973Z"
   },
   {
    "duration": 19,
    "start_time": "2023-03-13T08:19:07.001Z"
   },
   {
    "duration": 13,
    "start_time": "2023-03-13T08:19:07.021Z"
   },
   {
    "duration": 77,
    "start_time": "2023-03-13T08:19:07.035Z"
   },
   {
    "duration": 197,
    "start_time": "2023-03-13T08:19:07.114Z"
   },
   {
    "duration": 8,
    "start_time": "2023-03-13T08:19:07.312Z"
   },
   {
    "duration": 9,
    "start_time": "2023-03-13T08:19:07.321Z"
   },
   {
    "duration": 9,
    "start_time": "2023-03-13T08:19:07.332Z"
   },
   {
    "duration": 61,
    "start_time": "2023-03-13T08:19:07.343Z"
   },
   {
    "duration": 321,
    "start_time": "2023-03-13T08:19:07.406Z"
   },
   {
    "duration": 33,
    "start_time": "2023-03-13T08:19:07.730Z"
   },
   {
    "duration": 25,
    "start_time": "2023-03-13T08:19:07.767Z"
   },
   {
    "duration": 10,
    "start_time": "2023-03-13T08:19:07.794Z"
   },
   {
    "duration": 56,
    "start_time": "2023-03-13T08:19:07.806Z"
   },
   {
    "duration": 42,
    "start_time": "2023-03-13T08:19:07.889Z"
   },
   {
    "duration": 211,
    "start_time": "2023-03-13T08:19:07.933Z"
   },
   {
    "duration": 83,
    "start_time": "2023-03-13T08:19:08.146Z"
   },
   {
    "duration": 24,
    "start_time": "2023-03-13T08:19:08.231Z"
   },
   {
    "duration": 35,
    "start_time": "2023-03-13T08:19:08.257Z"
   },
   {
    "duration": 18,
    "start_time": "2023-03-13T08:19:08.293Z"
   },
   {
    "duration": 88,
    "start_time": "2023-03-13T08:19:08.313Z"
   },
   {
    "duration": 11,
    "start_time": "2023-03-13T08:19:08.403Z"
   },
   {
    "duration": 11,
    "start_time": "2023-03-13T08:19:08.415Z"
   },
   {
    "duration": 62,
    "start_time": "2023-03-13T08:19:08.427Z"
   },
   {
    "duration": 4,
    "start_time": "2023-03-13T08:19:08.491Z"
   },
   {
    "duration": 95,
    "start_time": "2023-03-13T08:19:08.497Z"
   },
   {
    "duration": 47,
    "start_time": "2023-03-13T08:19:08.593Z"
   },
   {
    "duration": 6,
    "start_time": "2023-03-13T08:19:08.642Z"
   },
   {
    "duration": 10,
    "start_time": "2023-03-13T08:19:08.650Z"
   },
   {
    "duration": 30,
    "start_time": "2023-03-13T08:19:08.662Z"
   },
   {
    "duration": 9,
    "start_time": "2023-03-13T08:19:08.694Z"
   },
   {
    "duration": 6,
    "start_time": "2023-03-13T08:19:08.705Z"
   },
   {
    "duration": 16,
    "start_time": "2023-03-13T08:19:08.713Z"
   },
   {
    "duration": 68,
    "start_time": "2023-03-13T08:19:08.731Z"
   },
   {
    "duration": 5,
    "start_time": "2023-03-13T08:19:08.801Z"
   },
   {
    "duration": 8,
    "start_time": "2023-03-13T08:19:08.809Z"
   },
   {
    "duration": 22,
    "start_time": "2023-03-13T08:19:08.818Z"
   },
   {
    "duration": 8,
    "start_time": "2023-03-13T08:24:50.573Z"
   },
   {
    "duration": 15,
    "start_time": "2023-03-13T08:24:54.488Z"
   },
   {
    "duration": 5,
    "start_time": "2023-03-13T08:42:26.222Z"
   },
   {
    "duration": 12,
    "start_time": "2023-03-13T08:43:48.277Z"
   },
   {
    "duration": 12,
    "start_time": "2023-03-13T08:48:02.257Z"
   },
   {
    "duration": 1432,
    "start_time": "2023-03-13T08:57:56.438Z"
   },
   {
    "duration": 1230,
    "start_time": "2023-03-13T08:58:11.499Z"
   },
   {
    "duration": 170,
    "start_time": "2023-03-13T08:58:12.731Z"
   },
   {
    "duration": 18,
    "start_time": "2023-03-13T08:58:12.903Z"
   },
   {
    "duration": 21,
    "start_time": "2023-03-13T08:58:12.923Z"
   },
   {
    "duration": 9,
    "start_time": "2023-03-13T08:58:12.946Z"
   },
   {
    "duration": 35,
    "start_time": "2023-03-13T08:58:12.956Z"
   },
   {
    "duration": 20,
    "start_time": "2023-03-13T08:58:12.992Z"
   },
   {
    "duration": 128,
    "start_time": "2023-03-13T08:58:13.014Z"
   },
   {
    "duration": 70,
    "start_time": "2023-03-13T08:58:13.144Z"
   },
   {
    "duration": 73,
    "start_time": "2023-03-13T08:58:13.218Z"
   },
   {
    "duration": 8,
    "start_time": "2023-03-13T08:58:13.293Z"
   },
   {
    "duration": 658,
    "start_time": "2023-03-13T08:58:13.303Z"
   },
   {
    "duration": 6,
    "start_time": "2023-03-13T08:58:13.963Z"
   },
   {
    "duration": 25,
    "start_time": "2023-03-13T08:58:13.970Z"
   },
   {
    "duration": 21,
    "start_time": "2023-03-13T08:58:13.997Z"
   },
   {
    "duration": 183,
    "start_time": "2023-03-13T08:58:14.020Z"
   },
   {
    "duration": 22,
    "start_time": "2023-03-13T08:58:14.205Z"
   },
   {
    "duration": 19,
    "start_time": "2023-03-13T08:58:14.230Z"
   },
   {
    "duration": 12,
    "start_time": "2023-03-13T08:58:14.250Z"
   },
   {
    "duration": 58,
    "start_time": "2023-03-13T08:58:14.290Z"
   },
   {
    "duration": 240,
    "start_time": "2023-03-13T08:58:14.349Z"
   },
   {
    "duration": 7,
    "start_time": "2023-03-13T08:58:14.591Z"
   },
   {
    "duration": 5,
    "start_time": "2023-03-13T08:58:14.599Z"
   },
   {
    "duration": 8,
    "start_time": "2023-03-13T08:58:14.605Z"
   },
   {
    "duration": 27,
    "start_time": "2023-03-13T08:58:14.614Z"
   },
   {
    "duration": 357,
    "start_time": "2023-03-13T08:58:14.643Z"
   },
   {
    "duration": 31,
    "start_time": "2023-03-13T08:58:15.002Z"
   },
   {
    "duration": 15,
    "start_time": "2023-03-13T08:58:15.037Z"
   },
   {
    "duration": 37,
    "start_time": "2023-03-13T08:58:15.054Z"
   },
   {
    "duration": 68,
    "start_time": "2023-03-13T08:58:15.093Z"
   },
   {
    "duration": 57,
    "start_time": "2023-03-13T08:58:15.163Z"
   },
   {
    "duration": 204,
    "start_time": "2023-03-13T08:58:15.222Z"
   },
   {
    "duration": 77,
    "start_time": "2023-03-13T08:58:15.428Z"
   },
   {
    "duration": 32,
    "start_time": "2023-03-13T08:58:15.507Z"
   },
   {
    "duration": 55,
    "start_time": "2023-03-13T08:58:15.542Z"
   },
   {
    "duration": 10,
    "start_time": "2023-03-13T08:58:15.599Z"
   },
   {
    "duration": 91,
    "start_time": "2023-03-13T08:58:15.611Z"
   },
   {
    "duration": 10,
    "start_time": "2023-03-13T08:58:15.704Z"
   },
   {
    "duration": 11,
    "start_time": "2023-03-13T08:58:15.715Z"
   },
   {
    "duration": 47,
    "start_time": "2023-03-13T08:58:15.727Z"
   },
   {
    "duration": 4,
    "start_time": "2023-03-13T08:58:15.790Z"
   },
   {
    "duration": 101,
    "start_time": "2023-03-13T08:58:15.796Z"
   },
   {
    "duration": 71,
    "start_time": "2023-03-13T08:58:15.900Z"
   },
   {
    "duration": 8,
    "start_time": "2023-03-13T08:58:15.989Z"
   },
   {
    "duration": 10,
    "start_time": "2023-03-13T08:58:16.000Z"
   },
   {
    "duration": 19,
    "start_time": "2023-03-13T08:58:16.012Z"
   },
   {
    "duration": 14,
    "start_time": "2023-03-13T08:58:16.033Z"
   },
   {
    "duration": 5,
    "start_time": "2023-03-13T08:58:16.049Z"
   },
   {
    "duration": 35,
    "start_time": "2023-03-13T08:58:16.056Z"
   },
   {
    "duration": 50,
    "start_time": "2023-03-13T08:58:16.093Z"
   },
   {
    "duration": 6,
    "start_time": "2023-03-13T08:58:16.146Z"
   },
   {
    "duration": 36,
    "start_time": "2023-03-13T08:58:16.154Z"
   },
   {
    "duration": 23,
    "start_time": "2023-03-13T08:58:16.192Z"
   },
   {
    "duration": 7,
    "start_time": "2023-03-13T08:58:16.217Z"
   },
   {
    "duration": 30,
    "start_time": "2023-03-13T08:58:16.226Z"
   },
   {
    "duration": 1496,
    "start_time": "2023-03-13T08:58:16.258Z"
   },
   {
    "duration": 0,
    "start_time": "2023-03-13T08:58:17.756Z"
   },
   {
    "duration": 1264,
    "start_time": "2023-03-13T08:59:30.448Z"
   },
   {
    "duration": 12,
    "start_time": "2023-03-13T09:00:23.718Z"
   },
   {
    "duration": 17,
    "start_time": "2023-03-13T09:01:27.810Z"
   },
   {
    "duration": 1288,
    "start_time": "2023-03-13T09:01:37.861Z"
   },
   {
    "duration": 3,
    "start_time": "2023-03-13T09:05:22.066Z"
   },
   {
    "duration": 9,
    "start_time": "2023-03-13T09:05:32.912Z"
   },
   {
    "duration": 11,
    "start_time": "2023-03-13T09:06:43.499Z"
   },
   {
    "duration": 10,
    "start_time": "2023-03-13T09:06:58.618Z"
   },
   {
    "duration": 9,
    "start_time": "2023-03-13T09:07:42.005Z"
   },
   {
    "duration": 3,
    "start_time": "2023-03-13T09:08:01.221Z"
   },
   {
    "duration": 13,
    "start_time": "2023-03-13T09:08:04.461Z"
   },
   {
    "duration": 2,
    "start_time": "2023-03-13T09:10:02.259Z"
   },
   {
    "duration": 5,
    "start_time": "2023-03-13T09:10:13.579Z"
   },
   {
    "duration": 4,
    "start_time": "2023-03-13T09:10:19.643Z"
   },
   {
    "duration": 25,
    "start_time": "2023-03-13T09:11:24.451Z"
   },
   {
    "duration": 19,
    "start_time": "2023-03-13T09:12:02.961Z"
   },
   {
    "duration": 20,
    "start_time": "2023-03-13T09:15:05.618Z"
   },
   {
    "duration": 9,
    "start_time": "2023-03-13T09:15:39.513Z"
   },
   {
    "duration": 22,
    "start_time": "2023-03-13T09:16:30.172Z"
   },
   {
    "duration": 4,
    "start_time": "2023-03-13T09:27:18.525Z"
   },
   {
    "duration": 4,
    "start_time": "2023-03-13T09:27:37.509Z"
   },
   {
    "duration": 13,
    "start_time": "2023-03-13T09:33:21.998Z"
   },
   {
    "duration": 5,
    "start_time": "2023-03-13T09:34:21.550Z"
   },
   {
    "duration": 1214,
    "start_time": "2023-03-13T09:34:29.527Z"
   },
   {
    "duration": 178,
    "start_time": "2023-03-13T09:34:30.744Z"
   },
   {
    "duration": 20,
    "start_time": "2023-03-13T09:34:30.923Z"
   },
   {
    "duration": 38,
    "start_time": "2023-03-13T09:34:30.945Z"
   },
   {
    "duration": 22,
    "start_time": "2023-03-13T09:34:30.984Z"
   },
   {
    "duration": 27,
    "start_time": "2023-03-13T09:34:31.008Z"
   },
   {
    "duration": 39,
    "start_time": "2023-03-13T09:34:31.037Z"
   },
   {
    "duration": 87,
    "start_time": "2023-03-13T09:34:31.078Z"
   },
   {
    "duration": 70,
    "start_time": "2023-03-13T09:34:31.168Z"
   },
   {
    "duration": 66,
    "start_time": "2023-03-13T09:34:31.241Z"
   },
   {
    "duration": 5,
    "start_time": "2023-03-13T09:34:31.309Z"
   },
   {
    "duration": 671,
    "start_time": "2023-03-13T09:34:31.315Z"
   },
   {
    "duration": 7,
    "start_time": "2023-03-13T09:34:31.987Z"
   },
   {
    "duration": 10,
    "start_time": "2023-03-13T09:34:31.995Z"
   },
   {
    "duration": 24,
    "start_time": "2023-03-13T09:34:32.006Z"
   },
   {
    "duration": 189,
    "start_time": "2023-03-13T09:34:32.032Z"
   },
   {
    "duration": 24,
    "start_time": "2023-03-13T09:34:32.222Z"
   },
   {
    "duration": 21,
    "start_time": "2023-03-13T09:34:32.247Z"
   },
   {
    "duration": 13,
    "start_time": "2023-03-13T09:34:32.291Z"
   },
   {
    "duration": 60,
    "start_time": "2023-03-13T09:34:32.306Z"
   },
   {
    "duration": 223,
    "start_time": "2023-03-13T09:34:32.367Z"
   },
   {
    "duration": 8,
    "start_time": "2023-03-13T09:34:32.591Z"
   },
   {
    "duration": 4,
    "start_time": "2023-03-13T09:34:32.601Z"
   },
   {
    "duration": 14,
    "start_time": "2023-03-13T09:34:32.607Z"
   },
   {
    "duration": 32,
    "start_time": "2023-03-13T09:34:32.623Z"
   },
   {
    "duration": 342,
    "start_time": "2023-03-13T09:34:32.657Z"
   },
   {
    "duration": 30,
    "start_time": "2023-03-13T09:34:33.001Z"
   },
   {
    "duration": 14,
    "start_time": "2023-03-13T09:34:33.034Z"
   },
   {
    "duration": 18,
    "start_time": "2023-03-13T09:34:33.050Z"
   },
   {
    "duration": 75,
    "start_time": "2023-03-13T09:34:33.070Z"
   },
   {
    "duration": 48,
    "start_time": "2023-03-13T09:34:33.147Z"
   },
   {
    "duration": 199,
    "start_time": "2023-03-13T09:34:33.197Z"
   },
   {
    "duration": 64,
    "start_time": "2023-03-13T09:34:33.398Z"
   },
   {
    "duration": 37,
    "start_time": "2023-03-13T09:34:33.463Z"
   },
   {
    "duration": 33,
    "start_time": "2023-03-13T09:34:33.502Z"
   },
   {
    "duration": 36,
    "start_time": "2023-03-13T09:34:33.536Z"
   },
   {
    "duration": 77,
    "start_time": "2023-03-13T09:34:33.574Z"
   },
   {
    "duration": 9,
    "start_time": "2023-03-13T09:34:33.653Z"
   },
   {
    "duration": 13,
    "start_time": "2023-03-13T09:34:33.663Z"
   },
   {
    "duration": 48,
    "start_time": "2023-03-13T09:34:33.678Z"
   },
   {
    "duration": 5,
    "start_time": "2023-03-13T09:34:33.727Z"
   },
   {
    "duration": 103,
    "start_time": "2023-03-13T09:34:33.734Z"
   },
   {
    "duration": 52,
    "start_time": "2023-03-13T09:34:33.838Z"
   },
   {
    "duration": 5,
    "start_time": "2023-03-13T09:34:33.892Z"
   },
   {
    "duration": 20,
    "start_time": "2023-03-13T09:34:33.898Z"
   },
   {
    "duration": 27,
    "start_time": "2023-03-13T09:34:33.921Z"
   },
   {
    "duration": 26,
    "start_time": "2023-03-13T09:34:33.949Z"
   },
   {
    "duration": 17,
    "start_time": "2023-03-13T09:34:33.976Z"
   },
   {
    "duration": 27,
    "start_time": "2023-03-13T09:34:33.995Z"
   },
   {
    "duration": 76,
    "start_time": "2023-03-13T09:34:34.025Z"
   },
   {
    "duration": 6,
    "start_time": "2023-03-13T09:34:34.103Z"
   },
   {
    "duration": 15,
    "start_time": "2023-03-13T09:34:34.110Z"
   },
   {
    "duration": 21,
    "start_time": "2023-03-13T09:34:34.127Z"
   },
   {
    "duration": 5,
    "start_time": "2023-03-13T09:34:34.150Z"
   },
   {
    "duration": 35,
    "start_time": "2023-03-13T09:34:34.156Z"
   },
   {
    "duration": 13,
    "start_time": "2023-03-13T09:34:34.194Z"
   },
   {
    "duration": 21,
    "start_time": "2023-03-13T09:34:34.209Z"
   },
   {
    "duration": 5,
    "start_time": "2023-03-13T09:34:34.232Z"
   },
   {
    "duration": 21,
    "start_time": "2023-03-13T09:34:34.238Z"
   },
   {
    "duration": 16,
    "start_time": "2023-03-13T10:31:49.601Z"
   },
   {
    "duration": 18,
    "start_time": "2023-03-13T10:32:10.306Z"
   },
   {
    "duration": 16,
    "start_time": "2023-03-13T10:32:26.376Z"
   },
   {
    "duration": 16,
    "start_time": "2023-03-13T10:32:32.984Z"
   },
   {
    "duration": 17,
    "start_time": "2023-03-13T10:33:02.528Z"
   },
   {
    "duration": 14,
    "start_time": "2023-03-13T10:36:00.452Z"
   },
   {
    "duration": 13,
    "start_time": "2023-03-13T10:36:10.507Z"
   },
   {
    "duration": 12,
    "start_time": "2023-03-13T10:36:33.044Z"
   },
   {
    "duration": 13,
    "start_time": "2023-03-13T10:37:53.865Z"
   },
   {
    "duration": 13,
    "start_time": "2023-03-13T10:38:09.754Z"
   },
   {
    "duration": 5,
    "start_time": "2023-03-13T10:39:59.319Z"
   },
   {
    "duration": 14,
    "start_time": "2023-03-13T10:41:31.981Z"
   },
   {
    "duration": 1276,
    "start_time": "2023-03-13T10:43:23.747Z"
   },
   {
    "duration": 173,
    "start_time": "2023-03-13T10:43:25.025Z"
   },
   {
    "duration": 20,
    "start_time": "2023-03-13T10:43:25.199Z"
   },
   {
    "duration": 27,
    "start_time": "2023-03-13T10:43:25.221Z"
   },
   {
    "duration": 10,
    "start_time": "2023-03-13T10:43:25.250Z"
   },
   {
    "duration": 29,
    "start_time": "2023-03-13T10:43:25.262Z"
   },
   {
    "duration": 18,
    "start_time": "2023-03-13T10:43:25.293Z"
   },
   {
    "duration": 81,
    "start_time": "2023-03-13T10:43:25.312Z"
   },
   {
    "duration": 73,
    "start_time": "2023-03-13T10:43:25.394Z"
   },
   {
    "duration": 75,
    "start_time": "2023-03-13T10:43:25.469Z"
   },
   {
    "duration": 6,
    "start_time": "2023-03-13T10:43:25.546Z"
   },
   {
    "duration": 660,
    "start_time": "2023-03-13T10:43:25.553Z"
   },
   {
    "duration": 6,
    "start_time": "2023-03-13T10:43:26.215Z"
   },
   {
    "duration": 8,
    "start_time": "2023-03-13T10:43:26.223Z"
   },
   {
    "duration": 30,
    "start_time": "2023-03-13T10:43:26.233Z"
   },
   {
    "duration": 262,
    "start_time": "2023-03-13T10:43:26.265Z"
   },
   {
    "duration": 31,
    "start_time": "2023-03-13T10:43:26.529Z"
   },
   {
    "duration": 42,
    "start_time": "2023-03-13T10:43:26.562Z"
   },
   {
    "duration": 23,
    "start_time": "2023-03-13T10:43:26.606Z"
   },
   {
    "duration": 85,
    "start_time": "2023-03-13T10:43:26.631Z"
   },
   {
    "duration": 219,
    "start_time": "2023-03-13T10:43:26.718Z"
   },
   {
    "duration": 9,
    "start_time": "2023-03-13T10:43:26.939Z"
   },
   {
    "duration": 4,
    "start_time": "2023-03-13T10:43:26.950Z"
   },
   {
    "duration": 7,
    "start_time": "2023-03-13T10:43:26.956Z"
   },
   {
    "duration": 50,
    "start_time": "2023-03-13T10:43:26.965Z"
   },
   {
    "duration": 352,
    "start_time": "2023-03-13T10:43:27.017Z"
   },
   {
    "duration": 39,
    "start_time": "2023-03-13T10:43:27.371Z"
   },
   {
    "duration": 14,
    "start_time": "2023-03-13T10:43:27.414Z"
   },
   {
    "duration": 13,
    "start_time": "2023-03-13T10:43:27.429Z"
   },
   {
    "duration": 76,
    "start_time": "2023-03-13T10:43:27.444Z"
   },
   {
    "duration": 39,
    "start_time": "2023-03-13T10:43:27.521Z"
   },
   {
    "duration": 296,
    "start_time": "2023-03-13T10:43:27.562Z"
   },
   {
    "duration": 74,
    "start_time": "2023-03-13T10:43:27.859Z"
   },
   {
    "duration": 24,
    "start_time": "2023-03-13T10:43:27.935Z"
   },
   {
    "duration": 38,
    "start_time": "2023-03-13T10:43:27.961Z"
   },
   {
    "duration": 10,
    "start_time": "2023-03-13T10:43:28.001Z"
   },
   {
    "duration": 88,
    "start_time": "2023-03-13T10:43:28.013Z"
   },
   {
    "duration": 10,
    "start_time": "2023-03-13T10:43:28.103Z"
   },
   {
    "duration": 7,
    "start_time": "2023-03-13T10:43:28.115Z"
   },
   {
    "duration": 47,
    "start_time": "2023-03-13T10:43:28.123Z"
   },
   {
    "duration": 5,
    "start_time": "2023-03-13T10:43:28.192Z"
   },
   {
    "duration": 110,
    "start_time": "2023-03-13T10:43:28.199Z"
   },
   {
    "duration": 46,
    "start_time": "2023-03-13T10:43:28.311Z"
   },
   {
    "duration": 5,
    "start_time": "2023-03-13T10:43:28.359Z"
   },
   {
    "duration": 27,
    "start_time": "2023-03-13T10:43:28.366Z"
   },
   {
    "duration": 9,
    "start_time": "2023-03-13T10:43:28.395Z"
   },
   {
    "duration": 9,
    "start_time": "2023-03-13T10:43:28.405Z"
   },
   {
    "duration": 8,
    "start_time": "2023-03-13T10:43:28.416Z"
   },
   {
    "duration": 17,
    "start_time": "2023-03-13T10:43:28.426Z"
   },
   {
    "duration": 86,
    "start_time": "2023-03-13T10:43:28.445Z"
   },
   {
    "duration": 5,
    "start_time": "2023-03-13T10:43:28.534Z"
   },
   {
    "duration": 9,
    "start_time": "2023-03-13T10:43:28.541Z"
   },
   {
    "duration": 19,
    "start_time": "2023-03-13T10:43:28.551Z"
   },
   {
    "duration": 5,
    "start_time": "2023-03-13T10:43:28.589Z"
   },
   {
    "duration": 16,
    "start_time": "2023-03-13T10:43:28.595Z"
   },
   {
    "duration": 11,
    "start_time": "2023-03-13T10:43:28.612Z"
   },
   {
    "duration": 71,
    "start_time": "2023-03-13T10:43:28.625Z"
   },
   {
    "duration": 19,
    "start_time": "2023-03-13T10:43:28.698Z"
   },
   {
    "duration": 15,
    "start_time": "2023-03-13T10:43:28.719Z"
   },
   {
    "duration": 65,
    "start_time": "2023-03-13T10:43:28.736Z"
   },
   {
    "duration": 21,
    "start_time": "2023-03-13T10:43:28.803Z"
   },
   {
    "duration": 7,
    "start_time": "2023-03-13T10:44:36.601Z"
   },
   {
    "duration": 8,
    "start_time": "2023-03-13T10:44:38.751Z"
   },
   {
    "duration": 4,
    "start_time": "2023-03-13T10:44:41.560Z"
   },
   {
    "duration": 55,
    "start_time": "2023-03-13T10:44:46.897Z"
   },
   {
    "duration": 1266,
    "start_time": "2023-03-13T10:44:53.778Z"
   },
   {
    "duration": 175,
    "start_time": "2023-03-13T10:44:55.047Z"
   },
   {
    "duration": 24,
    "start_time": "2023-03-13T10:44:55.225Z"
   },
   {
    "duration": 41,
    "start_time": "2023-03-13T10:44:55.251Z"
   },
   {
    "duration": 13,
    "start_time": "2023-03-13T10:44:55.294Z"
   },
   {
    "duration": 7,
    "start_time": "2023-03-13T10:44:55.309Z"
   },
   {
    "duration": 56,
    "start_time": "2023-03-13T10:44:55.317Z"
   },
   {
    "duration": 97,
    "start_time": "2023-03-13T10:44:55.375Z"
   },
   {
    "duration": 80,
    "start_time": "2023-03-13T10:44:55.473Z"
   },
   {
    "duration": 79,
    "start_time": "2023-03-13T10:44:55.557Z"
   },
   {
    "duration": 8,
    "start_time": "2023-03-13T10:44:55.639Z"
   },
   {
    "duration": 798,
    "start_time": "2023-03-13T10:44:55.649Z"
   },
   {
    "duration": 7,
    "start_time": "2023-03-13T10:44:56.450Z"
   },
   {
    "duration": 52,
    "start_time": "2023-03-13T10:44:56.460Z"
   },
   {
    "duration": 80,
    "start_time": "2023-03-13T10:44:56.515Z"
   },
   {
    "duration": 228,
    "start_time": "2023-03-13T10:44:56.597Z"
   },
   {
    "duration": 32,
    "start_time": "2023-03-13T10:44:56.827Z"
   },
   {
    "duration": 44,
    "start_time": "2023-03-13T10:44:56.862Z"
   },
   {
    "duration": 20,
    "start_time": "2023-03-13T10:44:56.909Z"
   },
   {
    "duration": 88,
    "start_time": "2023-03-13T10:44:56.931Z"
   },
   {
    "duration": 250,
    "start_time": "2023-03-13T10:44:57.021Z"
   },
   {
    "duration": 17,
    "start_time": "2023-03-13T10:44:57.274Z"
   },
   {
    "duration": 6,
    "start_time": "2023-03-13T10:44:57.294Z"
   },
   {
    "duration": 13,
    "start_time": "2023-03-13T10:44:57.306Z"
   },
   {
    "duration": 64,
    "start_time": "2023-03-13T10:44:57.321Z"
   },
   {
    "duration": 344,
    "start_time": "2023-03-13T10:44:57.387Z"
   },
   {
    "duration": 32,
    "start_time": "2023-03-13T10:44:57.733Z"
   },
   {
    "duration": 27,
    "start_time": "2023-03-13T10:44:57.769Z"
   },
   {
    "duration": 22,
    "start_time": "2023-03-13T10:44:57.798Z"
   },
   {
    "duration": 69,
    "start_time": "2023-03-13T10:44:57.822Z"
   },
   {
    "duration": 47,
    "start_time": "2023-03-13T10:44:57.893Z"
   },
   {
    "duration": 203,
    "start_time": "2023-03-13T10:44:57.942Z"
   },
   {
    "duration": 79,
    "start_time": "2023-03-13T10:44:58.147Z"
   },
   {
    "duration": 28,
    "start_time": "2023-03-13T10:44:58.229Z"
   },
   {
    "duration": 40,
    "start_time": "2023-03-13T10:44:58.259Z"
   },
   {
    "duration": 9,
    "start_time": "2023-03-13T10:44:58.301Z"
   },
   {
    "duration": 103,
    "start_time": "2023-03-13T10:44:58.312Z"
   },
   {
    "duration": 20,
    "start_time": "2023-03-13T10:44:58.417Z"
   },
   {
    "duration": 27,
    "start_time": "2023-03-13T10:44:58.440Z"
   },
   {
    "duration": 62,
    "start_time": "2023-03-13T10:44:58.470Z"
   },
   {
    "duration": 6,
    "start_time": "2023-03-13T10:44:58.535Z"
   },
   {
    "duration": 156,
    "start_time": "2023-03-13T10:44:58.543Z"
   },
   {
    "duration": 61,
    "start_time": "2023-03-13T10:44:58.701Z"
   },
   {
    "duration": 27,
    "start_time": "2023-03-13T10:44:58.765Z"
   },
   {
    "duration": 10,
    "start_time": "2023-03-13T10:44:58.794Z"
   },
   {
    "duration": 26,
    "start_time": "2023-03-13T10:44:58.807Z"
   },
   {
    "duration": 14,
    "start_time": "2023-03-13T10:44:58.836Z"
   },
   {
    "duration": 14,
    "start_time": "2023-03-13T10:44:58.853Z"
   },
   {
    "duration": 16,
    "start_time": "2023-03-13T10:44:58.870Z"
   },
   {
    "duration": 61,
    "start_time": "2023-03-13T10:44:58.889Z"
   },
   {
    "duration": 7,
    "start_time": "2023-03-13T10:44:58.952Z"
   },
   {
    "duration": 34,
    "start_time": "2023-03-13T10:44:58.961Z"
   },
   {
    "duration": 25,
    "start_time": "2023-03-13T10:44:58.997Z"
   },
   {
    "duration": 6,
    "start_time": "2023-03-13T10:44:59.024Z"
   },
   {
    "duration": 20,
    "start_time": "2023-03-13T10:44:59.032Z"
   },
   {
    "duration": 40,
    "start_time": "2023-03-13T10:44:59.054Z"
   },
   {
    "duration": 20,
    "start_time": "2023-03-13T10:44:59.097Z"
   },
   {
    "duration": 10,
    "start_time": "2023-03-13T10:44:59.120Z"
   },
   {
    "duration": 19,
    "start_time": "2023-03-13T10:44:59.132Z"
   },
   {
    "duration": 52,
    "start_time": "2023-03-13T10:44:59.153Z"
   },
   {
    "duration": 58,
    "start_time": "2023-03-13T10:44:59.208Z"
   },
   {
    "duration": 20,
    "start_time": "2023-03-13T10:45:52.552Z"
   },
   {
    "duration": 17,
    "start_time": "2023-03-13T10:48:08.861Z"
   },
   {
    "duration": 12,
    "start_time": "2023-03-13T11:06:08.055Z"
   },
   {
    "duration": 12,
    "start_time": "2023-03-13T11:10:33.830Z"
   },
   {
    "duration": 1335,
    "start_time": "2023-03-13T12:15:38.778Z"
   },
   {
    "duration": 309,
    "start_time": "2023-03-13T12:15:40.115Z"
   },
   {
    "duration": 73,
    "start_time": "2023-03-13T12:15:40.426Z"
   },
   {
    "duration": 32,
    "start_time": "2023-03-13T12:15:40.502Z"
   },
   {
    "duration": 10,
    "start_time": "2023-03-13T12:15:40.590Z"
   },
   {
    "duration": 22,
    "start_time": "2023-03-13T12:15:40.603Z"
   },
   {
    "duration": 67,
    "start_time": "2023-03-13T12:15:40.627Z"
   },
   {
    "duration": 117,
    "start_time": "2023-03-13T12:15:40.696Z"
   },
   {
    "duration": 175,
    "start_time": "2023-03-13T12:15:40.815Z"
   },
   {
    "duration": 111,
    "start_time": "2023-03-13T12:15:40.993Z"
   },
   {
    "duration": 6,
    "start_time": "2023-03-13T12:15:41.106Z"
   },
   {
    "duration": 1014,
    "start_time": "2023-03-13T12:15:41.114Z"
   },
   {
    "duration": 6,
    "start_time": "2023-03-13T12:15:42.129Z"
   },
   {
    "duration": 18,
    "start_time": "2023-03-13T12:15:42.137Z"
   },
   {
    "duration": 29,
    "start_time": "2023-03-13T12:15:42.157Z"
   },
   {
    "duration": 174,
    "start_time": "2023-03-13T12:15:42.187Z"
   },
   {
    "duration": 27,
    "start_time": "2023-03-13T12:15:42.363Z"
   },
   {
    "duration": 19,
    "start_time": "2023-03-13T12:15:42.391Z"
   },
   {
    "duration": 15,
    "start_time": "2023-03-13T12:15:42.412Z"
   },
   {
    "duration": 73,
    "start_time": "2023-03-13T12:15:42.429Z"
   },
   {
    "duration": 203,
    "start_time": "2023-03-13T12:15:42.504Z"
   },
   {
    "duration": 8,
    "start_time": "2023-03-13T12:15:42.708Z"
   },
   {
    "duration": 11,
    "start_time": "2023-03-13T12:15:42.718Z"
   },
   {
    "duration": 7,
    "start_time": "2023-03-13T12:15:42.730Z"
   },
   {
    "duration": 25,
    "start_time": "2023-03-13T12:15:42.738Z"
   },
   {
    "duration": 321,
    "start_time": "2023-03-13T12:15:42.765Z"
   },
   {
    "duration": 28,
    "start_time": "2023-03-13T12:15:43.090Z"
   },
   {
    "duration": 14,
    "start_time": "2023-03-13T12:15:43.122Z"
   },
   {
    "duration": 15,
    "start_time": "2023-03-13T12:15:43.137Z"
   },
   {
    "duration": 79,
    "start_time": "2023-03-13T12:15:43.155Z"
   },
   {
    "duration": 39,
    "start_time": "2023-03-13T12:15:43.236Z"
   },
   {
    "duration": 202,
    "start_time": "2023-03-13T12:15:43.277Z"
   },
   {
    "duration": 65,
    "start_time": "2023-03-13T12:15:43.489Z"
   },
   {
    "duration": 42,
    "start_time": "2023-03-13T12:15:43.556Z"
   },
   {
    "duration": 26,
    "start_time": "2023-03-13T12:15:43.600Z"
   },
   {
    "duration": 21,
    "start_time": "2023-03-13T12:15:43.629Z"
   },
   {
    "duration": 90,
    "start_time": "2023-03-13T12:15:43.652Z"
   },
   {
    "duration": 11,
    "start_time": "2023-03-13T12:15:43.744Z"
   },
   {
    "duration": 11,
    "start_time": "2023-03-13T12:15:43.757Z"
   },
   {
    "duration": 79,
    "start_time": "2023-03-13T12:15:43.770Z"
   },
   {
    "duration": 4,
    "start_time": "2023-03-13T12:15:43.851Z"
   },
   {
    "duration": 118,
    "start_time": "2023-03-13T12:15:43.857Z"
   },
   {
    "duration": 59,
    "start_time": "2023-03-13T12:15:43.978Z"
   },
   {
    "duration": 4,
    "start_time": "2023-03-13T12:15:44.040Z"
   },
   {
    "duration": 26,
    "start_time": "2023-03-13T12:15:44.046Z"
   },
   {
    "duration": 30,
    "start_time": "2023-03-13T12:15:44.073Z"
   },
   {
    "duration": 48,
    "start_time": "2023-03-13T12:15:44.104Z"
   },
   {
    "duration": 30,
    "start_time": "2023-03-13T12:15:44.154Z"
   },
   {
    "duration": 33,
    "start_time": "2023-03-13T12:15:44.186Z"
   },
   {
    "duration": 73,
    "start_time": "2023-03-13T12:15:44.221Z"
   },
   {
    "duration": 4,
    "start_time": "2023-03-13T12:15:44.296Z"
   },
   {
    "duration": 46,
    "start_time": "2023-03-13T12:15:44.302Z"
   },
   {
    "duration": 51,
    "start_time": "2023-03-13T12:15:44.350Z"
   },
   {
    "duration": 19,
    "start_time": "2023-03-13T12:15:44.403Z"
   },
   {
    "duration": 35,
    "start_time": "2023-03-13T12:15:44.425Z"
   },
   {
    "duration": 41,
    "start_time": "2023-03-13T12:15:44.462Z"
   },
   {
    "duration": 46,
    "start_time": "2023-03-13T12:15:44.505Z"
   },
   {
    "duration": 30,
    "start_time": "2023-03-13T12:15:44.553Z"
   },
   {
    "duration": 46,
    "start_time": "2023-03-13T12:15:44.585Z"
   },
   {
    "duration": 19,
    "start_time": "2023-03-13T12:15:44.632Z"
   },
   {
    "duration": 26,
    "start_time": "2023-03-13T12:15:44.653Z"
   },
   {
    "duration": 17,
    "start_time": "2023-03-13T12:15:44.680Z"
   },
   {
    "duration": 34,
    "start_time": "2023-03-13T12:15:44.699Z"
   },
   {
    "duration": 1227,
    "start_time": "2023-03-13T12:19:33.014Z"
   },
   {
    "duration": 183,
    "start_time": "2023-03-13T12:19:34.243Z"
   },
   {
    "duration": 29,
    "start_time": "2023-03-13T12:19:34.428Z"
   },
   {
    "duration": 37,
    "start_time": "2023-03-13T12:19:34.460Z"
   },
   {
    "duration": 8,
    "start_time": "2023-03-13T12:19:34.499Z"
   },
   {
    "duration": 5,
    "start_time": "2023-03-13T12:19:34.509Z"
   },
   {
    "duration": 32,
    "start_time": "2023-03-13T12:19:34.516Z"
   },
   {
    "duration": 91,
    "start_time": "2023-03-13T12:19:34.550Z"
   },
   {
    "duration": 75,
    "start_time": "2023-03-13T12:19:34.643Z"
   },
   {
    "duration": 70,
    "start_time": "2023-03-13T12:19:34.721Z"
   },
   {
    "duration": 6,
    "start_time": "2023-03-13T12:19:34.793Z"
   },
   {
    "duration": 675,
    "start_time": "2023-03-13T12:19:34.801Z"
   },
   {
    "duration": 5,
    "start_time": "2023-03-13T12:19:35.478Z"
   },
   {
    "duration": 7,
    "start_time": "2023-03-13T12:19:35.489Z"
   },
   {
    "duration": 18,
    "start_time": "2023-03-13T12:19:35.498Z"
   },
   {
    "duration": 184,
    "start_time": "2023-03-13T12:19:35.518Z"
   },
   {
    "duration": 22,
    "start_time": "2023-03-13T12:19:35.704Z"
   },
   {
    "duration": 41,
    "start_time": "2023-03-13T12:19:35.728Z"
   },
   {
    "duration": 14,
    "start_time": "2023-03-13T12:19:35.771Z"
   },
   {
    "duration": 60,
    "start_time": "2023-03-13T12:19:35.790Z"
   },
   {
    "duration": 222,
    "start_time": "2023-03-13T12:19:35.852Z"
   },
   {
    "duration": 14,
    "start_time": "2023-03-13T12:19:36.076Z"
   },
   {
    "duration": 5,
    "start_time": "2023-03-13T12:19:36.091Z"
   },
   {
    "duration": 19,
    "start_time": "2023-03-13T12:19:36.097Z"
   },
   {
    "duration": 33,
    "start_time": "2023-03-13T12:19:36.118Z"
   },
   {
    "duration": 660,
    "start_time": "2023-03-13T12:19:36.152Z"
   },
   {
    "duration": 82,
    "start_time": "2023-03-13T12:19:36.814Z"
   },
   {
    "duration": 14,
    "start_time": "2023-03-13T12:19:36.900Z"
   },
   {
    "duration": 12,
    "start_time": "2023-03-13T12:19:36.917Z"
   },
   {
    "duration": 164,
    "start_time": "2023-03-13T12:19:36.931Z"
   },
   {
    "duration": 106,
    "start_time": "2023-03-13T12:19:37.096Z"
   },
   {
    "duration": 331,
    "start_time": "2023-03-13T12:19:37.204Z"
   },
   {
    "duration": 121,
    "start_time": "2023-03-13T12:19:37.590Z"
   },
   {
    "duration": 78,
    "start_time": "2023-03-13T12:19:37.713Z"
   },
   {
    "duration": 27,
    "start_time": "2023-03-13T12:19:37.793Z"
   },
   {
    "duration": 10,
    "start_time": "2023-03-13T12:19:37.822Z"
   },
   {
    "duration": 182,
    "start_time": "2023-03-13T12:19:37.833Z"
   },
   {
    "duration": 10,
    "start_time": "2023-03-13T12:19:38.016Z"
   },
   {
    "duration": 64,
    "start_time": "2023-03-13T12:19:38.028Z"
   },
   {
    "duration": 106,
    "start_time": "2023-03-13T12:19:38.095Z"
   },
   {
    "duration": 5,
    "start_time": "2023-03-13T12:19:38.203Z"
   },
   {
    "duration": 142,
    "start_time": "2023-03-13T12:19:38.209Z"
   },
   {
    "duration": 66,
    "start_time": "2023-03-13T12:19:38.353Z"
   },
   {
    "duration": 6,
    "start_time": "2023-03-13T12:19:38.422Z"
   },
   {
    "duration": 12,
    "start_time": "2023-03-13T12:19:38.430Z"
   },
   {
    "duration": 9,
    "start_time": "2023-03-13T12:19:38.444Z"
   },
   {
    "duration": 8,
    "start_time": "2023-03-13T12:19:38.455Z"
   },
   {
    "duration": 27,
    "start_time": "2023-03-13T12:19:38.465Z"
   },
   {
    "duration": 14,
    "start_time": "2023-03-13T12:19:38.494Z"
   },
   {
    "duration": 48,
    "start_time": "2023-03-13T12:19:38.509Z"
   },
   {
    "duration": 6,
    "start_time": "2023-03-13T12:19:38.559Z"
   },
   {
    "duration": 11,
    "start_time": "2023-03-13T12:19:38.590Z"
   },
   {
    "duration": 24,
    "start_time": "2023-03-13T12:19:38.603Z"
   },
   {
    "duration": 4,
    "start_time": "2023-03-13T12:19:38.630Z"
   },
   {
    "duration": 17,
    "start_time": "2023-03-13T12:19:38.636Z"
   },
   {
    "duration": 39,
    "start_time": "2023-03-13T12:19:38.655Z"
   },
   {
    "duration": 24,
    "start_time": "2023-03-13T12:19:38.696Z"
   },
   {
    "duration": 5,
    "start_time": "2023-03-13T12:19:38.722Z"
   },
   {
    "duration": 17,
    "start_time": "2023-03-13T12:19:38.729Z"
   },
   {
    "duration": 13,
    "start_time": "2023-03-13T12:19:38.747Z"
   },
   {
    "duration": 14,
    "start_time": "2023-03-13T12:19:38.791Z"
   },
   {
    "duration": 15,
    "start_time": "2023-03-13T12:19:38.807Z"
   },
   {
    "duration": 12,
    "start_time": "2023-03-13T12:19:38.824Z"
   },
   {
    "duration": 1228,
    "start_time": "2023-03-13T12:20:22.200Z"
   },
   {
    "duration": 174,
    "start_time": "2023-03-13T12:20:23.430Z"
   },
   {
    "duration": 17,
    "start_time": "2023-03-13T12:20:23.606Z"
   },
   {
    "duration": 29,
    "start_time": "2023-03-13T12:20:23.626Z"
   },
   {
    "duration": 7,
    "start_time": "2023-03-13T12:20:23.657Z"
   },
   {
    "duration": 4,
    "start_time": "2023-03-13T12:20:23.690Z"
   },
   {
    "duration": 21,
    "start_time": "2023-03-13T12:20:23.695Z"
   },
   {
    "duration": 92,
    "start_time": "2023-03-13T12:20:23.718Z"
   },
   {
    "duration": 82,
    "start_time": "2023-03-13T12:20:23.812Z"
   },
   {
    "duration": 62,
    "start_time": "2023-03-13T12:20:23.897Z"
   },
   {
    "duration": 5,
    "start_time": "2023-03-13T12:20:23.961Z"
   },
   {
    "duration": 1546,
    "start_time": "2023-03-13T12:20:23.968Z"
   },
   {
    "duration": 6,
    "start_time": "2023-03-13T12:20:25.515Z"
   },
   {
    "duration": 8,
    "start_time": "2023-03-13T12:20:25.523Z"
   },
   {
    "duration": 63,
    "start_time": "2023-03-13T12:20:25.534Z"
   },
   {
    "duration": 336,
    "start_time": "2023-03-13T12:20:25.598Z"
   },
   {
    "duration": 76,
    "start_time": "2023-03-13T12:20:25.936Z"
   },
   {
    "duration": 18,
    "start_time": "2023-03-13T12:20:26.014Z"
   },
   {
    "duration": 16,
    "start_time": "2023-03-13T12:20:26.090Z"
   },
   {
    "duration": 90,
    "start_time": "2023-03-13T12:20:26.107Z"
   },
   {
    "duration": 221,
    "start_time": "2023-03-13T12:20:26.198Z"
   },
   {
    "duration": 12,
    "start_time": "2023-03-13T12:20:26.421Z"
   },
   {
    "duration": 9,
    "start_time": "2023-03-13T12:20:26.436Z"
   },
   {
    "duration": 16,
    "start_time": "2023-03-13T12:20:26.447Z"
   },
   {
    "duration": 64,
    "start_time": "2023-03-13T12:20:26.466Z"
   },
   {
    "duration": 322,
    "start_time": "2023-03-13T12:20:26.533Z"
   },
   {
    "duration": 37,
    "start_time": "2023-03-13T12:20:26.856Z"
   },
   {
    "duration": 14,
    "start_time": "2023-03-13T12:20:26.897Z"
   },
   {
    "duration": 11,
    "start_time": "2023-03-13T12:20:26.913Z"
   },
   {
    "duration": 79,
    "start_time": "2023-03-13T12:20:26.926Z"
   },
   {
    "duration": 37,
    "start_time": "2023-03-13T12:20:27.006Z"
   },
   {
    "duration": 199,
    "start_time": "2023-03-13T12:20:27.045Z"
   },
   {
    "duration": 77,
    "start_time": "2023-03-13T12:20:27.246Z"
   },
   {
    "duration": 24,
    "start_time": "2023-03-13T12:20:27.325Z"
   },
   {
    "duration": 39,
    "start_time": "2023-03-13T12:20:27.351Z"
   },
   {
    "duration": 8,
    "start_time": "2023-03-13T12:20:27.392Z"
   },
   {
    "duration": 89,
    "start_time": "2023-03-13T12:20:27.402Z"
   },
   {
    "duration": 10,
    "start_time": "2023-03-13T12:20:27.492Z"
   },
   {
    "duration": 9,
    "start_time": "2023-03-13T12:20:27.505Z"
   },
   {
    "duration": 52,
    "start_time": "2023-03-13T12:20:27.517Z"
   },
   {
    "duration": 5,
    "start_time": "2023-03-13T12:20:27.590Z"
   },
   {
    "duration": 101,
    "start_time": "2023-03-13T12:20:27.597Z"
   },
   {
    "duration": 43,
    "start_time": "2023-03-13T12:20:27.700Z"
   },
   {
    "duration": 5,
    "start_time": "2023-03-13T12:20:27.745Z"
   },
   {
    "duration": 12,
    "start_time": "2023-03-13T12:20:27.752Z"
   },
   {
    "duration": 25,
    "start_time": "2023-03-13T12:20:27.765Z"
   },
   {
    "duration": 11,
    "start_time": "2023-03-13T12:20:27.792Z"
   },
   {
    "duration": 15,
    "start_time": "2023-03-13T12:20:27.805Z"
   },
   {
    "duration": 17,
    "start_time": "2023-03-13T12:20:27.821Z"
   },
   {
    "duration": 51,
    "start_time": "2023-03-13T12:20:27.840Z"
   },
   {
    "duration": 5,
    "start_time": "2023-03-13T12:20:27.893Z"
   },
   {
    "duration": 17,
    "start_time": "2023-03-13T12:20:27.899Z"
   },
   {
    "duration": 16,
    "start_time": "2023-03-13T12:20:27.918Z"
   },
   {
    "duration": 4,
    "start_time": "2023-03-13T12:20:27.936Z"
   },
   {
    "duration": 16,
    "start_time": "2023-03-13T12:20:27.942Z"
   },
   {
    "duration": 39,
    "start_time": "2023-03-13T12:20:27.959Z"
   },
   {
    "duration": 24,
    "start_time": "2023-03-13T12:20:28.000Z"
   },
   {
    "duration": 5,
    "start_time": "2023-03-13T12:20:28.027Z"
   },
   {
    "duration": 19,
    "start_time": "2023-03-13T12:20:28.034Z"
   },
   {
    "duration": 41,
    "start_time": "2023-03-13T12:20:28.055Z"
   },
   {
    "duration": 15,
    "start_time": "2023-03-13T12:20:28.098Z"
   },
   {
    "duration": 12,
    "start_time": "2023-03-13T12:20:28.115Z"
   },
   {
    "duration": 13,
    "start_time": "2023-03-13T12:20:28.128Z"
   },
   {
    "duration": 1629,
    "start_time": "2023-03-13T14:46:20.852Z"
   },
   {
    "duration": 312,
    "start_time": "2023-03-13T14:46:22.484Z"
   },
   {
    "duration": 30,
    "start_time": "2023-03-13T14:46:22.799Z"
   },
   {
    "duration": 39,
    "start_time": "2023-03-13T14:46:22.832Z"
   },
   {
    "duration": 12,
    "start_time": "2023-03-13T14:46:22.882Z"
   },
   {
    "duration": 8,
    "start_time": "2023-03-13T14:46:22.897Z"
   },
   {
    "duration": 29,
    "start_time": "2023-03-13T14:46:22.908Z"
   },
   {
    "duration": 90,
    "start_time": "2023-03-13T14:46:22.940Z"
   },
   {
    "duration": 87,
    "start_time": "2023-03-13T14:46:23.032Z"
   },
   {
    "duration": 82,
    "start_time": "2023-03-13T14:46:23.121Z"
   },
   {
    "duration": 7,
    "start_time": "2023-03-13T14:46:23.205Z"
   },
   {
    "duration": 780,
    "start_time": "2023-03-13T14:46:23.214Z"
   },
   {
    "duration": 6,
    "start_time": "2023-03-13T14:46:23.997Z"
   },
   {
    "duration": 7,
    "start_time": "2023-03-13T14:46:24.007Z"
   },
   {
    "duration": 115,
    "start_time": "2023-03-13T14:46:24.016Z"
   },
   {
    "duration": 134,
    "start_time": "2023-03-13T14:46:24.134Z"
   },
   {
    "duration": 30,
    "start_time": "2023-03-13T14:46:24.271Z"
   },
   {
    "duration": 20,
    "start_time": "2023-03-13T14:46:24.303Z"
   },
   {
    "duration": 13,
    "start_time": "2023-03-13T14:46:24.325Z"
   },
   {
    "duration": 94,
    "start_time": "2023-03-13T14:46:24.339Z"
   },
   {
    "duration": 226,
    "start_time": "2023-03-13T14:46:24.435Z"
   },
   {
    "duration": 21,
    "start_time": "2023-03-13T14:46:24.663Z"
   },
   {
    "duration": 5,
    "start_time": "2023-03-13T14:46:24.686Z"
   },
   {
    "duration": 14,
    "start_time": "2023-03-13T14:46:24.692Z"
   },
   {
    "duration": 25,
    "start_time": "2023-03-13T14:46:24.708Z"
   },
   {
    "duration": 351,
    "start_time": "2023-03-13T14:46:24.735Z"
   },
   {
    "duration": 34,
    "start_time": "2023-03-13T14:46:25.088Z"
   },
   {
    "duration": 14,
    "start_time": "2023-03-13T14:46:25.123Z"
   },
   {
    "duration": 19,
    "start_time": "2023-03-13T14:46:25.139Z"
   },
   {
    "duration": 59,
    "start_time": "2023-03-13T14:46:25.181Z"
   },
   {
    "duration": 59,
    "start_time": "2023-03-13T14:46:25.241Z"
   },
   {
    "duration": 226,
    "start_time": "2023-03-13T14:46:25.302Z"
   },
   {
    "duration": 90,
    "start_time": "2023-03-13T14:46:25.531Z"
   },
   {
    "duration": 25,
    "start_time": "2023-03-13T14:46:25.623Z"
   },
   {
    "duration": 45,
    "start_time": "2023-03-13T14:46:25.650Z"
   },
   {
    "duration": 14,
    "start_time": "2023-03-13T14:46:25.698Z"
   },
   {
    "duration": 116,
    "start_time": "2023-03-13T14:46:25.714Z"
   },
   {
    "duration": 16,
    "start_time": "2023-03-13T14:46:25.832Z"
   },
   {
    "duration": 38,
    "start_time": "2023-03-13T14:46:25.850Z"
   },
   {
    "duration": 64,
    "start_time": "2023-03-13T14:46:25.891Z"
   },
   {
    "duration": 6,
    "start_time": "2023-03-13T14:46:25.960Z"
   },
   {
    "duration": 144,
    "start_time": "2023-03-13T14:46:25.968Z"
   },
   {
    "duration": 51,
    "start_time": "2023-03-13T14:46:26.114Z"
   },
   {
    "duration": 17,
    "start_time": "2023-03-13T14:46:26.167Z"
   },
   {
    "duration": 16,
    "start_time": "2023-03-13T14:46:26.186Z"
   },
   {
    "duration": 21,
    "start_time": "2023-03-13T14:46:26.204Z"
   },
   {
    "duration": 29,
    "start_time": "2023-03-13T14:46:26.227Z"
   },
   {
    "duration": 18,
    "start_time": "2023-03-13T14:46:26.259Z"
   },
   {
    "duration": 42,
    "start_time": "2023-03-13T14:46:26.280Z"
   },
   {
    "duration": 62,
    "start_time": "2023-03-13T14:46:26.324Z"
   },
   {
    "duration": 5,
    "start_time": "2023-03-13T14:46:26.389Z"
   },
   {
    "duration": 31,
    "start_time": "2023-03-13T14:46:26.396Z"
   },
   {
    "duration": 34,
    "start_time": "2023-03-13T14:46:26.429Z"
   },
   {
    "duration": 13,
    "start_time": "2023-03-13T14:46:26.465Z"
   },
   {
    "duration": 29,
    "start_time": "2023-03-13T14:46:26.480Z"
   },
   {
    "duration": 36,
    "start_time": "2023-03-13T14:46:26.511Z"
   },
   {
    "duration": 27,
    "start_time": "2023-03-13T14:46:26.549Z"
   },
   {
    "duration": 152,
    "start_time": "2023-03-13T14:46:26.579Z"
   },
   {
    "duration": 23,
    "start_time": "2023-03-13T14:46:26.733Z"
   },
   {
    "duration": 19,
    "start_time": "2023-03-13T14:46:26.758Z"
   },
   {
    "duration": 14,
    "start_time": "2023-03-13T14:46:26.779Z"
   },
   {
    "duration": 22,
    "start_time": "2023-03-13T14:46:26.796Z"
   },
   {
    "duration": 181,
    "start_time": "2023-03-13T14:46:26.821Z"
   },
   {
    "duration": 18,
    "start_time": "2023-03-13T15:05:33.098Z"
   },
   {
    "duration": 882,
    "start_time": "2023-03-13T15:05:37.893Z"
   },
   {
    "duration": 50,
    "start_time": "2023-03-13T16:00:55.185Z"
   },
   {
    "duration": 1296,
    "start_time": "2023-03-13T16:01:03.050Z"
   },
   {
    "duration": 1034,
    "start_time": "2023-03-13T16:01:04.347Z"
   },
   {
    "duration": 18,
    "start_time": "2023-03-13T16:01:05.383Z"
   },
   {
    "duration": 30,
    "start_time": "2023-03-13T16:01:05.403Z"
   },
   {
    "duration": 8,
    "start_time": "2023-03-13T16:01:05.435Z"
   },
   {
    "duration": 28,
    "start_time": "2023-03-13T16:01:05.444Z"
   },
   {
    "duration": 42,
    "start_time": "2023-03-13T16:01:05.473Z"
   },
   {
    "duration": 88,
    "start_time": "2023-03-13T16:01:05.517Z"
   },
   {
    "duration": 57,
    "start_time": "2023-03-13T16:01:05.606Z"
   },
   {
    "duration": 61,
    "start_time": "2023-03-13T16:01:05.666Z"
   },
   {
    "duration": 12,
    "start_time": "2023-03-13T16:01:05.729Z"
   },
   {
    "duration": 595,
    "start_time": "2023-03-13T16:01:05.743Z"
   },
   {
    "duration": 5,
    "start_time": "2023-03-13T16:01:06.340Z"
   },
   {
    "duration": 7,
    "start_time": "2023-03-13T16:01:06.346Z"
   },
   {
    "duration": 16,
    "start_time": "2023-03-13T16:01:06.354Z"
   },
   {
    "duration": 186,
    "start_time": "2023-03-13T16:01:06.371Z"
   },
   {
    "duration": 25,
    "start_time": "2023-03-13T16:01:06.559Z"
   },
   {
    "duration": 19,
    "start_time": "2023-03-13T16:01:06.586Z"
   },
   {
    "duration": 11,
    "start_time": "2023-03-13T16:01:06.607Z"
   },
   {
    "duration": 49,
    "start_time": "2023-03-13T16:01:06.640Z"
   },
   {
    "duration": 194,
    "start_time": "2023-03-13T16:01:06.691Z"
   },
   {
    "duration": 9,
    "start_time": "2023-03-13T16:01:06.886Z"
   },
   {
    "duration": 6,
    "start_time": "2023-03-13T16:01:06.897Z"
   },
   {
    "duration": 9,
    "start_time": "2023-03-13T16:01:06.905Z"
   },
   {
    "duration": 41,
    "start_time": "2023-03-13T16:01:06.916Z"
   },
   {
    "duration": 288,
    "start_time": "2023-03-13T16:01:06.959Z"
   },
   {
    "duration": 615,
    "start_time": "2023-03-13T16:01:07.248Z"
   },
   {
    "duration": 25,
    "start_time": "2023-03-13T16:01:07.866Z"
   },
   {
    "duration": 11,
    "start_time": "2023-03-13T16:01:07.893Z"
   },
   {
    "duration": 23,
    "start_time": "2023-03-13T16:01:07.905Z"
   },
   {
    "duration": 55,
    "start_time": "2023-03-13T16:01:07.930Z"
   },
   {
    "duration": 32,
    "start_time": "2023-03-13T16:01:07.987Z"
   },
   {
    "duration": 176,
    "start_time": "2023-03-13T16:01:08.021Z"
   },
   {
    "duration": 69,
    "start_time": "2023-03-13T16:01:08.199Z"
   },
   {
    "duration": 22,
    "start_time": "2023-03-13T16:01:08.269Z"
   },
   {
    "duration": 21,
    "start_time": "2023-03-13T16:01:08.293Z"
   },
   {
    "duration": 25,
    "start_time": "2023-03-13T16:01:08.316Z"
   },
   {
    "duration": 64,
    "start_time": "2023-03-13T16:01:08.343Z"
   },
   {
    "duration": 10,
    "start_time": "2023-03-13T16:01:08.408Z"
   },
   {
    "duration": 5,
    "start_time": "2023-03-13T16:01:08.441Z"
   },
   {
    "duration": 40,
    "start_time": "2023-03-13T16:01:08.448Z"
   },
   {
    "duration": 4,
    "start_time": "2023-03-13T16:01:08.490Z"
   },
   {
    "duration": 105,
    "start_time": "2023-03-13T16:01:08.496Z"
   },
   {
    "duration": 54,
    "start_time": "2023-03-13T16:01:08.603Z"
   },
   {
    "duration": 5,
    "start_time": "2023-03-13T16:01:08.659Z"
   },
   {
    "duration": 8,
    "start_time": "2023-03-13T16:01:08.666Z"
   },
   {
    "duration": 8,
    "start_time": "2023-03-13T16:01:08.675Z"
   },
   {
    "duration": 9,
    "start_time": "2023-03-13T16:01:08.685Z"
   },
   {
    "duration": 6,
    "start_time": "2023-03-13T16:01:08.696Z"
   },
   {
    "duration": 37,
    "start_time": "2023-03-13T16:01:08.704Z"
   },
   {
    "duration": 44,
    "start_time": "2023-03-13T16:01:08.743Z"
   },
   {
    "duration": 5,
    "start_time": "2023-03-13T16:01:08.788Z"
   },
   {
    "duration": 7,
    "start_time": "2023-03-13T16:01:08.794Z"
   },
   {
    "duration": 37,
    "start_time": "2023-03-13T16:01:08.803Z"
   },
   {
    "duration": 4,
    "start_time": "2023-03-13T16:01:08.842Z"
   },
   {
    "duration": 15,
    "start_time": "2023-03-13T16:01:08.848Z"
   },
   {
    "duration": 9,
    "start_time": "2023-03-13T16:01:08.865Z"
   },
   {
    "duration": 22,
    "start_time": "2023-03-13T16:01:08.875Z"
   },
   {
    "duration": 30,
    "start_time": "2023-03-13T16:01:08.899Z"
   },
   {
    "duration": 16,
    "start_time": "2023-03-13T16:01:08.931Z"
   },
   {
    "duration": 11,
    "start_time": "2023-03-13T16:01:08.949Z"
   },
   {
    "duration": 9,
    "start_time": "2023-03-13T16:01:08.961Z"
   },
   {
    "duration": 10,
    "start_time": "2023-03-13T16:01:08.972Z"
   },
   {
    "duration": 12,
    "start_time": "2023-03-13T16:01:08.984Z"
   },
   {
    "duration": 13,
    "start_time": "2023-03-13T16:06:04.753Z"
   },
   {
    "duration": 15,
    "start_time": "2023-03-13T16:06:12.140Z"
   },
   {
    "duration": 9,
    "start_time": "2023-03-13T16:07:13.152Z"
   },
   {
    "duration": 100,
    "start_time": "2023-03-14T06:35:18.007Z"
   },
   {
    "duration": 48,
    "start_time": "2023-03-14T06:45:25.404Z"
   },
   {
    "duration": 1413,
    "start_time": "2023-03-14T06:45:32.110Z"
   },
   {
    "duration": 282,
    "start_time": "2023-03-14T06:45:33.525Z"
   },
   {
    "duration": 20,
    "start_time": "2023-03-14T06:45:33.809Z"
   },
   {
    "duration": 23,
    "start_time": "2023-03-14T06:45:33.831Z"
   },
   {
    "duration": 8,
    "start_time": "2023-03-14T06:45:33.855Z"
   },
   {
    "duration": 11,
    "start_time": "2023-03-14T06:45:33.865Z"
   },
   {
    "duration": 25,
    "start_time": "2023-03-14T06:45:33.878Z"
   },
   {
    "duration": 79,
    "start_time": "2023-03-14T06:45:33.904Z"
   },
   {
    "duration": 96,
    "start_time": "2023-03-14T06:45:33.984Z"
   },
   {
    "duration": 61,
    "start_time": "2023-03-14T06:45:34.084Z"
   },
   {
    "duration": 24,
    "start_time": "2023-03-14T06:45:34.148Z"
   },
   {
    "duration": 706,
    "start_time": "2023-03-14T06:45:34.175Z"
   },
   {
    "duration": 6,
    "start_time": "2023-03-14T06:45:34.883Z"
   },
   {
    "duration": 9,
    "start_time": "2023-03-14T06:45:34.891Z"
   },
   {
    "duration": 17,
    "start_time": "2023-03-14T06:45:34.902Z"
   },
   {
    "duration": 214,
    "start_time": "2023-03-14T06:45:34.921Z"
   },
   {
    "duration": 22,
    "start_time": "2023-03-14T06:45:35.137Z"
   },
   {
    "duration": 19,
    "start_time": "2023-03-14T06:45:35.172Z"
   },
   {
    "duration": 18,
    "start_time": "2023-03-14T06:45:35.193Z"
   },
   {
    "duration": 62,
    "start_time": "2023-03-14T06:45:35.213Z"
   },
   {
    "duration": 212,
    "start_time": "2023-03-14T06:45:35.276Z"
   },
   {
    "duration": 8,
    "start_time": "2023-03-14T06:45:35.490Z"
   },
   {
    "duration": 12,
    "start_time": "2023-03-14T06:45:35.500Z"
   },
   {
    "duration": 7,
    "start_time": "2023-03-14T06:45:35.514Z"
   },
   {
    "duration": 49,
    "start_time": "2023-03-14T06:45:35.523Z"
   },
   {
    "duration": 319,
    "start_time": "2023-03-14T06:45:35.575Z"
   },
   {
    "duration": 727,
    "start_time": "2023-03-14T06:45:35.896Z"
   },
   {
    "duration": 31,
    "start_time": "2023-03-14T06:45:36.627Z"
   },
   {
    "duration": 24,
    "start_time": "2023-03-14T06:45:36.659Z"
   },
   {
    "duration": 17,
    "start_time": "2023-03-14T06:45:36.685Z"
   },
   {
    "duration": 77,
    "start_time": "2023-03-14T06:45:36.704Z"
   },
   {
    "duration": 41,
    "start_time": "2023-03-14T06:45:36.783Z"
   },
   {
    "duration": 204,
    "start_time": "2023-03-14T06:45:36.826Z"
   },
   {
    "duration": 78,
    "start_time": "2023-03-14T06:45:37.032Z"
   },
   {
    "duration": 30,
    "start_time": "2023-03-14T06:45:37.112Z"
   },
   {
    "duration": 35,
    "start_time": "2023-03-14T06:45:37.143Z"
   },
   {
    "duration": 7,
    "start_time": "2023-03-14T06:45:37.180Z"
   },
   {
    "duration": 91,
    "start_time": "2023-03-14T06:45:37.188Z"
   },
   {
    "duration": 10,
    "start_time": "2023-03-14T06:45:37.281Z"
   },
   {
    "duration": 7,
    "start_time": "2023-03-14T06:45:37.293Z"
   },
   {
    "duration": 45,
    "start_time": "2023-03-14T06:45:37.302Z"
   },
   {
    "duration": 26,
    "start_time": "2023-03-14T06:45:37.349Z"
   },
   {
    "duration": 104,
    "start_time": "2023-03-14T06:45:37.377Z"
   },
   {
    "duration": 51,
    "start_time": "2023-03-14T06:45:37.483Z"
   },
   {
    "duration": 5,
    "start_time": "2023-03-14T06:45:37.537Z"
   },
   {
    "duration": 28,
    "start_time": "2023-03-14T06:45:37.546Z"
   },
   {
    "duration": 5,
    "start_time": "2023-03-14T06:45:37.576Z"
   },
   {
    "duration": 9,
    "start_time": "2023-03-14T06:45:37.582Z"
   },
   {
    "duration": 10,
    "start_time": "2023-03-14T06:45:37.592Z"
   },
   {
    "duration": 26,
    "start_time": "2023-03-14T06:45:37.604Z"
   },
   {
    "duration": 57,
    "start_time": "2023-03-14T06:45:37.632Z"
   },
   {
    "duration": 6,
    "start_time": "2023-03-14T06:45:37.691Z"
   },
   {
    "duration": 13,
    "start_time": "2023-03-14T06:45:37.699Z"
   },
   {
    "duration": 27,
    "start_time": "2023-03-14T06:45:37.714Z"
   },
   {
    "duration": 3,
    "start_time": "2023-03-14T06:45:37.743Z"
   },
   {
    "duration": 27,
    "start_time": "2023-03-14T06:45:37.748Z"
   },
   {
    "duration": 10,
    "start_time": "2023-03-14T06:45:37.777Z"
   },
   {
    "duration": 19,
    "start_time": "2023-03-14T06:45:37.789Z"
   },
   {
    "duration": 4,
    "start_time": "2023-03-14T06:45:37.810Z"
   },
   {
    "duration": 15,
    "start_time": "2023-03-14T06:45:37.816Z"
   },
   {
    "duration": 50,
    "start_time": "2023-03-14T06:45:37.833Z"
   },
   {
    "duration": 14,
    "start_time": "2023-03-14T06:45:37.885Z"
   },
   {
    "duration": 13,
    "start_time": "2023-03-14T06:45:37.900Z"
   },
   {
    "duration": 15,
    "start_time": "2023-03-14T06:45:37.914Z"
   },
   {
    "duration": 99,
    "start_time": "2023-03-14T06:45:58.003Z"
   },
   {
    "duration": 506,
    "start_time": "2023-03-14T06:52:18.262Z"
   },
   {
    "duration": 630,
    "start_time": "2023-03-14T06:57:03.744Z"
   },
   {
    "duration": 479,
    "start_time": "2023-03-14T06:57:13.320Z"
   },
   {
    "duration": 1262,
    "start_time": "2023-03-14T06:57:42.367Z"
   },
   {
    "duration": 175,
    "start_time": "2023-03-14T06:57:43.631Z"
   },
   {
    "duration": 21,
    "start_time": "2023-03-14T06:57:43.807Z"
   },
   {
    "duration": 29,
    "start_time": "2023-03-14T06:57:43.830Z"
   },
   {
    "duration": 10,
    "start_time": "2023-03-14T06:57:43.873Z"
   },
   {
    "duration": 7,
    "start_time": "2023-03-14T06:57:43.885Z"
   },
   {
    "duration": 26,
    "start_time": "2023-03-14T06:57:43.894Z"
   },
   {
    "duration": 84,
    "start_time": "2023-03-14T06:57:43.922Z"
   },
   {
    "duration": 92,
    "start_time": "2023-03-14T06:57:44.008Z"
   },
   {
    "duration": 71,
    "start_time": "2023-03-14T06:57:44.103Z"
   },
   {
    "duration": 6,
    "start_time": "2023-03-14T06:57:44.175Z"
   },
   {
    "duration": 699,
    "start_time": "2023-03-14T06:57:44.183Z"
   },
   {
    "duration": 5,
    "start_time": "2023-03-14T06:57:44.884Z"
   },
   {
    "duration": 11,
    "start_time": "2023-03-14T06:57:44.890Z"
   },
   {
    "duration": 16,
    "start_time": "2023-03-14T06:57:44.902Z"
   },
   {
    "duration": 209,
    "start_time": "2023-03-14T06:57:44.920Z"
   },
   {
    "duration": 27,
    "start_time": "2023-03-14T06:57:45.131Z"
   },
   {
    "duration": 484,
    "start_time": "2023-03-14T06:57:45.174Z"
   },
   {
    "duration": 21,
    "start_time": "2023-03-14T06:57:45.660Z"
   },
   {
    "duration": 16,
    "start_time": "2023-03-14T06:57:45.683Z"
   },
   {
    "duration": 41,
    "start_time": "2023-03-14T06:57:45.701Z"
   },
   {
    "duration": 248,
    "start_time": "2023-03-14T06:57:45.744Z"
   },
   {
    "duration": 8,
    "start_time": "2023-03-14T06:57:45.994Z"
   },
   {
    "duration": 5,
    "start_time": "2023-03-14T06:57:46.004Z"
   },
   {
    "duration": 14,
    "start_time": "2023-03-14T06:57:46.011Z"
   },
   {
    "duration": 46,
    "start_time": "2023-03-14T06:57:46.028Z"
   },
   {
    "duration": 331,
    "start_time": "2023-03-14T06:57:46.076Z"
   },
   {
    "duration": 800,
    "start_time": "2023-03-14T06:57:46.411Z"
   },
   {
    "duration": 26,
    "start_time": "2023-03-14T06:57:47.213Z"
   },
   {
    "duration": 15,
    "start_time": "2023-03-14T06:57:47.240Z"
   },
   {
    "duration": 15,
    "start_time": "2023-03-14T06:57:47.273Z"
   },
   {
    "duration": 64,
    "start_time": "2023-03-14T06:57:47.290Z"
   },
   {
    "duration": 52,
    "start_time": "2023-03-14T06:57:47.357Z"
   },
   {
    "duration": 219,
    "start_time": "2023-03-14T06:57:47.411Z"
   },
   {
    "duration": 87,
    "start_time": "2023-03-14T06:57:47.632Z"
   },
   {
    "duration": 28,
    "start_time": "2023-03-14T06:57:47.721Z"
   },
   {
    "duration": 43,
    "start_time": "2023-03-14T06:57:47.751Z"
   },
   {
    "duration": 24,
    "start_time": "2023-03-14T06:57:47.796Z"
   },
   {
    "duration": 81,
    "start_time": "2023-03-14T06:57:47.822Z"
   },
   {
    "duration": 10,
    "start_time": "2023-03-14T06:57:47.905Z"
   },
   {
    "duration": 16,
    "start_time": "2023-03-14T06:57:47.917Z"
   },
   {
    "duration": 59,
    "start_time": "2023-03-14T06:57:47.934Z"
   },
   {
    "duration": 4,
    "start_time": "2023-03-14T06:57:47.995Z"
   },
   {
    "duration": 114,
    "start_time": "2023-03-14T06:57:48.002Z"
   },
   {
    "duration": 56,
    "start_time": "2023-03-14T06:57:48.118Z"
   },
   {
    "duration": 6,
    "start_time": "2023-03-14T06:57:48.175Z"
   },
   {
    "duration": 25,
    "start_time": "2023-03-14T06:57:48.182Z"
   },
   {
    "duration": 19,
    "start_time": "2023-03-14T06:57:48.209Z"
   },
   {
    "duration": 20,
    "start_time": "2023-03-14T06:57:48.230Z"
   },
   {
    "duration": 15,
    "start_time": "2023-03-14T06:57:48.252Z"
   },
   {
    "duration": 27,
    "start_time": "2023-03-14T06:57:48.268Z"
   },
   {
    "duration": 57,
    "start_time": "2023-03-14T06:57:48.297Z"
   },
   {
    "duration": 5,
    "start_time": "2023-03-14T06:57:48.356Z"
   },
   {
    "duration": 24,
    "start_time": "2023-03-14T06:57:48.363Z"
   },
   {
    "duration": 25,
    "start_time": "2023-03-14T06:57:48.388Z"
   },
   {
    "duration": 28,
    "start_time": "2023-03-14T06:57:48.415Z"
   },
   {
    "duration": 29,
    "start_time": "2023-03-14T06:57:48.445Z"
   },
   {
    "duration": 10,
    "start_time": "2023-03-14T06:57:48.476Z"
   },
   {
    "duration": 21,
    "start_time": "2023-03-14T06:57:48.488Z"
   },
   {
    "duration": 13,
    "start_time": "2023-03-14T06:57:48.511Z"
   },
   {
    "duration": 18,
    "start_time": "2023-03-14T06:57:48.525Z"
   },
   {
    "duration": 38,
    "start_time": "2023-03-14T06:57:48.545Z"
   },
   {
    "duration": 30,
    "start_time": "2023-03-14T06:57:48.585Z"
   },
   {
    "duration": 18,
    "start_time": "2023-03-14T06:57:48.617Z"
   },
   {
    "duration": 13,
    "start_time": "2023-03-14T06:57:48.637Z"
   },
   {
    "duration": 776,
    "start_time": "2023-03-14T07:01:21.598Z"
   },
   {
    "duration": 616,
    "start_time": "2023-03-14T07:01:45.100Z"
   },
   {
    "duration": 33,
    "start_time": "2023-03-14T07:11:58.617Z"
   },
   {
    "duration": 714,
    "start_time": "2023-03-14T07:12:41.470Z"
   },
   {
    "duration": 201,
    "start_time": "2023-03-14T07:14:22.254Z"
   },
   {
    "duration": 1924,
    "start_time": "2023-03-14T07:15:25.496Z"
   },
   {
    "duration": 175,
    "start_time": "2023-03-14T07:15:27.422Z"
   },
   {
    "duration": 20,
    "start_time": "2023-03-14T07:15:27.599Z"
   },
   {
    "duration": 22,
    "start_time": "2023-03-14T07:15:27.621Z"
   },
   {
    "duration": 27,
    "start_time": "2023-03-14T07:15:27.646Z"
   },
   {
    "duration": 5,
    "start_time": "2023-03-14T07:15:27.674Z"
   },
   {
    "duration": 20,
    "start_time": "2023-03-14T07:15:27.681Z"
   },
   {
    "duration": 92,
    "start_time": "2023-03-14T07:15:27.703Z"
   },
   {
    "duration": 94,
    "start_time": "2023-03-14T07:15:27.797Z"
   },
   {
    "duration": 60,
    "start_time": "2023-03-14T07:15:27.893Z"
   },
   {
    "duration": 19,
    "start_time": "2023-03-14T07:15:27.955Z"
   },
   {
    "duration": 691,
    "start_time": "2023-03-14T07:15:27.976Z"
   },
   {
    "duration": 7,
    "start_time": "2023-03-14T07:15:28.669Z"
   },
   {
    "duration": 12,
    "start_time": "2023-03-14T07:15:28.680Z"
   },
   {
    "duration": 22,
    "start_time": "2023-03-14T07:15:28.694Z"
   },
   {
    "duration": 213,
    "start_time": "2023-03-14T07:15:28.718Z"
   },
   {
    "duration": 27,
    "start_time": "2023-03-14T07:15:28.932Z"
   },
   {
    "duration": 523,
    "start_time": "2023-03-14T07:15:28.972Z"
   },
   {
    "duration": 24,
    "start_time": "2023-03-14T07:15:29.497Z"
   },
   {
    "duration": 15,
    "start_time": "2023-03-14T07:15:29.523Z"
   },
   {
    "duration": 72,
    "start_time": "2023-03-14T07:15:29.541Z"
   },
   {
    "duration": 215,
    "start_time": "2023-03-14T07:15:29.615Z"
   },
   {
    "duration": 8,
    "start_time": "2023-03-14T07:15:29.831Z"
   },
   {
    "duration": 7,
    "start_time": "2023-03-14T07:15:29.841Z"
   },
   {
    "duration": 702,
    "start_time": "2023-03-14T07:15:29.850Z"
   },
   {
    "duration": 43,
    "start_time": "2023-03-14T07:15:30.555Z"
   },
   {
    "duration": 980,
    "start_time": "2023-03-14T07:15:30.601Z"
   },
   {
    "duration": 1605,
    "start_time": "2023-03-14T07:16:22.803Z"
   },
   {
    "duration": 183,
    "start_time": "2023-03-14T07:16:24.410Z"
   },
   {
    "duration": 21,
    "start_time": "2023-03-14T07:16:24.595Z"
   },
   {
    "duration": 24,
    "start_time": "2023-03-14T07:16:24.618Z"
   },
   {
    "duration": 33,
    "start_time": "2023-03-14T07:16:24.645Z"
   },
   {
    "duration": 8,
    "start_time": "2023-03-14T07:16:24.680Z"
   },
   {
    "duration": 21,
    "start_time": "2023-03-14T07:16:24.689Z"
   },
   {
    "duration": 84,
    "start_time": "2023-03-14T07:16:24.712Z"
   },
   {
    "duration": 85,
    "start_time": "2023-03-14T07:16:24.797Z"
   },
   {
    "duration": 61,
    "start_time": "2023-03-14T07:16:24.884Z"
   },
   {
    "duration": 5,
    "start_time": "2023-03-14T07:16:24.947Z"
   },
   {
    "duration": 702,
    "start_time": "2023-03-14T07:16:24.954Z"
   },
   {
    "duration": 5,
    "start_time": "2023-03-14T07:16:25.658Z"
   },
   {
    "duration": 5,
    "start_time": "2023-03-14T07:16:25.672Z"
   },
   {
    "duration": 18,
    "start_time": "2023-03-14T07:16:25.679Z"
   },
   {
    "duration": 206,
    "start_time": "2023-03-14T07:16:25.698Z"
   },
   {
    "duration": 24,
    "start_time": "2023-03-14T07:16:25.906Z"
   },
   {
    "duration": 526,
    "start_time": "2023-03-14T07:16:25.932Z"
   },
   {
    "duration": 24,
    "start_time": "2023-03-14T07:16:26.460Z"
   },
   {
    "duration": 15,
    "start_time": "2023-03-14T07:16:26.486Z"
   },
   {
    "duration": 44,
    "start_time": "2023-03-14T07:16:26.502Z"
   },
   {
    "duration": 241,
    "start_time": "2023-03-14T07:16:26.548Z"
   },
   {
    "duration": 8,
    "start_time": "2023-03-14T07:16:26.792Z"
   },
   {
    "duration": 26,
    "start_time": "2023-03-14T07:16:26.801Z"
   },
   {
    "duration": 605,
    "start_time": "2023-03-14T07:16:26.829Z"
   },
   {
    "duration": 44,
    "start_time": "2023-03-14T07:16:27.436Z"
   },
   {
    "duration": 686,
    "start_time": "2023-03-14T07:16:27.482Z"
   },
   {
    "duration": 7,
    "start_time": "2023-03-14T07:16:28.172Z"
   },
   {
    "duration": 64,
    "start_time": "2023-03-14T07:16:28.181Z"
   },
   {
    "duration": 317,
    "start_time": "2023-03-14T07:16:28.247Z"
   },
   {
    "duration": 777,
    "start_time": "2023-03-14T07:16:28.566Z"
   },
   {
    "duration": 30,
    "start_time": "2023-03-14T07:16:29.345Z"
   },
   {
    "duration": 15,
    "start_time": "2023-03-14T07:16:29.376Z"
   },
   {
    "duration": 11,
    "start_time": "2023-03-14T07:16:29.392Z"
   },
   {
    "duration": 83,
    "start_time": "2023-03-14T07:16:29.404Z"
   },
   {
    "duration": 42,
    "start_time": "2023-03-14T07:16:29.488Z"
   },
   {
    "duration": 259,
    "start_time": "2023-03-14T07:16:29.532Z"
   },
   {
    "duration": 67,
    "start_time": "2023-03-14T07:16:29.793Z"
   },
   {
    "duration": 27,
    "start_time": "2023-03-14T07:16:29.873Z"
   },
   {
    "duration": 61,
    "start_time": "2023-03-14T07:16:29.902Z"
   },
   {
    "duration": 34,
    "start_time": "2023-03-14T07:16:29.970Z"
   },
   {
    "duration": 94,
    "start_time": "2023-03-14T07:16:30.006Z"
   },
   {
    "duration": 15,
    "start_time": "2023-03-14T07:16:30.103Z"
   },
   {
    "duration": 32,
    "start_time": "2023-03-14T07:16:30.120Z"
   },
   {
    "duration": 76,
    "start_time": "2023-03-14T07:16:30.154Z"
   },
   {
    "duration": 8,
    "start_time": "2023-03-14T07:16:30.232Z"
   },
   {
    "duration": 140,
    "start_time": "2023-03-14T07:16:30.243Z"
   },
   {
    "duration": 49,
    "start_time": "2023-03-14T07:16:30.385Z"
   },
   {
    "duration": 30,
    "start_time": "2023-03-14T07:16:30.436Z"
   },
   {
    "duration": 52,
    "start_time": "2023-03-14T07:16:30.468Z"
   },
   {
    "duration": 60,
    "start_time": "2023-03-14T07:16:30.524Z"
   },
   {
    "duration": 44,
    "start_time": "2023-03-14T07:16:30.587Z"
   },
   {
    "duration": 32,
    "start_time": "2023-03-14T07:16:30.634Z"
   },
   {
    "duration": 64,
    "start_time": "2023-03-14T07:16:30.669Z"
   },
   {
    "duration": 100,
    "start_time": "2023-03-14T07:16:30.735Z"
   },
   {
    "duration": 12,
    "start_time": "2023-03-14T07:16:30.837Z"
   },
   {
    "duration": 79,
    "start_time": "2023-03-14T07:16:30.851Z"
   },
   {
    "duration": 82,
    "start_time": "2023-03-14T07:16:30.932Z"
   },
   {
    "duration": 20,
    "start_time": "2023-03-14T07:16:31.016Z"
   },
   {
    "duration": 42,
    "start_time": "2023-03-14T07:16:31.038Z"
   },
   {
    "duration": 36,
    "start_time": "2023-03-14T07:16:31.082Z"
   },
   {
    "duration": 62,
    "start_time": "2023-03-14T07:16:31.120Z"
   },
   {
    "duration": 61,
    "start_time": "2023-03-14T07:16:31.184Z"
   },
   {
    "duration": 92,
    "start_time": "2023-03-14T07:16:31.247Z"
   },
   {
    "duration": 44,
    "start_time": "2023-03-14T07:16:31.341Z"
   },
   {
    "duration": 48,
    "start_time": "2023-03-14T07:16:31.387Z"
   },
   {
    "duration": 41,
    "start_time": "2023-03-14T07:16:31.437Z"
   },
   {
    "duration": 37,
    "start_time": "2023-03-14T07:16:31.480Z"
   },
   {
    "duration": 747,
    "start_time": "2023-03-14T07:20:01.168Z"
   },
   {
    "duration": 778,
    "start_time": "2023-03-14T07:21:46.548Z"
   },
   {
    "duration": 12,
    "start_time": "2023-03-14T07:29:10.932Z"
   },
   {
    "duration": 14,
    "start_time": "2023-03-14T07:29:17.157Z"
   },
   {
    "duration": 14,
    "start_time": "2023-03-14T07:30:39.028Z"
   },
   {
    "duration": 14,
    "start_time": "2023-03-14T07:31:09.219Z"
   },
   {
    "duration": 1379,
    "start_time": "2023-03-14T07:31:21.258Z"
   },
   {
    "duration": 176,
    "start_time": "2023-03-14T07:31:22.639Z"
   },
   {
    "duration": 299,
    "start_time": "2023-03-14T07:31:22.817Z"
   },
   {
    "duration": 23,
    "start_time": "2023-03-14T07:31:23.120Z"
   },
   {
    "duration": 11,
    "start_time": "2023-03-14T07:31:23.146Z"
   },
   {
    "duration": 19,
    "start_time": "2023-03-14T07:31:23.159Z"
   },
   {
    "duration": 36,
    "start_time": "2023-03-14T07:31:23.180Z"
   },
   {
    "duration": 74,
    "start_time": "2023-03-14T07:31:23.219Z"
   },
   {
    "duration": 93,
    "start_time": "2023-03-14T07:31:23.294Z"
   },
   {
    "duration": 61,
    "start_time": "2023-03-14T07:31:23.391Z"
   },
   {
    "duration": 19,
    "start_time": "2023-03-14T07:31:23.455Z"
   },
   {
    "duration": 690,
    "start_time": "2023-03-14T07:31:23.476Z"
   },
   {
    "duration": 7,
    "start_time": "2023-03-14T07:31:24.168Z"
   },
   {
    "duration": 31,
    "start_time": "2023-03-14T07:31:24.177Z"
   },
   {
    "duration": 45,
    "start_time": "2023-03-14T07:31:24.210Z"
   },
   {
    "duration": 216,
    "start_time": "2023-03-14T07:31:24.258Z"
   },
   {
    "duration": 22,
    "start_time": "2023-03-14T07:31:24.476Z"
   },
   {
    "duration": 503,
    "start_time": "2023-03-14T07:31:24.499Z"
   },
   {
    "duration": 20,
    "start_time": "2023-03-14T07:31:25.004Z"
   },
   {
    "duration": 33,
    "start_time": "2023-03-14T07:31:25.025Z"
   },
   {
    "duration": 62,
    "start_time": "2023-03-14T07:31:25.060Z"
   },
   {
    "duration": 199,
    "start_time": "2023-03-14T07:31:25.124Z"
   },
   {
    "duration": 7,
    "start_time": "2023-03-14T07:31:25.325Z"
   },
   {
    "duration": 6,
    "start_time": "2023-03-14T07:31:25.334Z"
   },
   {
    "duration": 49,
    "start_time": "2023-03-14T07:31:25.342Z"
   },
   {
    "duration": 734,
    "start_time": "2023-03-14T07:31:25.393Z"
   },
   {
    "duration": 6,
    "start_time": "2023-03-14T07:31:26.129Z"
   },
   {
    "duration": 42,
    "start_time": "2023-03-14T07:31:26.140Z"
   },
   {
    "duration": 322,
    "start_time": "2023-03-14T07:31:26.184Z"
   },
   {
    "duration": 787,
    "start_time": "2023-03-14T07:31:26.508Z"
   },
   {
    "duration": 26,
    "start_time": "2023-03-14T07:31:27.297Z"
   },
   {
    "duration": 15,
    "start_time": "2023-03-14T07:31:27.325Z"
   },
   {
    "duration": 34,
    "start_time": "2023-03-14T07:31:27.341Z"
   },
   {
    "duration": 56,
    "start_time": "2023-03-14T07:31:27.376Z"
   },
   {
    "duration": 59,
    "start_time": "2023-03-14T07:31:27.434Z"
   },
   {
    "duration": 198,
    "start_time": "2023-03-14T07:31:27.495Z"
   },
   {
    "duration": 65,
    "start_time": "2023-03-14T07:31:27.695Z"
   },
   {
    "duration": 26,
    "start_time": "2023-03-14T07:31:27.774Z"
   },
   {
    "duration": 27,
    "start_time": "2023-03-14T07:31:27.802Z"
   },
   {
    "duration": 19,
    "start_time": "2023-03-14T07:31:27.831Z"
   },
   {
    "duration": 97,
    "start_time": "2023-03-14T07:31:27.852Z"
   },
   {
    "duration": 11,
    "start_time": "2023-03-14T07:31:27.950Z"
   },
   {
    "duration": 6,
    "start_time": "2023-03-14T07:31:27.973Z"
   },
   {
    "duration": 44,
    "start_time": "2023-03-14T07:31:27.981Z"
   },
   {
    "duration": 5,
    "start_time": "2023-03-14T07:31:28.027Z"
   },
   {
    "duration": 114,
    "start_time": "2023-03-14T07:31:28.034Z"
   },
   {
    "duration": 59,
    "start_time": "2023-03-14T07:31:28.150Z"
   },
   {
    "duration": 6,
    "start_time": "2023-03-14T07:31:28.210Z"
   },
   {
    "duration": 9,
    "start_time": "2023-03-14T07:31:28.217Z"
   },
   {
    "duration": 11,
    "start_time": "2023-03-14T07:31:28.227Z"
   },
   {
    "duration": 11,
    "start_time": "2023-03-14T07:31:28.240Z"
   },
   {
    "duration": 20,
    "start_time": "2023-03-14T07:31:28.253Z"
   },
   {
    "duration": 20,
    "start_time": "2023-03-14T07:31:28.275Z"
   },
   {
    "duration": 55,
    "start_time": "2023-03-14T07:31:28.296Z"
   },
   {
    "duration": 5,
    "start_time": "2023-03-14T07:31:28.353Z"
   },
   {
    "duration": 18,
    "start_time": "2023-03-14T07:31:28.360Z"
   },
   {
    "duration": 19,
    "start_time": "2023-03-14T07:31:28.379Z"
   },
   {
    "duration": 4,
    "start_time": "2023-03-14T07:31:28.401Z"
   },
   {
    "duration": 17,
    "start_time": "2023-03-14T07:31:28.407Z"
   },
   {
    "duration": 10,
    "start_time": "2023-03-14T07:31:28.426Z"
   },
   {
    "duration": 50,
    "start_time": "2023-03-14T07:31:28.438Z"
   },
   {
    "duration": 30,
    "start_time": "2023-03-14T07:31:28.490Z"
   },
   {
    "duration": 17,
    "start_time": "2023-03-14T07:31:28.522Z"
   },
   {
    "duration": 21,
    "start_time": "2023-03-14T07:31:28.541Z"
   },
   {
    "duration": 30,
    "start_time": "2023-03-14T07:31:28.564Z"
   },
   {
    "duration": 16,
    "start_time": "2023-03-14T07:31:28.596Z"
   },
   {
    "duration": 15,
    "start_time": "2023-03-14T07:31:28.615Z"
   },
   {
    "duration": 14,
    "start_time": "2023-03-14T07:32:01.983Z"
   },
   {
    "duration": 1223,
    "start_time": "2023-03-14T07:32:19.204Z"
   },
   {
    "duration": 203,
    "start_time": "2023-03-14T07:32:20.429Z"
   },
   {
    "duration": 18,
    "start_time": "2023-03-14T07:32:20.634Z"
   },
   {
    "duration": 31,
    "start_time": "2023-03-14T07:32:20.654Z"
   },
   {
    "duration": 11,
    "start_time": "2023-03-14T07:32:20.687Z"
   },
   {
    "duration": 4,
    "start_time": "2023-03-14T07:32:20.699Z"
   },
   {
    "duration": 17,
    "start_time": "2023-03-14T07:32:20.705Z"
   },
   {
    "duration": 96,
    "start_time": "2023-03-14T07:32:20.723Z"
   },
   {
    "duration": 82,
    "start_time": "2023-03-14T07:32:20.821Z"
   },
   {
    "duration": 68,
    "start_time": "2023-03-14T07:32:20.906Z"
   },
   {
    "duration": 4,
    "start_time": "2023-03-14T07:32:20.976Z"
   },
   {
    "duration": 666,
    "start_time": "2023-03-14T07:32:20.982Z"
   },
   {
    "duration": 5,
    "start_time": "2023-03-14T07:32:21.650Z"
   },
   {
    "duration": 17,
    "start_time": "2023-03-14T07:32:21.656Z"
   },
   {
    "duration": 27,
    "start_time": "2023-03-14T07:32:21.675Z"
   },
   {
    "duration": 187,
    "start_time": "2023-03-14T07:32:21.703Z"
   },
   {
    "duration": 22,
    "start_time": "2023-03-14T07:32:21.892Z"
   },
   {
    "duration": 478,
    "start_time": "2023-03-14T07:32:21.916Z"
   },
   {
    "duration": 18,
    "start_time": "2023-03-14T07:32:22.396Z"
   },
   {
    "duration": 31,
    "start_time": "2023-03-14T07:32:22.416Z"
   },
   {
    "duration": 53,
    "start_time": "2023-03-14T07:32:22.450Z"
   },
   {
    "duration": 211,
    "start_time": "2023-03-14T07:32:22.505Z"
   },
   {
    "duration": 8,
    "start_time": "2023-03-14T07:32:22.718Z"
   },
   {
    "duration": 13,
    "start_time": "2023-03-14T07:32:22.728Z"
   },
   {
    "duration": 45,
    "start_time": "2023-03-14T07:32:22.743Z"
   },
   {
    "duration": 745,
    "start_time": "2023-03-14T07:32:22.790Z"
   },
   {
    "duration": 6,
    "start_time": "2023-03-14T07:32:23.537Z"
   },
   {
    "duration": 39,
    "start_time": "2023-03-14T07:32:23.546Z"
   },
   {
    "duration": 329,
    "start_time": "2023-03-14T07:32:23.587Z"
   },
   {
    "duration": 812,
    "start_time": "2023-03-14T07:32:23.918Z"
   },
   {
    "duration": 26,
    "start_time": "2023-03-14T07:32:24.731Z"
   },
   {
    "duration": 24,
    "start_time": "2023-03-14T07:32:24.759Z"
   },
   {
    "duration": 33,
    "start_time": "2023-03-14T07:32:24.784Z"
   },
   {
    "duration": 60,
    "start_time": "2023-03-14T07:32:24.819Z"
   },
   {
    "duration": 40,
    "start_time": "2023-03-14T07:32:24.880Z"
   },
   {
    "duration": 209,
    "start_time": "2023-03-14T07:32:24.921Z"
   },
   {
    "duration": 77,
    "start_time": "2023-03-14T07:32:25.132Z"
   },
   {
    "duration": 25,
    "start_time": "2023-03-14T07:32:25.211Z"
   },
   {
    "duration": 41,
    "start_time": "2023-03-14T07:32:25.238Z"
   },
   {
    "duration": 27,
    "start_time": "2023-03-14T07:32:25.281Z"
   },
   {
    "duration": 93,
    "start_time": "2023-03-14T07:32:25.310Z"
   },
   {
    "duration": 10,
    "start_time": "2023-03-14T07:32:25.404Z"
   },
   {
    "duration": 36,
    "start_time": "2023-03-14T07:32:25.416Z"
   },
   {
    "duration": 62,
    "start_time": "2023-03-14T07:32:25.454Z"
   },
   {
    "duration": 5,
    "start_time": "2023-03-14T07:32:25.519Z"
   },
   {
    "duration": 117,
    "start_time": "2023-03-14T07:32:25.526Z"
   },
   {
    "duration": 56,
    "start_time": "2023-03-14T07:32:25.645Z"
   },
   {
    "duration": 8,
    "start_time": "2023-03-14T07:32:25.703Z"
   },
   {
    "duration": 21,
    "start_time": "2023-03-14T07:32:25.713Z"
   },
   {
    "duration": 77,
    "start_time": "2023-03-14T07:32:25.736Z"
   },
   {
    "duration": 31,
    "start_time": "2023-03-14T07:32:25.814Z"
   },
   {
    "duration": 42,
    "start_time": "2023-03-14T07:32:25.847Z"
   },
   {
    "duration": 45,
    "start_time": "2023-03-14T07:32:25.891Z"
   },
   {
    "duration": 82,
    "start_time": "2023-03-14T07:32:25.938Z"
   },
   {
    "duration": 6,
    "start_time": "2023-03-14T07:32:26.022Z"
   },
   {
    "duration": 48,
    "start_time": "2023-03-14T07:32:26.029Z"
   },
   {
    "duration": 34,
    "start_time": "2023-03-14T07:32:26.079Z"
   },
   {
    "duration": 40,
    "start_time": "2023-03-14T07:32:26.115Z"
   },
   {
    "duration": 49,
    "start_time": "2023-03-14T07:32:26.157Z"
   },
   {
    "duration": 12,
    "start_time": "2023-03-14T07:32:26.207Z"
   },
   {
    "duration": 24,
    "start_time": "2023-03-14T07:32:26.220Z"
   },
   {
    "duration": 56,
    "start_time": "2023-03-14T07:32:26.246Z"
   },
   {
    "duration": 16,
    "start_time": "2023-03-14T07:32:26.304Z"
   },
   {
    "duration": 18,
    "start_time": "2023-03-14T07:32:26.322Z"
   },
   {
    "duration": 35,
    "start_time": "2023-03-14T07:32:26.343Z"
   },
   {
    "duration": 12,
    "start_time": "2023-03-14T07:32:26.379Z"
   },
   {
    "duration": 15,
    "start_time": "2023-03-14T07:32:26.393Z"
   },
   {
    "duration": 16,
    "start_time": "2023-03-14T07:32:55.848Z"
   },
   {
    "duration": 1240,
    "start_time": "2023-03-14T07:33:05.116Z"
   },
   {
    "duration": 176,
    "start_time": "2023-03-14T07:33:06.358Z"
   },
   {
    "duration": 21,
    "start_time": "2023-03-14T07:33:06.535Z"
   },
   {
    "duration": 31,
    "start_time": "2023-03-14T07:33:06.559Z"
   },
   {
    "duration": 18,
    "start_time": "2023-03-14T07:33:06.592Z"
   },
   {
    "duration": 29,
    "start_time": "2023-03-14T07:33:06.611Z"
   },
   {
    "duration": 51,
    "start_time": "2023-03-14T07:33:06.642Z"
   },
   {
    "duration": 73,
    "start_time": "2023-03-14T07:33:06.694Z"
   },
   {
    "duration": 85,
    "start_time": "2023-03-14T07:33:06.768Z"
   },
   {
    "duration": 77,
    "start_time": "2023-03-14T07:33:06.856Z"
   },
   {
    "duration": 8,
    "start_time": "2023-03-14T07:33:06.935Z"
   },
   {
    "duration": 682,
    "start_time": "2023-03-14T07:33:06.945Z"
   },
   {
    "duration": 5,
    "start_time": "2023-03-14T07:33:07.629Z"
   },
   {
    "duration": 13,
    "start_time": "2023-03-14T07:33:07.635Z"
   },
   {
    "duration": 27,
    "start_time": "2023-03-14T07:33:07.650Z"
   },
   {
    "duration": 203,
    "start_time": "2023-03-14T07:33:07.678Z"
   },
   {
    "duration": 22,
    "start_time": "2023-03-14T07:33:07.883Z"
   },
   {
    "duration": 642,
    "start_time": "2023-03-14T07:33:07.906Z"
   },
   {
    "duration": 29,
    "start_time": "2023-03-14T07:33:08.550Z"
   },
   {
    "duration": 17,
    "start_time": "2023-03-14T07:33:08.581Z"
   },
   {
    "duration": 52,
    "start_time": "2023-03-14T07:33:08.600Z"
   },
   {
    "duration": 235,
    "start_time": "2023-03-14T07:33:08.654Z"
   },
   {
    "duration": 9,
    "start_time": "2023-03-14T07:33:08.891Z"
   },
   {
    "duration": 6,
    "start_time": "2023-03-14T07:33:08.902Z"
   },
   {
    "duration": 52,
    "start_time": "2023-03-14T07:33:08.910Z"
   },
   {
    "duration": 737,
    "start_time": "2023-03-14T07:33:08.974Z"
   },
   {
    "duration": 6,
    "start_time": "2023-03-14T07:33:09.713Z"
   },
   {
    "duration": 28,
    "start_time": "2023-03-14T07:33:09.724Z"
   },
   {
    "duration": 339,
    "start_time": "2023-03-14T07:33:09.754Z"
   },
   {
    "duration": 858,
    "start_time": "2023-03-14T07:33:10.095Z"
   },
   {
    "duration": 39,
    "start_time": "2023-03-14T07:33:10.954Z"
   },
   {
    "duration": 14,
    "start_time": "2023-03-14T07:33:10.995Z"
   },
   {
    "duration": 15,
    "start_time": "2023-03-14T07:33:11.012Z"
   },
   {
    "duration": 70,
    "start_time": "2023-03-14T07:33:11.029Z"
   },
   {
    "duration": 78,
    "start_time": "2023-03-14T07:33:11.100Z"
   },
   {
    "duration": 403,
    "start_time": "2023-03-14T07:33:11.179Z"
   },
   {
    "duration": 115,
    "start_time": "2023-03-14T07:33:11.583Z"
   },
   {
    "duration": 83,
    "start_time": "2023-03-14T07:33:11.700Z"
   },
   {
    "duration": 26,
    "start_time": "2023-03-14T07:33:11.785Z"
   },
   {
    "duration": 61,
    "start_time": "2023-03-14T07:33:11.813Z"
   },
   {
    "duration": 124,
    "start_time": "2023-03-14T07:33:11.876Z"
   },
   {
    "duration": 11,
    "start_time": "2023-03-14T07:33:12.001Z"
   },
   {
    "duration": 9,
    "start_time": "2023-03-14T07:33:12.014Z"
   },
   {
    "duration": 42,
    "start_time": "2023-03-14T07:33:12.074Z"
   },
   {
    "duration": 59,
    "start_time": "2023-03-14T07:33:12.117Z"
   },
   {
    "duration": 140,
    "start_time": "2023-03-14T07:33:12.178Z"
   },
   {
    "duration": 102,
    "start_time": "2023-03-14T07:33:12.372Z"
   },
   {
    "duration": 6,
    "start_time": "2023-03-14T07:33:12.477Z"
   },
   {
    "duration": 26,
    "start_time": "2023-03-14T07:33:12.485Z"
   },
   {
    "duration": 18,
    "start_time": "2023-03-14T07:33:12.513Z"
   },
   {
    "duration": 6,
    "start_time": "2023-03-14T07:33:12.573Z"
   },
   {
    "duration": 14,
    "start_time": "2023-03-14T07:33:12.582Z"
   },
   {
    "duration": 28,
    "start_time": "2023-03-14T07:33:12.599Z"
   },
   {
    "duration": 153,
    "start_time": "2023-03-14T07:33:12.629Z"
   },
   {
    "duration": 6,
    "start_time": "2023-03-14T07:33:12.783Z"
   },
   {
    "duration": 30,
    "start_time": "2023-03-14T07:33:12.790Z"
   },
   {
    "duration": 59,
    "start_time": "2023-03-14T07:33:12.822Z"
   },
   {
    "duration": 4,
    "start_time": "2023-03-14T07:33:12.883Z"
   },
   {
    "duration": 18,
    "start_time": "2023-03-14T07:33:12.889Z"
   },
   {
    "duration": 67,
    "start_time": "2023-03-14T07:33:12.908Z"
   },
   {
    "duration": 20,
    "start_time": "2023-03-14T07:33:12.976Z"
   },
   {
    "duration": 9,
    "start_time": "2023-03-14T07:33:12.998Z"
   },
   {
    "duration": 73,
    "start_time": "2023-03-14T07:33:13.009Z"
   },
   {
    "duration": 38,
    "start_time": "2023-03-14T07:33:13.084Z"
   },
   {
    "duration": 59,
    "start_time": "2023-03-14T07:33:13.124Z"
   },
   {
    "duration": 12,
    "start_time": "2023-03-14T07:33:13.186Z"
   },
   {
    "duration": 74,
    "start_time": "2023-03-14T07:33:13.200Z"
   },
   {
    "duration": 1339,
    "start_time": "2023-03-14T07:36:38.376Z"
   },
   {
    "duration": 176,
    "start_time": "2023-03-14T07:36:39.717Z"
   },
   {
    "duration": 20,
    "start_time": "2023-03-14T07:36:39.894Z"
   },
   {
    "duration": 23,
    "start_time": "2023-03-14T07:36:39.917Z"
   },
   {
    "duration": 31,
    "start_time": "2023-03-14T07:36:39.942Z"
   },
   {
    "duration": 4,
    "start_time": "2023-03-14T07:36:39.975Z"
   },
   {
    "duration": 20,
    "start_time": "2023-03-14T07:36:39.981Z"
   },
   {
    "duration": 86,
    "start_time": "2023-03-14T07:36:40.002Z"
   },
   {
    "duration": 85,
    "start_time": "2023-03-14T07:36:40.090Z"
   },
   {
    "duration": 60,
    "start_time": "2023-03-14T07:36:40.179Z"
   },
   {
    "duration": 32,
    "start_time": "2023-03-14T07:36:40.241Z"
   },
   {
    "duration": 743,
    "start_time": "2023-03-14T07:36:40.275Z"
   },
   {
    "duration": 6,
    "start_time": "2023-03-14T07:36:41.021Z"
   },
   {
    "duration": 8,
    "start_time": "2023-03-14T07:36:41.030Z"
   },
   {
    "duration": 35,
    "start_time": "2023-03-14T07:36:41.039Z"
   },
   {
    "duration": 189,
    "start_time": "2023-03-14T07:36:41.076Z"
   },
   {
    "duration": 26,
    "start_time": "2023-03-14T07:36:41.267Z"
   },
   {
    "duration": 481,
    "start_time": "2023-03-14T07:36:41.295Z"
   },
   {
    "duration": 19,
    "start_time": "2023-03-14T07:36:41.778Z"
   },
   {
    "duration": 25,
    "start_time": "2023-03-14T07:36:41.798Z"
   },
   {
    "duration": 55,
    "start_time": "2023-03-14T07:36:41.825Z"
   },
   {
    "duration": 203,
    "start_time": "2023-03-14T07:36:41.882Z"
   },
   {
    "duration": 9,
    "start_time": "2023-03-14T07:36:42.086Z"
   },
   {
    "duration": 11,
    "start_time": "2023-03-14T07:36:42.096Z"
   },
   {
    "duration": 35,
    "start_time": "2023-03-14T07:36:42.109Z"
   },
   {
    "duration": 748,
    "start_time": "2023-03-14T07:36:42.146Z"
   },
   {
    "duration": 6,
    "start_time": "2023-03-14T07:36:42.896Z"
   },
   {
    "duration": 37,
    "start_time": "2023-03-14T07:36:42.906Z"
   },
   {
    "duration": 335,
    "start_time": "2023-03-14T07:36:42.945Z"
   },
   {
    "duration": 781,
    "start_time": "2023-03-14T07:36:43.281Z"
   },
   {
    "duration": 29,
    "start_time": "2023-03-14T07:36:44.065Z"
   },
   {
    "duration": 16,
    "start_time": "2023-03-14T07:36:44.095Z"
   },
   {
    "duration": 14,
    "start_time": "2023-03-14T07:36:44.112Z"
   },
   {
    "duration": 78,
    "start_time": "2023-03-14T07:36:44.128Z"
   },
   {
    "duration": 66,
    "start_time": "2023-03-14T07:36:44.208Z"
   },
   {
    "duration": 210,
    "start_time": "2023-03-14T07:36:44.276Z"
   },
   {
    "duration": 64,
    "start_time": "2023-03-14T07:36:44.488Z"
   },
   {
    "duration": 42,
    "start_time": "2023-03-14T07:36:44.554Z"
   },
   {
    "duration": 29,
    "start_time": "2023-03-14T07:36:44.598Z"
   },
   {
    "duration": 17,
    "start_time": "2023-03-14T07:36:44.629Z"
   },
   {
    "duration": 91,
    "start_time": "2023-03-14T07:36:44.648Z"
   },
   {
    "duration": 11,
    "start_time": "2023-03-14T07:36:44.740Z"
   },
   {
    "duration": 22,
    "start_time": "2023-03-14T07:36:44.753Z"
   },
   {
    "duration": 49,
    "start_time": "2023-03-14T07:36:44.776Z"
   },
   {
    "duration": 5,
    "start_time": "2023-03-14T07:36:44.827Z"
   },
   {
    "duration": 103,
    "start_time": "2023-03-14T07:36:44.834Z"
   },
   {
    "duration": 59,
    "start_time": "2023-03-14T07:36:44.939Z"
   },
   {
    "duration": 5,
    "start_time": "2023-03-14T07:36:45.000Z"
   },
   {
    "duration": 43,
    "start_time": "2023-03-14T07:36:45.007Z"
   },
   {
    "duration": 17,
    "start_time": "2023-03-14T07:36:45.051Z"
   },
   {
    "duration": 14,
    "start_time": "2023-03-14T07:36:45.070Z"
   },
   {
    "duration": 7,
    "start_time": "2023-03-14T07:36:45.087Z"
   },
   {
    "duration": 18,
    "start_time": "2023-03-14T07:36:45.096Z"
   },
   {
    "duration": 49,
    "start_time": "2023-03-14T07:36:45.116Z"
   },
   {
    "duration": 5,
    "start_time": "2023-03-14T07:36:45.172Z"
   },
   {
    "duration": 8,
    "start_time": "2023-03-14T07:36:45.179Z"
   },
   {
    "duration": 19,
    "start_time": "2023-03-14T07:36:45.189Z"
   },
   {
    "duration": 7,
    "start_time": "2023-03-14T07:36:45.210Z"
   },
   {
    "duration": 17,
    "start_time": "2023-03-14T07:36:45.219Z"
   },
   {
    "duration": 41,
    "start_time": "2023-03-14T07:36:45.238Z"
   },
   {
    "duration": 25,
    "start_time": "2023-03-14T07:36:45.281Z"
   },
   {
    "duration": 14,
    "start_time": "2023-03-14T07:36:45.307Z"
   },
   {
    "duration": 22,
    "start_time": "2023-03-14T07:36:45.322Z"
   },
   {
    "duration": 33,
    "start_time": "2023-03-14T07:36:45.346Z"
   },
   {
    "duration": 14,
    "start_time": "2023-03-14T07:36:45.381Z"
   },
   {
    "duration": 18,
    "start_time": "2023-03-14T07:36:45.397Z"
   },
   {
    "duration": 12,
    "start_time": "2023-03-14T07:36:45.417Z"
   },
   {
    "duration": 129,
    "start_time": "2023-03-14T07:51:00.410Z"
   },
   {
    "duration": 1192,
    "start_time": "2023-03-14T07:51:10.827Z"
   },
   {
    "duration": 183,
    "start_time": "2023-03-14T07:51:12.021Z"
   },
   {
    "duration": 19,
    "start_time": "2023-03-14T07:51:12.206Z"
   },
   {
    "duration": 23,
    "start_time": "2023-03-14T07:51:12.227Z"
   },
   {
    "duration": 25,
    "start_time": "2023-03-14T07:51:12.252Z"
   },
   {
    "duration": 4,
    "start_time": "2023-03-14T07:51:12.279Z"
   },
   {
    "duration": 20,
    "start_time": "2023-03-14T07:51:12.285Z"
   },
   {
    "duration": 99,
    "start_time": "2023-03-14T07:51:12.307Z"
   },
   {
    "duration": 95,
    "start_time": "2023-03-14T07:51:12.408Z"
   },
   {
    "duration": 73,
    "start_time": "2023-03-14T07:51:12.506Z"
   },
   {
    "duration": 5,
    "start_time": "2023-03-14T07:51:12.580Z"
   },
   {
    "duration": 668,
    "start_time": "2023-03-14T07:51:12.587Z"
   },
   {
    "duration": 5,
    "start_time": "2023-03-14T07:51:13.257Z"
   },
   {
    "duration": 13,
    "start_time": "2023-03-14T07:51:13.263Z"
   },
   {
    "duration": 17,
    "start_time": "2023-03-14T07:51:13.277Z"
   },
   {
    "duration": 192,
    "start_time": "2023-03-14T07:51:13.296Z"
   },
   {
    "duration": 24,
    "start_time": "2023-03-14T07:51:13.489Z"
   },
   {
    "duration": 499,
    "start_time": "2023-03-14T07:51:13.514Z"
   },
   {
    "duration": 21,
    "start_time": "2023-03-14T07:51:14.014Z"
   },
   {
    "duration": 13,
    "start_time": "2023-03-14T07:51:14.037Z"
   },
   {
    "duration": 43,
    "start_time": "2023-03-14T07:51:14.072Z"
   },
   {
    "duration": 234,
    "start_time": "2023-03-14T07:51:14.117Z"
   },
   {
    "duration": 8,
    "start_time": "2023-03-14T07:51:14.353Z"
   },
   {
    "duration": 11,
    "start_time": "2023-03-14T07:51:14.363Z"
   },
   {
    "duration": 42,
    "start_time": "2023-03-14T07:51:14.375Z"
   },
   {
    "duration": 759,
    "start_time": "2023-03-14T07:51:14.418Z"
   },
   {
    "duration": 6,
    "start_time": "2023-03-14T07:51:15.179Z"
   },
   {
    "duration": 28,
    "start_time": "2023-03-14T07:51:15.189Z"
   },
   {
    "duration": 341,
    "start_time": "2023-03-14T07:51:15.219Z"
   },
   {
    "duration": 804,
    "start_time": "2023-03-14T07:51:15.562Z"
   },
   {
    "duration": 25,
    "start_time": "2023-03-14T07:51:16.373Z"
   },
   {
    "duration": 15,
    "start_time": "2023-03-14T07:51:16.400Z"
   },
   {
    "duration": 24,
    "start_time": "2023-03-14T07:51:16.417Z"
   },
   {
    "duration": 71,
    "start_time": "2023-03-14T07:51:16.443Z"
   },
   {
    "duration": 41,
    "start_time": "2023-03-14T07:51:16.516Z"
   },
   {
    "duration": 202,
    "start_time": "2023-03-14T07:51:16.572Z"
   },
   {
    "duration": 67,
    "start_time": "2023-03-14T07:51:16.776Z"
   },
   {
    "duration": 49,
    "start_time": "2023-03-14T07:51:16.846Z"
   },
   {
    "duration": 27,
    "start_time": "2023-03-14T07:51:16.896Z"
   },
   {
    "duration": 19,
    "start_time": "2023-03-14T07:51:16.925Z"
   },
   {
    "duration": 99,
    "start_time": "2023-03-14T07:51:16.946Z"
   },
   {
    "duration": 11,
    "start_time": "2023-03-14T07:51:17.047Z"
   },
   {
    "duration": 6,
    "start_time": "2023-03-14T07:51:17.072Z"
   },
   {
    "duration": 1563,
    "start_time": "2023-03-14T07:51:17.080Z"
   },
   {
    "duration": 0,
    "start_time": "2023-03-14T07:51:18.645Z"
   },
   {
    "duration": 0,
    "start_time": "2023-03-14T07:51:18.647Z"
   },
   {
    "duration": 0,
    "start_time": "2023-03-14T07:51:18.648Z"
   },
   {
    "duration": 0,
    "start_time": "2023-03-14T07:51:18.649Z"
   },
   {
    "duration": 0,
    "start_time": "2023-03-14T07:51:18.651Z"
   },
   {
    "duration": 0,
    "start_time": "2023-03-14T07:51:18.652Z"
   },
   {
    "duration": 0,
    "start_time": "2023-03-14T07:51:18.653Z"
   },
   {
    "duration": 0,
    "start_time": "2023-03-14T07:51:18.654Z"
   },
   {
    "duration": 0,
    "start_time": "2023-03-14T07:51:18.655Z"
   },
   {
    "duration": 0,
    "start_time": "2023-03-14T07:51:18.656Z"
   },
   {
    "duration": 0,
    "start_time": "2023-03-14T07:51:18.657Z"
   },
   {
    "duration": 0,
    "start_time": "2023-03-14T07:51:18.658Z"
   },
   {
    "duration": 0,
    "start_time": "2023-03-14T07:51:18.660Z"
   },
   {
    "duration": 0,
    "start_time": "2023-03-14T07:51:18.661Z"
   },
   {
    "duration": 0,
    "start_time": "2023-03-14T07:51:18.662Z"
   },
   {
    "duration": 0,
    "start_time": "2023-03-14T07:51:18.663Z"
   },
   {
    "duration": 1,
    "start_time": "2023-03-14T07:51:18.664Z"
   },
   {
    "duration": 0,
    "start_time": "2023-03-14T07:51:18.666Z"
   },
   {
    "duration": 0,
    "start_time": "2023-03-14T07:51:18.667Z"
   },
   {
    "duration": 0,
    "start_time": "2023-03-14T07:51:18.668Z"
   },
   {
    "duration": 0,
    "start_time": "2023-03-14T07:51:18.669Z"
   },
   {
    "duration": 0,
    "start_time": "2023-03-14T07:51:18.670Z"
   },
   {
    "duration": 0,
    "start_time": "2023-03-14T07:51:18.671Z"
   },
   {
    "duration": 0,
    "start_time": "2023-03-14T07:51:18.672Z"
   },
   {
    "duration": 10,
    "start_time": "2023-03-14T07:51:48.499Z"
   },
   {
    "duration": 18,
    "start_time": "2023-03-14T07:52:04.220Z"
   },
   {
    "duration": 1189,
    "start_time": "2023-03-14T07:52:46.203Z"
   },
   {
    "duration": 1197,
    "start_time": "2023-03-14T07:53:05.024Z"
   },
   {
    "duration": 170,
    "start_time": "2023-03-14T07:53:06.223Z"
   },
   {
    "duration": 19,
    "start_time": "2023-03-14T07:53:06.395Z"
   },
   {
    "duration": 22,
    "start_time": "2023-03-14T07:53:06.417Z"
   },
   {
    "duration": 8,
    "start_time": "2023-03-14T07:53:06.441Z"
   },
   {
    "duration": 24,
    "start_time": "2023-03-14T07:53:06.451Z"
   },
   {
    "duration": 21,
    "start_time": "2023-03-14T07:53:06.477Z"
   },
   {
    "duration": 86,
    "start_time": "2023-03-14T07:53:06.500Z"
   },
   {
    "duration": 93,
    "start_time": "2023-03-14T07:53:06.589Z"
   },
   {
    "duration": 60,
    "start_time": "2023-03-14T07:53:06.685Z"
   },
   {
    "duration": 5,
    "start_time": "2023-03-14T07:53:06.747Z"
   },
   {
    "duration": 686,
    "start_time": "2023-03-14T07:53:06.754Z"
   },
   {
    "duration": 6,
    "start_time": "2023-03-14T07:53:07.442Z"
   },
   {
    "duration": 9,
    "start_time": "2023-03-14T07:53:07.449Z"
   },
   {
    "duration": 26,
    "start_time": "2023-03-14T07:53:07.459Z"
   },
   {
    "duration": 211,
    "start_time": "2023-03-14T07:53:07.487Z"
   },
   {
    "duration": 24,
    "start_time": "2023-03-14T07:53:07.700Z"
   },
   {
    "duration": 500,
    "start_time": "2023-03-14T07:53:07.726Z"
   },
   {
    "duration": 20,
    "start_time": "2023-03-14T07:53:08.228Z"
   },
   {
    "duration": 29,
    "start_time": "2023-03-14T07:53:08.250Z"
   },
   {
    "duration": 43,
    "start_time": "2023-03-14T07:53:08.281Z"
   },
   {
    "duration": 217,
    "start_time": "2023-03-14T07:53:08.326Z"
   },
   {
    "duration": 10,
    "start_time": "2023-03-14T07:53:08.545Z"
   },
   {
    "duration": 19,
    "start_time": "2023-03-14T07:53:08.556Z"
   },
   {
    "duration": 39,
    "start_time": "2023-03-14T07:53:08.577Z"
   },
   {
    "duration": 1356,
    "start_time": "2023-03-14T07:53:08.617Z"
   },
   {
    "duration": 6,
    "start_time": "2023-03-14T07:53:09.975Z"
   },
   {
    "duration": 30,
    "start_time": "2023-03-14T07:53:09.985Z"
   },
   {
    "duration": 748,
    "start_time": "2023-03-14T07:53:10.072Z"
   },
   {
    "duration": 826,
    "start_time": "2023-03-14T07:53:10.873Z"
   },
   {
    "duration": 26,
    "start_time": "2023-03-14T07:53:11.700Z"
   },
   {
    "duration": 15,
    "start_time": "2023-03-14T07:53:11.729Z"
   },
   {
    "duration": 34,
    "start_time": "2023-03-14T07:53:11.747Z"
   },
   {
    "duration": 59,
    "start_time": "2023-03-14T07:53:11.783Z"
   },
   {
    "duration": 68,
    "start_time": "2023-03-14T07:53:11.844Z"
   },
   {
    "duration": 212,
    "start_time": "2023-03-14T07:53:11.914Z"
   },
   {
    "duration": 82,
    "start_time": "2023-03-14T07:53:12.128Z"
   },
   {
    "duration": 26,
    "start_time": "2023-03-14T07:53:12.212Z"
   },
   {
    "duration": 41,
    "start_time": "2023-03-14T07:53:12.240Z"
   },
   {
    "duration": 18,
    "start_time": "2023-03-14T07:53:12.283Z"
   },
   {
    "duration": 86,
    "start_time": "2023-03-14T07:53:12.303Z"
   },
   {
    "duration": 11,
    "start_time": "2023-03-14T07:53:12.391Z"
   },
   {
    "duration": 7,
    "start_time": "2023-03-14T07:53:12.403Z"
   },
   {
    "duration": 1270,
    "start_time": "2023-03-14T07:53:12.412Z"
   },
   {
    "duration": 0,
    "start_time": "2023-03-14T07:53:13.683Z"
   },
   {
    "duration": 0,
    "start_time": "2023-03-14T07:53:13.685Z"
   },
   {
    "duration": 0,
    "start_time": "2023-03-14T07:53:13.686Z"
   },
   {
    "duration": 0,
    "start_time": "2023-03-14T07:53:13.688Z"
   },
   {
    "duration": 0,
    "start_time": "2023-03-14T07:53:13.689Z"
   },
   {
    "duration": 0,
    "start_time": "2023-03-14T07:53:13.691Z"
   },
   {
    "duration": 0,
    "start_time": "2023-03-14T07:53:13.693Z"
   },
   {
    "duration": 0,
    "start_time": "2023-03-14T07:53:13.694Z"
   },
   {
    "duration": 0,
    "start_time": "2023-03-14T07:53:13.696Z"
   },
   {
    "duration": 0,
    "start_time": "2023-03-14T07:53:13.698Z"
   },
   {
    "duration": 0,
    "start_time": "2023-03-14T07:53:13.699Z"
   },
   {
    "duration": 0,
    "start_time": "2023-03-14T07:53:13.702Z"
   },
   {
    "duration": 0,
    "start_time": "2023-03-14T07:53:13.703Z"
   },
   {
    "duration": 0,
    "start_time": "2023-03-14T07:53:13.705Z"
   },
   {
    "duration": 0,
    "start_time": "2023-03-14T07:53:13.706Z"
   },
   {
    "duration": 0,
    "start_time": "2023-03-14T07:53:13.708Z"
   },
   {
    "duration": 0,
    "start_time": "2023-03-14T07:53:13.709Z"
   },
   {
    "duration": 0,
    "start_time": "2023-03-14T07:53:13.711Z"
   },
   {
    "duration": 0,
    "start_time": "2023-03-14T07:53:13.712Z"
   },
   {
    "duration": 0,
    "start_time": "2023-03-14T07:53:13.713Z"
   },
   {
    "duration": 0,
    "start_time": "2023-03-14T07:53:13.714Z"
   },
   {
    "duration": 0,
    "start_time": "2023-03-14T07:53:13.715Z"
   },
   {
    "duration": 0,
    "start_time": "2023-03-14T07:53:13.717Z"
   },
   {
    "duration": 0,
    "start_time": "2023-03-14T07:53:13.718Z"
   },
   {
    "duration": 155,
    "start_time": "2023-03-14T07:54:51.096Z"
   },
   {
    "duration": 1254,
    "start_time": "2023-03-14T07:58:52.263Z"
   },
   {
    "duration": 172,
    "start_time": "2023-03-14T07:58:53.520Z"
   },
   {
    "duration": 20,
    "start_time": "2023-03-14T07:58:53.693Z"
   },
   {
    "duration": 37,
    "start_time": "2023-03-14T07:58:53.716Z"
   },
   {
    "duration": 9,
    "start_time": "2023-03-14T07:58:53.773Z"
   },
   {
    "duration": 5,
    "start_time": "2023-03-14T07:58:53.785Z"
   },
   {
    "duration": 29,
    "start_time": "2023-03-14T07:58:53.792Z"
   },
   {
    "duration": 91,
    "start_time": "2023-03-14T07:58:53.823Z"
   },
   {
    "duration": 103,
    "start_time": "2023-03-14T07:58:53.916Z"
   },
   {
    "duration": 85,
    "start_time": "2023-03-14T07:58:54.023Z"
   },
   {
    "duration": 6,
    "start_time": "2023-03-14T07:58:54.109Z"
   },
   {
    "duration": 703,
    "start_time": "2023-03-14T07:58:54.117Z"
   },
   {
    "duration": 5,
    "start_time": "2023-03-14T07:58:54.821Z"
   },
   {
    "duration": 9,
    "start_time": "2023-03-14T07:58:54.828Z"
   },
   {
    "duration": 16,
    "start_time": "2023-03-14T07:58:54.839Z"
   },
   {
    "duration": 200,
    "start_time": "2023-03-14T07:58:54.857Z"
   },
   {
    "duration": 28,
    "start_time": "2023-03-14T07:58:55.059Z"
   },
   {
    "duration": 498,
    "start_time": "2023-03-14T07:58:55.088Z"
   },
   {
    "duration": 21,
    "start_time": "2023-03-14T07:58:55.588Z"
   },
   {
    "duration": 15,
    "start_time": "2023-03-14T07:58:55.610Z"
   },
   {
    "duration": 85,
    "start_time": "2023-03-14T07:58:55.627Z"
   },
   {
    "duration": 221,
    "start_time": "2023-03-14T07:58:55.714Z"
   },
   {
    "duration": 8,
    "start_time": "2023-03-14T07:58:55.937Z"
   },
   {
    "duration": 17,
    "start_time": "2023-03-14T07:58:55.947Z"
   },
   {
    "duration": 35,
    "start_time": "2023-03-14T07:58:55.972Z"
   },
   {
    "duration": 764,
    "start_time": "2023-03-14T07:58:56.009Z"
   },
   {
    "duration": 6,
    "start_time": "2023-03-14T07:58:56.775Z"
   },
   {
    "duration": 41,
    "start_time": "2023-03-14T07:58:56.785Z"
   },
   {
    "duration": 336,
    "start_time": "2023-03-14T07:58:56.827Z"
   },
   {
    "duration": 814,
    "start_time": "2023-03-14T07:58:57.165Z"
   },
   {
    "duration": 24,
    "start_time": "2023-03-14T07:58:57.981Z"
   },
   {
    "duration": 15,
    "start_time": "2023-03-14T07:58:58.007Z"
   },
   {
    "duration": 13,
    "start_time": "2023-03-14T07:58:58.024Z"
   },
   {
    "duration": 82,
    "start_time": "2023-03-14T07:58:58.039Z"
   },
   {
    "duration": 54,
    "start_time": "2023-03-14T07:58:58.124Z"
   },
   {
    "duration": 216,
    "start_time": "2023-03-14T07:58:58.180Z"
   },
   {
    "duration": 119,
    "start_time": "2023-03-14T07:58:58.397Z"
   },
   {
    "duration": 77,
    "start_time": "2023-03-14T07:58:58.518Z"
   },
   {
    "duration": 81,
    "start_time": "2023-03-14T07:58:58.597Z"
   },
   {
    "duration": 8,
    "start_time": "2023-03-14T07:58:58.679Z"
   },
   {
    "duration": 130,
    "start_time": "2023-03-14T07:58:58.689Z"
   },
   {
    "duration": 11,
    "start_time": "2023-03-14T07:58:58.874Z"
   },
   {
    "duration": 8,
    "start_time": "2023-03-14T07:58:58.887Z"
   },
   {
    "duration": 297,
    "start_time": "2023-03-14T07:58:58.897Z"
   },
   {
    "duration": 119,
    "start_time": "2023-03-14T07:58:59.196Z"
   },
   {
    "duration": 58,
    "start_time": "2023-03-14T07:58:59.317Z"
   },
   {
    "duration": 196,
    "start_time": "2023-03-14T07:58:59.377Z"
   },
   {
    "duration": 103,
    "start_time": "2023-03-14T07:58:59.575Z"
   },
   {
    "duration": 5,
    "start_time": "2023-03-14T07:58:59.680Z"
   },
   {
    "duration": 12,
    "start_time": "2023-03-14T07:58:59.687Z"
   },
   {
    "duration": 7,
    "start_time": "2023-03-14T07:58:59.701Z"
   },
   {
    "duration": 11,
    "start_time": "2023-03-14T07:58:59.710Z"
   },
   {
    "duration": 4,
    "start_time": "2023-03-14T07:58:59.773Z"
   },
   {
    "duration": 15,
    "start_time": "2023-03-14T07:58:59.780Z"
   },
   {
    "duration": 176,
    "start_time": "2023-03-14T07:58:59.797Z"
   },
   {
    "duration": 7,
    "start_time": "2023-03-14T07:58:59.975Z"
   },
   {
    "duration": 11,
    "start_time": "2023-03-14T07:58:59.984Z"
   },
   {
    "duration": 76,
    "start_time": "2023-03-14T07:58:59.998Z"
   },
   {
    "duration": 4,
    "start_time": "2023-03-14T07:59:00.077Z"
   },
   {
    "duration": 35,
    "start_time": "2023-03-14T07:59:00.083Z"
   },
   {
    "duration": 59,
    "start_time": "2023-03-14T07:59:00.120Z"
   },
   {
    "duration": 50,
    "start_time": "2023-03-14T07:59:00.181Z"
   },
   {
    "duration": 14,
    "start_time": "2023-03-14T07:59:00.274Z"
   },
   {
    "duration": 89,
    "start_time": "2023-03-14T07:59:00.290Z"
   },
   {
    "duration": 21,
    "start_time": "2023-03-14T07:59:00.381Z"
   },
   {
    "duration": 83,
    "start_time": "2023-03-14T07:59:00.404Z"
   },
   {
    "duration": 90,
    "start_time": "2023-03-14T07:59:00.490Z"
   },
   {
    "duration": 15,
    "start_time": "2023-03-14T07:59:00.583Z"
   },
   {
    "duration": 1249,
    "start_time": "2023-03-14T09:51:15.164Z"
   },
   {
    "duration": 173,
    "start_time": "2023-03-14T09:51:16.415Z"
   },
   {
    "duration": 21,
    "start_time": "2023-03-14T09:51:16.590Z"
   },
   {
    "duration": 22,
    "start_time": "2023-03-14T09:51:16.614Z"
   },
   {
    "duration": 7,
    "start_time": "2023-03-14T09:51:16.638Z"
   },
   {
    "duration": 5,
    "start_time": "2023-03-14T09:51:16.673Z"
   },
   {
    "duration": 23,
    "start_time": "2023-03-14T09:51:16.679Z"
   },
   {
    "duration": 93,
    "start_time": "2023-03-14T09:51:16.703Z"
   },
   {
    "duration": 96,
    "start_time": "2023-03-14T09:51:16.797Z"
   },
   {
    "duration": 88,
    "start_time": "2023-03-14T09:51:16.896Z"
   },
   {
    "duration": 7,
    "start_time": "2023-03-14T09:51:16.987Z"
   },
   {
    "duration": 683,
    "start_time": "2023-03-14T09:51:16.996Z"
   },
   {
    "duration": 6,
    "start_time": "2023-03-14T09:51:17.681Z"
   },
   {
    "duration": 8,
    "start_time": "2023-03-14T09:51:17.689Z"
   },
   {
    "duration": 17,
    "start_time": "2023-03-14T09:51:17.700Z"
   },
   {
    "duration": 218,
    "start_time": "2023-03-14T09:51:17.718Z"
   },
   {
    "duration": 42,
    "start_time": "2023-03-14T09:51:17.939Z"
   },
   {
    "duration": 500,
    "start_time": "2023-03-14T09:51:17.983Z"
   },
   {
    "duration": 21,
    "start_time": "2023-03-14T09:51:18.484Z"
   },
   {
    "duration": 14,
    "start_time": "2023-03-14T09:51:18.507Z"
   },
   {
    "duration": 72,
    "start_time": "2023-03-14T09:51:18.523Z"
   },
   {
    "duration": 235,
    "start_time": "2023-03-14T09:51:18.596Z"
   },
   {
    "duration": 8,
    "start_time": "2023-03-14T09:51:18.833Z"
   },
   {
    "duration": 11,
    "start_time": "2023-03-14T09:51:18.842Z"
   },
   {
    "duration": 52,
    "start_time": "2023-03-14T09:51:18.854Z"
   },
   {
    "duration": 784,
    "start_time": "2023-03-14T09:51:18.909Z"
   },
   {
    "duration": 6,
    "start_time": "2023-03-14T09:51:19.694Z"
   },
   {
    "duration": 28,
    "start_time": "2023-03-14T09:51:19.704Z"
   },
   {
    "duration": 358,
    "start_time": "2023-03-14T09:51:19.733Z"
   },
   {
    "duration": 855,
    "start_time": "2023-03-14T09:51:20.093Z"
   },
   {
    "duration": 37,
    "start_time": "2023-03-14T09:51:20.950Z"
   },
   {
    "duration": 14,
    "start_time": "2023-03-14T09:51:20.989Z"
   },
   {
    "duration": 30,
    "start_time": "2023-03-14T09:51:21.005Z"
   },
   {
    "duration": 74,
    "start_time": "2023-03-14T09:51:21.037Z"
   },
   {
    "duration": 41,
    "start_time": "2023-03-14T09:51:21.113Z"
   },
   {
    "duration": 185,
    "start_time": "2023-03-14T09:51:21.172Z"
   },
   {
    "duration": 75,
    "start_time": "2023-03-14T09:51:21.359Z"
   },
   {
    "duration": 39,
    "start_time": "2023-03-14T09:51:21.436Z"
   },
   {
    "duration": 28,
    "start_time": "2023-03-14T09:51:21.477Z"
   },
   {
    "duration": 8,
    "start_time": "2023-03-14T09:51:21.507Z"
   },
   {
    "duration": 114,
    "start_time": "2023-03-14T09:51:21.516Z"
   },
   {
    "duration": 16,
    "start_time": "2023-03-14T09:51:21.632Z"
   },
   {
    "duration": 24,
    "start_time": "2023-03-14T09:51:21.650Z"
   },
   {
    "duration": 141,
    "start_time": "2023-03-14T09:51:21.676Z"
   },
   {
    "duration": 81,
    "start_time": "2023-03-14T09:51:21.819Z"
   },
   {
    "duration": 5,
    "start_time": "2023-03-14T09:51:21.901Z"
   },
   {
    "duration": 195,
    "start_time": "2023-03-14T09:51:21.908Z"
   },
   {
    "duration": 77,
    "start_time": "2023-03-14T09:51:22.105Z"
   },
   {
    "duration": 6,
    "start_time": "2023-03-14T09:51:22.184Z"
   },
   {
    "duration": 8,
    "start_time": "2023-03-14T09:51:22.192Z"
   },
   {
    "duration": 16,
    "start_time": "2023-03-14T09:51:22.202Z"
   },
   {
    "duration": 10,
    "start_time": "2023-03-14T09:51:22.220Z"
   },
   {
    "duration": 7,
    "start_time": "2023-03-14T09:51:22.232Z"
   },
   {
    "duration": 38,
    "start_time": "2023-03-14T09:51:22.241Z"
   },
   {
    "duration": 53,
    "start_time": "2023-03-14T09:51:22.281Z"
   },
   {
    "duration": 6,
    "start_time": "2023-03-14T09:51:22.336Z"
   },
   {
    "duration": 7,
    "start_time": "2023-03-14T09:51:22.373Z"
   },
   {
    "duration": 17,
    "start_time": "2023-03-14T09:51:22.382Z"
   },
   {
    "duration": 4,
    "start_time": "2023-03-14T09:51:22.400Z"
   },
   {
    "duration": 13,
    "start_time": "2023-03-14T09:51:22.406Z"
   },
   {
    "duration": 10,
    "start_time": "2023-03-14T09:51:22.420Z"
   },
   {
    "duration": 20,
    "start_time": "2023-03-14T09:51:22.472Z"
   },
   {
    "duration": 8,
    "start_time": "2023-03-14T09:51:22.494Z"
   },
   {
    "duration": 15,
    "start_time": "2023-03-14T09:51:22.504Z"
   },
   {
    "duration": 11,
    "start_time": "2023-03-14T09:51:22.521Z"
   },
   {
    "duration": 13,
    "start_time": "2023-03-14T09:51:22.573Z"
   },
   {
    "duration": 11,
    "start_time": "2023-03-14T09:51:22.588Z"
   },
   {
    "duration": 28,
    "start_time": "2023-03-14T09:51:22.601Z"
   },
   {
    "duration": 4,
    "start_time": "2023-03-14T09:56:46.532Z"
   },
   {
    "duration": 118,
    "start_time": "2023-03-14T10:56:33.951Z"
   },
   {
    "duration": 4,
    "start_time": "2023-03-14T10:58:09.208Z"
   },
   {
    "duration": 4,
    "start_time": "2023-03-14T11:17:59.646Z"
   },
   {
    "duration": 5,
    "start_time": "2023-03-14T11:18:39.020Z"
   },
   {
    "duration": 4,
    "start_time": "2023-03-14T11:18:46.401Z"
   },
   {
    "duration": 5,
    "start_time": "2023-03-14T11:18:58.113Z"
   },
   {
    "duration": 4,
    "start_time": "2023-03-14T11:28:27.645Z"
   },
   {
    "duration": 4,
    "start_time": "2023-03-14T11:36:53.554Z"
   },
   {
    "duration": 5,
    "start_time": "2023-03-14T11:43:34.165Z"
   },
   {
    "duration": 1214,
    "start_time": "2023-03-14T11:47:40.809Z"
   },
   {
    "duration": 177,
    "start_time": "2023-03-14T11:47:42.025Z"
   },
   {
    "duration": 21,
    "start_time": "2023-03-14T11:47:42.204Z"
   },
   {
    "duration": 46,
    "start_time": "2023-03-14T11:47:42.227Z"
   },
   {
    "duration": 7,
    "start_time": "2023-03-14T11:47:42.276Z"
   },
   {
    "duration": 4,
    "start_time": "2023-03-14T11:47:42.285Z"
   },
   {
    "duration": 24,
    "start_time": "2023-03-14T11:47:42.291Z"
   },
   {
    "duration": 108,
    "start_time": "2023-03-14T11:47:42.317Z"
   },
   {
    "duration": 97,
    "start_time": "2023-03-14T11:47:42.426Z"
   },
   {
    "duration": 90,
    "start_time": "2023-03-14T11:47:42.525Z"
   },
   {
    "duration": 5,
    "start_time": "2023-03-14T11:47:42.617Z"
   },
   {
    "duration": 713,
    "start_time": "2023-03-14T11:47:42.625Z"
   },
   {
    "duration": 6,
    "start_time": "2023-03-14T11:47:43.341Z"
   },
   {
    "duration": 30,
    "start_time": "2023-03-14T11:47:43.351Z"
   },
   {
    "duration": 19,
    "start_time": "2023-03-14T11:47:43.384Z"
   },
   {
    "duration": 202,
    "start_time": "2023-03-14T11:47:43.405Z"
   },
   {
    "duration": 28,
    "start_time": "2023-03-14T11:47:43.609Z"
   },
   {
    "duration": 521,
    "start_time": "2023-03-14T11:47:43.639Z"
   },
   {
    "duration": 26,
    "start_time": "2023-03-14T11:47:44.162Z"
   },
   {
    "duration": 14,
    "start_time": "2023-03-14T11:47:44.189Z"
   },
   {
    "duration": 72,
    "start_time": "2023-03-14T11:47:44.204Z"
   },
   {
    "duration": 235,
    "start_time": "2023-03-14T11:47:44.278Z"
   },
   {
    "duration": 10,
    "start_time": "2023-03-14T11:47:44.516Z"
   },
   {
    "duration": 5,
    "start_time": "2023-03-14T11:47:44.529Z"
   },
   {
    "duration": 70,
    "start_time": "2023-03-14T11:47:44.536Z"
   },
   {
    "duration": 744,
    "start_time": "2023-03-14T11:47:44.608Z"
   },
   {
    "duration": 7,
    "start_time": "2023-03-14T11:47:45.354Z"
   },
   {
    "duration": 29,
    "start_time": "2023-03-14T11:47:45.374Z"
   },
   {
    "duration": 336,
    "start_time": "2023-03-14T11:47:45.405Z"
   },
   {
    "duration": 822,
    "start_time": "2023-03-14T11:47:45.743Z"
   },
   {
    "duration": 31,
    "start_time": "2023-03-14T11:47:46.574Z"
   },
   {
    "duration": 15,
    "start_time": "2023-03-14T11:47:46.608Z"
   },
   {
    "duration": 11,
    "start_time": "2023-03-14T11:47:46.626Z"
   },
   {
    "duration": 68,
    "start_time": "2023-03-14T11:47:46.672Z"
   },
   {
    "duration": 64,
    "start_time": "2023-03-14T11:47:46.742Z"
   },
   {
    "duration": 218,
    "start_time": "2023-03-14T11:47:46.808Z"
   },
   {
    "duration": 94,
    "start_time": "2023-03-14T11:47:47.028Z"
   },
   {
    "duration": 28,
    "start_time": "2023-03-14T11:47:47.124Z"
   },
   {
    "duration": 44,
    "start_time": "2023-03-14T11:47:47.154Z"
   },
   {
    "duration": 15,
    "start_time": "2023-03-14T11:47:47.200Z"
   },
   {
    "duration": 107,
    "start_time": "2023-03-14T11:47:47.220Z"
   },
   {
    "duration": 11,
    "start_time": "2023-03-14T11:47:47.329Z"
   },
   {
    "duration": 12,
    "start_time": "2023-03-14T11:47:47.342Z"
   },
   {
    "duration": 145,
    "start_time": "2023-03-14T11:47:47.374Z"
   },
   {
    "duration": 75,
    "start_time": "2023-03-14T11:47:47.521Z"
   },
   {
    "duration": 5,
    "start_time": "2023-03-14T11:47:47.597Z"
   },
   {
    "duration": 214,
    "start_time": "2023-03-14T11:47:47.605Z"
   },
   {
    "duration": 87,
    "start_time": "2023-03-14T11:47:47.821Z"
   },
   {
    "duration": 5,
    "start_time": "2023-03-14T11:47:47.910Z"
   },
   {
    "duration": 13,
    "start_time": "2023-03-14T11:47:47.917Z"
   },
   {
    "duration": 15,
    "start_time": "2023-03-14T11:47:47.932Z"
   },
   {
    "duration": 25,
    "start_time": "2023-03-14T11:47:47.950Z"
   },
   {
    "duration": 5,
    "start_time": "2023-03-14T11:47:47.978Z"
   },
   {
    "duration": 20,
    "start_time": "2023-03-14T11:47:47.985Z"
   },
   {
    "duration": 88,
    "start_time": "2023-03-14T11:47:48.007Z"
   },
   {
    "duration": 6,
    "start_time": "2023-03-14T11:47:48.097Z"
   },
   {
    "duration": 15,
    "start_time": "2023-03-14T11:47:48.105Z"
   },
   {
    "duration": 20,
    "start_time": "2023-03-14T11:47:48.122Z"
   },
   {
    "duration": 30,
    "start_time": "2023-03-14T11:47:48.145Z"
   },
   {
    "duration": 16,
    "start_time": "2023-03-14T11:47:48.176Z"
   },
   {
    "duration": 12,
    "start_time": "2023-03-14T11:47:48.194Z"
   },
   {
    "duration": 19,
    "start_time": "2023-03-14T11:47:48.208Z"
   },
   {
    "duration": 13,
    "start_time": "2023-03-14T11:47:48.229Z"
   },
   {
    "duration": 41,
    "start_time": "2023-03-14T11:47:48.243Z"
   },
   {
    "duration": 14,
    "start_time": "2023-03-14T11:47:48.286Z"
   },
   {
    "duration": 22,
    "start_time": "2023-03-14T11:47:48.302Z"
   },
   {
    "duration": 51,
    "start_time": "2023-03-14T11:47:48.326Z"
   },
   {
    "duration": 20,
    "start_time": "2023-03-14T11:47:48.379Z"
   },
   {
    "duration": 18,
    "start_time": "2023-03-14T11:47:48.401Z"
   },
   {
    "duration": 7,
    "start_time": "2023-03-14T11:47:48.421Z"
   },
   {
    "duration": 1158,
    "start_time": "2023-03-15T10:17:35.670Z"
   },
   {
    "duration": 159,
    "start_time": "2023-03-15T10:17:36.830Z"
   },
   {
    "duration": 17,
    "start_time": "2023-03-15T10:17:36.990Z"
   },
   {
    "duration": 20,
    "start_time": "2023-03-15T10:17:37.008Z"
   },
   {
    "duration": 6,
    "start_time": "2023-03-15T10:17:37.029Z"
   },
   {
    "duration": 21,
    "start_time": "2023-03-15T10:17:37.036Z"
   },
   {
    "duration": 15,
    "start_time": "2023-03-15T10:17:37.059Z"
   },
   {
    "duration": 87,
    "start_time": "2023-03-15T10:17:37.075Z"
   },
   {
    "duration": 74,
    "start_time": "2023-03-15T10:17:37.164Z"
   },
   {
    "duration": 71,
    "start_time": "2023-03-15T10:17:37.239Z"
   },
   {
    "duration": 4,
    "start_time": "2023-03-15T10:17:37.312Z"
   },
   {
    "duration": 671,
    "start_time": "2023-03-15T10:17:37.318Z"
   },
   {
    "duration": 5,
    "start_time": "2023-03-15T10:17:37.990Z"
   },
   {
    "duration": 6,
    "start_time": "2023-03-15T10:17:37.998Z"
   },
   {
    "duration": 12,
    "start_time": "2023-03-15T10:17:38.006Z"
   },
   {
    "duration": 159,
    "start_time": "2023-03-15T10:17:38.019Z"
   },
   {
    "duration": 19,
    "start_time": "2023-03-15T10:17:38.180Z"
   },
   {
    "duration": 492,
    "start_time": "2023-03-15T10:17:38.201Z"
   },
   {
    "duration": 18,
    "start_time": "2023-03-15T10:17:38.695Z"
   },
   {
    "duration": 11,
    "start_time": "2023-03-15T10:17:38.715Z"
   },
   {
    "duration": 58,
    "start_time": "2023-03-15T10:17:38.727Z"
   },
   {
    "duration": 188,
    "start_time": "2023-03-15T10:17:38.787Z"
   },
   {
    "duration": 7,
    "start_time": "2023-03-15T10:17:38.977Z"
   },
   {
    "duration": 4,
    "start_time": "2023-03-15T10:17:38.986Z"
   },
   {
    "duration": 29,
    "start_time": "2023-03-15T10:17:38.991Z"
   },
   {
    "duration": 637,
    "start_time": "2023-03-15T10:17:39.022Z"
   },
   {
    "duration": 7,
    "start_time": "2023-03-15T10:17:39.661Z"
   },
   {
    "duration": 31,
    "start_time": "2023-03-15T10:17:39.670Z"
   },
   {
    "duration": 308,
    "start_time": "2023-03-15T10:17:39.703Z"
   },
   {
    "duration": 674,
    "start_time": "2023-03-15T10:17:40.012Z"
   },
   {
    "duration": 21,
    "start_time": "2023-03-15T10:17:40.687Z"
   },
   {
    "duration": 11,
    "start_time": "2023-03-15T10:17:40.710Z"
   },
   {
    "duration": 27,
    "start_time": "2023-03-15T10:17:40.722Z"
   },
   {
    "duration": 68,
    "start_time": "2023-03-15T10:17:40.750Z"
   },
   {
    "duration": 36,
    "start_time": "2023-03-15T10:17:40.819Z"
   },
   {
    "duration": 189,
    "start_time": "2023-03-15T10:17:40.857Z"
   },
   {
    "duration": 63,
    "start_time": "2023-03-15T10:17:41.047Z"
   },
   {
    "duration": 22,
    "start_time": "2023-03-15T10:17:41.112Z"
   },
   {
    "duration": 37,
    "start_time": "2023-03-15T10:17:41.136Z"
   },
   {
    "duration": 12,
    "start_time": "2023-03-15T10:17:41.174Z"
   },
   {
    "duration": 81,
    "start_time": "2023-03-15T10:17:41.190Z"
   },
   {
    "duration": 8,
    "start_time": "2023-03-15T10:17:41.273Z"
   },
   {
    "duration": 18,
    "start_time": "2023-03-15T10:17:41.283Z"
   },
   {
    "duration": 379,
    "start_time": "2023-03-15T10:17:41.302Z"
   },
   {
    "duration": 37,
    "start_time": "2023-03-15T10:17:41.682Z"
   },
   {
    "duration": 36,
    "start_time": "2023-03-15T10:17:41.721Z"
   },
   {
    "duration": 115,
    "start_time": "2023-03-15T10:17:41.758Z"
   },
   {
    "duration": 41,
    "start_time": "2023-03-15T10:17:41.875Z"
   },
   {
    "duration": 4,
    "start_time": "2023-03-15T10:17:41.918Z"
   },
   {
    "duration": 16,
    "start_time": "2023-03-15T10:17:41.924Z"
   },
   {
    "duration": 19,
    "start_time": "2023-03-15T10:17:41.955Z"
   },
   {
    "duration": 32,
    "start_time": "2023-03-15T10:17:41.976Z"
   },
   {
    "duration": 14,
    "start_time": "2023-03-15T10:17:42.009Z"
   },
   {
    "duration": 31,
    "start_time": "2023-03-15T10:17:42.024Z"
   },
   {
    "duration": 61,
    "start_time": "2023-03-15T10:17:42.057Z"
   },
   {
    "duration": 4,
    "start_time": "2023-03-15T10:17:42.120Z"
   },
   {
    "duration": 25,
    "start_time": "2023-03-15T10:17:42.126Z"
   },
   {
    "duration": 34,
    "start_time": "2023-03-15T10:17:42.153Z"
   },
   {
    "duration": 22,
    "start_time": "2023-03-15T10:17:42.189Z"
   },
   {
    "duration": 21,
    "start_time": "2023-03-15T10:17:42.213Z"
   },
   {
    "duration": 11,
    "start_time": "2023-03-15T10:17:42.235Z"
   },
   {
    "duration": 26,
    "start_time": "2023-03-15T10:17:42.248Z"
   },
   {
    "duration": 23,
    "start_time": "2023-03-15T10:17:42.276Z"
   },
   {
    "duration": 25,
    "start_time": "2023-03-15T10:17:42.300Z"
   },
   {
    "duration": 24,
    "start_time": "2023-03-15T10:17:42.327Z"
   },
   {
    "duration": 10,
    "start_time": "2023-03-15T10:17:42.352Z"
   },
   {
    "duration": 28,
    "start_time": "2023-03-15T10:17:42.364Z"
   },
   {
    "duration": 16,
    "start_time": "2023-03-15T10:17:42.394Z"
   },
   {
    "duration": 12,
    "start_time": "2023-03-15T10:17:42.411Z"
   },
   {
    "duration": 23,
    "start_time": "2023-03-15T10:17:42.425Z"
   },
   {
    "duration": 1292,
    "start_time": "2023-06-24T12:35:21.838Z"
   },
   {
    "duration": 869,
    "start_time": "2023-06-24T12:35:23.132Z"
   },
   {
    "duration": 21,
    "start_time": "2023-06-24T12:35:24.003Z"
   },
   {
    "duration": 27,
    "start_time": "2023-06-24T12:35:24.026Z"
   },
   {
    "duration": 8,
    "start_time": "2023-06-24T12:35:24.055Z"
   },
   {
    "duration": 14,
    "start_time": "2023-06-24T12:35:24.065Z"
   },
   {
    "duration": 38,
    "start_time": "2023-06-24T12:35:24.080Z"
   },
   {
    "duration": 73,
    "start_time": "2023-06-24T12:35:24.120Z"
   },
   {
    "duration": 100,
    "start_time": "2023-06-24T12:35:24.195Z"
   },
   {
    "duration": 78,
    "start_time": "2023-06-24T12:35:24.296Z"
   },
   {
    "duration": 5,
    "start_time": "2023-06-24T12:35:24.376Z"
   },
   {
    "duration": 940,
    "start_time": "2023-06-24T12:35:24.382Z"
   },
   {
    "duration": 5,
    "start_time": "2023-06-24T12:35:25.324Z"
   },
   {
    "duration": 16,
    "start_time": "2023-06-24T12:35:25.335Z"
   },
   {
    "duration": 64,
    "start_time": "2023-06-24T12:35:25.352Z"
   },
   {
    "duration": 503,
    "start_time": "2023-06-24T12:35:25.418Z"
   },
   {
    "duration": 37,
    "start_time": "2023-06-24T12:35:25.924Z"
   },
   {
    "duration": 1274,
    "start_time": "2023-06-24T12:35:25.963Z"
   },
   {
    "duration": 24,
    "start_time": "2023-06-24T12:35:27.239Z"
   },
   {
    "duration": 16,
    "start_time": "2023-06-24T12:35:27.314Z"
   },
   {
    "duration": 87,
    "start_time": "2023-06-24T12:35:27.331Z"
   },
   {
    "duration": 230,
    "start_time": "2023-06-24T12:35:27.420Z"
   },
   {
    "duration": 11,
    "start_time": "2023-06-24T12:35:27.652Z"
   },
   {
    "duration": 4,
    "start_time": "2023-06-24T12:35:27.665Z"
   },
   {
    "duration": 46,
    "start_time": "2023-06-24T12:35:27.671Z"
   },
   {
    "duration": 793,
    "start_time": "2023-06-24T12:35:27.719Z"
   },
   {
    "duration": 7,
    "start_time": "2023-06-24T12:35:28.514Z"
   },
   {
    "duration": 32,
    "start_time": "2023-06-24T12:35:28.523Z"
   },
   {
    "duration": 352,
    "start_time": "2023-06-24T12:35:28.557Z"
   },
   {
    "duration": 877,
    "start_time": "2023-06-24T12:35:28.913Z"
   },
   {
    "duration": 37,
    "start_time": "2023-06-24T12:35:29.794Z"
   },
   {
    "duration": 22,
    "start_time": "2023-06-24T12:35:29.834Z"
   },
   {
    "duration": 35,
    "start_time": "2023-06-24T12:35:29.858Z"
   },
   {
    "duration": 88,
    "start_time": "2023-06-24T12:35:29.895Z"
   },
   {
    "duration": 72,
    "start_time": "2023-06-24T12:35:29.985Z"
   },
   {
    "duration": 212,
    "start_time": "2023-06-24T12:35:30.059Z"
   },
   {
    "duration": 77,
    "start_time": "2023-06-24T12:35:30.273Z"
   },
   {
    "duration": 23,
    "start_time": "2023-06-24T12:35:30.351Z"
   },
   {
    "duration": 88,
    "start_time": "2023-06-24T12:35:30.376Z"
   },
   {
    "duration": 147,
    "start_time": "2023-06-24T12:35:30.466Z"
   },
   {
    "duration": 89,
    "start_time": "2023-06-24T12:35:30.618Z"
   },
   {
    "duration": 12,
    "start_time": "2023-06-24T12:35:30.709Z"
   },
   {
    "duration": 38,
    "start_time": "2023-06-24T12:35:30.723Z"
   },
   {
    "duration": 212,
    "start_time": "2023-06-24T12:35:30.763Z"
   },
   {
    "duration": 56,
    "start_time": "2023-06-24T12:35:30.976Z"
   },
   {
    "duration": 7,
    "start_time": "2023-06-24T12:35:31.033Z"
   },
   {
    "duration": 158,
    "start_time": "2023-06-24T12:35:31.042Z"
   },
   {
    "duration": 67,
    "start_time": "2023-06-24T12:35:31.201Z"
   },
   {
    "duration": 5,
    "start_time": "2023-06-24T12:35:31.270Z"
   },
   {
    "duration": 37,
    "start_time": "2023-06-24T12:35:31.277Z"
   },
   {
    "duration": 56,
    "start_time": "2023-06-24T12:35:31.316Z"
   },
   {
    "duration": 82,
    "start_time": "2023-06-24T12:35:31.374Z"
   },
   {
    "duration": 37,
    "start_time": "2023-06-24T12:35:31.458Z"
   },
   {
    "duration": 77,
    "start_time": "2023-06-24T12:35:31.497Z"
   },
   {
    "duration": 109,
    "start_time": "2023-06-24T12:35:31.575Z"
   },
   {
    "duration": 4,
    "start_time": "2023-06-24T12:35:31.686Z"
   },
   {
    "duration": 84,
    "start_time": "2023-06-24T12:35:31.692Z"
   },
   {
    "duration": 60,
    "start_time": "2023-06-24T12:35:31.778Z"
   },
   {
    "duration": 35,
    "start_time": "2023-06-24T12:35:31.842Z"
   },
   {
    "duration": 71,
    "start_time": "2023-06-24T12:35:31.879Z"
   },
   {
    "duration": 76,
    "start_time": "2023-06-24T12:35:31.952Z"
   },
   {
    "duration": 54,
    "start_time": "2023-06-24T12:35:32.029Z"
   },
   {
    "duration": 88,
    "start_time": "2023-06-24T12:35:32.084Z"
   },
   {
    "duration": 38,
    "start_time": "2023-06-24T12:35:32.173Z"
   },
   {
    "duration": 28,
    "start_time": "2023-06-24T12:35:32.213Z"
   },
   {
    "duration": 21,
    "start_time": "2023-06-24T12:35:32.243Z"
   },
   {
    "duration": 34,
    "start_time": "2023-06-24T12:35:32.266Z"
   },
   {
    "duration": 28,
    "start_time": "2023-06-24T12:35:32.302Z"
   },
   {
    "duration": 23,
    "start_time": "2023-06-24T12:35:32.332Z"
   },
   {
    "duration": 15,
    "start_time": "2023-06-24T12:35:32.356Z"
   },
   {
    "duration": 1185,
    "start_time": "2023-06-26T15:04:39.066Z"
   },
   {
    "duration": 503,
    "start_time": "2023-06-26T15:04:40.253Z"
   },
   {
    "duration": 20,
    "start_time": "2023-06-26T15:04:40.758Z"
   },
   {
    "duration": 27,
    "start_time": "2023-06-26T15:04:40.780Z"
   },
   {
    "duration": 8,
    "start_time": "2023-06-26T15:04:40.810Z"
   },
   {
    "duration": 10,
    "start_time": "2023-06-26T15:04:40.819Z"
   },
   {
    "duration": 30,
    "start_time": "2023-06-26T15:04:40.831Z"
   },
   {
    "duration": 80,
    "start_time": "2023-06-26T15:04:40.863Z"
   },
   {
    "duration": 98,
    "start_time": "2023-06-26T15:04:40.945Z"
   },
   {
    "duration": 63,
    "start_time": "2023-06-26T15:04:41.045Z"
   },
   {
    "duration": 5,
    "start_time": "2023-06-26T15:04:41.110Z"
   },
   {
    "duration": 706,
    "start_time": "2023-06-26T15:04:41.117Z"
   },
   {
    "duration": 5,
    "start_time": "2023-06-26T15:04:41.825Z"
   },
   {
    "duration": 52,
    "start_time": "2023-06-26T15:04:41.833Z"
   },
   {
    "duration": 22,
    "start_time": "2023-06-26T15:04:41.886Z"
   },
   {
    "duration": 169,
    "start_time": "2023-06-26T15:04:41.910Z"
   },
   {
    "duration": 21,
    "start_time": "2023-06-26T15:04:42.081Z"
   },
   {
    "duration": 480,
    "start_time": "2023-06-26T15:04:42.104Z"
   },
   {
    "duration": 19,
    "start_time": "2023-06-26T15:04:42.586Z"
   },
   {
    "duration": 17,
    "start_time": "2023-06-26T15:04:42.607Z"
   },
   {
    "duration": 51,
    "start_time": "2023-06-26T15:04:42.626Z"
   },
   {
    "duration": 196,
    "start_time": "2023-06-26T15:04:42.679Z"
   },
   {
    "duration": 9,
    "start_time": "2023-06-26T15:04:42.877Z"
   },
   {
    "duration": 5,
    "start_time": "2023-06-26T15:04:42.888Z"
   },
   {
    "duration": 36,
    "start_time": "2023-06-26T15:04:42.895Z"
   },
   {
    "duration": 704,
    "start_time": "2023-06-26T15:04:42.933Z"
   },
   {
    "duration": 5,
    "start_time": "2023-06-26T15:04:43.640Z"
   },
   {
    "duration": 112,
    "start_time": "2023-06-26T15:04:43.647Z"
   },
   {
    "duration": 292,
    "start_time": "2023-06-26T15:04:43.761Z"
   },
   {
    "duration": 1339,
    "start_time": "2023-06-26T15:04:44.055Z"
   },
   {
    "duration": 22,
    "start_time": "2023-06-26T15:04:45.396Z"
   },
   {
    "duration": 65,
    "start_time": "2023-06-26T15:04:45.419Z"
   },
   {
    "duration": 14,
    "start_time": "2023-06-26T15:04:45.486Z"
   },
   {
    "duration": 103,
    "start_time": "2023-06-26T15:04:45.501Z"
   },
   {
    "duration": 88,
    "start_time": "2023-06-26T15:04:45.605Z"
   },
   {
    "duration": 286,
    "start_time": "2023-06-26T15:04:45.695Z"
   },
   {
    "duration": 60,
    "start_time": "2023-06-26T15:04:45.982Z"
   },
   {
    "duration": 38,
    "start_time": "2023-06-26T15:04:46.044Z"
   },
   {
    "duration": 26,
    "start_time": "2023-06-26T15:04:46.083Z"
   },
   {
    "duration": 16,
    "start_time": "2023-06-26T15:04:46.110Z"
   },
   {
    "duration": 76,
    "start_time": "2023-06-26T15:04:46.130Z"
   },
   {
    "duration": 9,
    "start_time": "2023-06-26T15:04:46.208Z"
   },
   {
    "duration": 23,
    "start_time": "2023-06-26T15:04:46.218Z"
   },
   {
    "duration": 157,
    "start_time": "2023-06-26T15:04:46.242Z"
   },
   {
    "duration": 37,
    "start_time": "2023-06-26T15:04:46.401Z"
   },
   {
    "duration": 35,
    "start_time": "2023-06-26T15:04:46.440Z"
   },
   {
    "duration": 121,
    "start_time": "2023-06-26T15:04:46.477Z"
   },
   {
    "duration": 42,
    "start_time": "2023-06-26T15:04:46.600Z"
   },
   {
    "duration": 4,
    "start_time": "2023-06-26T15:04:46.644Z"
   },
   {
    "duration": 33,
    "start_time": "2023-06-26T15:04:46.650Z"
   },
   {
    "duration": 21,
    "start_time": "2023-06-26T15:04:46.685Z"
   },
   {
    "duration": 18,
    "start_time": "2023-06-26T15:04:46.707Z"
   },
   {
    "duration": 13,
    "start_time": "2023-06-26T15:04:46.727Z"
   },
   {
    "duration": 7,
    "start_time": "2023-06-26T15:04:46.742Z"
   },
   {
    "duration": 24,
    "start_time": "2023-06-26T15:04:46.750Z"
   },
   {
    "duration": 55,
    "start_time": "2023-06-26T15:04:46.775Z"
   },
   {
    "duration": 4,
    "start_time": "2023-06-26T15:04:46.832Z"
   },
   {
    "duration": 13,
    "start_time": "2023-06-26T15:04:46.838Z"
   },
   {
    "duration": 19,
    "start_time": "2023-06-26T15:04:46.852Z"
   },
   {
    "duration": 6,
    "start_time": "2023-06-26T15:04:46.873Z"
   },
   {
    "duration": 13,
    "start_time": "2023-06-26T15:04:46.881Z"
   },
   {
    "duration": 14,
    "start_time": "2023-06-26T15:04:46.896Z"
   },
   {
    "duration": 21,
    "start_time": "2023-06-26T15:04:46.912Z"
   },
   {
    "duration": 9,
    "start_time": "2023-06-26T15:04:46.935Z"
   },
   {
    "duration": 35,
    "start_time": "2023-06-26T15:04:46.946Z"
   },
   {
    "duration": 13,
    "start_time": "2023-06-26T15:04:46.985Z"
   },
   {
    "duration": 12,
    "start_time": "2023-06-26T15:04:47.000Z"
   },
   {
    "duration": 13,
    "start_time": "2023-06-26T15:04:47.014Z"
   },
   {
    "duration": 25,
    "start_time": "2023-06-26T15:04:47.029Z"
   },
   {
    "duration": 5,
    "start_time": "2023-06-26T15:04:47.076Z"
   },
   {
    "duration": 18,
    "start_time": "2023-06-26T15:04:47.083Z"
   },
   {
    "duration": 3,
    "start_time": "2023-06-26T15:04:58.608Z"
   },
   {
    "duration": 1585,
    "start_time": "2023-10-25T08:33:34.920Z"
   },
   {
    "duration": 655,
    "start_time": "2023-10-25T08:33:36.508Z"
   },
   {
    "duration": 18,
    "start_time": "2023-10-25T08:33:37.165Z"
   },
   {
    "duration": 23,
    "start_time": "2023-10-25T08:33:37.185Z"
   },
   {
    "duration": 7,
    "start_time": "2023-10-25T08:33:37.210Z"
   },
   {
    "duration": 30,
    "start_time": "2023-10-25T08:33:37.218Z"
   },
   {
    "duration": 20,
    "start_time": "2023-10-25T08:33:37.249Z"
   },
   {
    "duration": 80,
    "start_time": "2023-10-25T08:33:37.271Z"
   },
   {
    "duration": 79,
    "start_time": "2023-10-25T08:33:37.353Z"
   },
   {
    "duration": 57,
    "start_time": "2023-10-25T08:33:37.449Z"
   },
   {
    "duration": 6,
    "start_time": "2023-10-25T08:33:37.507Z"
   },
   {
    "duration": 711,
    "start_time": "2023-10-25T08:33:37.514Z"
   },
   {
    "duration": 5,
    "start_time": "2023-10-25T08:33:38.227Z"
   },
   {
    "duration": 14,
    "start_time": "2023-10-25T08:33:38.234Z"
   },
   {
    "duration": 31,
    "start_time": "2023-10-25T08:33:38.249Z"
   },
   {
    "duration": 199,
    "start_time": "2023-10-25T08:33:38.282Z"
   },
   {
    "duration": 26,
    "start_time": "2023-10-25T08:33:38.483Z"
   },
   {
    "duration": 533,
    "start_time": "2023-10-25T08:33:38.511Z"
   },
   {
    "duration": 21,
    "start_time": "2023-10-25T08:33:39.047Z"
   },
   {
    "duration": 22,
    "start_time": "2023-10-25T08:33:39.070Z"
   },
   {
    "duration": 77,
    "start_time": "2023-10-25T08:33:39.095Z"
   },
   {
    "duration": 205,
    "start_time": "2023-10-25T08:33:39.174Z"
   },
   {
    "duration": 8,
    "start_time": "2023-10-25T08:33:39.381Z"
   },
   {
    "duration": 4,
    "start_time": "2023-10-25T08:33:39.390Z"
   },
   {
    "duration": 54,
    "start_time": "2023-10-25T08:33:39.396Z"
   },
   {
    "duration": 1417,
    "start_time": "2023-10-25T08:33:39.451Z"
   },
   {
    "duration": 7,
    "start_time": "2023-10-25T08:33:40.870Z"
   },
   {
    "duration": 84,
    "start_time": "2023-10-25T08:33:40.882Z"
   },
   {
    "duration": 604,
    "start_time": "2023-10-25T08:33:40.968Z"
   },
   {
    "duration": 824,
    "start_time": "2023-10-25T08:33:41.574Z"
   },
   {
    "duration": 24,
    "start_time": "2023-10-25T08:33:42.400Z"
   },
   {
    "duration": 30,
    "start_time": "2023-10-25T08:33:42.426Z"
   },
   {
    "duration": 11,
    "start_time": "2023-10-25T08:33:42.457Z"
   },
   {
    "duration": 80,
    "start_time": "2023-10-25T08:33:42.470Z"
   },
   {
    "duration": 46,
    "start_time": "2023-10-25T08:33:42.552Z"
   },
   {
    "duration": 211,
    "start_time": "2023-10-25T08:33:42.600Z"
   },
   {
    "duration": 76,
    "start_time": "2023-10-25T08:33:42.814Z"
   },
   {
    "duration": 27,
    "start_time": "2023-10-25T08:33:42.893Z"
   },
   {
    "duration": 48,
    "start_time": "2023-10-25T08:33:42.922Z"
   },
   {
    "duration": 25,
    "start_time": "2023-10-25T08:33:42.972Z"
   },
   {
    "duration": 80,
    "start_time": "2023-10-25T08:33:42.999Z"
   },
   {
    "duration": 9,
    "start_time": "2023-10-25T08:33:43.081Z"
   },
   {
    "duration": 20,
    "start_time": "2023-10-25T08:33:43.093Z"
   },
   {
    "duration": 183,
    "start_time": "2023-10-25T08:33:43.115Z"
   },
   {
    "duration": 66,
    "start_time": "2023-10-25T08:33:43.299Z"
   },
   {
    "duration": 4,
    "start_time": "2023-10-25T08:33:43.367Z"
   },
   {
    "duration": 155,
    "start_time": "2023-10-25T08:33:43.373Z"
   },
   {
    "duration": 59,
    "start_time": "2023-10-25T08:33:43.529Z"
   },
   {
    "duration": 4,
    "start_time": "2023-10-25T08:33:43.590Z"
   },
   {
    "duration": 8,
    "start_time": "2023-10-25T08:33:43.596Z"
   },
   {
    "duration": 14,
    "start_time": "2023-10-25T08:33:43.606Z"
   },
   {
    "duration": 27,
    "start_time": "2023-10-25T08:33:43.622Z"
   },
   {
    "duration": 18,
    "start_time": "2023-10-25T08:33:43.651Z"
   },
   {
    "duration": 49,
    "start_time": "2023-10-25T08:33:43.670Z"
   },
   {
    "duration": 50,
    "start_time": "2023-10-25T08:33:43.721Z"
   },
   {
    "duration": 4,
    "start_time": "2023-10-25T08:33:43.773Z"
   },
   {
    "duration": 10,
    "start_time": "2023-10-25T08:33:43.779Z"
   },
   {
    "duration": 47,
    "start_time": "2023-10-25T08:33:43.791Z"
   },
   {
    "duration": 5,
    "start_time": "2023-10-25T08:33:43.840Z"
   },
   {
    "duration": 13,
    "start_time": "2023-10-25T08:33:43.846Z"
   },
   {
    "duration": 9,
    "start_time": "2023-10-25T08:33:43.861Z"
   },
   {
    "duration": 27,
    "start_time": "2023-10-25T08:33:43.871Z"
   },
   {
    "duration": 17,
    "start_time": "2023-10-25T08:33:43.900Z"
   },
   {
    "duration": 13,
    "start_time": "2023-10-25T08:33:43.918Z"
   },
   {
    "duration": 12,
    "start_time": "2023-10-25T08:33:43.947Z"
   },
   {
    "duration": 14,
    "start_time": "2023-10-25T08:33:43.960Z"
   },
   {
    "duration": 17,
    "start_time": "2023-10-25T08:33:43.975Z"
   },
   {
    "duration": 12,
    "start_time": "2023-10-25T08:33:43.994Z"
   },
   {
    "duration": 41,
    "start_time": "2023-10-25T08:33:44.008Z"
   },
   {
    "duration": 22,
    "start_time": "2023-10-25T08:33:44.051Z"
   },
   {
    "duration": 1440,
    "start_time": "2023-10-25T08:52:43.657Z"
   },
   {
    "duration": 192,
    "start_time": "2023-10-25T08:52:45.099Z"
   },
   {
    "duration": 20,
    "start_time": "2023-10-25T08:52:45.293Z"
   },
   {
    "duration": 42,
    "start_time": "2023-10-25T08:52:45.315Z"
   },
   {
    "duration": 13,
    "start_time": "2023-10-25T08:52:45.361Z"
   },
   {
    "duration": 5,
    "start_time": "2023-10-25T08:52:45.377Z"
   },
   {
    "duration": 54,
    "start_time": "2023-10-25T08:52:45.383Z"
   },
   {
    "duration": 79,
    "start_time": "2023-10-25T08:52:45.439Z"
   },
   {
    "duration": 108,
    "start_time": "2023-10-25T08:52:45.520Z"
   },
   {
    "duration": 76,
    "start_time": "2023-10-25T08:52:45.630Z"
   },
   {
    "duration": 7,
    "start_time": "2023-10-25T08:52:45.709Z"
   },
   {
    "duration": 863,
    "start_time": "2023-10-25T08:52:45.718Z"
   },
   {
    "duration": 6,
    "start_time": "2023-10-25T08:52:46.583Z"
   },
   {
    "duration": 17,
    "start_time": "2023-10-25T08:52:46.592Z"
   },
   {
    "duration": 103,
    "start_time": "2023-10-25T08:52:46.610Z"
   },
   {
    "duration": 164,
    "start_time": "2023-10-25T08:52:46.714Z"
   },
   {
    "duration": 25,
    "start_time": "2023-10-25T08:52:46.880Z"
   },
   {
    "duration": 629,
    "start_time": "2023-10-25T08:52:46.906Z"
   },
   {
    "duration": 42,
    "start_time": "2023-10-25T08:52:47.537Z"
   },
   {
    "duration": 19,
    "start_time": "2023-10-25T08:52:47.581Z"
   },
   {
    "duration": 76,
    "start_time": "2023-10-25T08:52:47.602Z"
   },
   {
    "duration": 251,
    "start_time": "2023-10-25T08:52:47.680Z"
   },
   {
    "duration": 16,
    "start_time": "2023-10-25T08:52:47.933Z"
   },
   {
    "duration": 15,
    "start_time": "2023-10-25T08:52:47.952Z"
   },
   {
    "duration": 42,
    "start_time": "2023-10-25T08:52:47.970Z"
   },
   {
    "duration": 876,
    "start_time": "2023-10-25T08:52:48.013Z"
   },
   {
    "duration": 6,
    "start_time": "2023-10-25T08:52:48.891Z"
   },
   {
    "duration": 51,
    "start_time": "2023-10-25T08:52:48.899Z"
   },
   {
    "duration": 371,
    "start_time": "2023-10-25T08:52:48.951Z"
   },
   {
    "duration": 886,
    "start_time": "2023-10-25T08:52:49.324Z"
   },
   {
    "duration": 23,
    "start_time": "2023-10-25T08:52:50.212Z"
   },
   {
    "duration": 27,
    "start_time": "2023-10-25T08:52:50.247Z"
   },
   {
    "duration": 14,
    "start_time": "2023-10-25T08:52:50.276Z"
   },
   {
    "duration": 94,
    "start_time": "2023-10-25T08:52:50.292Z"
   },
   {
    "duration": 46,
    "start_time": "2023-10-25T08:52:50.389Z"
   },
   {
    "duration": 266,
    "start_time": "2023-10-25T08:52:50.448Z"
   },
   {
    "duration": 79,
    "start_time": "2023-10-25T08:52:50.717Z"
   },
   {
    "duration": 28,
    "start_time": "2023-10-25T08:52:50.798Z"
   },
   {
    "duration": 63,
    "start_time": "2023-10-25T08:52:50.827Z"
   },
   {
    "duration": 21,
    "start_time": "2023-10-25T08:52:50.892Z"
   },
   {
    "duration": 96,
    "start_time": "2023-10-25T08:52:50.918Z"
   },
   {
    "duration": 10,
    "start_time": "2023-10-25T08:52:51.016Z"
   },
   {
    "duration": 53,
    "start_time": "2023-10-25T08:52:51.028Z"
   },
   {
    "duration": 206,
    "start_time": "2023-10-25T08:52:51.083Z"
   },
   {
    "duration": 68,
    "start_time": "2023-10-25T08:52:51.291Z"
   },
   {
    "duration": 6,
    "start_time": "2023-10-25T08:52:51.363Z"
   },
   {
    "duration": 177,
    "start_time": "2023-10-25T08:52:51.371Z"
   },
   {
    "duration": 57,
    "start_time": "2023-10-25T08:52:51.551Z"
   },
   {
    "duration": 6,
    "start_time": "2023-10-25T08:52:51.610Z"
   },
   {
    "duration": 37,
    "start_time": "2023-10-25T08:52:51.618Z"
   },
   {
    "duration": 22,
    "start_time": "2023-10-25T08:52:51.659Z"
   },
   {
    "duration": 31,
    "start_time": "2023-10-25T08:52:51.682Z"
   },
   {
    "duration": 34,
    "start_time": "2023-10-25T08:52:51.715Z"
   },
   {
    "duration": 30,
    "start_time": "2023-10-25T08:52:51.751Z"
   },
   {
    "duration": 49,
    "start_time": "2023-10-25T08:52:51.783Z"
   },
   {
    "duration": 10,
    "start_time": "2023-10-25T08:52:51.834Z"
   },
   {
    "duration": 34,
    "start_time": "2023-10-25T08:52:51.846Z"
   },
   {
    "duration": 54,
    "start_time": "2023-10-25T08:52:51.881Z"
   },
   {
    "duration": 29,
    "start_time": "2023-10-25T08:52:51.937Z"
   },
   {
    "duration": 58,
    "start_time": "2023-10-25T08:52:51.969Z"
   },
   {
    "duration": 47,
    "start_time": "2023-10-25T08:52:52.030Z"
   },
   {
    "duration": 46,
    "start_time": "2023-10-25T08:52:52.080Z"
   },
   {
    "duration": 49,
    "start_time": "2023-10-25T08:52:52.128Z"
   },
   {
    "duration": 29,
    "start_time": "2023-10-25T08:52:52.180Z"
   },
   {
    "duration": 41,
    "start_time": "2023-10-25T08:52:52.211Z"
   },
   {
    "duration": 31,
    "start_time": "2023-10-25T08:52:52.255Z"
   },
   {
    "duration": 22,
    "start_time": "2023-10-25T08:52:52.288Z"
   },
   {
    "duration": 15,
    "start_time": "2023-10-25T08:52:52.313Z"
   },
   {
    "duration": 24,
    "start_time": "2023-10-25T08:52:52.330Z"
   },
   {
    "duration": 25,
    "start_time": "2023-10-25T08:52:52.356Z"
   }
  ],
  "kernelspec": {
   "display_name": "Python 3 (ipykernel)",
   "language": "python",
   "name": "python3"
  },
  "language_info": {
   "codemirror_mode": {
    "name": "ipython",
    "version": 3
   },
   "file_extension": ".py",
   "mimetype": "text/x-python",
   "name": "python",
   "nbconvert_exporter": "python",
   "pygments_lexer": "ipython3",
   "version": "3.9.13"
  },
  "toc": {
   "base_numbering": 1,
   "nav_menu": {},
   "number_sections": true,
   "sideBar": true,
   "skip_h1_title": true,
   "title_cell": "Table of Contents",
   "title_sidebar": "Contents",
   "toc_cell": false,
   "toc_position": {
    "height": "calc(100% - 180px)",
    "left": "10px",
    "top": "150px",
    "width": "167.18px"
   },
   "toc_section_display": true,
   "toc_window_display": true
  }
 },
 "nbformat": 4,
 "nbformat_minor": 2
}
